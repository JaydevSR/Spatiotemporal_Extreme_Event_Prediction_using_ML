{
 "cells": [
  {
   "cell_type": "markdown",
   "metadata": {},
   "source": [
    "# We are making this notebook to see the performance of baseline techniques like simple imputation for handling null values. We will use these results to compare out methods with this"
   ]
  },
  {
   "cell_type": "code",
   "execution_count": 1,
   "metadata": {},
   "outputs": [],
   "source": [
    "import pandas as pd\n",
    "import numpy as np\n",
    "from tqdm import tqdm\n",
    "import matplotlib.pyplot as plt"
   ]
  },
  {
   "cell_type": "code",
   "execution_count": 2,
   "metadata": {},
   "outputs": [],
   "source": [
    "df = pd.read_csv('../database/clean_train_data_v2.csv', index_col = 0)"
   ]
  },
  {
   "cell_type": "code",
   "execution_count": 3,
   "metadata": {},
   "outputs": [],
   "source": [
    "df = df[df['TARGETS'] < 15]"
   ]
  },
  {
   "cell_type": "code",
   "execution_count": 4,
   "metadata": {},
   "outputs": [
    {
     "data": {
      "text/html": [
       "<div>\n",
       "<style scoped>\n",
       "    .dataframe tbody tr th:only-of-type {\n",
       "        vertical-align: middle;\n",
       "    }\n",
       "\n",
       "    .dataframe tbody tr th {\n",
       "        vertical-align: top;\n",
       "    }\n",
       "\n",
       "    .dataframe thead th {\n",
       "        text-align: right;\n",
       "    }\n",
       "</style>\n",
       "<table border=\"1\" class=\"dataframe\">\n",
       "  <thead>\n",
       "    <tr style=\"text-align: right;\">\n",
       "      <th></th>\n",
       "      <th>STATION</th>\n",
       "      <th>ELEVATION</th>\n",
       "      <th>HourlyAltimeterSetting</th>\n",
       "      <th>HourlyDewPointTemperature</th>\n",
       "      <th>HourlyDryBulbTemperature</th>\n",
       "      <th>HourlyPresentWeatherType</th>\n",
       "      <th>HourlyPressureTendency</th>\n",
       "      <th>HourlyRelativeHumidity</th>\n",
       "      <th>HourlySkyConditions</th>\n",
       "      <th>HourlySeaLevelPressure</th>\n",
       "      <th>...</th>\n",
       "      <th>HourlyWetBulbTemperature</th>\n",
       "      <th>HourlyWindDirection</th>\n",
       "      <th>HourlyWindSpeed</th>\n",
       "      <th>YEAR</th>\n",
       "      <th>MONTH</th>\n",
       "      <th>DAY</th>\n",
       "      <th>HOUR</th>\n",
       "      <th>MINUTES</th>\n",
       "      <th>SECONDS</th>\n",
       "      <th>TARGETS</th>\n",
       "    </tr>\n",
       "  </thead>\n",
       "  <tbody>\n",
       "    <tr>\n",
       "      <th>0</th>\n",
       "      <td>42369099999</td>\n",
       "      <td>124.96</td>\n",
       "      <td>NaN</td>\n",
       "      <td>61.0</td>\n",
       "      <td>100.0</td>\n",
       "      <td>||HZ</td>\n",
       "      <td>9.0</td>\n",
       "      <td>27.0</td>\n",
       "      <td>FEW:01 98</td>\n",
       "      <td>29.62</td>\n",
       "      <td>...</td>\n",
       "      <td>NaN</td>\n",
       "      <td>90.0</td>\n",
       "      <td>10.0</td>\n",
       "      <td>2013</td>\n",
       "      <td>5</td>\n",
       "      <td>5</td>\n",
       "      <td>11</td>\n",
       "      <td>30</td>\n",
       "      <td>0</td>\n",
       "      <td>2.49</td>\n",
       "    </tr>\n",
       "    <tr>\n",
       "      <th>1</th>\n",
       "      <td>42369099999</td>\n",
       "      <td>124.96</td>\n",
       "      <td>30.06</td>\n",
       "      <td>55.0</td>\n",
       "      <td>61.0</td>\n",
       "      <td>NaN</td>\n",
       "      <td>NaN</td>\n",
       "      <td>83.0</td>\n",
       "      <td>SCT:04 20 SCT:04 100</td>\n",
       "      <td>NaN</td>\n",
       "      <td>...</td>\n",
       "      <td>NaN</td>\n",
       "      <td>NaN</td>\n",
       "      <td>2.0</td>\n",
       "      <td>2019</td>\n",
       "      <td>1</td>\n",
       "      <td>23</td>\n",
       "      <td>22</td>\n",
       "      <td>0</td>\n",
       "      <td>0</td>\n",
       "      <td>1.24</td>\n",
       "    </tr>\n",
       "    <tr>\n",
       "      <th>2</th>\n",
       "      <td>42452099999</td>\n",
       "      <td>273.10</td>\n",
       "      <td>NaN</td>\n",
       "      <td>51.0</td>\n",
       "      <td>67.0</td>\n",
       "      <td>NaN</td>\n",
       "      <td>9.0</td>\n",
       "      <td>57.0</td>\n",
       "      <td>NaN</td>\n",
       "      <td>29.77</td>\n",
       "      <td>...</td>\n",
       "      <td>NaN</td>\n",
       "      <td>230.0</td>\n",
       "      <td>5.0</td>\n",
       "      <td>2005</td>\n",
       "      <td>2</td>\n",
       "      <td>17</td>\n",
       "      <td>8</td>\n",
       "      <td>30</td>\n",
       "      <td>0</td>\n",
       "      <td>2.49</td>\n",
       "    </tr>\n",
       "    <tr>\n",
       "      <th>3</th>\n",
       "      <td>42369099999</td>\n",
       "      <td>124.96</td>\n",
       "      <td>NaN</td>\n",
       "      <td>41.0</td>\n",
       "      <td>94.0</td>\n",
       "      <td>||DU</td>\n",
       "      <td>9.0</td>\n",
       "      <td>16.0</td>\n",
       "      <td>NaN</td>\n",
       "      <td>29.55</td>\n",
       "      <td>...</td>\n",
       "      <td>NaN</td>\n",
       "      <td>0.0</td>\n",
       "      <td>0.0</td>\n",
       "      <td>1984</td>\n",
       "      <td>5</td>\n",
       "      <td>20</td>\n",
       "      <td>8</td>\n",
       "      <td>30</td>\n",
       "      <td>0</td>\n",
       "      <td>2.49</td>\n",
       "    </tr>\n",
       "    <tr>\n",
       "      <th>4</th>\n",
       "      <td>42503099999</td>\n",
       "      <td>31.00</td>\n",
       "      <td>NaN</td>\n",
       "      <td>55.0</td>\n",
       "      <td>82.0</td>\n",
       "      <td>NaN</td>\n",
       "      <td>9.0</td>\n",
       "      <td>39.0</td>\n",
       "      <td>NaN</td>\n",
       "      <td>30.01</td>\n",
       "      <td>...</td>\n",
       "      <td>NaN</td>\n",
       "      <td>320.0</td>\n",
       "      <td>2.0</td>\n",
       "      <td>2016</td>\n",
       "      <td>11</td>\n",
       "      <td>16</td>\n",
       "      <td>11</td>\n",
       "      <td>30</td>\n",
       "      <td>0</td>\n",
       "      <td>2.49</td>\n",
       "    </tr>\n",
       "  </tbody>\n",
       "</table>\n",
       "<p>5 rows × 21 columns</p>\n",
       "</div>"
      ],
      "text/plain": [
       "       STATION  ELEVATION  HourlyAltimeterSetting  HourlyDewPointTemperature  \\\n",
       "0  42369099999     124.96                     NaN                       61.0   \n",
       "1  42369099999     124.96                   30.06                       55.0   \n",
       "2  42452099999     273.10                     NaN                       51.0   \n",
       "3  42369099999     124.96                     NaN                       41.0   \n",
       "4  42503099999      31.00                     NaN                       55.0   \n",
       "\n",
       "   HourlyDryBulbTemperature HourlyPresentWeatherType  HourlyPressureTendency  \\\n",
       "0                     100.0                     ||HZ                     9.0   \n",
       "1                      61.0                      NaN                     NaN   \n",
       "2                      67.0                      NaN                     9.0   \n",
       "3                      94.0                     ||DU                     9.0   \n",
       "4                      82.0                      NaN                     9.0   \n",
       "\n",
       "   HourlyRelativeHumidity   HourlySkyConditions  HourlySeaLevelPressure  ...  \\\n",
       "0                    27.0             FEW:01 98                   29.62  ...   \n",
       "1                    83.0  SCT:04 20 SCT:04 100                     NaN  ...   \n",
       "2                    57.0                   NaN                   29.77  ...   \n",
       "3                    16.0                   NaN                   29.55  ...   \n",
       "4                    39.0                   NaN                   30.01  ...   \n",
       "\n",
       "   HourlyWetBulbTemperature  HourlyWindDirection  HourlyWindSpeed  YEAR  \\\n",
       "0                       NaN                 90.0             10.0  2013   \n",
       "1                       NaN                  NaN              2.0  2019   \n",
       "2                       NaN                230.0              5.0  2005   \n",
       "3                       NaN                  0.0              0.0  1984   \n",
       "4                       NaN                320.0              2.0  2016   \n",
       "\n",
       "   MONTH  DAY  HOUR  MINUTES  SECONDS  TARGETS  \n",
       "0      5    5    11       30        0     2.49  \n",
       "1      1   23    22        0        0     1.24  \n",
       "2      2   17     8       30        0     2.49  \n",
       "3      5   20     8       30        0     2.49  \n",
       "4     11   16    11       30        0     2.49  \n",
       "\n",
       "[5 rows x 21 columns]"
      ]
     },
     "execution_count": 4,
     "metadata": {},
     "output_type": "execute_result"
    }
   ],
   "source": [
    "df.head()"
   ]
  },
  {
   "cell_type": "code",
   "execution_count": 9,
   "metadata": {},
   "outputs": [
    {
     "name": "stdout",
     "output_type": "stream",
     "text": [
      "<class 'pandas.core.frame.DataFrame'>\n",
      "Int64Index: 919203 entries, 691852 to 229599\n",
      "Data columns (total 19 columns):\n",
      " #   Column                     Non-Null Count   Dtype  \n",
      "---  ------                     --------------   -----  \n",
      " 0   STATION                    919203 non-null  int64  \n",
      " 1   ELEVATION                  919203 non-null  float64\n",
      " 2   HourlyAltimeterSetting     216905 non-null  float64\n",
      " 3   HourlyDewPointTemperature  901733 non-null  float64\n",
      " 4   HourlyDryBulbTemperature   907765 non-null  float64\n",
      " 5   HourlyPresentWeatherType   398149 non-null  object \n",
      " 6   HourlyPressureTendency     585592 non-null  float64\n",
      " 7   HourlyRelativeHumidity     901133 non-null  float64\n",
      " 8   HourlySeaLevelPressure     657190 non-null  float64\n",
      " 9   HourlyStationPressure      23685 non-null   float64\n",
      " 10  HourlyWetBulbTemperature   23530 non-null   float64\n",
      " 11  HourlyWindDirection        848317 non-null  float64\n",
      " 12  HourlyWindSpeed            908783 non-null  float64\n",
      " 13  YEAR                       919203 non-null  int64  \n",
      " 14  MONTH                      919203 non-null  int64  \n",
      " 15  DAY                        919203 non-null  int64  \n",
      " 16  HOUR                       919203 non-null  int64  \n",
      " 17  MINUTES                    919203 non-null  int64  \n",
      " 18  TARGETS                    919203 non-null  float64\n",
      "dtypes: float64(12), int64(6), object(1)\n",
      "memory usage: 140.3+ MB\n"
     ]
    }
   ],
   "source": [
    "df.info()"
   ]
  },
  {
   "cell_type": "code",
   "execution_count": 10,
   "metadata": {},
   "outputs": [],
   "source": [
    "df.sort_values(['STATION', 'YEAR', 'MONTH', 'DAY', 'HOUR', 'MINUTES'], inplace = True)"
   ]
  },
  {
   "cell_type": "code",
   "execution_count": 12,
   "metadata": {},
   "outputs": [
    {
     "ename": "KeyError",
     "evalue": "\"['SECONDS' 'HourlySkyConditions'] not found in axis\"",
     "output_type": "error",
     "traceback": [
      "\u001b[1;31m---------------------------------------------------------------------------\u001b[0m",
      "\u001b[1;31mKeyError\u001b[0m                                  Traceback (most recent call last)",
      "\u001b[1;32m<ipython-input-12-707287e9ed41>\u001b[0m in \u001b[0;36m<module>\u001b[1;34m\u001b[0m\n\u001b[1;32m----> 1\u001b[1;33m \u001b[0mdf\u001b[0m\u001b[1;33m.\u001b[0m\u001b[0mdrop\u001b[0m\u001b[1;33m(\u001b[0m\u001b[1;33m[\u001b[0m\u001b[1;34m'SECONDS'\u001b[0m\u001b[1;33m,\u001b[0m \u001b[1;34m'HourlySkyConditions'\u001b[0m\u001b[1;33m]\u001b[0m\u001b[1;33m,\u001b[0m \u001b[0maxis\u001b[0m \u001b[1;33m=\u001b[0m \u001b[1;36m1\u001b[0m\u001b[1;33m,\u001b[0m \u001b[0minplace\u001b[0m \u001b[1;33m=\u001b[0m \u001b[1;32mTrue\u001b[0m\u001b[1;33m)\u001b[0m\u001b[1;33m\u001b[0m\u001b[1;33m\u001b[0m\u001b[0m\n\u001b[0m",
      "\u001b[1;32mc:\\users\\hp\\appdata\\local\\programs\\python\\python37\\lib\\site-packages\\pandas\\core\\frame.py\u001b[0m in \u001b[0;36mdrop\u001b[1;34m(self, labels, axis, index, columns, level, inplace, errors)\u001b[0m\n\u001b[0;32m   3995\u001b[0m             \u001b[0mlevel\u001b[0m\u001b[1;33m=\u001b[0m\u001b[0mlevel\u001b[0m\u001b[1;33m,\u001b[0m\u001b[1;33m\u001b[0m\u001b[1;33m\u001b[0m\u001b[0m\n\u001b[0;32m   3996\u001b[0m             \u001b[0minplace\u001b[0m\u001b[1;33m=\u001b[0m\u001b[0minplace\u001b[0m\u001b[1;33m,\u001b[0m\u001b[1;33m\u001b[0m\u001b[1;33m\u001b[0m\u001b[0m\n\u001b[1;32m-> 3997\u001b[1;33m             \u001b[0merrors\u001b[0m\u001b[1;33m=\u001b[0m\u001b[0merrors\u001b[0m\u001b[1;33m,\u001b[0m\u001b[1;33m\u001b[0m\u001b[1;33m\u001b[0m\u001b[0m\n\u001b[0m\u001b[0;32m   3998\u001b[0m         )\n\u001b[0;32m   3999\u001b[0m \u001b[1;33m\u001b[0m\u001b[0m\n",
      "\u001b[1;32mc:\\users\\hp\\appdata\\local\\programs\\python\\python37\\lib\\site-packages\\pandas\\core\\generic.py\u001b[0m in \u001b[0;36mdrop\u001b[1;34m(self, labels, axis, index, columns, level, inplace, errors)\u001b[0m\n\u001b[0;32m   3934\u001b[0m         \u001b[1;32mfor\u001b[0m \u001b[0maxis\u001b[0m\u001b[1;33m,\u001b[0m \u001b[0mlabels\u001b[0m \u001b[1;32min\u001b[0m \u001b[0maxes\u001b[0m\u001b[1;33m.\u001b[0m\u001b[0mitems\u001b[0m\u001b[1;33m(\u001b[0m\u001b[1;33m)\u001b[0m\u001b[1;33m:\u001b[0m\u001b[1;33m\u001b[0m\u001b[1;33m\u001b[0m\u001b[0m\n\u001b[0;32m   3935\u001b[0m             \u001b[1;32mif\u001b[0m \u001b[0mlabels\u001b[0m \u001b[1;32mis\u001b[0m \u001b[1;32mnot\u001b[0m \u001b[1;32mNone\u001b[0m\u001b[1;33m:\u001b[0m\u001b[1;33m\u001b[0m\u001b[1;33m\u001b[0m\u001b[0m\n\u001b[1;32m-> 3936\u001b[1;33m                 \u001b[0mobj\u001b[0m \u001b[1;33m=\u001b[0m \u001b[0mobj\u001b[0m\u001b[1;33m.\u001b[0m\u001b[0m_drop_axis\u001b[0m\u001b[1;33m(\u001b[0m\u001b[0mlabels\u001b[0m\u001b[1;33m,\u001b[0m \u001b[0maxis\u001b[0m\u001b[1;33m,\u001b[0m \u001b[0mlevel\u001b[0m\u001b[1;33m=\u001b[0m\u001b[0mlevel\u001b[0m\u001b[1;33m,\u001b[0m \u001b[0merrors\u001b[0m\u001b[1;33m=\u001b[0m\u001b[0merrors\u001b[0m\u001b[1;33m)\u001b[0m\u001b[1;33m\u001b[0m\u001b[1;33m\u001b[0m\u001b[0m\n\u001b[0m\u001b[0;32m   3937\u001b[0m \u001b[1;33m\u001b[0m\u001b[0m\n\u001b[0;32m   3938\u001b[0m         \u001b[1;32mif\u001b[0m \u001b[0minplace\u001b[0m\u001b[1;33m:\u001b[0m\u001b[1;33m\u001b[0m\u001b[1;33m\u001b[0m\u001b[0m\n",
      "\u001b[1;32mc:\\users\\hp\\appdata\\local\\programs\\python\\python37\\lib\\site-packages\\pandas\\core\\generic.py\u001b[0m in \u001b[0;36m_drop_axis\u001b[1;34m(self, labels, axis, level, errors)\u001b[0m\n\u001b[0;32m   3968\u001b[0m                 \u001b[0mnew_axis\u001b[0m \u001b[1;33m=\u001b[0m \u001b[0maxis\u001b[0m\u001b[1;33m.\u001b[0m\u001b[0mdrop\u001b[0m\u001b[1;33m(\u001b[0m\u001b[0mlabels\u001b[0m\u001b[1;33m,\u001b[0m \u001b[0mlevel\u001b[0m\u001b[1;33m=\u001b[0m\u001b[0mlevel\u001b[0m\u001b[1;33m,\u001b[0m \u001b[0merrors\u001b[0m\u001b[1;33m=\u001b[0m\u001b[0merrors\u001b[0m\u001b[1;33m)\u001b[0m\u001b[1;33m\u001b[0m\u001b[1;33m\u001b[0m\u001b[0m\n\u001b[0;32m   3969\u001b[0m             \u001b[1;32melse\u001b[0m\u001b[1;33m:\u001b[0m\u001b[1;33m\u001b[0m\u001b[1;33m\u001b[0m\u001b[0m\n\u001b[1;32m-> 3970\u001b[1;33m                 \u001b[0mnew_axis\u001b[0m \u001b[1;33m=\u001b[0m \u001b[0maxis\u001b[0m\u001b[1;33m.\u001b[0m\u001b[0mdrop\u001b[0m\u001b[1;33m(\u001b[0m\u001b[0mlabels\u001b[0m\u001b[1;33m,\u001b[0m \u001b[0merrors\u001b[0m\u001b[1;33m=\u001b[0m\u001b[0merrors\u001b[0m\u001b[1;33m)\u001b[0m\u001b[1;33m\u001b[0m\u001b[1;33m\u001b[0m\u001b[0m\n\u001b[0m\u001b[0;32m   3971\u001b[0m             \u001b[0mresult\u001b[0m \u001b[1;33m=\u001b[0m \u001b[0mself\u001b[0m\u001b[1;33m.\u001b[0m\u001b[0mreindex\u001b[0m\u001b[1;33m(\u001b[0m\u001b[1;33m**\u001b[0m\u001b[1;33m{\u001b[0m\u001b[0maxis_name\u001b[0m\u001b[1;33m:\u001b[0m \u001b[0mnew_axis\u001b[0m\u001b[1;33m}\u001b[0m\u001b[1;33m)\u001b[0m\u001b[1;33m\u001b[0m\u001b[1;33m\u001b[0m\u001b[0m\n\u001b[0;32m   3972\u001b[0m \u001b[1;33m\u001b[0m\u001b[0m\n",
      "\u001b[1;32mc:\\users\\hp\\appdata\\local\\programs\\python\\python37\\lib\\site-packages\\pandas\\core\\indexes\\base.py\u001b[0m in \u001b[0;36mdrop\u001b[1;34m(self, labels, errors)\u001b[0m\n\u001b[0;32m   5015\u001b[0m         \u001b[1;32mif\u001b[0m \u001b[0mmask\u001b[0m\u001b[1;33m.\u001b[0m\u001b[0many\u001b[0m\u001b[1;33m(\u001b[0m\u001b[1;33m)\u001b[0m\u001b[1;33m:\u001b[0m\u001b[1;33m\u001b[0m\u001b[1;33m\u001b[0m\u001b[0m\n\u001b[0;32m   5016\u001b[0m             \u001b[1;32mif\u001b[0m \u001b[0merrors\u001b[0m \u001b[1;33m!=\u001b[0m \u001b[1;34m\"ignore\"\u001b[0m\u001b[1;33m:\u001b[0m\u001b[1;33m\u001b[0m\u001b[1;33m\u001b[0m\u001b[0m\n\u001b[1;32m-> 5017\u001b[1;33m                 \u001b[1;32mraise\u001b[0m \u001b[0mKeyError\u001b[0m\u001b[1;33m(\u001b[0m\u001b[1;34mf\"{labels[mask]} not found in axis\"\u001b[0m\u001b[1;33m)\u001b[0m\u001b[1;33m\u001b[0m\u001b[1;33m\u001b[0m\u001b[0m\n\u001b[0m\u001b[0;32m   5018\u001b[0m             \u001b[0mindexer\u001b[0m \u001b[1;33m=\u001b[0m \u001b[0mindexer\u001b[0m\u001b[1;33m[\u001b[0m\u001b[1;33m~\u001b[0m\u001b[0mmask\u001b[0m\u001b[1;33m]\u001b[0m\u001b[1;33m\u001b[0m\u001b[1;33m\u001b[0m\u001b[0m\n\u001b[0;32m   5019\u001b[0m         \u001b[1;32mreturn\u001b[0m \u001b[0mself\u001b[0m\u001b[1;33m.\u001b[0m\u001b[0mdelete\u001b[0m\u001b[1;33m(\u001b[0m\u001b[0mindexer\u001b[0m\u001b[1;33m)\u001b[0m\u001b[1;33m\u001b[0m\u001b[1;33m\u001b[0m\u001b[0m\n",
      "\u001b[1;31mKeyError\u001b[0m: \"['SECONDS' 'HourlySkyConditions'] not found in axis\""
     ]
    }
   ],
   "source": [
    "df.drop(['SECONDS', 'HourlySkyConditions'], axis = 1, inplace = True)"
   ]
  },
  {
   "cell_type": "code",
   "execution_count": 11,
   "metadata": {},
   "outputs": [],
   "source": [
    "df.reset_index(inplace = True, drop=True)"
   ]
  },
  {
   "cell_type": "code",
   "execution_count": 13,
   "metadata": {},
   "outputs": [],
   "source": [
    "to_be_imputed = ['HourlyAltimeterSetting', 'HourlyDewPointTemperature', 'HourlyDryBulbTemperature', 'HourlyPressureTendency', 'HourlyRelativeHumidity', 'HourlySeaLevelPressure', 'HourlyStationPressure', 'HourlyWetBulbTemperature', 'HourlyWindDirection', 'HourlyWindSpeed']"
   ]
  },
  {
   "cell_type": "code",
   "execution_count": 8,
   "metadata": {},
   "outputs": [
    {
     "data": {
      "text/plain": [
       "STATION                      0.105594\n",
       "ELEVATION                    0.043640\n",
       "HourlyAltimeterSetting      -0.476804\n",
       "HourlyDewPointTemperature   -0.010298\n",
       "HourlyDryBulbTemperature     0.203448\n",
       "HourlyPressureTendency      -0.072720\n",
       "HourlyRelativeHumidity      -0.221995\n",
       "HourlySeaLevelPressure      -0.073030\n",
       "HourlyStationPressure        0.308010\n",
       "HourlyWetBulbTemperature    -0.063629\n",
       "HourlyWindDirection          0.147541\n",
       "HourlyWindSpeed              0.065731\n",
       "YEAR                        -0.447448\n",
       "MONTH                       -0.023259\n",
       "DAY                          0.000570\n",
       "HOUR                         0.040755\n",
       "MINUTES                      0.048551\n",
       "TARGETS                      1.000000\n",
       "Name: TARGETS, dtype: float64"
      ]
     },
     "execution_count": 8,
     "metadata": {},
     "output_type": "execute_result"
    }
   ],
   "source": [
    "df.corr()['TARGETS']"
   ]
  },
  {
   "cell_type": "code",
   "execution_count": 14,
   "metadata": {},
   "outputs": [
    {
     "data": {
      "text/plain": [
       "10"
      ]
     },
     "execution_count": 14,
     "metadata": {},
     "output_type": "execute_result"
    }
   ],
   "source": [
    "len(to_be_imputed)"
   ]
  },
  {
   "cell_type": "code",
   "execution_count": 18,
   "metadata": {},
   "outputs": [],
   "source": []
  },
  {
   "cell_type": "code",
   "execution_count": null,
   "metadata": {},
   "outputs": [],
   "source": []
  },
  {
   "cell_type": "code",
   "execution_count": null,
   "metadata": {},
   "outputs": [],
   "source": []
  },
  {
   "cell_type": "code",
   "execution_count": null,
   "metadata": {},
   "outputs": [],
   "source": []
  },
  {
   "cell_type": "code",
   "execution_count": null,
   "metadata": {},
   "outputs": [],
   "source": []
  },
  {
   "cell_type": "code",
   "execution_count": 19,
   "metadata": {},
   "outputs": [],
   "source": [
    "from sklearn.impute import SimpleImputer"
   ]
  },
  {
   "cell_type": "code",
   "execution_count": 20,
   "metadata": {},
   "outputs": [],
   "source": [
    "imp1 = SimpleImputer(missing_values=np.nan, strategy='median')\n",
    "df[cols] = imp1.fit_transform(df[cols])"
   ]
  },
  {
   "cell_type": "code",
   "execution_count": 21,
   "metadata": {},
   "outputs": [
    {
     "data": {
      "text/plain": [
       "STATION                      0.105594\n",
       "ELEVATION                    0.043640\n",
       "HourlyAltimeterSetting      -0.136075\n",
       "HourlyDewPointTemperature   -0.010244\n",
       "HourlyDryBulbTemperature     0.201763\n",
       "HourlyPressureTendency      -0.032986\n",
       "HourlyRelativeHumidity      -0.218232\n",
       "HourlySeaLevelPressure      -0.065511\n",
       "HourlyStationPressure        0.043479\n",
       "HourlyWetBulbTemperature    -0.007659\n",
       "HourlyWindDirection          0.149239\n",
       "HourlyWindSpeed              0.065004\n",
       "YEAR                        -0.447448\n",
       "MONTH                       -0.023259\n",
       "DAY                          0.000570\n",
       "HOUR                         0.040755\n",
       "MINUTES                      0.048551\n",
       "TARGETS                      1.000000\n",
       "Name: TARGETS, dtype: float64"
      ]
     },
     "execution_count": 21,
     "metadata": {},
     "output_type": "execute_result"
    }
   ],
   "source": [
    "df.corr()['TARGETS']"
   ]
  },
  {
   "cell_type": "code",
   "execution_count": 22,
   "metadata": {},
   "outputs": [
    {
     "name": "stdout",
     "output_type": "stream",
     "text": [
      "<class 'pandas.core.frame.DataFrame'>\n",
      "Int64Index: 919203 entries, 0 to 934805\n",
      "Data columns (total 19 columns):\n",
      " #   Column                     Non-Null Count   Dtype  \n",
      "---  ------                     --------------   -----  \n",
      " 0   STATION                    919203 non-null  int64  \n",
      " 1   ELEVATION                  919203 non-null  float64\n",
      " 2   HourlyAltimeterSetting     919203 non-null  float64\n",
      " 3   HourlyDewPointTemperature  919203 non-null  float64\n",
      " 4   HourlyDryBulbTemperature   919203 non-null  float64\n",
      " 5   HourlyPresentWeatherType   398149 non-null  object \n",
      " 6   HourlyPressureTendency     919203 non-null  float64\n",
      " 7   HourlyRelativeHumidity     919203 non-null  float64\n",
      " 8   HourlySeaLevelPressure     919203 non-null  float64\n",
      " 9   HourlyStationPressure      919203 non-null  float64\n",
      " 10  HourlyWetBulbTemperature   919203 non-null  float64\n",
      " 11  HourlyWindDirection        919203 non-null  float64\n",
      " 12  HourlyWindSpeed            919203 non-null  float64\n",
      " 13  YEAR                       919203 non-null  int64  \n",
      " 14  MONTH                      919203 non-null  int64  \n",
      " 15  DAY                        919203 non-null  int64  \n",
      " 16  HOUR                       919203 non-null  int64  \n",
      " 17  MINUTES                    919203 non-null  int64  \n",
      " 18  TARGETS                    919203 non-null  float64\n",
      "dtypes: float64(12), int64(6), object(1)\n",
      "memory usage: 140.3+ MB\n"
     ]
    }
   ],
   "source": [
    "df.info()"
   ]
  },
  {
   "cell_type": "code",
   "execution_count": 23,
   "metadata": {},
   "outputs": [],
   "source": [
    "encode_cols = [\"HourlyPresentWeatherType\"]"
   ]
  },
  {
   "cell_type": "code",
   "execution_count": 24,
   "metadata": {},
   "outputs": [
    {
     "data": {
      "text/plain": [
       "Index(['||HZ', '||DU', '||FG', '||FU', '||RA', '||TS', '||DZ', '||SHRA TS',\n",
       "       '||SHRA', '||HZ DU', '||FU HZ', '||RA TS', '||HZ RA', '||FG FG', '||SH',\n",
       "       '||FU FG', '||FG RA', '||TS RA', '||DZ DZ', '||HZ DZ', '||s', '||RA RA',\n",
       "       '||HZ TS', '||FC', '||DU RA', '||TS SHRA TS', '||DU DU', '||SQ',\n",
       "       '||DZ RA', '||FG SHRA', '||FG DZ', '||FU TS', '||HZ SHRA', '||DU TS',\n",
       "       '||DU SHRA', '||SHRASN', '||HZ FG', '||DRSN', '||FZRA', '||FG RA TS',\n",
       "       '||DU TS RA', '|FU |', '||RA SHRA TS', '||FZDZ', '||SHSN', '||FU DU',\n",
       "       '||DU TS SHRA', '||HZ TS SHRA', '||DZ TS', '||DU DZ', '||FU FG RA',\n",
       "       '||HZ TS RA', '||SG', '||SHRA TS TS', '||HZ RA TS', '||FU RA',\n",
       "       '||TS DZ', '||FU DZ', '||TS TS', '||TS DU', '||PL', '||FG DU',\n",
       "       '||DU FG', '||DZ SHRA TS', '||FU RA TS', '||TS FG SHRA', '||TS DU RA',\n",
       "       '|DZ |', '||HZ SHRA TS', '||HZ DZ DZ', '|HZ |', '||TS SHRA'],\n",
       "      dtype='object')"
      ]
     },
     "execution_count": 24,
     "metadata": {},
     "output_type": "execute_result"
    }
   ],
   "source": [
    "cat_vector_1 = df[encode_cols[0]].value_counts().index\n",
    "cat_vector_1"
   ]
  },
  {
   "cell_type": "code",
   "execution_count": 25,
   "metadata": {},
   "outputs": [],
   "source": [
    "cat_vector_1 = list(cat_vector_1)"
   ]
  },
  {
   "cell_type": "code",
   "execution_count": 26,
   "metadata": {},
   "outputs": [],
   "source": [
    "enc_vector_1 = [cat_vector_1.index(cat) for cat in cat_vector_1]\n",
    "enc_vector_1 = [i if i<7 else 7 for i in enc_vector_1]"
   ]
  },
  {
   "cell_type": "code",
   "execution_count": 27,
   "metadata": {},
   "outputs": [],
   "source": [
    "encode_dict_1 = dict(zip(cat_vector_1, enc_vector_1))"
   ]
  },
  {
   "cell_type": "code",
   "execution_count": 28,
   "metadata": {},
   "outputs": [
    {
     "data": {
      "text/plain": [
       "{'||HZ': 0,\n",
       " '||DU': 1,\n",
       " '||FG': 2,\n",
       " '||FU': 3,\n",
       " '||RA': 4,\n",
       " '||TS': 5,\n",
       " '||DZ': 6,\n",
       " '||SHRA TS': 7,\n",
       " '||SHRA': 7,\n",
       " '||HZ DU': 7,\n",
       " '||FU HZ': 7,\n",
       " '||RA TS': 7,\n",
       " '||HZ RA': 7,\n",
       " '||FG FG': 7,\n",
       " '||SH': 7,\n",
       " '||FU FG': 7,\n",
       " '||FG RA': 7,\n",
       " '||TS RA': 7,\n",
       " '||DZ DZ': 7,\n",
       " '||HZ DZ': 7,\n",
       " '||s': 7,\n",
       " '||RA RA': 7,\n",
       " '||HZ TS': 7,\n",
       " '||FC': 7,\n",
       " '||DU RA': 7,\n",
       " '||TS SHRA TS': 7,\n",
       " '||DU DU': 7,\n",
       " '||SQ': 7,\n",
       " '||DZ RA': 7,\n",
       " '||FG SHRA': 7,\n",
       " '||FG DZ': 7,\n",
       " '||FU TS': 7,\n",
       " '||HZ SHRA': 7,\n",
       " '||DU TS': 7,\n",
       " '||DU SHRA': 7,\n",
       " '||SHRASN': 7,\n",
       " '||HZ FG': 7,\n",
       " '||DRSN': 7,\n",
       " '||FZRA': 7,\n",
       " '||FG RA TS': 7,\n",
       " '||DU TS RA': 7,\n",
       " '|FU |': 7,\n",
       " '||RA SHRA TS': 7,\n",
       " '||FZDZ': 7,\n",
       " '||SHSN': 7,\n",
       " '||FU DU': 7,\n",
       " '||DU TS SHRA': 7,\n",
       " '||HZ TS SHRA': 7,\n",
       " '||DZ TS': 7,\n",
       " '||DU DZ': 7,\n",
       " '||FU FG RA': 7,\n",
       " '||HZ TS RA': 7,\n",
       " '||SG': 7,\n",
       " '||SHRA TS TS': 7,\n",
       " '||HZ RA TS': 7,\n",
       " '||FU RA': 7,\n",
       " '||TS DZ': 7,\n",
       " '||FU DZ': 7,\n",
       " '||TS TS': 7,\n",
       " '||TS DU': 7,\n",
       " '||PL': 7,\n",
       " '||FG DU': 7,\n",
       " '||DU FG': 7,\n",
       " '||DZ SHRA TS': 7,\n",
       " '||FU RA TS': 7,\n",
       " '||TS FG SHRA': 7,\n",
       " '||TS DU RA': 7,\n",
       " '|DZ |': 7,\n",
       " '||HZ SHRA TS': 7,\n",
       " '||HZ DZ DZ': 7,\n",
       " '|HZ |': 7,\n",
       " '||TS SHRA': 7}"
      ]
     },
     "execution_count": 28,
     "metadata": {},
     "output_type": "execute_result"
    }
   ],
   "source": [
    "encode_dict_1"
   ]
  },
  {
   "cell_type": "code",
   "execution_count": 29,
   "metadata": {},
   "outputs": [],
   "source": [
    "# encoded from 0 to 8, 0 to 6 for major categories, 7 for minor, 8 for invalid or missing\n",
    "encode_dict_1['|HZ |'] = 0\n",
    "encode_dict_1['|DZ |'] = 6\n",
    "encode_dict_1['|FU |'] = 3\n",
    "encode_dict_1['||s'] = 8\n",
    "encode_dict_1[np.nan] = 8"
   ]
  },
  {
   "cell_type": "code",
   "execution_count": 30,
   "metadata": {},
   "outputs": [],
   "source": [
    "colm = df[encode_cols[0]].copy()\n",
    "colm = pd.Series(map(lambda i: encode_dict_1.get(i, 8), colm))\n",
    "colm.value_counts()\n",
    "\n",
    "df[encode_cols[0]] = colm"
   ]
  },
  {
   "cell_type": "code",
   "execution_count": 31,
   "metadata": {},
   "outputs": [
    {
     "data": {
      "text/plain": [
       "42369099999    314912\n",
       "42634099999    117922\n",
       "42379099999    101420\n",
       "42452099999     99962\n",
       "42260099999     78481\n",
       "42165099999     50595\n",
       "42498099999     36021\n",
       "42273099999     21634\n",
       "42170099999     16402\n",
       "42056099999     13672\n",
       "42503099999     13421\n",
       "42295099999     13174\n",
       "42299099999      6697\n",
       "42249099999      6045\n",
       "42262099999      4196\n",
       "42547099999      3114\n",
       "42468099999      3100\n",
       "42420099999      3079\n",
       "42296099999      3018\n",
       "42522099999      2979\n",
       "42672099999      2936\n",
       "42599099999      2760\n",
       "42460099999      1546\n",
       "42270099999      1477\n",
       "42030099999       595\n",
       "42117099999        19\n",
       "42484099999        11\n",
       "42151099999         9\n",
       "42178099999         3\n",
       "42074099999         2\n",
       "42190099999         1\n",
       "Name: STATION, dtype: int64"
      ]
     },
     "execution_count": 31,
     "metadata": {},
     "output_type": "execute_result"
    }
   ],
   "source": [
    "df.STATION.value_counts()"
   ]
  },
  {
   "cell_type": "code",
   "execution_count": 32,
   "metadata": {},
   "outputs": [
    {
     "name": "stderr",
     "output_type": "stream",
     "text": [
      "c:\\users\\hp\\appdata\\local\\programs\\python\\python37\\lib\\importlib\\_bootstrap.py:219: RuntimeWarning: numpy.ufunc size changed, may indicate binary incompatibility. Expected 192 from C header, got 216 from PyObject\n",
      "  return f(*args, **kwds)\n"
     ]
    }
   ],
   "source": [
    "from sklearn.ensemble import RandomForestRegressor\n",
    "from sklearn.model_selection import train_test_split"
   ]
  },
  {
   "cell_type": "code",
   "execution_count": 33,
   "metadata": {},
   "outputs": [],
   "source": [
    "df.dropna(axis = 0, inplace = True)"
   ]
  },
  {
   "cell_type": "code",
   "execution_count": 34,
   "metadata": {},
   "outputs": [],
   "source": [
    "y = df['TARGETS']\n",
    "X = df.drop(['TARGETS'], axis = 1)"
   ]
  },
  {
   "cell_type": "code",
   "execution_count": 35,
   "metadata": {},
   "outputs": [
    {
     "name": "stdout",
     "output_type": "stream",
     "text": [
      "<class 'pandas.core.frame.DataFrame'>\n",
      "Int64Index: 903869 entries, 0 to 919202\n",
      "Data columns (total 18 columns):\n",
      " #   Column                     Non-Null Count   Dtype  \n",
      "---  ------                     --------------   -----  \n",
      " 0   STATION                    903869 non-null  int64  \n",
      " 1   ELEVATION                  903869 non-null  float64\n",
      " 2   HourlyAltimeterSetting     903869 non-null  float64\n",
      " 3   HourlyDewPointTemperature  903869 non-null  float64\n",
      " 4   HourlyDryBulbTemperature   903869 non-null  float64\n",
      " 5   HourlyPresentWeatherType   903869 non-null  float64\n",
      " 6   HourlyPressureTendency     903869 non-null  float64\n",
      " 7   HourlyRelativeHumidity     903869 non-null  float64\n",
      " 8   HourlySeaLevelPressure     903869 non-null  float64\n",
      " 9   HourlyStationPressure      903869 non-null  float64\n",
      " 10  HourlyWetBulbTemperature   903869 non-null  float64\n",
      " 11  HourlyWindDirection        903869 non-null  float64\n",
      " 12  HourlyWindSpeed            903869 non-null  float64\n",
      " 13  YEAR                       903869 non-null  int64  \n",
      " 14  MONTH                      903869 non-null  int64  \n",
      " 15  DAY                        903869 non-null  int64  \n",
      " 16  HOUR                       903869 non-null  int64  \n",
      " 17  MINUTES                    903869 non-null  int64  \n",
      "dtypes: float64(12), int64(6)\n",
      "memory usage: 131.0 MB\n"
     ]
    }
   ],
   "source": [
    "X.info()"
   ]
  },
  {
   "cell_type": "code",
   "execution_count": 36,
   "metadata": {},
   "outputs": [],
   "source": [
    "X_train, X_test, y_train, y_test = train_test_split(X, y, test_size = 30)"
   ]
  },
  {
   "cell_type": "code",
   "execution_count": 37,
   "metadata": {},
   "outputs": [],
   "source": [
    "rf = RandomForestRegressor(verbose = 5, n_jobs = -1)"
   ]
  },
  {
   "cell_type": "code",
   "execution_count": 38,
   "metadata": {},
   "outputs": [
    {
     "name": "stdout",
     "output_type": "stream",
     "text": [
      "<class 'pandas.core.frame.DataFrame'>\n",
      "Int64Index: 903869 entries, 0 to 919202\n",
      "Data columns (total 19 columns):\n",
      " #   Column                     Non-Null Count   Dtype  \n",
      "---  ------                     --------------   -----  \n",
      " 0   STATION                    903869 non-null  int64  \n",
      " 1   ELEVATION                  903869 non-null  float64\n",
      " 2   HourlyAltimeterSetting     903869 non-null  float64\n",
      " 3   HourlyDewPointTemperature  903869 non-null  float64\n",
      " 4   HourlyDryBulbTemperature   903869 non-null  float64\n",
      " 5   HourlyPresentWeatherType   903869 non-null  float64\n",
      " 6   HourlyPressureTendency     903869 non-null  float64\n",
      " 7   HourlyRelativeHumidity     903869 non-null  float64\n",
      " 8   HourlySeaLevelPressure     903869 non-null  float64\n",
      " 9   HourlyStationPressure      903869 non-null  float64\n",
      " 10  HourlyWetBulbTemperature   903869 non-null  float64\n",
      " 11  HourlyWindDirection        903869 non-null  float64\n",
      " 12  HourlyWindSpeed            903869 non-null  float64\n",
      " 13  YEAR                       903869 non-null  int64  \n",
      " 14  MONTH                      903869 non-null  int64  \n",
      " 15  DAY                        903869 non-null  int64  \n",
      " 16  HOUR                       903869 non-null  int64  \n",
      " 17  MINUTES                    903869 non-null  int64  \n",
      " 18  TARGETS                    903869 non-null  float64\n",
      "dtypes: float64(13), int64(6)\n",
      "memory usage: 137.9 MB\n"
     ]
    }
   ],
   "source": [
    "df.info()"
   ]
  },
  {
   "cell_type": "code",
   "execution_count": 39,
   "metadata": {},
   "outputs": [
    {
     "name": "stderr",
     "output_type": "stream",
     "text": [
      "[Parallel(n_jobs=-1)]: Using backend ThreadingBackend with 8 concurrent workers.\n"
     ]
    },
    {
     "name": "stdout",
     "output_type": "stream",
     "text": [
      "building tree 1 of 100building tree 2 of 100\n",
      "building tree 3 of 100\n",
      "building tree 4 of 100\n",
      "\n",
      "building tree 5 of 100\n",
      "building tree 6 of 100\n",
      "building tree 7 of 100\n",
      "building tree 8 of 100\n",
      "building tree 9 of 100\n",
      "building tree 10 of 100\n"
     ]
    },
    {
     "name": "stderr",
     "output_type": "stream",
     "text": [
      "[Parallel(n_jobs=-1)]: Done   2 tasks      | elapsed:   30.0s\n"
     ]
    },
    {
     "name": "stdout",
     "output_type": "stream",
     "text": [
      "building tree 11 of 100\n",
      "building tree 12 of 100\n",
      "building tree 13 of 100\n",
      "building tree 14 of 100\n",
      "building tree 15 of 100\n",
      "building tree 16 of 100\n",
      "building tree 17 of 100\n",
      "building tree 18 of 100\n",
      "building tree 19 of 100\n",
      "building tree 20 of 100\n",
      "building tree 21 of 100\n",
      "building tree 22 of 100\n",
      "building tree 23 of 100\n",
      "building tree 24 of 100\n",
      "building tree 25 of 100\n",
      "building tree 26 of 100\n",
      "building tree 27 of 100\n",
      "building tree 28 of 100\n",
      "building tree 29 of 100\n",
      "building tree 30 of 100\n",
      "building tree 31 of 100\n",
      "building tree 32 of 100\n",
      "building tree 33 of 100\n",
      "building tree 34 of 100\n",
      "building tree 35 of 100\n",
      "building tree 36 of 100\n",
      "building tree 37 of 100\n",
      "building tree 38 of 100\n",
      "building tree 39 of 100\n",
      "building tree 40 of 100\n",
      "building tree 41 of 100\n",
      "building tree 42 of 100\n",
      "building tree 43 of 100\n",
      "building tree 44 of 100\n",
      "building tree 45 of 100\n",
      "building tree 46 of 100\n",
      "building tree 47 of 100\n",
      "building tree 48 of 100\n",
      "building tree 49 of 100\n",
      "building tree 50 of 100\n",
      "building tree 51 of 100\n",
      "building tree 52 of 100\n",
      "building tree 53 of 100\n",
      "building tree 54 of 100\n",
      "building tree 55 of 100\n",
      "building tree 56 of 100\n",
      "building tree 57 of 100\n",
      "building tree 58 of 100\n",
      "building tree 59 of 100\n",
      "building tree 60 of 100\n",
      "building tree 61 of 100\n",
      "building tree 62 of 100\n",
      "building tree 63 of 100\n"
     ]
    },
    {
     "name": "stderr",
     "output_type": "stream",
     "text": [
      "[Parallel(n_jobs=-1)]: Done  56 tasks      | elapsed:  3.7min\n"
     ]
    },
    {
     "name": "stdout",
     "output_type": "stream",
     "text": [
      "building tree 64 of 100\n",
      "building tree 65 of 100\n",
      "building tree 66 of 100\n",
      "building tree 67 of 100\n",
      "building tree 68 of 100\n",
      "building tree 69 of 100\n",
      "building tree 70 of 100\n",
      "building tree 71 of 100\n",
      "building tree 72 of 100\n",
      "building tree 73 of 100\n",
      "building tree 74 of 100\n",
      "building tree 75 of 100\n",
      "building tree 76 of 100\n",
      "building tree 77 of 100\n",
      "building tree 78 of 100\n",
      "building tree 79 of 100\n",
      "building tree 80 of 100\n",
      "building tree 81 of 100\n",
      "building tree 82 of 100\n",
      "building tree 83 of 100\n",
      "building tree 84 of 100\n",
      "building tree 85 of 100\n",
      "building tree 86 of 100\n",
      "building tree 87 of 100\n",
      "building tree 88 of 100\n",
      "building tree 89 of 100\n",
      "building tree 90 of 100\n",
      "building tree 91 of 100\n",
      "building tree 92 of 100\n",
      "building tree 93 of 100\n",
      "building tree 94 of 100\n",
      "building tree 95 of 100\n",
      "building tree 96 of 100\n",
      "building tree 97 of 100\n",
      "building tree 98 of 100\n",
      "building tree 99 of 100\n",
      "building tree 100 of 100\n"
     ]
    },
    {
     "name": "stderr",
     "output_type": "stream",
     "text": [
      "[Parallel(n_jobs=-1)]: Done 100 out of 100 | elapsed:  6.5min finished\n"
     ]
    },
    {
     "data": {
      "text/plain": [
       "RandomForestRegressor(n_jobs=-1, verbose=5)"
      ]
     },
     "execution_count": 39,
     "metadata": {},
     "output_type": "execute_result"
    }
   ],
   "source": [
    "rf.fit(X_train, y_train)"
   ]
  },
  {
   "cell_type": "code",
   "execution_count": 40,
   "metadata": {},
   "outputs": [
    {
     "name": "stderr",
     "output_type": "stream",
     "text": [
      "[Parallel(n_jobs=8)]: Using backend ThreadingBackend with 8 concurrent workers.\n",
      "[Parallel(n_jobs=8)]: Done   2 tasks      | elapsed:    0.0s\n",
      "[Parallel(n_jobs=8)]: Done  56 tasks      | elapsed:    0.0s\n",
      "[Parallel(n_jobs=8)]: Done 100 out of 100 | elapsed:    0.0s finished\n"
     ]
    }
   ],
   "source": [
    "y_pred = rf.predict(X_test)"
   ]
  },
  {
   "cell_type": "code",
   "execution_count": 41,
   "metadata": {},
   "outputs": [],
   "source": [
    "from sklearn.metrics import r2_score\n",
    "from sklearn.metrics import mean_squared_error as mse, mean_absolute_error as mae"
   ]
  },
  {
   "cell_type": "code",
   "execution_count": 42,
   "metadata": {},
   "outputs": [
    {
     "data": {
      "text/plain": [
       "2.8191490999999975"
      ]
     },
     "execution_count": 42,
     "metadata": {},
     "output_type": "execute_result"
    }
   ],
   "source": [
    "mse(y_test, y_pred)"
   ]
  },
  {
   "cell_type": "code",
   "execution_count": 43,
   "metadata": {},
   "outputs": [
    {
     "data": {
      "text/plain": [
       "0.8127533333333331"
      ]
     },
     "execution_count": 43,
     "metadata": {},
     "output_type": "execute_result"
    }
   ],
   "source": [
    "mae(y_test, y_pred)"
   ]
  },
  {
   "cell_type": "code",
   "execution_count": null,
   "metadata": {},
   "outputs": [],
   "source": []
  }
 ],
 "metadata": {
  "kernelspec": {
   "display_name": "Python 3",
   "language": "python",
   "name": "python3"
  },
  "language_info": {
   "codemirror_mode": {
    "name": "ipython",
    "version": 3
   },
   "file_extension": ".py",
   "mimetype": "text/x-python",
   "name": "python",
   "nbconvert_exporter": "python",
   "pygments_lexer": "ipython3",
   "version": "3.7.7"
  }
 },
 "nbformat": 4,
 "nbformat_minor": 4
}
