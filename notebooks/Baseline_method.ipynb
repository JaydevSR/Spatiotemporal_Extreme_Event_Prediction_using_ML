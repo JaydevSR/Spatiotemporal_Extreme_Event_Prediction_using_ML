{
 "cells": [
  {
   "cell_type": "markdown",
   "metadata": {},
   "source": [
    "# We are making this notebook to see the performance of baseline techniques like simple imputation for handling null values. We will use these results to compare out methods with this"
   ]
  },
  {
   "cell_type": "code",
   "execution_count": 1,
   "metadata": {},
   "outputs": [],
   "source": [
    "import pandas as pd\n",
    "import numpy as np\n",
    "from tqdm import tqdm\n",
    "import matplotlib.pyplot as plt"
   ]
  },
  {
   "cell_type": "code",
   "execution_count": 71,
   "metadata": {},
   "outputs": [],
   "source": [
    "df = pd.read_csv('../database/clean_train_data_v2.csv', index_col = 0)"
   ]
  },
  {
   "cell_type": "code",
   "execution_count": 72,
   "metadata": {},
   "outputs": [],
   "source": [
    "df = df[df['TARGETS'] < 15]"
   ]
  },
  {
   "cell_type": "code",
   "execution_count": 73,
   "metadata": {},
   "outputs": [
    {
     "data": {
      "text/html": [
       "<div>\n",
       "<style scoped>\n",
       "    .dataframe tbody tr th:only-of-type {\n",
       "        vertical-align: middle;\n",
       "    }\n",
       "\n",
       "    .dataframe tbody tr th {\n",
       "        vertical-align: top;\n",
       "    }\n",
       "\n",
       "    .dataframe thead th {\n",
       "        text-align: right;\n",
       "    }\n",
       "</style>\n",
       "<table border=\"1\" class=\"dataframe\">\n",
       "  <thead>\n",
       "    <tr style=\"text-align: right;\">\n",
       "      <th></th>\n",
       "      <th>STATION</th>\n",
       "      <th>ELEVATION</th>\n",
       "      <th>HourlyAltimeterSetting</th>\n",
       "      <th>HourlyDewPointTemperature</th>\n",
       "      <th>HourlyDryBulbTemperature</th>\n",
       "      <th>HourlyPresentWeatherType</th>\n",
       "      <th>HourlyPressureTendency</th>\n",
       "      <th>HourlyRelativeHumidity</th>\n",
       "      <th>HourlySkyConditions</th>\n",
       "      <th>HourlySeaLevelPressure</th>\n",
       "      <th>...</th>\n",
       "      <th>HourlyWetBulbTemperature</th>\n",
       "      <th>HourlyWindDirection</th>\n",
       "      <th>HourlyWindSpeed</th>\n",
       "      <th>YEAR</th>\n",
       "      <th>MONTH</th>\n",
       "      <th>DAY</th>\n",
       "      <th>HOUR</th>\n",
       "      <th>MINUTES</th>\n",
       "      <th>SECONDS</th>\n",
       "      <th>TARGETS</th>\n",
       "    </tr>\n",
       "  </thead>\n",
       "  <tbody>\n",
       "    <tr>\n",
       "      <th>0</th>\n",
       "      <td>42369099999</td>\n",
       "      <td>124.96</td>\n",
       "      <td>NaN</td>\n",
       "      <td>61.0</td>\n",
       "      <td>100.0</td>\n",
       "      <td>||HZ</td>\n",
       "      <td>9.0</td>\n",
       "      <td>27.0</td>\n",
       "      <td>FEW:01 98</td>\n",
       "      <td>29.62</td>\n",
       "      <td>...</td>\n",
       "      <td>NaN</td>\n",
       "      <td>90.0</td>\n",
       "      <td>10.0</td>\n",
       "      <td>2013</td>\n",
       "      <td>5</td>\n",
       "      <td>5</td>\n",
       "      <td>11</td>\n",
       "      <td>30</td>\n",
       "      <td>0</td>\n",
       "      <td>2.49</td>\n",
       "    </tr>\n",
       "    <tr>\n",
       "      <th>1</th>\n",
       "      <td>42369099999</td>\n",
       "      <td>124.96</td>\n",
       "      <td>30.06</td>\n",
       "      <td>55.0</td>\n",
       "      <td>61.0</td>\n",
       "      <td>NaN</td>\n",
       "      <td>NaN</td>\n",
       "      <td>83.0</td>\n",
       "      <td>SCT:04 20 SCT:04 100</td>\n",
       "      <td>NaN</td>\n",
       "      <td>...</td>\n",
       "      <td>NaN</td>\n",
       "      <td>NaN</td>\n",
       "      <td>2.0</td>\n",
       "      <td>2019</td>\n",
       "      <td>1</td>\n",
       "      <td>23</td>\n",
       "      <td>22</td>\n",
       "      <td>0</td>\n",
       "      <td>0</td>\n",
       "      <td>1.24</td>\n",
       "    </tr>\n",
       "    <tr>\n",
       "      <th>2</th>\n",
       "      <td>42452099999</td>\n",
       "      <td>273.10</td>\n",
       "      <td>NaN</td>\n",
       "      <td>51.0</td>\n",
       "      <td>67.0</td>\n",
       "      <td>NaN</td>\n",
       "      <td>9.0</td>\n",
       "      <td>57.0</td>\n",
       "      <td>NaN</td>\n",
       "      <td>29.77</td>\n",
       "      <td>...</td>\n",
       "      <td>NaN</td>\n",
       "      <td>230.0</td>\n",
       "      <td>5.0</td>\n",
       "      <td>2005</td>\n",
       "      <td>2</td>\n",
       "      <td>17</td>\n",
       "      <td>8</td>\n",
       "      <td>30</td>\n",
       "      <td>0</td>\n",
       "      <td>2.49</td>\n",
       "    </tr>\n",
       "    <tr>\n",
       "      <th>3</th>\n",
       "      <td>42369099999</td>\n",
       "      <td>124.96</td>\n",
       "      <td>NaN</td>\n",
       "      <td>41.0</td>\n",
       "      <td>94.0</td>\n",
       "      <td>||DU</td>\n",
       "      <td>9.0</td>\n",
       "      <td>16.0</td>\n",
       "      <td>NaN</td>\n",
       "      <td>29.55</td>\n",
       "      <td>...</td>\n",
       "      <td>NaN</td>\n",
       "      <td>0.0</td>\n",
       "      <td>0.0</td>\n",
       "      <td>1984</td>\n",
       "      <td>5</td>\n",
       "      <td>20</td>\n",
       "      <td>8</td>\n",
       "      <td>30</td>\n",
       "      <td>0</td>\n",
       "      <td>2.49</td>\n",
       "    </tr>\n",
       "    <tr>\n",
       "      <th>4</th>\n",
       "      <td>42503099999</td>\n",
       "      <td>31.00</td>\n",
       "      <td>NaN</td>\n",
       "      <td>55.0</td>\n",
       "      <td>82.0</td>\n",
       "      <td>NaN</td>\n",
       "      <td>9.0</td>\n",
       "      <td>39.0</td>\n",
       "      <td>NaN</td>\n",
       "      <td>30.01</td>\n",
       "      <td>...</td>\n",
       "      <td>NaN</td>\n",
       "      <td>320.0</td>\n",
       "      <td>2.0</td>\n",
       "      <td>2016</td>\n",
       "      <td>11</td>\n",
       "      <td>16</td>\n",
       "      <td>11</td>\n",
       "      <td>30</td>\n",
       "      <td>0</td>\n",
       "      <td>2.49</td>\n",
       "    </tr>\n",
       "  </tbody>\n",
       "</table>\n",
       "<p>5 rows × 21 columns</p>\n",
       "</div>"
      ],
      "text/plain": [
       "       STATION  ELEVATION  HourlyAltimeterSetting  HourlyDewPointTemperature  \\\n",
       "0  42369099999     124.96                     NaN                       61.0   \n",
       "1  42369099999     124.96                   30.06                       55.0   \n",
       "2  42452099999     273.10                     NaN                       51.0   \n",
       "3  42369099999     124.96                     NaN                       41.0   \n",
       "4  42503099999      31.00                     NaN                       55.0   \n",
       "\n",
       "   HourlyDryBulbTemperature HourlyPresentWeatherType  HourlyPressureTendency  \\\n",
       "0                     100.0                     ||HZ                     9.0   \n",
       "1                      61.0                      NaN                     NaN   \n",
       "2                      67.0                      NaN                     9.0   \n",
       "3                      94.0                     ||DU                     9.0   \n",
       "4                      82.0                      NaN                     9.0   \n",
       "\n",
       "   HourlyRelativeHumidity   HourlySkyConditions  HourlySeaLevelPressure  ...  \\\n",
       "0                    27.0             FEW:01 98                   29.62  ...   \n",
       "1                    83.0  SCT:04 20 SCT:04 100                     NaN  ...   \n",
       "2                    57.0                   NaN                   29.77  ...   \n",
       "3                    16.0                   NaN                   29.55  ...   \n",
       "4                    39.0                   NaN                   30.01  ...   \n",
       "\n",
       "   HourlyWetBulbTemperature  HourlyWindDirection  HourlyWindSpeed  YEAR  \\\n",
       "0                       NaN                 90.0             10.0  2013   \n",
       "1                       NaN                  NaN              2.0  2019   \n",
       "2                       NaN                230.0              5.0  2005   \n",
       "3                       NaN                  0.0              0.0  1984   \n",
       "4                       NaN                320.0              2.0  2016   \n",
       "\n",
       "   MONTH  DAY  HOUR  MINUTES  SECONDS  TARGETS  \n",
       "0      5    5    11       30        0     2.49  \n",
       "1      1   23    22        0        0     1.24  \n",
       "2      2   17     8       30        0     2.49  \n",
       "3      5   20     8       30        0     2.49  \n",
       "4     11   16    11       30        0     2.49  \n",
       "\n",
       "[5 rows x 21 columns]"
      ]
     },
     "execution_count": 73,
     "metadata": {},
     "output_type": "execute_result"
    }
   ],
   "source": [
    "df.head()"
   ]
  },
  {
   "cell_type": "code",
   "execution_count": 74,
   "metadata": {},
   "outputs": [
    {
     "name": "stdout",
     "output_type": "stream",
     "text": [
      "<class 'pandas.core.frame.DataFrame'>\n",
      "Int64Index: 919203 entries, 0 to 934805\n",
      "Data columns (total 21 columns):\n",
      " #   Column                     Non-Null Count   Dtype  \n",
      "---  ------                     --------------   -----  \n",
      " 0   STATION                    919203 non-null  int64  \n",
      " 1   ELEVATION                  919203 non-null  float64\n",
      " 2   HourlyAltimeterSetting     216905 non-null  float64\n",
      " 3   HourlyDewPointTemperature  901733 non-null  float64\n",
      " 4   HourlyDryBulbTemperature   907765 non-null  float64\n",
      " 5   HourlyPresentWeatherType   398149 non-null  object \n",
      " 6   HourlyPressureTendency     585592 non-null  float64\n",
      " 7   HourlyRelativeHumidity     901133 non-null  float64\n",
      " 8   HourlySkyConditions        498095 non-null  object \n",
      " 9   HourlySeaLevelPressure     657190 non-null  float64\n",
      " 10  HourlyStationPressure      23685 non-null   float64\n",
      " 11  HourlyWetBulbTemperature   23530 non-null   float64\n",
      " 12  HourlyWindDirection        848317 non-null  float64\n",
      " 13  HourlyWindSpeed            908783 non-null  float64\n",
      " 14  YEAR                       919203 non-null  int64  \n",
      " 15  MONTH                      919203 non-null  int64  \n",
      " 16  DAY                        919203 non-null  int64  \n",
      " 17  HOUR                       919203 non-null  int64  \n",
      " 18  MINUTES                    919203 non-null  int64  \n",
      " 19  SECONDS                    919203 non-null  int64  \n",
      " 20  TARGETS                    919203 non-null  float64\n",
      "dtypes: float64(12), int64(7), object(2)\n",
      "memory usage: 154.3+ MB\n"
     ]
    }
   ],
   "source": [
    "df.info()"
   ]
  },
  {
   "cell_type": "code",
   "execution_count": 75,
   "metadata": {},
   "outputs": [],
   "source": [
    "df.drop(['SECONDS', 'HourlySkyConditions'], axis = 1, inplace = True)"
   ]
  },
  {
   "cell_type": "code",
   "execution_count": 76,
   "metadata": {},
   "outputs": [
    {
     "data": {
      "text/plain": [
       "STATION                      0.105594\n",
       "ELEVATION                    0.043640\n",
       "HourlyAltimeterSetting      -0.476804\n",
       "HourlyDewPointTemperature   -0.010298\n",
       "HourlyDryBulbTemperature     0.203448\n",
       "HourlyPressureTendency      -0.072720\n",
       "HourlyRelativeHumidity      -0.221995\n",
       "HourlySeaLevelPressure      -0.073030\n",
       "HourlyStationPressure        0.308010\n",
       "HourlyWetBulbTemperature    -0.063629\n",
       "HourlyWindDirection          0.147541\n",
       "HourlyWindSpeed              0.065731\n",
       "YEAR                        -0.447448\n",
       "MONTH                       -0.023259\n",
       "DAY                          0.000570\n",
       "HOUR                         0.040755\n",
       "MINUTES                      0.048551\n",
       "TARGETS                      1.000000\n",
       "Name: TARGETS, dtype: float64"
      ]
     },
     "execution_count": 76,
     "metadata": {},
     "output_type": "execute_result"
    }
   ],
   "source": [
    "df.corr()['TARGETS']"
   ]
  },
  {
   "cell_type": "code",
   "execution_count": 77,
   "metadata": {},
   "outputs": [],
   "source": [
    "cols = ['HourlyAltimeterSetting', 'HourlyDewPointTemperature', 'HourlyDryBulbTemperature', 'HourlyPressureTendency', \n",
    "       'HourlyRelativeHumidity', 'HourlySeaLevelPressure', 'HourlyStationPressure', 'HourlyWetBulbTemperature', \n",
    "       'HourlyWindDirection', 'HourlyWindSpeed']"
   ]
  },
  {
   "cell_type": "code",
   "execution_count": 78,
   "metadata": {},
   "outputs": [],
   "source": [
    "from sklearn.impute import SimpleImputer"
   ]
  },
  {
   "cell_type": "code",
   "execution_count": 79,
   "metadata": {},
   "outputs": [],
   "source": [
    "imp1 = SimpleImputer(missing_values=np.nan, strategy='median')\n",
    "df[cols] = imp1.fit_transform(df[cols])"
   ]
  },
  {
   "cell_type": "code",
   "execution_count": 120,
   "metadata": {},
   "outputs": [
    {
     "data": {
      "text/plain": [
       "STATION                      0.105700\n",
       "ELEVATION                    0.043297\n",
       "HourlyAltimeterSetting      -0.136097\n",
       "HourlyDewPointTemperature   -0.009986\n",
       "HourlyDryBulbTemperature     0.201829\n",
       "HourlyPresentWeatherType    -0.000709\n",
       "HourlyPressureTendency      -0.033140\n",
       "HourlyRelativeHumidity      -0.218091\n",
       "HourlySeaLevelPressure      -0.065476\n",
       "HourlyStationPressure        0.043531\n",
       "HourlyWetBulbTemperature    -0.007664\n",
       "HourlyWindDirection          0.149124\n",
       "HourlyWindSpeed              0.064505\n",
       "YEAR                        -0.447363\n",
       "MONTH                       -0.023421\n",
       "DAY                          0.000403\n",
       "HOUR                         0.040861\n",
       "MINUTES                      0.048626\n",
       "TARGETS                      1.000000\n",
       "Name: TARGETS, dtype: float64"
      ]
     },
     "execution_count": 120,
     "metadata": {},
     "output_type": "execute_result"
    }
   ],
   "source": [
    "df.corr()['TARGETS']"
   ]
  },
  {
   "cell_type": "code",
   "execution_count": 80,
   "metadata": {},
   "outputs": [
    {
     "name": "stdout",
     "output_type": "stream",
     "text": [
      "<class 'pandas.core.frame.DataFrame'>\n",
      "Int64Index: 919203 entries, 0 to 934805\n",
      "Data columns (total 19 columns):\n",
      " #   Column                     Non-Null Count   Dtype  \n",
      "---  ------                     --------------   -----  \n",
      " 0   STATION                    919203 non-null  int64  \n",
      " 1   ELEVATION                  919203 non-null  float64\n",
      " 2   HourlyAltimeterSetting     919203 non-null  float64\n",
      " 3   HourlyDewPointTemperature  919203 non-null  float64\n",
      " 4   HourlyDryBulbTemperature   919203 non-null  float64\n",
      " 5   HourlyPresentWeatherType   398149 non-null  object \n",
      " 6   HourlyPressureTendency     919203 non-null  float64\n",
      " 7   HourlyRelativeHumidity     919203 non-null  float64\n",
      " 8   HourlySeaLevelPressure     919203 non-null  float64\n",
      " 9   HourlyStationPressure      919203 non-null  float64\n",
      " 10  HourlyWetBulbTemperature   919203 non-null  float64\n",
      " 11  HourlyWindDirection        919203 non-null  float64\n",
      " 12  HourlyWindSpeed            919203 non-null  float64\n",
      " 13  YEAR                       919203 non-null  int64  \n",
      " 14  MONTH                      919203 non-null  int64  \n",
      " 15  DAY                        919203 non-null  int64  \n",
      " 16  HOUR                       919203 non-null  int64  \n",
      " 17  MINUTES                    919203 non-null  int64  \n",
      " 18  TARGETS                    919203 non-null  float64\n",
      "dtypes: float64(12), int64(6), object(1)\n",
      "memory usage: 140.3+ MB\n"
     ]
    }
   ],
   "source": [
    "df.info()"
   ]
  },
  {
   "cell_type": "code",
   "execution_count": 81,
   "metadata": {},
   "outputs": [],
   "source": [
    "encode_cols = [\"HourlyPresentWeatherType\"]"
   ]
  },
  {
   "cell_type": "code",
   "execution_count": 82,
   "metadata": {},
   "outputs": [
    {
     "data": {
      "text/plain": [
       "Index(['||HZ', '||DU', '||FG', '||FU', '||RA', '||TS', '||DZ', '||SHRA TS',\n",
       "       '||SHRA', '||HZ DU', '||FU HZ', '||RA TS', '||HZ RA', '||FG FG', '||SH',\n",
       "       '||FU FG', '||FG RA', '||TS RA', '||DZ DZ', '||HZ DZ', '||s', '||RA RA',\n",
       "       '||HZ TS', '||DU RA', '||FC', '||TS SHRA TS', '||DU DU', '||SQ',\n",
       "       '||DZ RA', '||FG SHRA', '||FG DZ', '||FU TS', '||HZ SHRA', '||DU TS',\n",
       "       '||DU SHRA', '||SHRASN', '||FG RA TS', '||DU TS RA', '||DRSN',\n",
       "       '||HZ FG', '||FZRA', '||RA SHRA TS', '|FU |', '||DU TS SHRA', '||FZDZ',\n",
       "       '||SHSN', '||FU DU', '||HZ TS SHRA', '||HZ TS RA', '||SHRA TS TS',\n",
       "       '||DU DZ', '||DZ TS', '||FU FG RA', '||SG', '||HZ RA TS', '|HZ |',\n",
       "       '||FU RA', '||FG DU', '||TS DU', '||FU DZ', '||TS TS', '||TS DZ',\n",
       "       '|DZ |', '||TS SHRA', '||DZ SHRA TS', '||DU FG', '||HZ DZ DZ',\n",
       "       '||HZ SHRA TS', '||TS FG SHRA', '||TS DU RA', '||PL', '||FU RA TS'],\n",
       "      dtype='object')"
      ]
     },
     "execution_count": 82,
     "metadata": {},
     "output_type": "execute_result"
    }
   ],
   "source": [
    "cat_vector_1 = df[encode_cols[0]].value_counts().index\n",
    "cat_vector_1"
   ]
  },
  {
   "cell_type": "code",
   "execution_count": 83,
   "metadata": {},
   "outputs": [],
   "source": [
    "cat_vector_1 = list(cat_vector_1)"
   ]
  },
  {
   "cell_type": "code",
   "execution_count": 84,
   "metadata": {},
   "outputs": [],
   "source": [
    "enc_vector_1 = [cat_vector_1.index(cat) for cat in cat_vector_1]\n",
    "enc_vector_1 = [i if i<7 else 7 for i in enc_vector_1]"
   ]
  },
  {
   "cell_type": "code",
   "execution_count": 85,
   "metadata": {},
   "outputs": [],
   "source": [
    "encode_dict_1 = dict(zip(cat_vector_1, enc_vector_1))"
   ]
  },
  {
   "cell_type": "code",
   "execution_count": 86,
   "metadata": {},
   "outputs": [
    {
     "data": {
      "text/plain": [
       "{'||HZ': 0,\n",
       " '||DU': 1,\n",
       " '||FG': 2,\n",
       " '||FU': 3,\n",
       " '||RA': 4,\n",
       " '||TS': 5,\n",
       " '||DZ': 6,\n",
       " '||SHRA TS': 7,\n",
       " '||SHRA': 7,\n",
       " '||HZ DU': 7,\n",
       " '||FU HZ': 7,\n",
       " '||RA TS': 7,\n",
       " '||HZ RA': 7,\n",
       " '||FG FG': 7,\n",
       " '||SH': 7,\n",
       " '||FU FG': 7,\n",
       " '||FG RA': 7,\n",
       " '||TS RA': 7,\n",
       " '||DZ DZ': 7,\n",
       " '||HZ DZ': 7,\n",
       " '||s': 7,\n",
       " '||RA RA': 7,\n",
       " '||HZ TS': 7,\n",
       " '||DU RA': 7,\n",
       " '||FC': 7,\n",
       " '||TS SHRA TS': 7,\n",
       " '||DU DU': 7,\n",
       " '||SQ': 7,\n",
       " '||DZ RA': 7,\n",
       " '||FG SHRA': 7,\n",
       " '||FG DZ': 7,\n",
       " '||FU TS': 7,\n",
       " '||HZ SHRA': 7,\n",
       " '||DU TS': 7,\n",
       " '||DU SHRA': 7,\n",
       " '||SHRASN': 7,\n",
       " '||FG RA TS': 7,\n",
       " '||DU TS RA': 7,\n",
       " '||DRSN': 7,\n",
       " '||HZ FG': 7,\n",
       " '||FZRA': 7,\n",
       " '||RA SHRA TS': 7,\n",
       " '|FU |': 7,\n",
       " '||DU TS SHRA': 7,\n",
       " '||FZDZ': 7,\n",
       " '||SHSN': 7,\n",
       " '||FU DU': 7,\n",
       " '||HZ TS SHRA': 7,\n",
       " '||HZ TS RA': 7,\n",
       " '||SHRA TS TS': 7,\n",
       " '||DU DZ': 7,\n",
       " '||DZ TS': 7,\n",
       " '||FU FG RA': 7,\n",
       " '||SG': 7,\n",
       " '||HZ RA TS': 7,\n",
       " '|HZ |': 7,\n",
       " '||FU RA': 7,\n",
       " '||FG DU': 7,\n",
       " '||TS DU': 7,\n",
       " '||FU DZ': 7,\n",
       " '||TS TS': 7,\n",
       " '||TS DZ': 7,\n",
       " '|DZ |': 7,\n",
       " '||TS SHRA': 7,\n",
       " '||DZ SHRA TS': 7,\n",
       " '||DU FG': 7,\n",
       " '||HZ DZ DZ': 7,\n",
       " '||HZ SHRA TS': 7,\n",
       " '||TS FG SHRA': 7,\n",
       " '||TS DU RA': 7,\n",
       " '||PL': 7,\n",
       " '||FU RA TS': 7}"
      ]
     },
     "execution_count": 86,
     "metadata": {},
     "output_type": "execute_result"
    }
   ],
   "source": [
    "encode_dict_1"
   ]
  },
  {
   "cell_type": "code",
   "execution_count": 87,
   "metadata": {},
   "outputs": [],
   "source": [
    "# encoded from 0 to 8, 0 to 6 for major categories, 7 for minor, 8 for invalid or missing\n",
    "encode_dict_1['|HZ |'] = 0\n",
    "encode_dict_1['|DZ |'] = 6\n",
    "encode_dict_1['|FU |'] = 3\n",
    "encode_dict_1['||s'] = 8\n",
    "encode_dict_1[np.nan] = 8"
   ]
  },
  {
   "cell_type": "code",
   "execution_count": 88,
   "metadata": {},
   "outputs": [],
   "source": [
    "colm = df[encode_cols[0]].copy()\n",
    "colm = pd.Series(map(lambda i: encode_dict_1.get(i, 8), colm))\n",
    "colm.value_counts()\n",
    "\n",
    "df[encode_cols[0]] = colm"
   ]
  },
  {
   "cell_type": "code",
   "execution_count": 89,
   "metadata": {},
   "outputs": [
    {
     "data": {
      "text/plain": [
       "42369099999    314912\n",
       "42634099999    117922\n",
       "42379099999    101420\n",
       "42452099999     99962\n",
       "42260099999     78481\n",
       "42165099999     50595\n",
       "42498099999     36021\n",
       "42273099999     21634\n",
       "42170099999     16402\n",
       "42056099999     13672\n",
       "42503099999     13421\n",
       "42295099999     13174\n",
       "42299099999      6697\n",
       "42249099999      6045\n",
       "42262099999      4196\n",
       "42547099999      3114\n",
       "42468099999      3100\n",
       "42420099999      3079\n",
       "42296099999      3018\n",
       "42522099999      2979\n",
       "42672099999      2936\n",
       "42599099999      2760\n",
       "42460099999      1546\n",
       "42270099999      1477\n",
       "42030099999       595\n",
       "42117099999        19\n",
       "42484099999        11\n",
       "42151099999         9\n",
       "42178099999         3\n",
       "42074099999         2\n",
       "42190099999         1\n",
       "Name: STATION, dtype: int64"
      ]
     },
     "execution_count": 89,
     "metadata": {},
     "output_type": "execute_result"
    }
   ],
   "source": [
    "df.STATION.value_counts()"
   ]
  },
  {
   "cell_type": "code",
   "execution_count": 90,
   "metadata": {},
   "outputs": [],
   "source": [
    "from sklearn.ensemble import RandomForestRegressor\n",
    "from sklearn.model_selection import train_test_split"
   ]
  },
  {
   "cell_type": "code",
   "execution_count": 98,
   "metadata": {},
   "outputs": [],
   "source": [
    "df.dropna(axis = 0, inplace = True)"
   ]
  },
  {
   "cell_type": "code",
   "execution_count": 99,
   "metadata": {},
   "outputs": [],
   "source": [
    "y = df['TARGETS']\n",
    "X = df.drop(['TARGETS'], axis = 1)"
   ]
  },
  {
   "cell_type": "code",
   "execution_count": 100,
   "metadata": {},
   "outputs": [
    {
     "name": "stdout",
     "output_type": "stream",
     "text": [
      "<class 'pandas.core.frame.DataFrame'>\n",
      "Int64Index: 903869 entries, 0 to 919202\n",
      "Data columns (total 18 columns):\n",
      " #   Column                     Non-Null Count   Dtype  \n",
      "---  ------                     --------------   -----  \n",
      " 0   STATION                    903869 non-null  int64  \n",
      " 1   ELEVATION                  903869 non-null  float64\n",
      " 2   HourlyAltimeterSetting     903869 non-null  float64\n",
      " 3   HourlyDewPointTemperature  903869 non-null  float64\n",
      " 4   HourlyDryBulbTemperature   903869 non-null  float64\n",
      " 5   HourlyPresentWeatherType   903869 non-null  float64\n",
      " 6   HourlyPressureTendency     903869 non-null  float64\n",
      " 7   HourlyRelativeHumidity     903869 non-null  float64\n",
      " 8   HourlySeaLevelPressure     903869 non-null  float64\n",
      " 9   HourlyStationPressure      903869 non-null  float64\n",
      " 10  HourlyWetBulbTemperature   903869 non-null  float64\n",
      " 11  HourlyWindDirection        903869 non-null  float64\n",
      " 12  HourlyWindSpeed            903869 non-null  float64\n",
      " 13  YEAR                       903869 non-null  int64  \n",
      " 14  MONTH                      903869 non-null  int64  \n",
      " 15  DAY                        903869 non-null  int64  \n",
      " 16  HOUR                       903869 non-null  int64  \n",
      " 17  MINUTES                    903869 non-null  int64  \n",
      "dtypes: float64(12), int64(6)\n",
      "memory usage: 131.0 MB\n"
     ]
    }
   ],
   "source": [
    "X.info()"
   ]
  },
  {
   "cell_type": "code",
   "execution_count": 101,
   "metadata": {},
   "outputs": [],
   "source": [
    "X_train, X_test, y_train, y_test = train_test_split(X, y, test_size = 30)"
   ]
  },
  {
   "cell_type": "code",
   "execution_count": 110,
   "metadata": {},
   "outputs": [],
   "source": [
    "rf = RandomForestRegressor(criterion = 'squared_error', max_features = 'sqrt', bootstrap = False, max_depth = 30, min_samples_leaf = 2, \n",
    "                          min_samples_split = 4, n_estimators = 200, verbose = 5, n_jobs = -1)"
   ]
  },
  {
   "cell_type": "code",
   "execution_count": 111,
   "metadata": {},
   "outputs": [
    {
     "name": "stdout",
     "output_type": "stream",
     "text": [
      "<class 'pandas.core.frame.DataFrame'>\n",
      "Int64Index: 903869 entries, 0 to 919202\n",
      "Data columns (total 19 columns):\n",
      " #   Column                     Non-Null Count   Dtype  \n",
      "---  ------                     --------------   -----  \n",
      " 0   STATION                    903869 non-null  int64  \n",
      " 1   ELEVATION                  903869 non-null  float64\n",
      " 2   HourlyAltimeterSetting     903869 non-null  float64\n",
      " 3   HourlyDewPointTemperature  903869 non-null  float64\n",
      " 4   HourlyDryBulbTemperature   903869 non-null  float64\n",
      " 5   HourlyPresentWeatherType   903869 non-null  float64\n",
      " 6   HourlyPressureTendency     903869 non-null  float64\n",
      " 7   HourlyRelativeHumidity     903869 non-null  float64\n",
      " 8   HourlySeaLevelPressure     903869 non-null  float64\n",
      " 9   HourlyStationPressure      903869 non-null  float64\n",
      " 10  HourlyWetBulbTemperature   903869 non-null  float64\n",
      " 11  HourlyWindDirection        903869 non-null  float64\n",
      " 12  HourlyWindSpeed            903869 non-null  float64\n",
      " 13  YEAR                       903869 non-null  int64  \n",
      " 14  MONTH                      903869 non-null  int64  \n",
      " 15  DAY                        903869 non-null  int64  \n",
      " 16  HOUR                       903869 non-null  int64  \n",
      " 17  MINUTES                    903869 non-null  int64  \n",
      " 18  TARGETS                    903869 non-null  float64\n",
      "dtypes: float64(13), int64(6)\n",
      "memory usage: 137.9 MB\n"
     ]
    }
   ],
   "source": [
    "df.info()"
   ]
  },
  {
   "cell_type": "code",
   "execution_count": 113,
   "metadata": {},
   "outputs": [
    {
     "name": "stderr",
     "output_type": "stream",
     "text": [
      "[Parallel(n_jobs=-1)]: Using backend ThreadingBackend with 8 concurrent workers.\n"
     ]
    },
    {
     "name": "stdout",
     "output_type": "stream",
     "text": [
      "building tree 1 of 200building tree 2 of 200building tree 3 of 200\n",
      "\n",
      "building tree 4 of 200\n",
      "building tree 5 of 200\n",
      "building tree 6 of 200\n",
      "building tree 7 of 200\n",
      "\n",
      "building tree 8 of 200\n",
      "building tree 9 of 200\n",
      "building tree 10 of 200"
     ]
    },
    {
     "name": "stderr",
     "output_type": "stream",
     "text": [
      "[Parallel(n_jobs=-1)]: Done   2 tasks      | elapsed:   11.3s\n"
     ]
    },
    {
     "name": "stdout",
     "output_type": "stream",
     "text": [
      "\n",
      "building tree 11 of 200\n",
      "building tree 12 of 200\n",
      "building tree 13 of 200\n",
      "building tree 14 of 200\n",
      "building tree 15 of 200\n",
      "building tree 16 of 200\n",
      "building tree 17 of 200\n",
      "building tree 18 of 200\n",
      "building tree 19 of 200\n",
      "building tree 20 of 200\n",
      "building tree 21 of 200\n",
      "building tree 22 of 200\n",
      "building tree 23 of 200\n",
      "building tree 24 of 200\n",
      "building tree 25 of 200\n",
      "building tree 26 of 200\n",
      "building tree 27 of 200\n",
      "building tree 28 of 200\n",
      "building tree 29 of 200\n",
      "building tree 30 of 200\n",
      "building tree 31 of 200\n",
      "building tree 32 of 200\n",
      "building tree 33 of 200\n",
      "building tree 34 of 200\n",
      "building tree 35 of 200\n",
      "building tree 36 of 200\n",
      "building tree 37 of 200\n",
      "building tree 38 of 200\n",
      "building tree 39 of 200\n",
      "building tree 40 of 200\n",
      "building tree 41 of 200\n",
      "building tree 42 of 200\n",
      "building tree 43 of 200\n",
      "building tree 44 of 200\n",
      "building tree 45 of 200\n",
      "building tree 46 of 200\n",
      "building tree 47 of 200\n",
      "building tree 48 of 200\n",
      "building tree 49 of 200\n",
      "building tree 50 of 200\n",
      "building tree 51 of 200\n",
      "building tree 52 of 200\n",
      "building tree 53 of 200\n",
      "building tree 54 of 200\n",
      "building tree 55 of 200\n",
      "building tree 56 of 200\n",
      "building tree 57 of 200\n",
      "building tree 58 of 200\n",
      "building tree 59 of 200\n",
      "building tree 60 of 200\n",
      "building tree 61 of 200\n",
      "building tree 62 of 200\n",
      "building tree 63 of 200\n",
      "building tree 64 of 200\n"
     ]
    },
    {
     "name": "stderr",
     "output_type": "stream",
     "text": [
      "[Parallel(n_jobs=-1)]: Done  56 tasks      | elapsed:  1.8min\n"
     ]
    },
    {
     "name": "stdout",
     "output_type": "stream",
     "text": [
      "building tree 65 of 200\n",
      "building tree 66 of 200\n",
      "building tree 67 of 200\n",
      "building tree 68 of 200\n",
      "building tree 69 of 200\n",
      "building tree 70 of 200\n",
      "building tree 71 of 200\n",
      "building tree 72 of 200\n",
      "building tree 73 of 200\n",
      "building tree 74 of 200\n",
      "building tree 75 of 200\n",
      "building tree 76 of 200\n",
      "building tree 77 of 200\n",
      "building tree 78 of 200\n",
      "building tree 79 of 200\n",
      "building tree 80 of 200\n",
      "building tree 81 of 200\n",
      "building tree 82 of 200\n",
      "building tree 83 of 200\n",
      "building tree 84 of 200\n",
      "building tree 85 of 200\n",
      "building tree 86 of 200\n",
      "building tree 87 of 200\n",
      "building tree 88 of 200\n",
      "building tree 89 of 200\n",
      "building tree 90 of 200\n",
      "building tree 91 of 200\n",
      "building tree 92 of 200\n",
      "building tree 93 of 200\n",
      "building tree 94 of 200\n",
      "building tree 95 of 200\n",
      "building tree 96 of 200\n",
      "building tree 97 of 200\n",
      "building tree 98 of 200\n",
      "building tree 99 of 200\n",
      "building tree 100 of 200\n",
      "building tree 101 of 200\n",
      "building tree 102 of 200\n",
      "building tree 103 of 200\n",
      "building tree 104 of 200\n",
      "building tree 105 of 200\n",
      "building tree 106 of 200\n",
      "building tree 107 of 200\n",
      "building tree 108 of 200\n",
      "building tree 109 of 200\n",
      "building tree 110 of 200\n",
      "building tree 111 of 200\n",
      "building tree 112 of 200\n",
      "building tree 113 of 200\n",
      "building tree 114 of 200\n",
      "building tree 115 of 200\n",
      "building tree 116 of 200\n",
      "building tree 117 of 200\n",
      "building tree 118 of 200\n",
      "building tree 119 of 200\n",
      "building tree 120 of 200\n",
      "building tree 121 of 200\n",
      "building tree 122 of 200\n",
      "building tree 123 of 200\n",
      "building tree 124 of 200\n",
      "building tree 125 of 200\n",
      "building tree 126 of 200\n",
      "building tree 127 of 200\n",
      "building tree 128 of 200\n",
      "building tree 129 of 200\n",
      "building tree 130 of 200\n",
      "building tree 131 of 200\n",
      "building tree 132 of 200\n",
      "building tree 133 of 200\n",
      "building tree 134 of 200\n",
      "building tree 135 of 200\n",
      "building tree 136 of 200\n",
      "building tree 137 of 200\n",
      "building tree 138 of 200\n",
      "building tree 139 of 200\n",
      "building tree 140 of 200\n",
      "building tree 141 of 200\n",
      "building tree 142 of 200\n",
      "building tree 143 of 200\n",
      "building tree 144 of 200\n",
      "building tree 145 of 200\n",
      "building tree 146 of 200\n",
      "building tree 147 of 200\n",
      "building tree 148 of 200\n",
      "building tree 149 of 200\n",
      "building tree 150 of 200\n",
      "building tree 151 of 200\n",
      "building tree 152 of 200\n",
      "building tree 153 of 200\n",
      "building tree 154 of 200\n"
     ]
    },
    {
     "name": "stderr",
     "output_type": "stream",
     "text": [
      "[Parallel(n_jobs=-1)]: Done 146 tasks      | elapsed:  4.2min\n"
     ]
    },
    {
     "name": "stdout",
     "output_type": "stream",
     "text": [
      "building tree 155 of 200\n",
      "building tree 156 of 200\n",
      "building tree 157 of 200\n",
      "building tree 158 of 200\n",
      "building tree 159 of 200\n",
      "building tree 160 of 200\n",
      "building tree 161 of 200\n",
      "building tree 162 of 200\n",
      "building tree 163 of 200\n",
      "building tree 164 of 200\n",
      "building tree 165 of 200\n",
      "building tree 166 of 200\n",
      "building tree 167 of 200\n",
      "building tree 168 of 200\n",
      "building tree 169 of 200\n",
      "building tree 170 of 200\n",
      "building tree 171 of 200\n",
      "building tree 172 of 200\n",
      "building tree 173 of 200\n",
      "building tree 174 of 200\n",
      "building tree 175 of 200\n",
      "building tree 176 of 200\n",
      "building tree 177 of 200\n",
      "building tree 178 of 200\n",
      "building tree 179 of 200\n",
      "building tree 180 of 200\n",
      "building tree 181 of 200\n",
      "building tree 182 of 200\n",
      "building tree 183 of 200\n",
      "building tree 184 of 200\n",
      "building tree 185 of 200\n",
      "building tree 186 of 200\n",
      "building tree 187 of 200\n",
      "building tree 188 of 200\n",
      "building tree 189 of 200\n",
      "building tree 190 of 200\n",
      "building tree 191 of 200\n",
      "building tree 192 of 200\n",
      "building tree 193 of 200\n",
      "building tree 194 of 200\n",
      "building tree 195 of 200\n",
      "building tree 196 of 200\n",
      "building tree 197 of 200\n",
      "building tree 198 of 200\n",
      "building tree 199 of 200\n",
      "building tree 200 of 200\n"
     ]
    },
    {
     "name": "stderr",
     "output_type": "stream",
     "text": [
      "[Parallel(n_jobs=-1)]: Done 200 out of 200 | elapsed:  5.5min finished\n"
     ]
    },
    {
     "data": {
      "text/plain": [
       "RandomForestRegressor(bootstrap=False, max_depth=30, max_features='sqrt',\n",
       "                      min_samples_leaf=2, min_samples_split=4, n_estimators=200,\n",
       "                      n_jobs=-1, verbose=5)"
      ]
     },
     "execution_count": 113,
     "metadata": {},
     "output_type": "execute_result"
    }
   ],
   "source": [
    "rf.fit(X_train, y_train)"
   ]
  },
  {
   "cell_type": "code",
   "execution_count": 114,
   "metadata": {},
   "outputs": [
    {
     "name": "stderr",
     "output_type": "stream",
     "text": [
      "[Parallel(n_jobs=8)]: Using backend ThreadingBackend with 8 concurrent workers.\n",
      "[Parallel(n_jobs=8)]: Done   2 tasks      | elapsed:    0.0s\n",
      "[Parallel(n_jobs=8)]: Done  56 tasks      | elapsed:    0.2s\n",
      "[Parallel(n_jobs=8)]: Done 146 tasks      | elapsed:    0.4s\n",
      "[Parallel(n_jobs=8)]: Done 200 out of 200 | elapsed:    0.4s finished\n"
     ]
    }
   ],
   "source": [
    "y_pred = rf.predict(X_test)"
   ]
  },
  {
   "cell_type": "code",
   "execution_count": 115,
   "metadata": {},
   "outputs": [],
   "source": [
    "from sklearn.metrics import r2_score\n",
    "from sklearn.metrics import mean_squared_error as mse"
   ]
  },
  {
   "cell_type": "code",
   "execution_count": 117,
   "metadata": {},
   "outputs": [
    {
     "data": {
      "text/plain": [
       "0.2638316731177325"
      ]
     },
     "execution_count": 117,
     "metadata": {},
     "output_type": "execute_result"
    }
   ],
   "source": [
    "mse(y_test, y_pred)"
   ]
  },
  {
   "cell_type": "code",
   "execution_count": null,
   "metadata": {},
   "outputs": [],
   "source": []
  }
 ],
 "metadata": {
  "kernelspec": {
   "display_name": "Python 3",
   "language": "python",
   "name": "python3"
  },
  "language_info": {
   "codemirror_mode": {
    "name": "ipython",
    "version": 3
   },
   "file_extension": ".py",
   "mimetype": "text/x-python",
   "name": "python",
   "nbconvert_exporter": "python",
   "pygments_lexer": "ipython3",
   "version": "3.7.7"
  }
 },
 "nbformat": 4,
 "nbformat_minor": 4
}
