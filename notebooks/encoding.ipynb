{
 "cells": [
  {
   "cell_type": "code",
   "execution_count": 42,
   "metadata": {},
   "outputs": [],
   "source": [
    "import pandas as pd\n",
    "import numpy as np\n",
    "from tqdm import tqdm"
   ]
  },
  {
   "cell_type": "code",
   "execution_count": 43,
   "metadata": {},
   "outputs": [],
   "source": [
    "df = pd.read_csv('../database/clean_train_data_v3.csv', index_col = 0)"
   ]
  },
  {
   "cell_type": "code",
   "execution_count": 44,
   "metadata": {},
   "outputs": [
    {
     "name": "stdout",
     "output_type": "stream",
     "text": [
      "<class 'pandas.core.frame.DataFrame'>\n",
      "Int64Index: 919203 entries, 0 to 919202\n",
      "Data columns (total 20 columns):\n",
      " #   Column                     Non-Null Count   Dtype  \n",
      "---  ------                     --------------   -----  \n",
      " 0   STATION                    919203 non-null  int64  \n",
      " 1   ELEVATION                  919203 non-null  float64\n",
      " 2   HourlyAltimeterSetting     441470 non-null  float64\n",
      " 3   HourlyDewPointTemperature  919203 non-null  float64\n",
      " 4   HourlyDryBulbTemperature   919203 non-null  float64\n",
      " 5   HourlyPresentWeatherType   398149 non-null  object \n",
      " 6   HourlyPressureTendency     861468 non-null  float64\n",
      " 7   HourlyRelativeHumidity     919203 non-null  float64\n",
      " 8   HourlySkyConditions        498095 non-null  object \n",
      " 9   HourlySeaLevelPressure     919203 non-null  float64\n",
      " 10  HourlyStationPressure      798621 non-null  float64\n",
      " 11  HourlyWetBulbTemperature   794412 non-null  float64\n",
      " 12  HourlyWindDirection        919203 non-null  float64\n",
      " 13  HourlyWindSpeed            919203 non-null  float64\n",
      " 14  YEAR                       919203 non-null  int64  \n",
      " 15  MONTH                      919203 non-null  int64  \n",
      " 16  DAY                        919203 non-null  int64  \n",
      " 17  HOUR                       919203 non-null  int64  \n",
      " 18  MINUTES                    919203 non-null  int64  \n",
      " 19  TARGETS                    919203 non-null  float64\n",
      "dtypes: float64(12), int64(6), object(2)\n",
      "memory usage: 147.3+ MB\n"
     ]
    }
   ],
   "source": [
    "df.info()"
   ]
  },
  {
   "cell_type": "code",
   "execution_count": 45,
   "metadata": {},
   "outputs": [],
   "source": [
    "encode_cols = [\"HourlyPresentWeatherType\", \"HourlySkyConditions\"]"
   ]
  },
  {
   "cell_type": "code",
   "execution_count": 46,
   "metadata": {},
   "outputs": [
    {
     "name": "stdout",
     "output_type": "stream",
     "text": [
      "Feature: HourlyPresentWeatherType\n",
      "\n",
      "\n",
      "Feature: HourlySkyConditions\n",
      "\n",
      "\n"
     ]
    }
   ],
   "source": [
    "for col in encode_cols:\n",
    "    print(f\"Feature: {col}\")\n",
    "#     df[col].info()\n",
    "    print(\"\\n\")"
   ]
  },
  {
   "cell_type": "code",
   "execution_count": 47,
   "metadata": {},
   "outputs": [
    {
     "name": "stdout",
     "output_type": "stream",
     "text": [
      "Feature: HourlyPresentWeatherType\n",
      "||HZ          282536\n",
      "||DU           31200\n",
      "||FG           25780\n",
      "||FU           23407\n",
      "||RA           18030\n",
      "               ...  \n",
      "||FU DZ            1\n",
      "|DZ |              1\n",
      "|HZ |              1\n",
      "||FU RA TS         1\n",
      "||PL               1\n",
      "Name: HourlyPresentWeatherType, Length: 72, dtype: int64\n",
      "\n",
      "\n",
      "Feature: HourlySkyConditions\n",
      "CLR:00                           106217\n",
      "0  0                              15869\n",
      "FEW:02 98                         10659\n",
      "FEW:02 20                          9709\n",
      "FEW:02 197                         9167\n",
      "                                  ...  \n",
      "FEW:02 12 BKN:07 20 FEW:02            1\n",
      "BKN:07 12 BKN:07 15                   1\n",
      "BKN:06 20 FEW:01 30 BKN:07 89         1\n",
      "FEW:02 15 BKN:07 20 BKN:07 98         1\n",
      "SCT:03 89 SCT:04 217                  1\n",
      "Name: HourlySkyConditions, Length: 14860, dtype: int64\n",
      "\n",
      "\n"
     ]
    }
   ],
   "source": [
    "for col in encode_cols:\n",
    "    print(f\"Feature: {col}\")\n",
    "    print(df[col].value_counts())\n",
    "    print(\"\\n\")"
   ]
  },
  {
   "cell_type": "code",
   "execution_count": 48,
   "metadata": {},
   "outputs": [
    {
     "data": {
      "text/plain": [
       "Index(['||HZ', '||DU', '||FG', '||FU', '||RA', '||TS', '||DZ', '||SHRA TS',\n",
       "       '||SHRA', '||HZ DU', '||FU HZ', '||RA TS', '||HZ RA', '||FG FG', '||SH',\n",
       "       '||FU FG', '||FG RA', '||TS RA', '||DZ DZ', '||HZ DZ', '||s', '||RA RA',\n",
       "       '||HZ TS', '||FC', '||DU RA', '||TS SHRA TS', '||DU DU', '||SQ',\n",
       "       '||DZ RA', '||FG SHRA', '||FG DZ', '||HZ SHRA', '||FU TS', '||DU TS',\n",
       "       '||DU SHRA', '||SHRASN', '||DRSN', '||FZRA', '||FG RA TS', '||DU TS RA',\n",
       "       '||HZ FG', '|FU |', '||RA SHRA TS', '||SHSN', '||FU DU', '||HZ TS SHRA',\n",
       "       '||FZDZ', '||DU TS SHRA', '||DU DZ', '||FU FG RA', '||DZ TS',\n",
       "       '||SHRA TS TS', '||HZ TS RA', '||HZ RA TS', '||SG', '||TS DU',\n",
       "       '||TS FG SHRA', '||TS TS', '||FG DU', '||TS DU RA', '||TS SHRA',\n",
       "       '||DZ SHRA TS', '||DU FG', '||TS DZ', '||HZ DZ DZ', '||HZ SHRA TS',\n",
       "       '||FU RA', '||FU DZ', '|DZ |', '|HZ |', '||FU RA TS', '||PL'],\n",
       "      dtype='object')"
      ]
     },
     "execution_count": 48,
     "metadata": {},
     "output_type": "execute_result"
    }
   ],
   "source": [
    "cat_vector_1 = df[encode_cols[0]].value_counts().index\n",
    "cat_vector_1"
   ]
  },
  {
   "cell_type": "code",
   "execution_count": 49,
   "metadata": {},
   "outputs": [],
   "source": [
    "cat_vector_1 = list(cat_vector_1)"
   ]
  },
  {
   "cell_type": "code",
   "execution_count": 50,
   "metadata": {},
   "outputs": [],
   "source": [
    "enc_vector_1 = [cat_vector_1.index(cat) for cat in cat_vector_1]\n",
    "enc_vector_1 = [i if i<7 else 7 for i in enc_vector_1]"
   ]
  },
  {
   "cell_type": "code",
   "execution_count": 51,
   "metadata": {},
   "outputs": [],
   "source": [
    "encode_dict_1 = dict(zip(cat_vector_1, enc_vector_1))"
   ]
  },
  {
   "cell_type": "code",
   "execution_count": 52,
   "metadata": {},
   "outputs": [
    {
     "data": {
      "text/plain": [
       "{'||HZ': 0,\n",
       " '||DU': 1,\n",
       " '||FG': 2,\n",
       " '||FU': 3,\n",
       " '||RA': 4,\n",
       " '||TS': 5,\n",
       " '||DZ': 6,\n",
       " '||SHRA TS': 7,\n",
       " '||SHRA': 7,\n",
       " '||HZ DU': 7,\n",
       " '||FU HZ': 7,\n",
       " '||RA TS': 7,\n",
       " '||HZ RA': 7,\n",
       " '||FG FG': 7,\n",
       " '||SH': 7,\n",
       " '||FU FG': 7,\n",
       " '||FG RA': 7,\n",
       " '||TS RA': 7,\n",
       " '||DZ DZ': 7,\n",
       " '||HZ DZ': 7,\n",
       " '||s': 7,\n",
       " '||RA RA': 7,\n",
       " '||HZ TS': 7,\n",
       " '||FC': 7,\n",
       " '||DU RA': 7,\n",
       " '||TS SHRA TS': 7,\n",
       " '||DU DU': 7,\n",
       " '||SQ': 7,\n",
       " '||DZ RA': 7,\n",
       " '||FG SHRA': 7,\n",
       " '||FG DZ': 7,\n",
       " '||HZ SHRA': 7,\n",
       " '||FU TS': 7,\n",
       " '||DU TS': 7,\n",
       " '||DU SHRA': 7,\n",
       " '||SHRASN': 7,\n",
       " '||DRSN': 7,\n",
       " '||FZRA': 7,\n",
       " '||FG RA TS': 7,\n",
       " '||DU TS RA': 7,\n",
       " '||HZ FG': 7,\n",
       " '|FU |': 7,\n",
       " '||RA SHRA TS': 7,\n",
       " '||SHSN': 7,\n",
       " '||FU DU': 7,\n",
       " '||HZ TS SHRA': 7,\n",
       " '||FZDZ': 7,\n",
       " '||DU TS SHRA': 7,\n",
       " '||DU DZ': 7,\n",
       " '||FU FG RA': 7,\n",
       " '||DZ TS': 7,\n",
       " '||SHRA TS TS': 7,\n",
       " '||HZ TS RA': 7,\n",
       " '||HZ RA TS': 7,\n",
       " '||SG': 7,\n",
       " '||TS DU': 7,\n",
       " '||TS FG SHRA': 7,\n",
       " '||TS TS': 7,\n",
       " '||FG DU': 7,\n",
       " '||TS DU RA': 7,\n",
       " '||TS SHRA': 7,\n",
       " '||DZ SHRA TS': 7,\n",
       " '||DU FG': 7,\n",
       " '||TS DZ': 7,\n",
       " '||HZ DZ DZ': 7,\n",
       " '||HZ SHRA TS': 7,\n",
       " '||FU RA': 7,\n",
       " '||FU DZ': 7,\n",
       " '|DZ |': 7,\n",
       " '|HZ |': 7,\n",
       " '||FU RA TS': 7,\n",
       " '||PL': 7}"
      ]
     },
     "execution_count": 52,
     "metadata": {},
     "output_type": "execute_result"
    }
   ],
   "source": [
    "encode_dict_1"
   ]
  },
  {
   "cell_type": "code",
   "execution_count": 53,
   "metadata": {},
   "outputs": [],
   "source": [
    "# encoded from 0 to 8, 0 to 6 for major categories, 7 for minor, 8 for invalid or missing\n",
    "encode_dict_1['|HZ |'] = 0\n",
    "encode_dict_1['|DZ |'] = 6\n",
    "encode_dict_1['|FU |'] = 3\n",
    "encode_dict_1['||s'] = 8\n",
    "encode_dict_1[np.nan] = 8"
   ]
  },
  {
   "cell_type": "code",
   "execution_count": 54,
   "metadata": {},
   "outputs": [],
   "source": [
    "colm = df[encode_cols[0]].copy()\n",
    "colm = pd.Series(map(lambda i: encode_dict_1.get(i, 8), colm))\n",
    "colm.value_counts()\n",
    "\n",
    "df[encode_cols[0]] = colm"
   ]
  },
  {
   "cell_type": "code",
   "execution_count": 55,
   "metadata": {},
   "outputs": [
    {
     "data": {
      "text/plain": [
       "CLR:00                            106217\n",
       "0  0                               15869\n",
       "FEW:02 98                          10659\n",
       "FEW:02 20                           9709\n",
       "FEW:02 197                          9167\n",
       "FEW:02 25                           7453\n",
       "SCT:03 20                           6450\n",
       "VV:09                               5528\n",
       "SCT:04 20 BKN:07 100                5433\n",
       "SCT:04 20                           5222\n",
       "SCT:03 98                           4801\n",
       "FEW:02 20 SCT:04 100                4255\n",
       "SCT:04 197                          4096\n",
       "SCT:03 25                           4082\n",
       "SCT:03 197                          4055\n",
       "FEW:01 98                           3569\n",
       "FEW:02 30                           3455\n",
       "FEW:01 20                           3381\n",
       "FEW:02 100                          3326\n",
       "SCT:04 26                           3251\n",
       "FEW:01 25                           3206\n",
       "15                                  3151\n",
       "SCT:04 25                           3138\n",
       "FEW:02 20 SCT:04 98                 3019\n",
       "SCT:04 20 SCT:04 25 FEW:02 30       2947\n",
       "SCT:04 20 SCT:04 25                 2756\n",
       "SCT:03 26                           2755\n",
       "SCT:04 20 SCT:04 25 BKN:07 100      2593\n",
       "FEW:01 246                          2587\n",
       "BKN:05 20                           2573\n",
       "Name: HourlySkyConditions, dtype: int64"
      ]
     },
     "execution_count": 55,
     "metadata": {},
     "output_type": "execute_result"
    }
   ],
   "source": [
    "df[encode_cols[1]].value_counts()[0:30]"
   ]
  },
  {
   "cell_type": "code",
   "execution_count": 56,
   "metadata": {},
   "outputs": [
    {
     "data": {
      "text/plain": [
       "Index(['CLR:00', '0  0', 'FEW:02 98', 'FEW:02 20', 'FEW:02 197', 'FEW:02 25',\n",
       "       'SCT:03 20', 'VV:09', 'SCT:04 20 BKN:07 100', 'SCT:04 20',\n",
       "       ...\n",
       "       'BKN:05 8 OVC:08 148', 'FEW:01 30 SCT:03 89 BKN:06 197',\n",
       "       'FEW:01 20 FEW:02  FEW:02', 'FEW:02 15 FEW:02 30 SCT:04 197',\n",
       "       'SCT:04 18 SCT:03 25 BKN:05 89', 'FEW:02 12 BKN:07 20 FEW:02',\n",
       "       'BKN:07 12 BKN:07 15', 'BKN:06 20 FEW:01 30 BKN:07 89',\n",
       "       'FEW:02 15 BKN:07 20 BKN:07 98', 'SCT:03 89 SCT:04 217'],\n",
       "      dtype='object', length=14860)"
      ]
     },
     "execution_count": 56,
     "metadata": {},
     "output_type": "execute_result"
    }
   ],
   "source": [
    "cat_vector_2 = df[encode_cols[1]].value_counts().index\n",
    "cat_vector_2"
   ]
  },
  {
   "cell_type": "code",
   "execution_count": 57,
   "metadata": {},
   "outputs": [
    {
     "name": "stdout",
     "output_type": "stream",
     "text": [
      "<class 'pandas.core.frame.DataFrame'>\n",
      "Int64Index: 919203 entries, 0 to 919202\n",
      "Data columns (total 20 columns):\n",
      " #   Column                     Non-Null Count   Dtype  \n",
      "---  ------                     --------------   -----  \n",
      " 0   STATION                    919203 non-null  int64  \n",
      " 1   ELEVATION                  919203 non-null  float64\n",
      " 2   HourlyAltimeterSetting     441470 non-null  float64\n",
      " 3   HourlyDewPointTemperature  919203 non-null  float64\n",
      " 4   HourlyDryBulbTemperature   919203 non-null  float64\n",
      " 5   HourlyPresentWeatherType   919203 non-null  int64  \n",
      " 6   HourlyPressureTendency     861468 non-null  float64\n",
      " 7   HourlyRelativeHumidity     919203 non-null  float64\n",
      " 8   HourlySkyConditions        498095 non-null  object \n",
      " 9   HourlySeaLevelPressure     919203 non-null  float64\n",
      " 10  HourlyStationPressure      798621 non-null  float64\n",
      " 11  HourlyWetBulbTemperature   794412 non-null  float64\n",
      " 12  HourlyWindDirection        919203 non-null  float64\n",
      " 13  HourlyWindSpeed            919203 non-null  float64\n",
      " 14  YEAR                       919203 non-null  int64  \n",
      " 15  MONTH                      919203 non-null  int64  \n",
      " 16  DAY                        919203 non-null  int64  \n",
      " 17  HOUR                       919203 non-null  int64  \n",
      " 18  MINUTES                    919203 non-null  int64  \n",
      " 19  TARGETS                    919203 non-null  float64\n",
      "dtypes: float64(12), int64(7), object(1)\n",
      "memory usage: 147.3+ MB\n"
     ]
    }
   ],
   "source": [
    "df.info()"
   ]
  },
  {
   "cell_type": "code",
   "execution_count": 58,
   "metadata": {},
   "outputs": [
    {
     "data": {
      "text/plain": [
       "42369099999    314912\n",
       "42634099999    117922\n",
       "42379099999    101420\n",
       "42452099999     99962\n",
       "42260099999     78481\n",
       "42165099999     50595\n",
       "42498099999     36021\n",
       "42273099999     21634\n",
       "42170099999     16402\n",
       "42056099999     13672\n",
       "42503099999     13421\n",
       "42295099999     13174\n",
       "42299099999      6697\n",
       "42249099999      6045\n",
       "42262099999      4196\n",
       "42547099999      3114\n",
       "42468099999      3100\n",
       "42420099999      3079\n",
       "42296099999      3018\n",
       "42522099999      2979\n",
       "42672099999      2936\n",
       "42599099999      2760\n",
       "42460099999      1546\n",
       "42270099999      1477\n",
       "42030099999       595\n",
       "42117099999        19\n",
       "42484099999        11\n",
       "42151099999         9\n",
       "42178099999         3\n",
       "42074099999         2\n",
       "42190099999         1\n",
       "Name: STATION, dtype: int64"
      ]
     },
     "execution_count": 58,
     "metadata": {},
     "output_type": "execute_result"
    }
   ],
   "source": [
    "df.STATION.value_counts()"
   ]
  },
  {
   "cell_type": "code",
   "execution_count": 59,
   "metadata": {},
   "outputs": [],
   "source": [
    "df.to_csv(\"../database/clean_train_data_v4.csv\")"
   ]
  },
  {
   "cell_type": "code",
   "execution_count": 60,
   "metadata": {},
   "outputs": [
    {
     "name": "stdout",
     "output_type": "stream",
     "text": [
      "<class 'pandas.core.frame.DataFrame'>\n",
      "Int64Index: 919203 entries, 0 to 919202\n",
      "Data columns (total 20 columns):\n",
      " #   Column                     Non-Null Count   Dtype  \n",
      "---  ------                     --------------   -----  \n",
      " 0   STATION                    919203 non-null  int64  \n",
      " 1   ELEVATION                  919203 non-null  float64\n",
      " 2   HourlyAltimeterSetting     441470 non-null  float64\n",
      " 3   HourlyDewPointTemperature  919203 non-null  float64\n",
      " 4   HourlyDryBulbTemperature   919203 non-null  float64\n",
      " 5   HourlyPresentWeatherType   919203 non-null  int64  \n",
      " 6   HourlyPressureTendency     861468 non-null  float64\n",
      " 7   HourlyRelativeHumidity     919203 non-null  float64\n",
      " 8   HourlySkyConditions        498095 non-null  object \n",
      " 9   HourlySeaLevelPressure     919203 non-null  float64\n",
      " 10  HourlyStationPressure      798621 non-null  float64\n",
      " 11  HourlyWetBulbTemperature   794412 non-null  float64\n",
      " 12  HourlyWindDirection        919203 non-null  float64\n",
      " 13  HourlyWindSpeed            919203 non-null  float64\n",
      " 14  YEAR                       919203 non-null  int64  \n",
      " 15  MONTH                      919203 non-null  int64  \n",
      " 16  DAY                        919203 non-null  int64  \n",
      " 17  HOUR                       919203 non-null  int64  \n",
      " 18  MINUTES                    919203 non-null  int64  \n",
      " 19  TARGETS                    919203 non-null  float64\n",
      "dtypes: float64(12), int64(7), object(1)\n",
      "memory usage: 147.3+ MB\n"
     ]
    }
   ],
   "source": [
    "df.info()"
   ]
  },
  {
   "cell_type": "code",
   "execution_count": null,
   "metadata": {},
   "outputs": [],
   "source": []
  }
 ],
 "metadata": {
  "interpreter": {
   "hash": "1aa9adb589debd577a6ee6848127b13cbb21104f17a23a015cb12e10a1d3ecfe"
  },
  "kernelspec": {
   "display_name": "Python 3",
   "language": "python",
   "name": "python3"
  },
  "language_info": {
   "codemirror_mode": {
    "name": "ipython",
    "version": 3
   },
   "file_extension": ".py",
   "mimetype": "text/x-python",
   "name": "python",
   "nbconvert_exporter": "python",
   "pygments_lexer": "ipython3",
   "version": "3.7.7"
  }
 },
 "nbformat": 4,
 "nbformat_minor": 4
}
