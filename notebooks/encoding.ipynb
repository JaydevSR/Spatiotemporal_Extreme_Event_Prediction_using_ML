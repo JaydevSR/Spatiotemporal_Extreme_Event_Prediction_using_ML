{
 "cells": [
  {
   "cell_type": "code",
   "execution_count": 1,
   "metadata": {},
   "outputs": [],
   "source": [
    "import pandas as pd\n",
    "import numpy as np\n",
    "from tqdm import tqdm"
   ]
  },
  {
   "cell_type": "code",
   "execution_count": 2,
   "metadata": {},
   "outputs": [],
   "source": [
    "df = pd.read_csv('../database/clean_train_data_v3.csv', index_col = 0)"
   ]
  },
  {
   "cell_type": "code",
   "execution_count": 3,
   "metadata": {},
   "outputs": [
    {
     "name": "stdout",
     "output_type": "stream",
     "text": [
      "<class 'pandas.core.frame.DataFrame'>\n",
      "Int64Index: 934807 entries, 118582 to 893344\n",
      "Data columns (total 21 columns):\n",
      " #   Column                     Non-Null Count   Dtype  \n",
      "---  ------                     --------------   -----  \n",
      " 0   LATITUDE                   934807 non-null  float64\n",
      " 1   LONGITUDE                  934807 non-null  float64\n",
      " 2   ELEVATION                  934807 non-null  float64\n",
      " 3   HourlyAltimeterSetting     934807 non-null  float64\n",
      " 4   HourlyDewPointTemperature  934807 non-null  float64\n",
      " 5   HourlyDryBulbTemperature   934807 non-null  float64\n",
      " 6   HourlyPresentWeatherType   398691 non-null  object \n",
      " 7   HourlyPressureTendency     934807 non-null  float64\n",
      " 8   HourlyRelativeHumidity     934807 non-null  float64\n",
      " 9   HourlySkyConditions        507788 non-null  object \n",
      " 10  HourlySeaLevelPressure     934807 non-null  float64\n",
      " 11  HourlyStationPressure      934807 non-null  float64\n",
      " 12  HourlyWetBulbTemperature   934807 non-null  float64\n",
      " 13  HourlyWindDirection        934807 non-null  float64\n",
      " 14  HourlyWindSpeed            934807 non-null  float64\n",
      " 15  YEAR                       934807 non-null  int64  \n",
      " 16  MONTH                      934807 non-null  int64  \n",
      " 17  DAY                        934807 non-null  int64  \n",
      " 18  HOUR                       934807 non-null  int64  \n",
      " 19  MINUTES                    934807 non-null  int64  \n",
      " 20  TARGETS                    934807 non-null  float64\n",
      "dtypes: float64(14), int64(5), object(2)\n",
      "memory usage: 156.9+ MB\n"
     ]
    }
   ],
   "source": [
    "df.info()"
   ]
  },
  {
   "cell_type": "code",
   "execution_count": 4,
   "metadata": {},
   "outputs": [],
   "source": [
    "encode_cols = [\"HourlyPresentWeatherType\", \"HourlySkyConditions\"]"
   ]
  },
  {
   "cell_type": "code",
   "execution_count": 5,
   "metadata": {},
   "outputs": [
    {
     "name": "stdout",
     "output_type": "stream",
     "text": [
      "Feature: HourlyPresentWeatherType\n",
      "<class 'pandas.core.series.Series'>\n",
      "Int64Index: 934807 entries, 118582 to 893344\n",
      "Series name: HourlyPresentWeatherType\n",
      "Non-Null Count   Dtype \n",
      "--------------   ----- \n",
      "398691 non-null  object\n",
      "dtypes: object(1)\n",
      "memory usage: 14.3+ MB\n",
      "\n",
      "\n",
      "Feature: HourlySkyConditions\n",
      "<class 'pandas.core.series.Series'>\n",
      "Int64Index: 934807 entries, 118582 to 893344\n",
      "Series name: HourlySkyConditions\n",
      "Non-Null Count   Dtype \n",
      "--------------   ----- \n",
      "507788 non-null  object\n",
      "dtypes: object(1)\n",
      "memory usage: 14.3+ MB\n",
      "\n",
      "\n"
     ]
    }
   ],
   "source": [
    "for col in encode_cols:\n",
    "    print(f\"Feature: {col}\")\n",
    "    df[col].info()\n",
    "    print(\"\\n\")"
   ]
  },
  {
   "cell_type": "code",
   "execution_count": 6,
   "metadata": {},
   "outputs": [
    {
     "name": "stdout",
     "output_type": "stream",
     "text": [
      "Feature: HourlyPresentWeatherType\n",
      "||HZ            282782\n",
      "||DU             31236\n",
      "||FG             25866\n",
      "||FU             23421\n",
      "||RA             18102\n",
      "                 ...  \n",
      "||FU DZ              1\n",
      "||TS TS              1\n",
      "||TS DZ              1\n",
      "||TS FG SHRA         1\n",
      "||FU RA TS           1\n",
      "Name: HourlyPresentWeatherType, Length: 72, dtype: int64\n",
      "\n",
      "\n",
      "Feature: HourlySkyConditions\n",
      "CLR:00                           106247\n",
      "0  0                              20604\n",
      "FEW:02 98                         10672\n",
      "FEW:02 20                          9725\n",
      "FEW:02 197                         9181\n",
      "                                  ...  \n",
      "BKN:06 1 SCT:03 10 SCT:04 15          1\n",
      "SCT:04 30 BKN:06 30                   1\n",
      "SCT:03 34 FEW:01 30 OVC:08 79         1\n",
      "BKN:05 25 FEW:01 34 BKN:07 79         1\n",
      "SCT:04s 18 BKN:07s 98                 1\n",
      "Name: HourlySkyConditions, Length: 15029, dtype: int64\n",
      "\n",
      "\n"
     ]
    }
   ],
   "source": [
    "for col in encode_cols:\n",
    "    print(f\"Feature: {col}\")\n",
    "    print(df[col].value_counts())\n",
    "    print(\"\\n\")"
   ]
  },
  {
   "cell_type": "code",
   "execution_count": 7,
   "metadata": {},
   "outputs": [
    {
     "data": {
      "text/plain": [
       "Index(['||HZ', '||DU', '||FG', '||FU', '||RA', '||TS', '||DZ', '||SHRA TS',\n",
       "       '||SHRA', '||HZ DU', '||FU HZ', '||RA TS', '||HZ RA', '||FG FG', '||SH',\n",
       "       '||FU FG', '||FG RA', '||TS RA', '||DZ DZ', '||HZ DZ', '||s', '||RA RA',\n",
       "       '||HZ TS', '||DU RA', '||FC', '||TS SHRA TS', '||DU DU', '||SQ',\n",
       "       '||DZ RA', '||FG SHRA', '||FG DZ', '||FU TS', '||HZ SHRA', '||DRSN',\n",
       "       '||DU TS', '||DU SHRA', '||SHRASN', '||FZRA', '||DU TS RA',\n",
       "       '||FG RA TS', '||HZ FG', '||RA SHRA TS', '|FU |', '||FU DU', '||FZDZ',\n",
       "       '||SG', '||SHSN', '||DU TS SHRA', '||HZ TS SHRA', '||SHRA TS TS',\n",
       "       '||DZ TS', '||DU DZ', '||HZ TS RA', '||FU FG RA', '||HZ RA TS',\n",
       "       '||TS DU', '||FU RA', '||TS SHRA', '||HZ SHRA TS', '||TS DU RA',\n",
       "       '|DZ |', '||DU FG', '||FG DU', '||HZ DZ DZ', '|HZ |', '||PL',\n",
       "       '||DZ SHRA TS', '||FU DZ', '||TS TS', '||TS DZ', '||TS FG SHRA',\n",
       "       '||FU RA TS'],\n",
       "      dtype='object')"
      ]
     },
     "execution_count": 7,
     "metadata": {},
     "output_type": "execute_result"
    }
   ],
   "source": [
    "cat_vector_1 = df[encode_cols[0]].value_counts().index\n",
    "cat_vector_1"
   ]
  },
  {
   "cell_type": "code",
   "execution_count": 8,
   "metadata": {},
   "outputs": [],
   "source": [
    "cat_vector_1 = list(cat_vector_1)"
   ]
  },
  {
   "cell_type": "code",
   "execution_count": 9,
   "metadata": {},
   "outputs": [],
   "source": [
    "enc_vector_1 = [cat_vector_1.index(cat) for cat in cat_vector_1]\n",
    "enc_vector_1 = [i if i<7 else 7 for i in enc_vector_1]"
   ]
  },
  {
   "cell_type": "code",
   "execution_count": 11,
   "metadata": {},
   "outputs": [],
   "source": [
    "encode_dict_1 = dict(zip(cat_vector_1, enc_vector_1))"
   ]
  },
  {
   "cell_type": "code",
   "execution_count": 12,
   "metadata": {},
   "outputs": [
    {
     "data": {
      "text/plain": [
       "{'||HZ': 0,\n",
       " '||DU': 1,\n",
       " '||FG': 2,\n",
       " '||FU': 3,\n",
       " '||RA': 4,\n",
       " '||TS': 5,\n",
       " '||DZ': 6,\n",
       " '||SHRA TS': 7,\n",
       " '||SHRA': 7,\n",
       " '||HZ DU': 7,\n",
       " '||FU HZ': 7,\n",
       " '||RA TS': 7,\n",
       " '||HZ RA': 7,\n",
       " '||FG FG': 7,\n",
       " '||SH': 7,\n",
       " '||FU FG': 7,\n",
       " '||FG RA': 7,\n",
       " '||TS RA': 7,\n",
       " '||DZ DZ': 7,\n",
       " '||HZ DZ': 7,\n",
       " '||s': 7,\n",
       " '||RA RA': 7,\n",
       " '||HZ TS': 7,\n",
       " '||DU RA': 7,\n",
       " '||FC': 7,\n",
       " '||TS SHRA TS': 7,\n",
       " '||DU DU': 7,\n",
       " '||SQ': 7,\n",
       " '||DZ RA': 7,\n",
       " '||FG SHRA': 7,\n",
       " '||FG DZ': 7,\n",
       " '||FU TS': 7,\n",
       " '||HZ SHRA': 7,\n",
       " '||DRSN': 7,\n",
       " '||DU TS': 7,\n",
       " '||DU SHRA': 7,\n",
       " '||SHRASN': 7,\n",
       " '||FZRA': 7,\n",
       " '||DU TS RA': 7,\n",
       " '||FG RA TS': 7,\n",
       " '||HZ FG': 7,\n",
       " '||RA SHRA TS': 7,\n",
       " '|FU |': 7,\n",
       " '||FU DU': 7,\n",
       " '||FZDZ': 7,\n",
       " '||SG': 7,\n",
       " '||SHSN': 7,\n",
       " '||DU TS SHRA': 7,\n",
       " '||HZ TS SHRA': 7,\n",
       " '||SHRA TS TS': 7,\n",
       " '||DZ TS': 7,\n",
       " '||DU DZ': 7,\n",
       " '||HZ TS RA': 7,\n",
       " '||FU FG RA': 7,\n",
       " '||HZ RA TS': 7,\n",
       " '||TS DU': 7,\n",
       " '||FU RA': 7,\n",
       " '||TS SHRA': 7,\n",
       " '||HZ SHRA TS': 7,\n",
       " '||TS DU RA': 7,\n",
       " '|DZ |': 7,\n",
       " '||DU FG': 7,\n",
       " '||FG DU': 7,\n",
       " '||HZ DZ DZ': 7,\n",
       " '|HZ |': 7,\n",
       " '||PL': 7,\n",
       " '||DZ SHRA TS': 7,\n",
       " '||FU DZ': 7,\n",
       " '||TS TS': 7,\n",
       " '||TS DZ': 7,\n",
       " '||TS FG SHRA': 7,\n",
       " '||FU RA TS': 7}"
      ]
     },
     "execution_count": 12,
     "metadata": {},
     "output_type": "execute_result"
    }
   ],
   "source": [
    "encode_dict_1"
   ]
  },
  {
   "cell_type": "code",
   "execution_count": 13,
   "metadata": {},
   "outputs": [],
   "source": [
    "# encoded from 0 to 8, 0 to 6 for major categories, 7 for minor, 8 for invalid or missing\n",
    "encode_dict_1['|HZ |'] = 0\n",
    "encode_dict_1['|DZ |'] = 6\n",
    "encode_dict_1['|FU |'] = 3\n",
    "encode_dict_1['||s'] = 8\n",
    "encode_dict_1[np.nan] = 8"
   ]
  },
  {
   "cell_type": "code",
   "execution_count": 17,
   "metadata": {},
   "outputs": [],
   "source": [
    "colm = df[encode_cols[0]].copy()\n",
    "colm = pd.Series(map(lambda i: encode_dict_1.get(i, 8), colm))\n",
    "colm.value_counts()\n",
    "\n",
    "df[encode_cols[0]] = colm"
   ]
  },
  {
   "cell_type": "code",
   "execution_count": 23,
   "metadata": {},
   "outputs": [
    {
     "data": {
      "text/plain": [
       "CLR:00                            106247\n",
       "0  0                               20604\n",
       "FEW:02 98                          10672\n",
       "FEW:02 20                           9725\n",
       "FEW:02 197                          9181\n",
       "FEW:02 25                           7464\n",
       "SCT:03 20                           6462\n",
       "VV:09                               5573\n",
       "SCT:04 20 BKN:07 100                5433\n",
       "SCT:04 20                           5227\n",
       "SCT:03 98                           4802\n",
       "FEW:02 20 SCT:04 100                4255\n",
       "SCT:04 197                          4098\n",
       "SCT:03 25                           4086\n",
       "SCT:03 197                          4057\n",
       "FEW:01 98                           3573\n",
       "FEW:02 30                           3512\n",
       "FEW:01 20                           3386\n",
       "FEW:02 100                          3326\n",
       "SCT:04 26                           3251\n",
       "FEW:01 25                           3208\n",
       "15                                  3153\n",
       "SCT:04 25                           3141\n",
       "FEW:02 20 SCT:04 98                 3019\n",
       "SCT:04 20 SCT:04 25 FEW:02 30       2947\n",
       "SCT:04 20 SCT:04 25                 2756\n",
       "SCT:03 26                           2755\n",
       "FEW:02                              2683\n",
       "SCT:04 20 SCT:04 25 BKN:07 100      2593\n",
       "FEW:01 246                          2591\n",
       "Name: HourlySkyConditions, dtype: int64"
      ]
     },
     "execution_count": 23,
     "metadata": {},
     "output_type": "execute_result"
    }
   ],
   "source": [
    "df[encode_cols[1]].value_counts()[0:30]"
   ]
  },
  {
   "cell_type": "code",
   "execution_count": 19,
   "metadata": {},
   "outputs": [
    {
     "data": {
      "text/plain": [
       "Index(['CLR:00', '0  0', 'FEW:02 98', 'FEW:02 20', 'FEW:02 197', 'FEW:02 25',\n",
       "       'SCT:03 20', 'VV:09', 'SCT:04 20 BKN:07 100', 'SCT:04 20',\n",
       "       ...\n",
       "       'FEW:01 15 BKN:07 79', 'BKN:05 25 SCT:03 31 OVC:08 79',\n",
       "       'SCT:03 18 BKN:06 39', 'FEW:02 25 SCT:04 34 SCT:04 197',\n",
       "       'SCT:04 26 FEW:02 30 BKN:06 98', 'BKN:06 1 SCT:03 10 SCT:04 15',\n",
       "       'SCT:04 30 BKN:06 30', 'SCT:03 34 FEW:01 30 OVC:08 79',\n",
       "       'BKN:05 25 FEW:01 34 BKN:07 79', 'SCT:04s 18 BKN:07s 98'],\n",
       "      dtype='object', length=15029)"
      ]
     },
     "execution_count": 19,
     "metadata": {},
     "output_type": "execute_result"
    }
   ],
   "source": [
    "cat_vector_2 = df[encode_cols[1]].value_counts().index\n",
    "cat_vector_2"
   ]
  },
  {
   "cell_type": "code",
   "execution_count": 24,
   "metadata": {},
   "outputs": [
    {
     "name": "stdout",
     "output_type": "stream",
     "text": [
      "<class 'pandas.core.frame.DataFrame'>\n",
      "Int64Index: 934807 entries, 118582 to 893344\n",
      "Data columns (total 21 columns):\n",
      " #   Column                     Non-Null Count   Dtype  \n",
      "---  ------                     --------------   -----  \n",
      " 0   LATITUDE                   934807 non-null  float64\n",
      " 1   LONGITUDE                  934807 non-null  float64\n",
      " 2   ELEVATION                  934807 non-null  float64\n",
      " 3   HourlyAltimeterSetting     934807 non-null  float64\n",
      " 4   HourlyDewPointTemperature  934807 non-null  float64\n",
      " 5   HourlyDryBulbTemperature   934807 non-null  float64\n",
      " 6   HourlyPresentWeatherType   934807 non-null  int64  \n",
      " 7   HourlyPressureTendency     934807 non-null  float64\n",
      " 8   HourlyRelativeHumidity     934807 non-null  float64\n",
      " 9   HourlySkyConditions        507788 non-null  object \n",
      " 10  HourlySeaLevelPressure     934807 non-null  float64\n",
      " 11  HourlyStationPressure      934807 non-null  float64\n",
      " 12  HourlyWetBulbTemperature   934807 non-null  float64\n",
      " 13  HourlyWindDirection        934807 non-null  float64\n",
      " 14  HourlyWindSpeed            934807 non-null  float64\n",
      " 15  YEAR                       934807 non-null  int64  \n",
      " 16  MONTH                      934807 non-null  int64  \n",
      " 17  DAY                        934807 non-null  int64  \n",
      " 18  HOUR                       934807 non-null  int64  \n",
      " 19  MINUTES                    934807 non-null  int64  \n",
      " 20  TARGETS                    934807 non-null  float64\n",
      "dtypes: float64(14), int64(6), object(1)\n",
      "memory usage: 156.9+ MB\n"
     ]
    }
   ],
   "source": [
    "df.info()"
   ]
  },
  {
   "cell_type": "code",
   "execution_count": 26,
   "metadata": {},
   "outputs": [],
   "source": [
    "df.to_csv(\"../database/clean_train_data_v4.csv\")"
   ]
  },
  {
   "cell_type": "code",
   "execution_count": null,
   "metadata": {},
   "outputs": [],
   "source": []
  }
 ],
 "metadata": {
  "interpreter": {
   "hash": "1aa9adb589debd577a6ee6848127b13cbb21104f17a23a015cb12e10a1d3ecfe"
  },
  "kernelspec": {
   "display_name": "Python 3.9.5 ('base')",
   "language": "python",
   "name": "python3"
  },
  "language_info": {
   "codemirror_mode": {
    "name": "ipython",
    "version": 3
   },
   "file_extension": ".py",
   "mimetype": "text/x-python",
   "name": "python",
   "nbconvert_exporter": "python",
   "pygments_lexer": "ipython3",
   "version": "3.9.5"
  },
  "orig_nbformat": 4
 },
 "nbformat": 4,
 "nbformat_minor": 2
}
