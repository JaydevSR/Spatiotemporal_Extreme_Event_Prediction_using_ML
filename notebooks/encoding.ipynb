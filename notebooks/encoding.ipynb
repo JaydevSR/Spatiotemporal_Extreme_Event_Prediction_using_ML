{
 "cells": [
  {
   "cell_type": "code",
   "execution_count": 18,
   "metadata": {},
   "outputs": [],
   "source": [
    "import pandas as pd\n",
    "import numpy as np\n",
    "from tqdm import tqdm"
   ]
  },
  {
   "cell_type": "code",
   "execution_count": 19,
   "metadata": {},
   "outputs": [],
   "source": [
    "df = pd.read_csv('../database/clean_train_data_v3.csv', index_col = 0)"
   ]
  },
  {
   "cell_type": "code",
   "execution_count": 20,
   "metadata": {},
   "outputs": [
    {
     "name": "stdout",
     "output_type": "stream",
     "text": [
      "<class 'pandas.core.frame.DataFrame'>\n",
      "Int64Index: 934807 entries, 0 to 934806\n",
      "Data columns (total 21 columns):\n",
      " #   Column                     Non-Null Count   Dtype  \n",
      "---  ------                     --------------   -----  \n",
      " 0   index                      934807 non-null  int64  \n",
      " 1   STATION                    934807 non-null  int64  \n",
      " 2   ELEVATION                  934807 non-null  float64\n",
      " 3   HourlyAltimeterSetting     934807 non-null  float64\n",
      " 4   HourlyDewPointTemperature  934807 non-null  float64\n",
      " 5   HourlyDryBulbTemperature   934807 non-null  float64\n",
      " 6   HourlyPresentWeatherType   398691 non-null  object \n",
      " 7   HourlyPressureTendency     934807 non-null  float64\n",
      " 8   HourlyRelativeHumidity     934807 non-null  float64\n",
      " 9   HourlySkyConditions        507788 non-null  object \n",
      " 10  HourlySeaLevelPressure     934807 non-null  float64\n",
      " 11  HourlyStationPressure      934807 non-null  float64\n",
      " 12  HourlyWetBulbTemperature   934807 non-null  float64\n",
      " 13  HourlyWindDirection        934807 non-null  float64\n",
      " 14  HourlyWindSpeed            934807 non-null  float64\n",
      " 15  YEAR                       934807 non-null  int64  \n",
      " 16  MONTH                      934807 non-null  int64  \n",
      " 17  DAY                        934807 non-null  int64  \n",
      " 18  HOUR                       934807 non-null  int64  \n",
      " 19  MINUTES                    934807 non-null  int64  \n",
      " 20  TARGETS                    934807 non-null  float64\n",
      "dtypes: float64(12), int64(7), object(2)\n",
      "memory usage: 156.9+ MB\n"
     ]
    }
   ],
   "source": [
    "df.info()"
   ]
  },
  {
   "cell_type": "code",
   "execution_count": 21,
   "metadata": {},
   "outputs": [],
   "source": [
    "encode_cols = [\"HourlyPresentWeatherType\", \"HourlySkyConditions\"]"
   ]
  },
  {
   "cell_type": "code",
   "execution_count": 22,
   "metadata": {},
   "outputs": [
    {
     "name": "stdout",
     "output_type": "stream",
     "text": [
      "Feature: HourlyPresentWeatherType\n",
      "\n",
      "\n",
      "Feature: HourlySkyConditions\n",
      "\n",
      "\n"
     ]
    }
   ],
   "source": [
    "for col in encode_cols:\n",
    "    print(f\"Feature: {col}\")\n",
    "#     df[col].info()\n",
    "    print(\"\\n\")"
   ]
  },
  {
   "cell_type": "code",
   "execution_count": 23,
   "metadata": {},
   "outputs": [
    {
     "name": "stdout",
     "output_type": "stream",
     "text": [
      "Feature: HourlyPresentWeatherType\n",
      "||HZ          282782\n",
      "||DU           31236\n",
      "||FG           25866\n",
      "||FU           23421\n",
      "||RA           18102\n",
      "               ...  \n",
      "||PL               1\n",
      "||FG DU            1\n",
      "||HZ DZ DZ         1\n",
      "||DU FG            1\n",
      "||FU RA TS         1\n",
      "Name: HourlyPresentWeatherType, Length: 72, dtype: int64\n",
      "\n",
      "\n",
      "Feature: HourlySkyConditions\n",
      "CLR:00                           106247\n",
      "0  0                              20604\n",
      "FEW:02 98                         10672\n",
      "FEW:02 20                          9725\n",
      "FEW:02 197                         9181\n",
      "                                  ...  \n",
      "FEW:02 15 BKN:06 118                  1\n",
      "FEW:02 47 SCT:03 98                   1\n",
      "BKN:07 30 BKN:07 80                   1\n",
      "FEW:01 89 BKN:05 197                  1\n",
      "FEW:01 25 SCT:03 34 BKN:05 98         1\n",
      "Name: HourlySkyConditions, Length: 15029, dtype: int64\n",
      "\n",
      "\n"
     ]
    }
   ],
   "source": [
    "for col in encode_cols:\n",
    "    print(f\"Feature: {col}\")\n",
    "    print(df[col].value_counts())\n",
    "    print(\"\\n\")"
   ]
  },
  {
   "cell_type": "code",
   "execution_count": 24,
   "metadata": {},
   "outputs": [
    {
     "data": {
      "text/plain": [
       "Index(['||HZ', '||DU', '||FG', '||FU', '||RA', '||TS', '||DZ', '||SHRA TS',\n",
       "       '||SHRA', '||HZ DU', '||FU HZ', '||RA TS', '||HZ RA', '||FG FG', '||SH',\n",
       "       '||FU FG', '||FG RA', '||TS RA', '||DZ DZ', '||HZ DZ', '||s', '||RA RA',\n",
       "       '||HZ TS', '||DU RA', '||FC', '||TS SHRA TS', '||DU DU', '||SQ',\n",
       "       '||DZ RA', '||FG SHRA', '||FG DZ', '||FU TS', '||HZ SHRA', '||DRSN',\n",
       "       '||DU TS', '||DU SHRA', '||SHRASN', '||HZ FG', '||DU TS RA',\n",
       "       '||FG RA TS', '||FZRA', '||RA SHRA TS', '|FU |', '||DU TS SHRA',\n",
       "       '||FU DU', '||SHSN', '||HZ TS SHRA', '||FZDZ', '||SG', '||FU FG RA',\n",
       "       '||SHRA TS TS', '||HZ RA TS', '||DZ TS', '||DU DZ', '||HZ TS RA',\n",
       "       '||TS DZ', '||TS TS', '||HZ SHRA TS', '||DZ SHRA TS', '||TS DU RA',\n",
       "       '||FU DZ', '||FU RA', '|HZ |', '||TS SHRA', '||TS DU', '||TS FG SHRA',\n",
       "       '|DZ |', '||PL', '||FG DU', '||HZ DZ DZ', '||DU FG', '||FU RA TS'],\n",
       "      dtype='object')"
      ]
     },
     "execution_count": 24,
     "metadata": {},
     "output_type": "execute_result"
    }
   ],
   "source": [
    "cat_vector_1 = df[encode_cols[0]].value_counts().index\n",
    "cat_vector_1"
   ]
  },
  {
   "cell_type": "code",
   "execution_count": 25,
   "metadata": {},
   "outputs": [],
   "source": [
    "cat_vector_1 = list(cat_vector_1)"
   ]
  },
  {
   "cell_type": "code",
   "execution_count": 26,
   "metadata": {},
   "outputs": [],
   "source": [
    "enc_vector_1 = [cat_vector_1.index(cat) for cat in cat_vector_1]\n",
    "enc_vector_1 = [i if i<7 else 7 for i in enc_vector_1]"
   ]
  },
  {
   "cell_type": "code",
   "execution_count": 27,
   "metadata": {},
   "outputs": [],
   "source": [
    "encode_dict_1 = dict(zip(cat_vector_1, enc_vector_1))"
   ]
  },
  {
   "cell_type": "code",
   "execution_count": 28,
   "metadata": {},
   "outputs": [
    {
     "data": {
      "text/plain": [
       "{'||HZ': 0,\n",
       " '||DU': 1,\n",
       " '||FG': 2,\n",
       " '||FU': 3,\n",
       " '||RA': 4,\n",
       " '||TS': 5,\n",
       " '||DZ': 6,\n",
       " '||SHRA TS': 7,\n",
       " '||SHRA': 7,\n",
       " '||HZ DU': 7,\n",
       " '||FU HZ': 7,\n",
       " '||RA TS': 7,\n",
       " '||HZ RA': 7,\n",
       " '||FG FG': 7,\n",
       " '||SH': 7,\n",
       " '||FU FG': 7,\n",
       " '||FG RA': 7,\n",
       " '||TS RA': 7,\n",
       " '||DZ DZ': 7,\n",
       " '||HZ DZ': 7,\n",
       " '||s': 7,\n",
       " '||RA RA': 7,\n",
       " '||HZ TS': 7,\n",
       " '||DU RA': 7,\n",
       " '||FC': 7,\n",
       " '||TS SHRA TS': 7,\n",
       " '||DU DU': 7,\n",
       " '||SQ': 7,\n",
       " '||DZ RA': 7,\n",
       " '||FG SHRA': 7,\n",
       " '||FG DZ': 7,\n",
       " '||FU TS': 7,\n",
       " '||HZ SHRA': 7,\n",
       " '||DRSN': 7,\n",
       " '||DU TS': 7,\n",
       " '||DU SHRA': 7,\n",
       " '||SHRASN': 7,\n",
       " '||HZ FG': 7,\n",
       " '||DU TS RA': 7,\n",
       " '||FG RA TS': 7,\n",
       " '||FZRA': 7,\n",
       " '||RA SHRA TS': 7,\n",
       " '|FU |': 7,\n",
       " '||DU TS SHRA': 7,\n",
       " '||FU DU': 7,\n",
       " '||SHSN': 7,\n",
       " '||HZ TS SHRA': 7,\n",
       " '||FZDZ': 7,\n",
       " '||SG': 7,\n",
       " '||FU FG RA': 7,\n",
       " '||SHRA TS TS': 7,\n",
       " '||HZ RA TS': 7,\n",
       " '||DZ TS': 7,\n",
       " '||DU DZ': 7,\n",
       " '||HZ TS RA': 7,\n",
       " '||TS DZ': 7,\n",
       " '||TS TS': 7,\n",
       " '||HZ SHRA TS': 7,\n",
       " '||DZ SHRA TS': 7,\n",
       " '||TS DU RA': 7,\n",
       " '||FU DZ': 7,\n",
       " '||FU RA': 7,\n",
       " '|HZ |': 7,\n",
       " '||TS SHRA': 7,\n",
       " '||TS DU': 7,\n",
       " '||TS FG SHRA': 7,\n",
       " '|DZ |': 7,\n",
       " '||PL': 7,\n",
       " '||FG DU': 7,\n",
       " '||HZ DZ DZ': 7,\n",
       " '||DU FG': 7,\n",
       " '||FU RA TS': 7}"
      ]
     },
     "execution_count": 28,
     "metadata": {},
     "output_type": "execute_result"
    }
   ],
   "source": [
    "encode_dict_1"
   ]
  },
  {
   "cell_type": "code",
   "execution_count": 29,
   "metadata": {},
   "outputs": [],
   "source": [
    "# encoded from 0 to 8, 0 to 6 for major categories, 7 for minor, 8 for invalid or missing\n",
    "encode_dict_1['|HZ |'] = 0\n",
    "encode_dict_1['|DZ |'] = 6\n",
    "encode_dict_1['|FU |'] = 3\n",
    "encode_dict_1['||s'] = 8\n",
    "encode_dict_1[np.nan] = 8"
   ]
  },
  {
   "cell_type": "code",
   "execution_count": 30,
   "metadata": {},
   "outputs": [],
   "source": [
    "colm = df[encode_cols[0]].copy()\n",
    "colm = pd.Series(map(lambda i: encode_dict_1.get(i, 8), colm))\n",
    "colm.value_counts()\n",
    "\n",
    "df[encode_cols[0]] = colm"
   ]
  },
  {
   "cell_type": "code",
   "execution_count": 31,
   "metadata": {},
   "outputs": [
    {
     "data": {
      "text/plain": [
       "CLR:00                            106247\n",
       "0  0                               20604\n",
       "FEW:02 98                          10672\n",
       "FEW:02 20                           9725\n",
       "FEW:02 197                          9181\n",
       "FEW:02 25                           7464\n",
       "SCT:03 20                           6462\n",
       "VV:09                               5573\n",
       "SCT:04 20 BKN:07 100                5433\n",
       "SCT:04 20                           5227\n",
       "SCT:03 98                           4802\n",
       "FEW:02 20 SCT:04 100                4255\n",
       "SCT:04 197                          4098\n",
       "SCT:03 25                           4086\n",
       "SCT:03 197                          4057\n",
       "FEW:01 98                           3573\n",
       "FEW:02 30                           3512\n",
       "FEW:01 20                           3386\n",
       "FEW:02 100                          3326\n",
       "SCT:04 26                           3251\n",
       "FEW:01 25                           3208\n",
       "15                                  3153\n",
       "SCT:04 25                           3141\n",
       "FEW:02 20 SCT:04 98                 3019\n",
       "SCT:04 20 SCT:04 25 FEW:02 30       2947\n",
       "SCT:04 20 SCT:04 25                 2756\n",
       "SCT:03 26                           2755\n",
       "FEW:02                              2683\n",
       "SCT:04 20 SCT:04 25 BKN:07 100      2593\n",
       "FEW:01 246                          2591\n",
       "Name: HourlySkyConditions, dtype: int64"
      ]
     },
     "execution_count": 31,
     "metadata": {},
     "output_type": "execute_result"
    }
   ],
   "source": [
    "df[encode_cols[1]].value_counts()[0:30]"
   ]
  },
  {
   "cell_type": "code",
   "execution_count": 32,
   "metadata": {},
   "outputs": [
    {
     "data": {
      "text/plain": [
       "Index(['CLR:00', '0  0', 'FEW:02 98', 'FEW:02 20', 'FEW:02 197', 'FEW:02 25',\n",
       "       'SCT:03 20', 'VV:09', 'SCT:04 20 BKN:07 100', 'SCT:04 20',\n",
       "       ...\n",
       "       'SCT:03 20 SCT:04 59', 'FEW:02 69 FEW:01  FEW:01',\n",
       "       'FEW:02 20 BKN:05 25 FEW:02 30', 'FEW:02 20 SCT:03 148',\n",
       "       'SCT:04 12 BKN:06 177', 'FEW:02 15 BKN:06 118', 'FEW:02 47 SCT:03 98',\n",
       "       'BKN:07 30 BKN:07 80', 'FEW:01 89 BKN:05 197',\n",
       "       'FEW:01 25 SCT:03 34 BKN:05 98'],\n",
       "      dtype='object', length=15029)"
      ]
     },
     "execution_count": 32,
     "metadata": {},
     "output_type": "execute_result"
    }
   ],
   "source": [
    "cat_vector_2 = df[encode_cols[1]].value_counts().index\n",
    "cat_vector_2"
   ]
  },
  {
   "cell_type": "code",
   "execution_count": 33,
   "metadata": {},
   "outputs": [
    {
     "name": "stdout",
     "output_type": "stream",
     "text": [
      "<class 'pandas.core.frame.DataFrame'>\n",
      "Int64Index: 934807 entries, 0 to 934806\n",
      "Data columns (total 21 columns):\n",
      " #   Column                     Non-Null Count   Dtype  \n",
      "---  ------                     --------------   -----  \n",
      " 0   index                      934807 non-null  int64  \n",
      " 1   STATION                    934807 non-null  int64  \n",
      " 2   ELEVATION                  934807 non-null  float64\n",
      " 3   HourlyAltimeterSetting     934807 non-null  float64\n",
      " 4   HourlyDewPointTemperature  934807 non-null  float64\n",
      " 5   HourlyDryBulbTemperature   934807 non-null  float64\n",
      " 6   HourlyPresentWeatherType   934807 non-null  int64  \n",
      " 7   HourlyPressureTendency     934807 non-null  float64\n",
      " 8   HourlyRelativeHumidity     934807 non-null  float64\n",
      " 9   HourlySkyConditions        507788 non-null  object \n",
      " 10  HourlySeaLevelPressure     934807 non-null  float64\n",
      " 11  HourlyStationPressure      934807 non-null  float64\n",
      " 12  HourlyWetBulbTemperature   934807 non-null  float64\n",
      " 13  HourlyWindDirection        934807 non-null  float64\n",
      " 14  HourlyWindSpeed            934807 non-null  float64\n",
      " 15  YEAR                       934807 non-null  int64  \n",
      " 16  MONTH                      934807 non-null  int64  \n",
      " 17  DAY                        934807 non-null  int64  \n",
      " 18  HOUR                       934807 non-null  int64  \n",
      " 19  MINUTES                    934807 non-null  int64  \n",
      " 20  TARGETS                    934807 non-null  float64\n",
      "dtypes: float64(12), int64(8), object(1)\n",
      "memory usage: 156.9+ MB\n"
     ]
    }
   ],
   "source": [
    "df.info()"
   ]
  },
  {
   "cell_type": "code",
   "execution_count": 34,
   "metadata": {},
   "outputs": [
    {
     "data": {
      "text/plain": [
       "42369099999    315313\n",
       "42634099999    119271\n",
       "42379099999    101532\n",
       "42452099999    100011\n",
       "42260099999     86740\n",
       "42165099999     50678\n",
       "42498099999     36070\n",
       "42273099999     21667\n",
       "42170099999     16416\n",
       "42295099999     14668\n",
       "42056099999     13673\n",
       "42503099999     13428\n",
       "42299099999      6697\n",
       "42249099999      6063\n",
       "42547099999      5456\n",
       "42262099999      4201\n",
       "42468099999      3100\n",
       "42420099999      3079\n",
       "42296099999      3020\n",
       "42522099999      2979\n",
       "42672099999      2936\n",
       "42599099999      2781\n",
       "42030099999      1949\n",
       "42460099999      1547\n",
       "42270099999      1484\n",
       "42117099999        20\n",
       "42484099999        11\n",
       "42151099999        10\n",
       "42074099999         3\n",
       "42178099999         3\n",
       "42190099999         1\n",
       "Name: STATION, dtype: int64"
      ]
     },
     "execution_count": 34,
     "metadata": {},
     "output_type": "execute_result"
    }
   ],
   "source": [
    "df.STATION.value_counts()"
   ]
  },
  {
   "cell_type": "code",
   "execution_count": 35,
   "metadata": {},
   "outputs": [],
   "source": [
    "df.to_csv(\"../database/clean_train_data_v4.csv\")"
   ]
  },
  {
   "cell_type": "code",
   "execution_count": 36,
   "metadata": {},
   "outputs": [
    {
     "name": "stdout",
     "output_type": "stream",
     "text": [
      "<class 'pandas.core.frame.DataFrame'>\n",
      "Int64Index: 934807 entries, 0 to 934806\n",
      "Data columns (total 21 columns):\n",
      " #   Column                     Non-Null Count   Dtype  \n",
      "---  ------                     --------------   -----  \n",
      " 0   index                      934807 non-null  int64  \n",
      " 1   STATION                    934807 non-null  int64  \n",
      " 2   ELEVATION                  934807 non-null  float64\n",
      " 3   HourlyAltimeterSetting     934807 non-null  float64\n",
      " 4   HourlyDewPointTemperature  934807 non-null  float64\n",
      " 5   HourlyDryBulbTemperature   934807 non-null  float64\n",
      " 6   HourlyPresentWeatherType   934807 non-null  int64  \n",
      " 7   HourlyPressureTendency     934807 non-null  float64\n",
      " 8   HourlyRelativeHumidity     934807 non-null  float64\n",
      " 9   HourlySkyConditions        507788 non-null  object \n",
      " 10  HourlySeaLevelPressure     934807 non-null  float64\n",
      " 11  HourlyStationPressure      934807 non-null  float64\n",
      " 12  HourlyWetBulbTemperature   934807 non-null  float64\n",
      " 13  HourlyWindDirection        934807 non-null  float64\n",
      " 14  HourlyWindSpeed            934807 non-null  float64\n",
      " 15  YEAR                       934807 non-null  int64  \n",
      " 16  MONTH                      934807 non-null  int64  \n",
      " 17  DAY                        934807 non-null  int64  \n",
      " 18  HOUR                       934807 non-null  int64  \n",
      " 19  MINUTES                    934807 non-null  int64  \n",
      " 20  TARGETS                    934807 non-null  float64\n",
      "dtypes: float64(12), int64(8), object(1)\n",
      "memory usage: 156.9+ MB\n"
     ]
    }
   ],
   "source": [
    "df.info()"
   ]
  },
  {
   "cell_type": "code",
   "execution_count": null,
   "metadata": {},
   "outputs": [],
   "source": []
  }
 ],
 "metadata": {
  "interpreter": {
   "hash": "1aa9adb589debd577a6ee6848127b13cbb21104f17a23a015cb12e10a1d3ecfe"
  },
  "kernelspec": {
   "display_name": "Python 3",
   "language": "python",
   "name": "python3"
  },
  "language_info": {
   "codemirror_mode": {
    "name": "ipython",
    "version": 3
   },
   "file_extension": ".py",
   "mimetype": "text/x-python",
   "name": "python",
   "nbconvert_exporter": "python",
   "pygments_lexer": "ipython3",
   "version": "3.7.7"
  }
 },
 "nbformat": 4,
 "nbformat_minor": 4
}
