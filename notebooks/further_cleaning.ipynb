{
 "cells": [
  {
   "cell_type": "code",
   "execution_count": 1,
   "metadata": {},
   "outputs": [],
   "source": [
    "import pandas as pd\n",
    "import numpy as np\n",
    "import re"
   ]
  },
  {
   "cell_type": "code",
   "execution_count": 2,
   "metadata": {},
   "outputs": [
    {
     "name": "stderr",
     "output_type": "stream",
     "text": [
      "C:\\Users\\JAYDEV~1\\AppData\\Local\\Temp/ipykernel_11316/1705723515.py:1: DtypeWarning: Columns (4,12,22) have mixed types. Specify dtype option on import or set low_memory=False.\n",
      "  df = pd.read_csv('../database/clean_train_data.csv', index_col = 0)\n"
     ]
    }
   ],
   "source": [
    "df = pd.read_csv('../database/clean_train_data.csv', index_col = 0)"
   ]
  },
  {
   "cell_type": "code",
   "execution_count": 3,
   "metadata": {},
   "outputs": [
    {
     "data": {
      "text/html": [
       "<div>\n",
       "<style scoped>\n",
       "    .dataframe tbody tr th:only-of-type {\n",
       "        vertical-align: middle;\n",
       "    }\n",
       "\n",
       "    .dataframe tbody tr th {\n",
       "        vertical-align: top;\n",
       "    }\n",
       "\n",
       "    .dataframe thead th {\n",
       "        text-align: right;\n",
       "    }\n",
       "</style>\n",
       "<table border=\"1\" class=\"dataframe\">\n",
       "  <thead>\n",
       "    <tr style=\"text-align: right;\">\n",
       "      <th></th>\n",
       "      <th>LATITUDE</th>\n",
       "      <th>LONGITUDE</th>\n",
       "      <th>ELEVATION</th>\n",
       "      <th>HourlyAltimeterSetting</th>\n",
       "      <th>HourlyDewPointTemperature</th>\n",
       "      <th>HourlyDryBulbTemperature</th>\n",
       "      <th>HourlyPresentWeatherType</th>\n",
       "      <th>HourlyPressureTendency</th>\n",
       "      <th>HourlyRelativeHumidity</th>\n",
       "      <th>HourlySkyConditions</th>\n",
       "      <th>...</th>\n",
       "      <th>HourlyWetBulbTemperature</th>\n",
       "      <th>HourlyWindDirection</th>\n",
       "      <th>HourlyWindSpeed</th>\n",
       "      <th>YEAR</th>\n",
       "      <th>MONTH</th>\n",
       "      <th>DAY</th>\n",
       "      <th>HOUR</th>\n",
       "      <th>MINUTES</th>\n",
       "      <th>SECONDS</th>\n",
       "      <th>TARGETS</th>\n",
       "    </tr>\n",
       "  </thead>\n",
       "  <tbody>\n",
       "    <tr>\n",
       "      <th>0</th>\n",
       "      <td>26.760594</td>\n",
       "      <td>80.889339</td>\n",
       "      <td>124.96</td>\n",
       "      <td>NaN</td>\n",
       "      <td>61</td>\n",
       "      <td>100</td>\n",
       "      <td>||HZ</td>\n",
       "      <td>9.0</td>\n",
       "      <td>27.0</td>\n",
       "      <td>FEW:01 98</td>\n",
       "      <td>...</td>\n",
       "      <td>NaN</td>\n",
       "      <td>90</td>\n",
       "      <td>10</td>\n",
       "      <td>2013</td>\n",
       "      <td>5</td>\n",
       "      <td>5</td>\n",
       "      <td>11</td>\n",
       "      <td>30</td>\n",
       "      <td>0</td>\n",
       "      <td>2.49</td>\n",
       "    </tr>\n",
       "    <tr>\n",
       "      <th>1</th>\n",
       "      <td>26.760594</td>\n",
       "      <td>80.889339</td>\n",
       "      <td>124.96</td>\n",
       "      <td>30.06</td>\n",
       "      <td>55</td>\n",
       "      <td>61</td>\n",
       "      <td>NaN</td>\n",
       "      <td>NaN</td>\n",
       "      <td>83.0</td>\n",
       "      <td>SCT:04 20 SCT:04 100</td>\n",
       "      <td>...</td>\n",
       "      <td>NaN</td>\n",
       "      <td>VRB</td>\n",
       "      <td>2</td>\n",
       "      <td>2019</td>\n",
       "      <td>1</td>\n",
       "      <td>23</td>\n",
       "      <td>22</td>\n",
       "      <td>0</td>\n",
       "      <td>0</td>\n",
       "      <td>1.24</td>\n",
       "    </tr>\n",
       "    <tr>\n",
       "      <th>2</th>\n",
       "      <td>25.160219</td>\n",
       "      <td>75.845631</td>\n",
       "      <td>273.10</td>\n",
       "      <td>NaN</td>\n",
       "      <td>51</td>\n",
       "      <td>67</td>\n",
       "      <td>NaN</td>\n",
       "      <td>9.0</td>\n",
       "      <td>57.0</td>\n",
       "      <td>NaN</td>\n",
       "      <td>...</td>\n",
       "      <td>NaN</td>\n",
       "      <td>230</td>\n",
       "      <td>5</td>\n",
       "      <td>2005</td>\n",
       "      <td>2</td>\n",
       "      <td>17</td>\n",
       "      <td>8</td>\n",
       "      <td>30</td>\n",
       "      <td>0</td>\n",
       "      <td>2.49</td>\n",
       "    </tr>\n",
       "    <tr>\n",
       "      <th>3</th>\n",
       "      <td>26.760594</td>\n",
       "      <td>80.889339</td>\n",
       "      <td>124.96</td>\n",
       "      <td>NaN</td>\n",
       "      <td>41</td>\n",
       "      <td>94</td>\n",
       "      <td>||DU</td>\n",
       "      <td>9.0</td>\n",
       "      <td>16.0</td>\n",
       "      <td>NaN</td>\n",
       "      <td>...</td>\n",
       "      <td>NaN</td>\n",
       "      <td>0</td>\n",
       "      <td>0</td>\n",
       "      <td>1984</td>\n",
       "      <td>5</td>\n",
       "      <td>20</td>\n",
       "      <td>8</td>\n",
       "      <td>30</td>\n",
       "      <td>0</td>\n",
       "      <td>2.49</td>\n",
       "    </tr>\n",
       "    <tr>\n",
       "      <th>4</th>\n",
       "      <td>25.033333</td>\n",
       "      <td>88.133333</td>\n",
       "      <td>31.00</td>\n",
       "      <td>NaN</td>\n",
       "      <td>55</td>\n",
       "      <td>82</td>\n",
       "      <td>NaN</td>\n",
       "      <td>9.0</td>\n",
       "      <td>39.0</td>\n",
       "      <td>NaN</td>\n",
       "      <td>...</td>\n",
       "      <td>NaN</td>\n",
       "      <td>320</td>\n",
       "      <td>2</td>\n",
       "      <td>2016</td>\n",
       "      <td>11</td>\n",
       "      <td>16</td>\n",
       "      <td>11</td>\n",
       "      <td>30</td>\n",
       "      <td>0</td>\n",
       "      <td>2.49</td>\n",
       "    </tr>\n",
       "  </tbody>\n",
       "</table>\n",
       "<p>5 rows × 22 columns</p>\n",
       "</div>"
      ],
      "text/plain": [
       "    LATITUDE  LONGITUDE  ELEVATION HourlyAltimeterSetting  \\\n",
       "0  26.760594  80.889339     124.96                    NaN   \n",
       "1  26.760594  80.889339     124.96                  30.06   \n",
       "2  25.160219  75.845631     273.10                    NaN   \n",
       "3  26.760594  80.889339     124.96                    NaN   \n",
       "4  25.033333  88.133333      31.00                    NaN   \n",
       "\n",
       "  HourlyDewPointTemperature HourlyDryBulbTemperature HourlyPresentWeatherType  \\\n",
       "0                        61                      100                     ||HZ   \n",
       "1                        55                       61                      NaN   \n",
       "2                        51                       67                      NaN   \n",
       "3                        41                       94                     ||DU   \n",
       "4                        55                       82                      NaN   \n",
       "\n",
       "   HourlyPressureTendency  HourlyRelativeHumidity   HourlySkyConditions  ...  \\\n",
       "0                     9.0                    27.0             FEW:01 98  ...   \n",
       "1                     NaN                    83.0  SCT:04 20 SCT:04 100  ...   \n",
       "2                     9.0                    57.0                   NaN  ...   \n",
       "3                     9.0                    16.0                   NaN  ...   \n",
       "4                     9.0                    39.0                   NaN  ...   \n",
       "\n",
       "  HourlyWetBulbTemperature HourlyWindDirection  HourlyWindSpeed  YEAR MONTH  \\\n",
       "0                      NaN                  90               10  2013     5   \n",
       "1                      NaN                 VRB                2  2019     1   \n",
       "2                      NaN                 230                5  2005     2   \n",
       "3                      NaN                   0                0  1984     5   \n",
       "4                      NaN                 320                2  2016    11   \n",
       "\n",
       "   DAY  HOUR  MINUTES  SECONDS  TARGETS  \n",
       "0    5    11       30        0     2.49  \n",
       "1   23    22        0        0     1.24  \n",
       "2   17     8       30        0     2.49  \n",
       "3   20     8       30        0     2.49  \n",
       "4   16    11       30        0     2.49  \n",
       "\n",
       "[5 rows x 22 columns]"
      ]
     },
     "execution_count": 3,
     "metadata": {},
     "output_type": "execute_result"
    }
   ],
   "source": [
    "df.head()"
   ]
  },
  {
   "cell_type": "code",
   "execution_count": 4,
   "metadata": {},
   "outputs": [
    {
     "name": "stdout",
     "output_type": "stream",
     "text": [
      "<class 'pandas.core.frame.DataFrame'>\n",
      "Int64Index: 934807 entries, 0 to 934806\n",
      "Data columns (total 22 columns):\n",
      " #   Column                     Non-Null Count   Dtype  \n",
      "---  ------                     --------------   -----  \n",
      " 0   LATITUDE                   934807 non-null  float64\n",
      " 1   LONGITUDE                  934807 non-null  float64\n",
      " 2   ELEVATION                  934807 non-null  float64\n",
      " 3   HourlyAltimeterSetting     217039 non-null  object \n",
      " 4   HourlyDewPointTemperature  916829 non-null  object \n",
      " 5   HourlyDryBulbTemperature   923010 non-null  object \n",
      " 6   HourlyPresentWeatherType   398691 non-null  object \n",
      " 7   HourlyPressureTendency     586427 non-null  float64\n",
      " 8   HourlyRelativeHumidity     916208 non-null  float64\n",
      " 9   HourlySkyConditions        507788 non-null  object \n",
      " 10  HourlySeaLevelPressure     670809 non-null  object \n",
      " 11  HourlyStationPressure      24403 non-null   object \n",
      " 12  HourlyWetBulbTemperature   24222 non-null   float64\n",
      " 13  HourlyWindDirection        925461 non-null  object \n",
      " 14  HourlyWindSpeed            924185 non-null  object \n",
      " 15  YEAR                       934807 non-null  int64  \n",
      " 16  MONTH                      934807 non-null  int64  \n",
      " 17  DAY                        934807 non-null  int64  \n",
      " 18  HOUR                       934807 non-null  int64  \n",
      " 19  MINUTES                    934807 non-null  int64  \n",
      " 20  SECONDS                    934807 non-null  int64  \n",
      " 21  TARGETS                    934807 non-null  object \n",
      "dtypes: float64(6), int64(6), object(10)\n",
      "memory usage: 164.0+ MB\n"
     ]
    }
   ],
   "source": [
    "df.info()"
   ]
  },
  {
   "cell_type": "code",
   "execution_count": 5,
   "metadata": {},
   "outputs": [],
   "source": [
    "def get_numeric(string):\n",
    "    try:\n",
    "        return float(string)\n",
    "    except:\n",
    "        if type(string) is str:\n",
    "            reg = re.compile(r\"(?P<num>-?\\d+)(?P<dec>\\.\\d+)?\")\n",
    "            m = reg.match(string)\n",
    "            if m:\n",
    "                num = m.groupdict().get('num')\n",
    "                dec = m.groupdict().get('dec')\n",
    "                if dec:\n",
    "                    return float(num+dec)\n",
    "                else:\n",
    "                    return float(num)\n",
    "        else:\n",
    "            return np.nan"
   ]
  },
  {
   "cell_type": "code",
   "execution_count": 6,
   "metadata": {},
   "outputs": [
    {
     "name": "stdout",
     "output_type": "stream",
     "text": [
      "<class 'pandas.core.series.Series'>\n",
      "Int64Index: 934807 entries, 0 to 934806\n",
      "Series name: HourlyAltimeterSetting\n",
      "Non-Null Count   Dtype \n",
      "--------------   ----- \n",
      "217039 non-null  object\n",
      "dtypes: object(1)\n",
      "memory usage: 14.3+ MB\n",
      "None\n",
      "<class 'pandas.core.series.Series'>\n",
      "Int64Index: 934807 entries, 0 to 934806\n",
      "Series name: HourlyAltimeterSetting\n",
      "Non-Null Count   Dtype  \n",
      "--------------   -----  \n",
      "217039 non-null  float64\n",
      "dtypes: float64(1)\n",
      "memory usage: 14.3 MB\n"
     ]
    }
   ],
   "source": [
    "print(df.HourlyAltimeterSetting.info())\n",
    "df['HourlyAltimeterSetting'] = df['HourlyAltimeterSetting'].apply(get_numeric)\n",
    "df.HourlyAltimeterSetting.info()\n"
   ]
  },
  {
   "cell_type": "code",
   "execution_count": 7,
   "metadata": {},
   "outputs": [
    {
     "name": "stdout",
     "output_type": "stream",
     "text": [
      "<class 'pandas.core.series.Series'>\n",
      "Int64Index: 934807 entries, 0 to 934806\n",
      "Series name: HourlyDewPointTemperature\n",
      "Non-Null Count   Dtype \n",
      "--------------   ----- \n",
      "916829 non-null  object\n",
      "dtypes: object(1)\n",
      "memory usage: 14.3+ MB\n",
      "None\n",
      "<class 'pandas.core.series.Series'>\n",
      "Int64Index: 934807 entries, 0 to 934806\n",
      "Series name: HourlyDewPointTemperature\n",
      "Non-Null Count   Dtype  \n",
      "--------------   -----  \n",
      "916829 non-null  float64\n",
      "dtypes: float64(1)\n",
      "memory usage: 14.3 MB\n",
      "None\n"
     ]
    }
   ],
   "source": [
    "print(df.HourlyDewPointTemperature.info())\n",
    "df['HourlyDewPointTemperature'] = df['HourlyDewPointTemperature'].apply(get_numeric)\n",
    "print(df.HourlyDewPointTemperature.info())"
   ]
  },
  {
   "cell_type": "code",
   "execution_count": 8,
   "metadata": {},
   "outputs": [
    {
     "name": "stdout",
     "output_type": "stream",
     "text": [
      "<class 'pandas.core.series.Series'>\n",
      "Int64Index: 934807 entries, 0 to 934806\n",
      "Series name: HourlyDryBulbTemperature\n",
      "Non-Null Count   Dtype \n",
      "--------------   ----- \n",
      "923010 non-null  object\n",
      "dtypes: object(1)\n",
      "memory usage: 14.3+ MB\n",
      "None\n",
      "<class 'pandas.core.series.Series'>\n",
      "Int64Index: 934807 entries, 0 to 934806\n",
      "Series name: HourlyDryBulbTemperature\n",
      "Non-Null Count   Dtype  \n",
      "--------------   -----  \n",
      "923010 non-null  float64\n",
      "dtypes: float64(1)\n",
      "memory usage: 14.3 MB\n",
      "None\n"
     ]
    }
   ],
   "source": [
    "print(df.HourlyDryBulbTemperature.info())\n",
    "df['HourlyDryBulbTemperature'] = df['HourlyDryBulbTemperature'].apply(get_numeric)\n",
    "print(df.HourlyDryBulbTemperature.info())"
   ]
  },
  {
   "cell_type": "code",
   "execution_count": 9,
   "metadata": {},
   "outputs": [
    {
     "name": "stdout",
     "output_type": "stream",
     "text": [
      "<class 'pandas.core.series.Series'>\n",
      "Int64Index: 934807 entries, 0 to 934806\n",
      "Series name: HourlySeaLevelPressure\n",
      "Non-Null Count   Dtype \n",
      "--------------   ----- \n",
      "670809 non-null  object\n",
      "dtypes: object(1)\n",
      "memory usage: 14.3+ MB\n",
      "None\n",
      "<class 'pandas.core.series.Series'>\n",
      "Int64Index: 934807 entries, 0 to 934806\n",
      "Series name: HourlySeaLevelPressure\n",
      "Non-Null Count   Dtype  \n",
      "--------------   -----  \n",
      "670809 non-null  float64\n",
      "dtypes: float64(1)\n",
      "memory usage: 14.3 MB\n",
      "None\n"
     ]
    }
   ],
   "source": [
    "print(df.HourlySeaLevelPressure.info())\n",
    "df['HourlySeaLevelPressure'] = df['HourlySeaLevelPressure'].apply(get_numeric)\n",
    "print(df.HourlySeaLevelPressure.info())"
   ]
  },
  {
   "cell_type": "code",
   "execution_count": 10,
   "metadata": {},
   "outputs": [
    {
     "name": "stdout",
     "output_type": "stream",
     "text": [
      "<class 'pandas.core.series.Series'>\n",
      "Int64Index: 934807 entries, 0 to 934806\n",
      "Series name: HourlyStationPressure\n",
      "Non-Null Count  Dtype \n",
      "--------------  ----- \n",
      "24403 non-null  object\n",
      "dtypes: object(1)\n",
      "memory usage: 14.3+ MB\n",
      "None\n",
      "<class 'pandas.core.series.Series'>\n",
      "Int64Index: 934807 entries, 0 to 934806\n",
      "Series name: HourlyStationPressure\n",
      "Non-Null Count  Dtype  \n",
      "--------------  -----  \n",
      "24403 non-null  float64\n",
      "dtypes: float64(1)\n",
      "memory usage: 14.3 MB\n",
      "None\n"
     ]
    }
   ],
   "source": [
    "print(df.HourlyStationPressure.info())\n",
    "df['HourlyStationPressure'] = df['HourlyStationPressure'].apply(get_numeric)\n",
    "print(df.HourlyStationPressure.info())"
   ]
  },
  {
   "cell_type": "code",
   "execution_count": 11,
   "metadata": {},
   "outputs": [
    {
     "name": "stdout",
     "output_type": "stream",
     "text": [
      "<class 'pandas.core.series.Series'>\n",
      "Int64Index: 934807 entries, 0 to 934806\n",
      "Series name: HourlyWindSpeed\n",
      "Non-Null Count   Dtype \n",
      "--------------   ----- \n",
      "924185 non-null  object\n",
      "dtypes: object(1)\n",
      "memory usage: 14.3+ MB\n",
      "None\n",
      "<class 'pandas.core.series.Series'>\n",
      "Int64Index: 934807 entries, 0 to 934806\n",
      "Series name: HourlyWindSpeed\n",
      "Non-Null Count   Dtype  \n",
      "--------------   -----  \n",
      "924185 non-null  float64\n",
      "dtypes: float64(1)\n",
      "memory usage: 14.3 MB\n",
      "None\n"
     ]
    }
   ],
   "source": [
    "print(df.HourlyWindSpeed.info())\n",
    "df['HourlyWindSpeed'] = df['HourlyWindSpeed'].apply(get_numeric)\n",
    "print(df.HourlyWindSpeed.info())"
   ]
  },
  {
   "cell_type": "code",
   "execution_count": 12,
   "metadata": {},
   "outputs": [
    {
     "name": "stdout",
     "output_type": "stream",
     "text": [
      "<class 'pandas.core.series.Series'>\n",
      "Int64Index: 934807 entries, 0 to 934806\n",
      "Series name: HourlyWindDirection\n",
      "Non-Null Count   Dtype \n",
      "--------------   ----- \n",
      "925461 non-null  object\n",
      "dtypes: object(1)\n",
      "memory usage: 14.3+ MB\n",
      "None\n",
      "<class 'pandas.core.series.Series'>\n",
      "Int64Index: 934807 entries, 0 to 934806\n",
      "Series name: HourlyWindDirection\n",
      "Non-Null Count   Dtype  \n",
      "--------------   -----  \n",
      "863718 non-null  float64\n",
      "dtypes: float64(1)\n",
      "memory usage: 14.3 MB\n",
      "None\n"
     ]
    }
   ],
   "source": [
    "print(df.HourlyWindDirection.info())\n",
    "df['HourlyWindDirection'] = df['HourlyWindDirection'].apply(get_numeric)\n",
    "print(df.HourlyWindDirection.info())"
   ]
  },
  {
   "cell_type": "code",
   "execution_count": 13,
   "metadata": {},
   "outputs": [
    {
     "name": "stdout",
     "output_type": "stream",
     "text": [
      "<class 'pandas.core.series.Series'>\n",
      "Int64Index: 934807 entries, 0 to 934806\n",
      "Series name: TARGETS\n",
      "Non-Null Count   Dtype \n",
      "--------------   ----- \n",
      "934807 non-null  object\n",
      "dtypes: object(1)\n",
      "memory usage: 14.3+ MB\n",
      "None\n",
      "<class 'pandas.core.series.Series'>\n",
      "Int64Index: 934807 entries, 0 to 934806\n",
      "Series name: TARGETS\n",
      "Non-Null Count   Dtype  \n",
      "--------------   -----  \n",
      "934807 non-null  float64\n",
      "dtypes: float64(1)\n",
      "memory usage: 14.3 MB\n",
      "None\n"
     ]
    }
   ],
   "source": [
    "print(df.TARGETS.info())\n",
    "df['TARGETS'] = df['TARGETS'].apply(get_numeric)\n",
    "print(df.TARGETS.info())"
   ]
  },
  {
   "cell_type": "code",
   "execution_count": 14,
   "metadata": {},
   "outputs": [
    {
     "name": "stdout",
     "output_type": "stream",
     "text": [
      "<class 'pandas.core.frame.DataFrame'>\n",
      "Int64Index: 934807 entries, 0 to 934806\n",
      "Data columns (total 22 columns):\n",
      " #   Column                     Non-Null Count   Dtype  \n",
      "---  ------                     --------------   -----  \n",
      " 0   LATITUDE                   934807 non-null  float64\n",
      " 1   LONGITUDE                  934807 non-null  float64\n",
      " 2   ELEVATION                  934807 non-null  float64\n",
      " 3   HourlyAltimeterSetting     217039 non-null  float64\n",
      " 4   HourlyDewPointTemperature  916829 non-null  float64\n",
      " 5   HourlyDryBulbTemperature   923010 non-null  float64\n",
      " 6   HourlyPresentWeatherType   398691 non-null  object \n",
      " 7   HourlyPressureTendency     586427 non-null  float64\n",
      " 8   HourlyRelativeHumidity     916208 non-null  float64\n",
      " 9   HourlySkyConditions        507788 non-null  object \n",
      " 10  HourlySeaLevelPressure     670809 non-null  float64\n",
      " 11  HourlyStationPressure      24403 non-null   float64\n",
      " 12  HourlyWetBulbTemperature   24222 non-null   float64\n",
      " 13  HourlyWindDirection        863718 non-null  float64\n",
      " 14  HourlyWindSpeed            924185 non-null  float64\n",
      " 15  YEAR                       934807 non-null  int64  \n",
      " 16  MONTH                      934807 non-null  int64  \n",
      " 17  DAY                        934807 non-null  int64  \n",
      " 18  HOUR                       934807 non-null  int64  \n",
      " 19  MINUTES                    934807 non-null  int64  \n",
      " 20  SECONDS                    934807 non-null  int64  \n",
      " 21  TARGETS                    934807 non-null  float64\n",
      "dtypes: float64(14), int64(6), object(2)\n",
      "memory usage: 164.0+ MB\n"
     ]
    }
   ],
   "source": [
    "df.info()"
   ]
  },
  {
   "cell_type": "code",
   "execution_count": 18,
   "metadata": {},
   "outputs": [],
   "source": [
    "df.to_csv(\"D:\\College\\Semester_6\\ECS308-DSML\\project\\Spatiotemporal_Extreme_Event_Prediction_using_ML\\database\\clean_train_data_v2.csv\")"
   ]
  },
  {
   "cell_type": "code",
   "execution_count": 25,
   "metadata": {},
   "outputs": [
    {
     "data": {
      "text/plain": [
       "||HZ            282782\n",
       "||DU             31236\n",
       "||FG             25866\n",
       "||FU             23421\n",
       "||RA             18102\n",
       "||TS              9219\n",
       "||DZ              5861\n",
       "||SHRA TS          823\n",
       "||SHRA             260\n",
       "||HZ DU            112\n",
       "||FU HZ             96\n",
       "||RA TS             95\n",
       "||HZ RA             87\n",
       "||FG FG             83\n",
       "||SH                67\n",
       "||FU FG             56\n",
       "||FG RA             51\n",
       "||TS RA             46\n",
       "||DZ DZ             40\n",
       "||HZ DZ             39\n",
       "||s                 33\n",
       "||RA RA             32\n",
       "||HZ TS             30\n",
       "||DU RA             21\n",
       "||FC                21\n",
       "||TS SHRA TS        20\n",
       "||DU DU             18\n",
       "||SQ                16\n",
       "||DZ RA             15\n",
       "||FG SHRA           11\n",
       "||FG DZ             10\n",
       "||FU TS              9\n",
       "||HZ SHRA            9\n",
       "||DRSN               8\n",
       "||DU TS              8\n",
       "||DU SHRA            7\n",
       "||SHRASN             6\n",
       "||FZRA               5\n",
       "||DU TS RA           5\n",
       "||FG RA TS           5\n",
       "||HZ FG              5\n",
       "||RA SHRA TS         4\n",
       "|FU |                4\n",
       "||HZ TS SHRA         3\n",
       "||FZDZ               3\n",
       "||SG                 3\n",
       "||FU DU              3\n",
       "||DU TS SHRA         3\n",
       "||SHSN               3\n",
       "||DU DZ              2\n",
       "||HZ TS RA           2\n",
       "||HZ RA TS           2\n",
       "||DZ TS              2\n",
       "||SHRA TS TS         2\n",
       "||FU FG RA           2\n",
       "||FG DU              1\n",
       "||TS SHRA            1\n",
       "||TS DU              1\n",
       "||TS DZ              1\n",
       "||FU DZ              1\n",
       "||HZ DZ DZ           1\n",
       "||FU RA              1\n",
       "||PL                 1\n",
       "||DU FG              1\n",
       "||TS TS              1\n",
       "|HZ |                1\n",
       "|DZ |                1\n",
       "||DZ SHRA TS         1\n",
       "||HZ SHRA TS         1\n",
       "||TS FG SHRA         1\n",
       "||FU RA TS           1\n",
       "||TS DU RA           1\n",
       "Name: HourlyPresentWeatherType, dtype: int64"
      ]
     },
     "execution_count": 25,
     "metadata": {},
     "output_type": "execute_result"
    }
   ],
   "source": [
    "df.HourlyPresentWeatherType.value_counts()"
   ]
  },
  {
   "cell_type": "code",
   "execution_count": 24,
   "metadata": {},
   "outputs": [],
   "source": [
    "pd.set_option('display.max_rows', 100)"
   ]
  },
  {
   "cell_type": "code",
   "execution_count": null,
   "metadata": {},
   "outputs": [],
   "source": []
  }
 ],
 "metadata": {
  "kernelspec": {
   "display_name": "Python 3",
   "language": "python",
   "name": "python3"
  },
  "language_info": {
   "codemirror_mode": {
    "name": "ipython",
    "version": 3
   },
   "file_extension": ".py",
   "mimetype": "text/x-python",
   "name": "python",
   "nbconvert_exporter": "python",
   "pygments_lexer": "ipython3",
   "version": "3.9.5"
  }
 },
 "nbformat": 4,
 "nbformat_minor": 4
}
