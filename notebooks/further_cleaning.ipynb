{
 "cells": [
  {
   "cell_type": "code",
   "execution_count": 1,
   "metadata": {},
   "outputs": [],
   "source": [
    "import pandas as pd\n",
    "import numpy as np\n",
    "import re"
   ]
  },
  {
   "cell_type": "code",
   "execution_count": 2,
   "metadata": {},
   "outputs": [
    {
     "name": "stderr",
     "output_type": "stream",
     "text": [
      "c:\\users\\hp\\appdata\\local\\programs\\python\\python37\\lib\\site-packages\\IPython\\core\\interactiveshell.py:3063: DtypeWarning: Columns (3,11,21) have mixed types.Specify dtype option on import or set low_memory=False.\n",
      "  interactivity=interactivity, compiler=compiler, result=result)\n"
     ]
    }
   ],
   "source": [
    "df = pd.read_csv('../database/clean_train_data.csv', index_col = 0)"
   ]
  },
  {
   "cell_type": "code",
   "execution_count": 3,
   "metadata": {},
   "outputs": [
    {
     "data": {
      "text/html": [
       "<div>\n",
       "<style scoped>\n",
       "    .dataframe tbody tr th:only-of-type {\n",
       "        vertical-align: middle;\n",
       "    }\n",
       "\n",
       "    .dataframe tbody tr th {\n",
       "        vertical-align: top;\n",
       "    }\n",
       "\n",
       "    .dataframe thead th {\n",
       "        text-align: right;\n",
       "    }\n",
       "</style>\n",
       "<table border=\"1\" class=\"dataframe\">\n",
       "  <thead>\n",
       "    <tr style=\"text-align: right;\">\n",
       "      <th></th>\n",
       "      <th>STATION</th>\n",
       "      <th>ELEVATION</th>\n",
       "      <th>HourlyAltimeterSetting</th>\n",
       "      <th>HourlyDewPointTemperature</th>\n",
       "      <th>HourlyDryBulbTemperature</th>\n",
       "      <th>HourlyPresentWeatherType</th>\n",
       "      <th>HourlyPressureTendency</th>\n",
       "      <th>HourlyRelativeHumidity</th>\n",
       "      <th>HourlySkyConditions</th>\n",
       "      <th>HourlySeaLevelPressure</th>\n",
       "      <th>...</th>\n",
       "      <th>HourlyWetBulbTemperature</th>\n",
       "      <th>HourlyWindDirection</th>\n",
       "      <th>HourlyWindSpeed</th>\n",
       "      <th>YEAR</th>\n",
       "      <th>MONTH</th>\n",
       "      <th>DAY</th>\n",
       "      <th>HOUR</th>\n",
       "      <th>MINUTES</th>\n",
       "      <th>SECONDS</th>\n",
       "      <th>TARGETS</th>\n",
       "    </tr>\n",
       "  </thead>\n",
       "  <tbody>\n",
       "    <tr>\n",
       "      <th>0</th>\n",
       "      <td>42369099999</td>\n",
       "      <td>124.96</td>\n",
       "      <td>NaN</td>\n",
       "      <td>61</td>\n",
       "      <td>100</td>\n",
       "      <td>||HZ</td>\n",
       "      <td>9.0</td>\n",
       "      <td>27.0</td>\n",
       "      <td>FEW:01 98</td>\n",
       "      <td>29.62</td>\n",
       "      <td>...</td>\n",
       "      <td>NaN</td>\n",
       "      <td>90</td>\n",
       "      <td>10</td>\n",
       "      <td>2013</td>\n",
       "      <td>5</td>\n",
       "      <td>5</td>\n",
       "      <td>11</td>\n",
       "      <td>30</td>\n",
       "      <td>0</td>\n",
       "      <td>2.49</td>\n",
       "    </tr>\n",
       "    <tr>\n",
       "      <th>1</th>\n",
       "      <td>42369099999</td>\n",
       "      <td>124.96</td>\n",
       "      <td>30.06</td>\n",
       "      <td>55</td>\n",
       "      <td>61</td>\n",
       "      <td>NaN</td>\n",
       "      <td>NaN</td>\n",
       "      <td>83.0</td>\n",
       "      <td>SCT:04 20 SCT:04 100</td>\n",
       "      <td>NaN</td>\n",
       "      <td>...</td>\n",
       "      <td>NaN</td>\n",
       "      <td>VRB</td>\n",
       "      <td>2</td>\n",
       "      <td>2019</td>\n",
       "      <td>1</td>\n",
       "      <td>23</td>\n",
       "      <td>22</td>\n",
       "      <td>0</td>\n",
       "      <td>0</td>\n",
       "      <td>1.24</td>\n",
       "    </tr>\n",
       "    <tr>\n",
       "      <th>2</th>\n",
       "      <td>42452099999</td>\n",
       "      <td>273.10</td>\n",
       "      <td>NaN</td>\n",
       "      <td>51</td>\n",
       "      <td>67</td>\n",
       "      <td>NaN</td>\n",
       "      <td>9.0</td>\n",
       "      <td>57.0</td>\n",
       "      <td>NaN</td>\n",
       "      <td>29.77</td>\n",
       "      <td>...</td>\n",
       "      <td>NaN</td>\n",
       "      <td>230</td>\n",
       "      <td>5</td>\n",
       "      <td>2005</td>\n",
       "      <td>2</td>\n",
       "      <td>17</td>\n",
       "      <td>8</td>\n",
       "      <td>30</td>\n",
       "      <td>0</td>\n",
       "      <td>2.49</td>\n",
       "    </tr>\n",
       "    <tr>\n",
       "      <th>3</th>\n",
       "      <td>42369099999</td>\n",
       "      <td>124.96</td>\n",
       "      <td>NaN</td>\n",
       "      <td>41</td>\n",
       "      <td>94</td>\n",
       "      <td>||DU</td>\n",
       "      <td>9.0</td>\n",
       "      <td>16.0</td>\n",
       "      <td>NaN</td>\n",
       "      <td>29.55</td>\n",
       "      <td>...</td>\n",
       "      <td>NaN</td>\n",
       "      <td>0</td>\n",
       "      <td>0</td>\n",
       "      <td>1984</td>\n",
       "      <td>5</td>\n",
       "      <td>20</td>\n",
       "      <td>8</td>\n",
       "      <td>30</td>\n",
       "      <td>0</td>\n",
       "      <td>2.49</td>\n",
       "    </tr>\n",
       "    <tr>\n",
       "      <th>4</th>\n",
       "      <td>42503099999</td>\n",
       "      <td>31.00</td>\n",
       "      <td>NaN</td>\n",
       "      <td>55</td>\n",
       "      <td>82</td>\n",
       "      <td>NaN</td>\n",
       "      <td>9.0</td>\n",
       "      <td>39.0</td>\n",
       "      <td>NaN</td>\n",
       "      <td>30.01</td>\n",
       "      <td>...</td>\n",
       "      <td>NaN</td>\n",
       "      <td>320</td>\n",
       "      <td>2</td>\n",
       "      <td>2016</td>\n",
       "      <td>11</td>\n",
       "      <td>16</td>\n",
       "      <td>11</td>\n",
       "      <td>30</td>\n",
       "      <td>0</td>\n",
       "      <td>2.49</td>\n",
       "    </tr>\n",
       "  </tbody>\n",
       "</table>\n",
       "<p>5 rows × 21 columns</p>\n",
       "</div>"
      ],
      "text/plain": [
       "       STATION  ELEVATION HourlyAltimeterSetting HourlyDewPointTemperature  \\\n",
       "0  42369099999     124.96                    NaN                        61   \n",
       "1  42369099999     124.96                  30.06                        55   \n",
       "2  42452099999     273.10                    NaN                        51   \n",
       "3  42369099999     124.96                    NaN                        41   \n",
       "4  42503099999      31.00                    NaN                        55   \n",
       "\n",
       "  HourlyDryBulbTemperature HourlyPresentWeatherType  HourlyPressureTendency  \\\n",
       "0                      100                     ||HZ                     9.0   \n",
       "1                       61                      NaN                     NaN   \n",
       "2                       67                      NaN                     9.0   \n",
       "3                       94                     ||DU                     9.0   \n",
       "4                       82                      NaN                     9.0   \n",
       "\n",
       "   HourlyRelativeHumidity   HourlySkyConditions HourlySeaLevelPressure  ...  \\\n",
       "0                    27.0             FEW:01 98                  29.62  ...   \n",
       "1                    83.0  SCT:04 20 SCT:04 100                    NaN  ...   \n",
       "2                    57.0                   NaN                  29.77  ...   \n",
       "3                    16.0                   NaN                  29.55  ...   \n",
       "4                    39.0                   NaN                  30.01  ...   \n",
       "\n",
       "  HourlyWetBulbTemperature  HourlyWindDirection HourlyWindSpeed  YEAR  MONTH  \\\n",
       "0                      NaN                   90              10  2013      5   \n",
       "1                      NaN                  VRB               2  2019      1   \n",
       "2                      NaN                  230               5  2005      2   \n",
       "3                      NaN                    0               0  1984      5   \n",
       "4                      NaN                  320               2  2016     11   \n",
       "\n",
       "   DAY  HOUR  MINUTES  SECONDS  TARGETS  \n",
       "0    5    11       30        0     2.49  \n",
       "1   23    22        0        0     1.24  \n",
       "2   17     8       30        0     2.49  \n",
       "3   20     8       30        0     2.49  \n",
       "4   16    11       30        0     2.49  \n",
       "\n",
       "[5 rows x 21 columns]"
      ]
     },
     "execution_count": 3,
     "metadata": {},
     "output_type": "execute_result"
    }
   ],
   "source": [
    "df.head()"
   ]
  },
  {
   "cell_type": "code",
   "execution_count": 4,
   "metadata": {},
   "outputs": [
    {
     "name": "stdout",
     "output_type": "stream",
     "text": [
      "<class 'pandas.core.frame.DataFrame'>\n",
      "Int64Index: 934807 entries, 0 to 934806\n",
      "Data columns (total 21 columns):\n",
      " #   Column                     Non-Null Count   Dtype  \n",
      "---  ------                     --------------   -----  \n",
      " 0   STATION                    934807 non-null  int64  \n",
      " 1   ELEVATION                  934807 non-null  float64\n",
      " 2   HourlyAltimeterSetting     217039 non-null  object \n",
      " 3   HourlyDewPointTemperature  916829 non-null  object \n",
      " 4   HourlyDryBulbTemperature   923010 non-null  object \n",
      " 5   HourlyPresentWeatherType   398691 non-null  object \n",
      " 6   HourlyPressureTendency     586427 non-null  float64\n",
      " 7   HourlyRelativeHumidity     916208 non-null  float64\n",
      " 8   HourlySkyConditions        507788 non-null  object \n",
      " 9   HourlySeaLevelPressure     670809 non-null  object \n",
      " 10  HourlyStationPressure      24403 non-null   object \n",
      " 11  HourlyWetBulbTemperature   24222 non-null   float64\n",
      " 12  HourlyWindDirection        925461 non-null  object \n",
      " 13  HourlyWindSpeed            924185 non-null  object \n",
      " 14  YEAR                       934807 non-null  int64  \n",
      " 15  MONTH                      934807 non-null  int64  \n",
      " 16  DAY                        934807 non-null  int64  \n",
      " 17  HOUR                       934807 non-null  int64  \n",
      " 18  MINUTES                    934807 non-null  int64  \n",
      " 19  SECONDS                    934807 non-null  int64  \n",
      " 20  TARGETS                    934807 non-null  object \n",
      "dtypes: float64(4), int64(7), object(10)\n",
      "memory usage: 156.9+ MB\n"
     ]
    }
   ],
   "source": [
    "df.info()"
   ]
  },
  {
   "cell_type": "code",
   "execution_count": 5,
   "metadata": {},
   "outputs": [],
   "source": [
    "def get_numeric(string):\n",
    "    try:\n",
    "        return float(string)\n",
    "    except:\n",
    "        if type(string) is str:\n",
    "            reg = re.compile(r\"(?P<num>-?\\d+)(?P<dec>\\.\\d+)?\")\n",
    "            m = reg.match(string)\n",
    "            if m:\n",
    "                num = m.groupdict().get('num')\n",
    "                dec = m.groupdict().get('dec')\n",
    "                if dec:\n",
    "                    return float(num+dec)\n",
    "                else:\n",
    "                    return float(num)\n",
    "        else:\n",
    "            return np.nan"
   ]
  },
  {
   "cell_type": "code",
   "execution_count": 6,
   "metadata": {},
   "outputs": [
    {
     "data": {
      "text/plain": [
       "29.94     10804\n",
       "29.91     10433\n",
       "29.97     10386\n",
       "29.59      9941\n",
       "29.53      9922\n",
       "          ...  \n",
       "30.24         1\n",
       "29.41s        1\n",
       "29.53s        1\n",
       "30.09s        1\n",
       "29.71s        1\n",
       "Name: HourlyAltimeterSetting, Length: 106, dtype: int64"
      ]
     },
     "execution_count": 6,
     "metadata": {},
     "output_type": "execute_result"
    }
   ],
   "source": [
    "df.HourlyAltimeterSetting.value_counts()"
   ]
  },
  {
   "cell_type": "code",
   "execution_count": 7,
   "metadata": {},
   "outputs": [],
   "source": [
    "# print(df.HourlyAltimeterSetting.info())\n",
    "df['HourlyAltimeterSetting'] = df['HourlyAltimeterSetting'].apply(get_numeric)\n",
    "# df.HourlyAltimeterSetting.info\n"
   ]
  },
  {
   "cell_type": "code",
   "execution_count": 8,
   "metadata": {},
   "outputs": [],
   "source": [
    "# print(df.HourlyDewPointTemperature.info())\n",
    "df['HourlyDewPointTemperature'] = df['HourlyDewPointTemperature'].apply(get_numeric)\n",
    "# print(df.HourlyDewPointTemperature.info())"
   ]
  },
  {
   "cell_type": "code",
   "execution_count": 9,
   "metadata": {},
   "outputs": [],
   "source": [
    "# print(df.HourlyDryBulbTemperature.info())\n",
    "df['HourlyDryBulbTemperature'] = df['HourlyDryBulbTemperature'].apply(get_numeric)\n",
    "# print(df.HourlyDryBulbTemperature.info())"
   ]
  },
  {
   "cell_type": "code",
   "execution_count": 10,
   "metadata": {},
   "outputs": [],
   "source": [
    "# print(df.HourlySeaLevelPressure.info())\n",
    "df['HourlySeaLevelPressure'] = df['HourlySeaLevelPressure'].apply(get_numeric)\n",
    "# print(df.HourlySeaLevelPressure.info())"
   ]
  },
  {
   "cell_type": "code",
   "execution_count": 11,
   "metadata": {},
   "outputs": [],
   "source": [
    "# print(df.HourlyStationPressure.info())\n",
    "df['HourlyStationPressure'] = df['HourlyStationPressure'].apply(get_numeric)\n",
    "# print(df.HourlyStationPressure.info())"
   ]
  },
  {
   "cell_type": "code",
   "execution_count": 12,
   "metadata": {},
   "outputs": [],
   "source": [
    "# print(df.HourlyWindSpeed.info())\n",
    "df['HourlyWindSpeed'] = df['HourlyWindSpeed'].apply(get_numeric)\n",
    "# print(df.HourlyWindSpeed.info())"
   ]
  },
  {
   "cell_type": "code",
   "execution_count": 13,
   "metadata": {},
   "outputs": [],
   "source": [
    "# print(df.HourlyWindDirection.info())\n",
    "df['HourlyWindDirection'] = df['HourlyWindDirection'].apply(get_numeric)\n",
    "# print(df.HourlyWindDirection.info())"
   ]
  },
  {
   "cell_type": "code",
   "execution_count": 14,
   "metadata": {},
   "outputs": [],
   "source": [
    "# print(df.TARGETS.info())\n",
    "df['TARGETS'] = df['TARGETS'].apply(get_numeric)\n",
    "# print(df.TARGETS.info())"
   ]
  },
  {
   "cell_type": "code",
   "execution_count": 15,
   "metadata": {},
   "outputs": [
    {
     "name": "stdout",
     "output_type": "stream",
     "text": [
      "<class 'pandas.core.frame.DataFrame'>\n",
      "Int64Index: 934807 entries, 0 to 934806\n",
      "Data columns (total 21 columns):\n",
      " #   Column                     Non-Null Count   Dtype  \n",
      "---  ------                     --------------   -----  \n",
      " 0   STATION                    934807 non-null  int64  \n",
      " 1   ELEVATION                  934807 non-null  float64\n",
      " 2   HourlyAltimeterSetting     217039 non-null  float64\n",
      " 3   HourlyDewPointTemperature  916829 non-null  float64\n",
      " 4   HourlyDryBulbTemperature   923010 non-null  float64\n",
      " 5   HourlyPresentWeatherType   398691 non-null  object \n",
      " 6   HourlyPressureTendency     586427 non-null  float64\n",
      " 7   HourlyRelativeHumidity     916208 non-null  float64\n",
      " 8   HourlySkyConditions        507788 non-null  object \n",
      " 9   HourlySeaLevelPressure     670809 non-null  float64\n",
      " 10  HourlyStationPressure      24403 non-null   float64\n",
      " 11  HourlyWetBulbTemperature   24222 non-null   float64\n",
      " 12  HourlyWindDirection        863718 non-null  float64\n",
      " 13  HourlyWindSpeed            924185 non-null  float64\n",
      " 14  YEAR                       934807 non-null  int64  \n",
      " 15  MONTH                      934807 non-null  int64  \n",
      " 16  DAY                        934807 non-null  int64  \n",
      " 17  HOUR                       934807 non-null  int64  \n",
      " 18  MINUTES                    934807 non-null  int64  \n",
      " 19  SECONDS                    934807 non-null  int64  \n",
      " 20  TARGETS                    934807 non-null  float64\n",
      "dtypes: float64(12), int64(7), object(2)\n",
      "memory usage: 156.9+ MB\n"
     ]
    }
   ],
   "source": [
    "df.info()"
   ]
  },
  {
   "cell_type": "code",
   "execution_count": 16,
   "metadata": {},
   "outputs": [],
   "source": [
    "df.to_csv(r\"D:\\IISERB\\3rd Year 2nd sem\\Data Science and Machine Learning\\Spatiotemporal_Extreme_Event_Prediction_using_ML\\database\\clean_train_data_v2.csv\")"
   ]
  },
  {
   "cell_type": "code",
   "execution_count": 17,
   "metadata": {},
   "outputs": [
    {
     "data": {
      "text/plain": [
       "||HZ         282782\n",
       "||DU          31236\n",
       "||FG          25866\n",
       "||FU          23421\n",
       "||RA          18102\n",
       "              ...  \n",
       "|DZ |             1\n",
       "||FG DU           1\n",
       "||TS DU           1\n",
       "||FU RA           1\n",
       "||TS SHRA         1\n",
       "Name: HourlyPresentWeatherType, Length: 72, dtype: int64"
      ]
     },
     "execution_count": 17,
     "metadata": {},
     "output_type": "execute_result"
    }
   ],
   "source": [
    "df.HourlyPresentWeatherType.value_counts()"
   ]
  },
  {
   "cell_type": "code",
   "execution_count": null,
   "metadata": {},
   "outputs": [],
   "source": [
    "pd.set_option('display.max_rows', 100)"
   ]
  },
  {
   "cell_type": "code",
   "execution_count": null,
   "metadata": {},
   "outputs": [],
   "source": []
  }
 ],
 "metadata": {
  "kernelspec": {
   "display_name": "Python 3",
   "language": "python",
   "name": "python3"
  },
  "language_info": {
   "codemirror_mode": {
    "name": "ipython",
    "version": 3
   },
   "file_extension": ".py",
   "mimetype": "text/x-python",
   "name": "python",
   "nbconvert_exporter": "python",
   "pygments_lexer": "ipython3",
   "version": "3.7.7"
  }
 },
 "nbformat": 4,
 "nbformat_minor": 4
}
