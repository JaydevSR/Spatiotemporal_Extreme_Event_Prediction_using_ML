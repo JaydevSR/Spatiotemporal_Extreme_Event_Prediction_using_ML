{
 "cells": [
  {
   "cell_type": "code",
   "execution_count": 1,
   "metadata": {},
   "outputs": [],
   "source": [
    "import pandas as pd\n",
    "import numpy as np\n",
    "from tqdm import tqdm\n",
    "import matplotlib.pyplot as plt"
   ]
  },
  {
   "cell_type": "code",
   "execution_count": 2,
   "metadata": {},
   "outputs": [],
   "source": [
    "df = pd.read_csv('../database/clean_train_data_v2.csv', index_col = 0)"
   ]
  },
  {
   "cell_type": "code",
   "execution_count": 3,
   "metadata": {},
   "outputs": [],
   "source": [
    "df = df[df['TARGETS'] < 15]"
   ]
  },
  {
   "cell_type": "code",
   "execution_count": 4,
   "metadata": {},
   "outputs": [
    {
     "data": {
      "text/html": [
       "<div>\n",
       "<style scoped>\n",
       "    .dataframe tbody tr th:only-of-type {\n",
       "        vertical-align: middle;\n",
       "    }\n",
       "\n",
       "    .dataframe tbody tr th {\n",
       "        vertical-align: top;\n",
       "    }\n",
       "\n",
       "    .dataframe thead th {\n",
       "        text-align: right;\n",
       "    }\n",
       "</style>\n",
       "<table border=\"1\" class=\"dataframe\">\n",
       "  <thead>\n",
       "    <tr style=\"text-align: right;\">\n",
       "      <th></th>\n",
       "      <th>STATION</th>\n",
       "      <th>ELEVATION</th>\n",
       "      <th>HourlyAltimeterSetting</th>\n",
       "      <th>HourlyDewPointTemperature</th>\n",
       "      <th>HourlyDryBulbTemperature</th>\n",
       "      <th>HourlyPresentWeatherType</th>\n",
       "      <th>HourlyPressureTendency</th>\n",
       "      <th>HourlyRelativeHumidity</th>\n",
       "      <th>HourlySkyConditions</th>\n",
       "      <th>HourlySeaLevelPressure</th>\n",
       "      <th>...</th>\n",
       "      <th>HourlyWetBulbTemperature</th>\n",
       "      <th>HourlyWindDirection</th>\n",
       "      <th>HourlyWindSpeed</th>\n",
       "      <th>YEAR</th>\n",
       "      <th>MONTH</th>\n",
       "      <th>DAY</th>\n",
       "      <th>HOUR</th>\n",
       "      <th>MINUTES</th>\n",
       "      <th>SECONDS</th>\n",
       "      <th>TARGETS</th>\n",
       "    </tr>\n",
       "  </thead>\n",
       "  <tbody>\n",
       "    <tr>\n",
       "      <th>0</th>\n",
       "      <td>42369099999</td>\n",
       "      <td>124.96</td>\n",
       "      <td>NaN</td>\n",
       "      <td>61.0</td>\n",
       "      <td>100.0</td>\n",
       "      <td>||HZ</td>\n",
       "      <td>9.0</td>\n",
       "      <td>27.0</td>\n",
       "      <td>FEW:01 98</td>\n",
       "      <td>29.62</td>\n",
       "      <td>...</td>\n",
       "      <td>NaN</td>\n",
       "      <td>90.0</td>\n",
       "      <td>10.0</td>\n",
       "      <td>2013</td>\n",
       "      <td>5</td>\n",
       "      <td>5</td>\n",
       "      <td>11</td>\n",
       "      <td>30</td>\n",
       "      <td>0</td>\n",
       "      <td>2.49</td>\n",
       "    </tr>\n",
       "    <tr>\n",
       "      <th>1</th>\n",
       "      <td>42369099999</td>\n",
       "      <td>124.96</td>\n",
       "      <td>30.06</td>\n",
       "      <td>55.0</td>\n",
       "      <td>61.0</td>\n",
       "      <td>NaN</td>\n",
       "      <td>NaN</td>\n",
       "      <td>83.0</td>\n",
       "      <td>SCT:04 20 SCT:04 100</td>\n",
       "      <td>NaN</td>\n",
       "      <td>...</td>\n",
       "      <td>NaN</td>\n",
       "      <td>NaN</td>\n",
       "      <td>2.0</td>\n",
       "      <td>2019</td>\n",
       "      <td>1</td>\n",
       "      <td>23</td>\n",
       "      <td>22</td>\n",
       "      <td>0</td>\n",
       "      <td>0</td>\n",
       "      <td>1.24</td>\n",
       "    </tr>\n",
       "    <tr>\n",
       "      <th>2</th>\n",
       "      <td>42452099999</td>\n",
       "      <td>273.10</td>\n",
       "      <td>NaN</td>\n",
       "      <td>51.0</td>\n",
       "      <td>67.0</td>\n",
       "      <td>NaN</td>\n",
       "      <td>9.0</td>\n",
       "      <td>57.0</td>\n",
       "      <td>NaN</td>\n",
       "      <td>29.77</td>\n",
       "      <td>...</td>\n",
       "      <td>NaN</td>\n",
       "      <td>230.0</td>\n",
       "      <td>5.0</td>\n",
       "      <td>2005</td>\n",
       "      <td>2</td>\n",
       "      <td>17</td>\n",
       "      <td>8</td>\n",
       "      <td>30</td>\n",
       "      <td>0</td>\n",
       "      <td>2.49</td>\n",
       "    </tr>\n",
       "    <tr>\n",
       "      <th>3</th>\n",
       "      <td>42369099999</td>\n",
       "      <td>124.96</td>\n",
       "      <td>NaN</td>\n",
       "      <td>41.0</td>\n",
       "      <td>94.0</td>\n",
       "      <td>||DU</td>\n",
       "      <td>9.0</td>\n",
       "      <td>16.0</td>\n",
       "      <td>NaN</td>\n",
       "      <td>29.55</td>\n",
       "      <td>...</td>\n",
       "      <td>NaN</td>\n",
       "      <td>0.0</td>\n",
       "      <td>0.0</td>\n",
       "      <td>1984</td>\n",
       "      <td>5</td>\n",
       "      <td>20</td>\n",
       "      <td>8</td>\n",
       "      <td>30</td>\n",
       "      <td>0</td>\n",
       "      <td>2.49</td>\n",
       "    </tr>\n",
       "    <tr>\n",
       "      <th>4</th>\n",
       "      <td>42503099999</td>\n",
       "      <td>31.00</td>\n",
       "      <td>NaN</td>\n",
       "      <td>55.0</td>\n",
       "      <td>82.0</td>\n",
       "      <td>NaN</td>\n",
       "      <td>9.0</td>\n",
       "      <td>39.0</td>\n",
       "      <td>NaN</td>\n",
       "      <td>30.01</td>\n",
       "      <td>...</td>\n",
       "      <td>NaN</td>\n",
       "      <td>320.0</td>\n",
       "      <td>2.0</td>\n",
       "      <td>2016</td>\n",
       "      <td>11</td>\n",
       "      <td>16</td>\n",
       "      <td>11</td>\n",
       "      <td>30</td>\n",
       "      <td>0</td>\n",
       "      <td>2.49</td>\n",
       "    </tr>\n",
       "  </tbody>\n",
       "</table>\n",
       "<p>5 rows × 21 columns</p>\n",
       "</div>"
      ],
      "text/plain": [
       "       STATION  ELEVATION  HourlyAltimeterSetting  HourlyDewPointTemperature  \\\n",
       "0  42369099999     124.96                     NaN                       61.0   \n",
       "1  42369099999     124.96                   30.06                       55.0   \n",
       "2  42452099999     273.10                     NaN                       51.0   \n",
       "3  42369099999     124.96                     NaN                       41.0   \n",
       "4  42503099999      31.00                     NaN                       55.0   \n",
       "\n",
       "   HourlyDryBulbTemperature HourlyPresentWeatherType  HourlyPressureTendency  \\\n",
       "0                     100.0                     ||HZ                     9.0   \n",
       "1                      61.0                      NaN                     NaN   \n",
       "2                      67.0                      NaN                     9.0   \n",
       "3                      94.0                     ||DU                     9.0   \n",
       "4                      82.0                      NaN                     9.0   \n",
       "\n",
       "   HourlyRelativeHumidity   HourlySkyConditions  HourlySeaLevelPressure  ...  \\\n",
       "0                    27.0             FEW:01 98                   29.62  ...   \n",
       "1                    83.0  SCT:04 20 SCT:04 100                     NaN  ...   \n",
       "2                    57.0                   NaN                   29.77  ...   \n",
       "3                    16.0                   NaN                   29.55  ...   \n",
       "4                    39.0                   NaN                   30.01  ...   \n",
       "\n",
       "   HourlyWetBulbTemperature  HourlyWindDirection  HourlyWindSpeed  YEAR  \\\n",
       "0                       NaN                 90.0             10.0  2013   \n",
       "1                       NaN                  NaN              2.0  2019   \n",
       "2                       NaN                230.0              5.0  2005   \n",
       "3                       NaN                  0.0              0.0  1984   \n",
       "4                       NaN                320.0              2.0  2016   \n",
       "\n",
       "   MONTH  DAY  HOUR  MINUTES  SECONDS  TARGETS  \n",
       "0      5    5    11       30        0     2.49  \n",
       "1      1   23    22        0        0     1.24  \n",
       "2      2   17     8       30        0     2.49  \n",
       "3      5   20     8       30        0     2.49  \n",
       "4     11   16    11       30        0     2.49  \n",
       "\n",
       "[5 rows x 21 columns]"
      ]
     },
     "execution_count": 4,
     "metadata": {},
     "output_type": "execute_result"
    }
   ],
   "source": [
    "df.head()"
   ]
  },
  {
   "cell_type": "code",
   "execution_count": 5,
   "metadata": {},
   "outputs": [
    {
     "name": "stdout",
     "output_type": "stream",
     "text": [
      "<class 'pandas.core.frame.DataFrame'>\n",
      "Int64Index: 919203 entries, 0 to 934805\n",
      "Data columns (total 21 columns):\n",
      " #   Column                     Non-Null Count   Dtype  \n",
      "---  ------                     --------------   -----  \n",
      " 0   STATION                    919203 non-null  int64  \n",
      " 1   ELEVATION                  919203 non-null  float64\n",
      " 2   HourlyAltimeterSetting     216905 non-null  float64\n",
      " 3   HourlyDewPointTemperature  901733 non-null  float64\n",
      " 4   HourlyDryBulbTemperature   907765 non-null  float64\n",
      " 5   HourlyPresentWeatherType   398149 non-null  object \n",
      " 6   HourlyPressureTendency     585592 non-null  float64\n",
      " 7   HourlyRelativeHumidity     901133 non-null  float64\n",
      " 8   HourlySkyConditions        498095 non-null  object \n",
      " 9   HourlySeaLevelPressure     657190 non-null  float64\n",
      " 10  HourlyStationPressure      23685 non-null   float64\n",
      " 11  HourlyWetBulbTemperature   23530 non-null   float64\n",
      " 12  HourlyWindDirection        848317 non-null  float64\n",
      " 13  HourlyWindSpeed            908783 non-null  float64\n",
      " 14  YEAR                       919203 non-null  int64  \n",
      " 15  MONTH                      919203 non-null  int64  \n",
      " 16  DAY                        919203 non-null  int64  \n",
      " 17  HOUR                       919203 non-null  int64  \n",
      " 18  MINUTES                    919203 non-null  int64  \n",
      " 19  SECONDS                    919203 non-null  int64  \n",
      " 20  TARGETS                    919203 non-null  float64\n",
      "dtypes: float64(12), int64(7), object(2)\n",
      "memory usage: 154.3+ MB\n"
     ]
    }
   ],
   "source": [
    "df.info()"
   ]
  },
  {
   "cell_type": "code",
   "execution_count": 6,
   "metadata": {},
   "outputs": [
    {
     "data": {
      "text/plain": [
       "0    919203\n",
       "Name: SECONDS, dtype: int64"
      ]
     },
     "execution_count": 6,
     "metadata": {},
     "output_type": "execute_result"
    }
   ],
   "source": [
    "df.SECONDS.value_counts()"
   ]
  },
  {
   "cell_type": "code",
   "execution_count": 7,
   "metadata": {},
   "outputs": [],
   "source": [
    "df.drop(['SECONDS'], axis = 1, inplace = True)"
   ]
  },
  {
   "cell_type": "code",
   "execution_count": 8,
   "metadata": {},
   "outputs": [],
   "source": [
    "df.sort_values(['STATION', 'YEAR', 'MONTH', 'DAY', 'HOUR', 'MINUTES'], inplace = True)"
   ]
  },
  {
   "cell_type": "code",
   "execution_count": 9,
   "metadata": {},
   "outputs": [],
   "source": [
    "df.reset_index(inplace = True, drop=True)"
   ]
  },
  {
   "cell_type": "code",
   "execution_count": 10,
   "metadata": {},
   "outputs": [
    {
     "data": {
      "text/html": [
       "<div>\n",
       "<style scoped>\n",
       "    .dataframe tbody tr th:only-of-type {\n",
       "        vertical-align: middle;\n",
       "    }\n",
       "\n",
       "    .dataframe tbody tr th {\n",
       "        vertical-align: top;\n",
       "    }\n",
       "\n",
       "    .dataframe thead th {\n",
       "        text-align: right;\n",
       "    }\n",
       "</style>\n",
       "<table border=\"1\" class=\"dataframe\">\n",
       "  <thead>\n",
       "    <tr style=\"text-align: right;\">\n",
       "      <th></th>\n",
       "      <th>STATION</th>\n",
       "      <th>ELEVATION</th>\n",
       "      <th>HourlyAltimeterSetting</th>\n",
       "      <th>HourlyDewPointTemperature</th>\n",
       "      <th>HourlyDryBulbTemperature</th>\n",
       "      <th>HourlyPresentWeatherType</th>\n",
       "      <th>HourlyPressureTendency</th>\n",
       "      <th>HourlyRelativeHumidity</th>\n",
       "      <th>HourlySkyConditions</th>\n",
       "      <th>HourlySeaLevelPressure</th>\n",
       "      <th>HourlyStationPressure</th>\n",
       "      <th>HourlyWetBulbTemperature</th>\n",
       "      <th>HourlyWindDirection</th>\n",
       "      <th>HourlyWindSpeed</th>\n",
       "      <th>YEAR</th>\n",
       "      <th>MONTH</th>\n",
       "      <th>DAY</th>\n",
       "      <th>HOUR</th>\n",
       "      <th>MINUTES</th>\n",
       "      <th>TARGETS</th>\n",
       "    </tr>\n",
       "  </thead>\n",
       "  <tbody>\n",
       "    <tr>\n",
       "      <th>0</th>\n",
       "      <td>42030099999</td>\n",
       "      <td>3066.0</td>\n",
       "      <td>NaN</td>\n",
       "      <td>NaN</td>\n",
       "      <td>NaN</td>\n",
       "      <td>NaN</td>\n",
       "      <td>NaN</td>\n",
       "      <td>NaN</td>\n",
       "      <td>0  0</td>\n",
       "      <td>29.78</td>\n",
       "      <td>NaN</td>\n",
       "      <td>NaN</td>\n",
       "      <td>0.0</td>\n",
       "      <td>0.0</td>\n",
       "      <td>1944</td>\n",
       "      <td>1</td>\n",
       "      <td>3</td>\n",
       "      <td>8</td>\n",
       "      <td>30</td>\n",
       "      <td>0.62</td>\n",
       "    </tr>\n",
       "    <tr>\n",
       "      <th>1</th>\n",
       "      <td>42030099999</td>\n",
       "      <td>3066.0</td>\n",
       "      <td>NaN</td>\n",
       "      <td>2.0</td>\n",
       "      <td>3.0</td>\n",
       "      <td>NaN</td>\n",
       "      <td>NaN</td>\n",
       "      <td>95.0</td>\n",
       "      <td>0  0</td>\n",
       "      <td>29.77</td>\n",
       "      <td>NaN</td>\n",
       "      <td>NaN</td>\n",
       "      <td>0.0</td>\n",
       "      <td>0.0</td>\n",
       "      <td>1944</td>\n",
       "      <td>1</td>\n",
       "      <td>7</td>\n",
       "      <td>8</td>\n",
       "      <td>30</td>\n",
       "      <td>0.62</td>\n",
       "    </tr>\n",
       "    <tr>\n",
       "      <th>2</th>\n",
       "      <td>42030099999</td>\n",
       "      <td>3066.0</td>\n",
       "      <td>NaN</td>\n",
       "      <td>NaN</td>\n",
       "      <td>14.0</td>\n",
       "      <td>NaN</td>\n",
       "      <td>NaN</td>\n",
       "      <td>NaN</td>\n",
       "      <td>0  0</td>\n",
       "      <td>29.74</td>\n",
       "      <td>NaN</td>\n",
       "      <td>NaN</td>\n",
       "      <td>0.0</td>\n",
       "      <td>0.0</td>\n",
       "      <td>1944</td>\n",
       "      <td>1</td>\n",
       "      <td>8</td>\n",
       "      <td>8</td>\n",
       "      <td>30</td>\n",
       "      <td>0.31</td>\n",
       "    </tr>\n",
       "    <tr>\n",
       "      <th>3</th>\n",
       "      <td>42030099999</td>\n",
       "      <td>3066.0</td>\n",
       "      <td>NaN</td>\n",
       "      <td>NaN</td>\n",
       "      <td>11.0</td>\n",
       "      <td>NaN</td>\n",
       "      <td>NaN</td>\n",
       "      <td>NaN</td>\n",
       "      <td>0  0</td>\n",
       "      <td>29.71</td>\n",
       "      <td>NaN</td>\n",
       "      <td>NaN</td>\n",
       "      <td>0.0</td>\n",
       "      <td>0.0</td>\n",
       "      <td>1944</td>\n",
       "      <td>1</td>\n",
       "      <td>22</td>\n",
       "      <td>8</td>\n",
       "      <td>30</td>\n",
       "      <td>0.62</td>\n",
       "    </tr>\n",
       "    <tr>\n",
       "      <th>4</th>\n",
       "      <td>42030099999</td>\n",
       "      <td>3066.0</td>\n",
       "      <td>NaN</td>\n",
       "      <td>NaN</td>\n",
       "      <td>7.0</td>\n",
       "      <td>NaN</td>\n",
       "      <td>NaN</td>\n",
       "      <td>NaN</td>\n",
       "      <td>0  0</td>\n",
       "      <td>29.49</td>\n",
       "      <td>NaN</td>\n",
       "      <td>NaN</td>\n",
       "      <td>0.0</td>\n",
       "      <td>0.0</td>\n",
       "      <td>1944</td>\n",
       "      <td>2</td>\n",
       "      <td>12</td>\n",
       "      <td>8</td>\n",
       "      <td>30</td>\n",
       "      <td>2.49</td>\n",
       "    </tr>\n",
       "  </tbody>\n",
       "</table>\n",
       "</div>"
      ],
      "text/plain": [
       "       STATION  ELEVATION  HourlyAltimeterSetting  HourlyDewPointTemperature  \\\n",
       "0  42030099999     3066.0                     NaN                        NaN   \n",
       "1  42030099999     3066.0                     NaN                        2.0   \n",
       "2  42030099999     3066.0                     NaN                        NaN   \n",
       "3  42030099999     3066.0                     NaN                        NaN   \n",
       "4  42030099999     3066.0                     NaN                        NaN   \n",
       "\n",
       "   HourlyDryBulbTemperature HourlyPresentWeatherType  HourlyPressureTendency  \\\n",
       "0                       NaN                      NaN                     NaN   \n",
       "1                       3.0                      NaN                     NaN   \n",
       "2                      14.0                      NaN                     NaN   \n",
       "3                      11.0                      NaN                     NaN   \n",
       "4                       7.0                      NaN                     NaN   \n",
       "\n",
       "   HourlyRelativeHumidity HourlySkyConditions  HourlySeaLevelPressure  \\\n",
       "0                     NaN                0  0                   29.78   \n",
       "1                    95.0                0  0                   29.77   \n",
       "2                     NaN                0  0                   29.74   \n",
       "3                     NaN                0  0                   29.71   \n",
       "4                     NaN                0  0                   29.49   \n",
       "\n",
       "   HourlyStationPressure  HourlyWetBulbTemperature  HourlyWindDirection  \\\n",
       "0                    NaN                       NaN                  0.0   \n",
       "1                    NaN                       NaN                  0.0   \n",
       "2                    NaN                       NaN                  0.0   \n",
       "3                    NaN                       NaN                  0.0   \n",
       "4                    NaN                       NaN                  0.0   \n",
       "\n",
       "   HourlyWindSpeed  YEAR  MONTH  DAY  HOUR  MINUTES  TARGETS  \n",
       "0              0.0  1944      1    3     8       30     0.62  \n",
       "1              0.0  1944      1    7     8       30     0.62  \n",
       "2              0.0  1944      1    8     8       30     0.31  \n",
       "3              0.0  1944      1   22     8       30     0.62  \n",
       "4              0.0  1944      2   12     8       30     2.49  "
      ]
     },
     "execution_count": 10,
     "metadata": {},
     "output_type": "execute_result"
    }
   ],
   "source": [
    "df.head()"
   ]
  },
  {
   "cell_type": "code",
   "execution_count": 11,
   "metadata": {},
   "outputs": [
    {
     "data": {
      "text/plain": [
       "STATION                      0.105594\n",
       "ELEVATION                    0.043640\n",
       "HourlyAltimeterSetting      -0.476804\n",
       "HourlyDewPointTemperature   -0.010298\n",
       "HourlyDryBulbTemperature     0.203448\n",
       "HourlyPressureTendency      -0.072720\n",
       "HourlyRelativeHumidity      -0.221995\n",
       "HourlySeaLevelPressure      -0.073030\n",
       "HourlyStationPressure        0.308010\n",
       "HourlyWetBulbTemperature    -0.063629\n",
       "HourlyWindDirection          0.147541\n",
       "HourlyWindSpeed              0.065731\n",
       "YEAR                        -0.447448\n",
       "MONTH                       -0.023259\n",
       "DAY                          0.000570\n",
       "HOUR                         0.040755\n",
       "MINUTES                      0.048551\n",
       "TARGETS                      1.000000\n",
       "Name: TARGETS, dtype: float64"
      ]
     },
     "execution_count": 11,
     "metadata": {},
     "output_type": "execute_result"
    }
   ],
   "source": [
    "df.corr()['TARGETS']"
   ]
  },
  {
   "cell_type": "code",
   "execution_count": 12,
   "metadata": {},
   "outputs": [
    {
     "name": "stderr",
     "output_type": "stream",
     "text": [
      "100%|██████████| 919202/919202 [00:24<00:00, 36919.67it/s]\n"
     ]
    }
   ],
   "source": [
    "groups = []\n",
    "start = 0\n",
    "for idx in tqdm(range(1, len(df))):\n",
    "    if df.STATION[idx-1] == df.STATION[idx]:\n",
    "        continue\n",
    "    else:\n",
    "        end = idx-1\n",
    "        groups.append((start, end))\n",
    "        start = idx"
   ]
  },
  {
   "cell_type": "code",
   "execution_count": 13,
   "metadata": {},
   "outputs": [],
   "source": [
    "groups.append((start, len(df)-1))"
   ]
  },
  {
   "cell_type": "code",
   "execution_count": 14,
   "metadata": {},
   "outputs": [
    {
     "data": {
      "text/plain": [
       "True"
      ]
     },
     "execution_count": 14,
     "metadata": {},
     "output_type": "execute_result"
    }
   ],
   "source": [
    "len(groups) == df.STATION.nunique()"
   ]
  },
  {
   "cell_type": "code",
   "execution_count": 15,
   "metadata": {},
   "outputs": [
    {
     "data": {
      "text/plain": [
       "[(0, 594),\n",
       " (595, 14266),\n",
       " (14267, 14268),\n",
       " (14269, 14287),\n",
       " (14288, 14296),\n",
       " (14297, 64891),\n",
       " (64892, 81293),\n",
       " (81294, 81296),\n",
       " (81297, 81297),\n",
       " (81298, 87342),\n",
       " (87343, 165823),\n",
       " (165824, 170019),\n",
       " (170020, 171496),\n",
       " (171497, 193130),\n",
       " (193131, 206304),\n",
       " (206305, 209322),\n",
       " (209323, 216019),\n",
       " (216020, 530931),\n",
       " (530932, 632351),\n",
       " (632352, 635430),\n",
       " (635431, 735392),\n",
       " (735393, 736938),\n",
       " (736939, 740038),\n",
       " (740039, 740049),\n",
       " (740050, 776070),\n",
       " (776071, 789491),\n",
       " (789492, 792470),\n",
       " (792471, 795584),\n",
       " (795585, 798344),\n",
       " (798345, 916266),\n",
       " (916267, 919202)]"
      ]
     },
     "execution_count": 15,
     "metadata": {},
     "output_type": "execute_result"
    }
   ],
   "source": [
    "groups"
   ]
  },
  {
   "cell_type": "code",
   "execution_count": 16,
   "metadata": {},
   "outputs": [],
   "source": [
    "cols = ['HourlyAltimeterSetting', 'HourlyDewPointTemperature', 'HourlyDryBulbTemperature', 'HourlyPressureTendency', \n",
    "       'HourlyRelativeHumidity', 'HourlySeaLevelPressure', 'HourlyStationPressure', 'HourlyWetBulbTemperature', \n",
    "       'HourlyWindDirection', 'HourlyWindSpeed']"
   ]
  },
  {
   "cell_type": "code",
   "execution_count": 17,
   "metadata": {},
   "outputs": [
    {
     "name": "stderr",
     "output_type": "stream",
     "text": [
      "  0%|          | 0/31 [00:00<?, ?it/s]C:\\Users\\JAYDEV~1\\AppData\\Local\\Temp/ipykernel_35772/3192420766.py:4: SettingWithCopyWarning: \n",
      "A value is trying to be set on a copy of a slice from a DataFrame.\n",
      "Try using .loc[row_indexer,col_indexer] = value instead\n",
      "\n",
      "See the caveats in the documentation: https://pandas.pydata.org/pandas-docs/stable/user_guide/indexing.html#returning-a-view-versus-a-copy\n",
      "  temp[col] = temp[col].interpolate()\n",
      "100%|██████████| 31/31 [00:07<00:00,  4.41it/s]\n"
     ]
    }
   ],
   "source": [
    "for start, end in tqdm(groups):\n",
    "    temp = df[start:end+1]\n",
    "    for col in cols:\n",
    "        temp[col] = temp[col].interpolate()\n",
    "    df[start:end+1] = temp"
   ]
  },
  {
   "cell_type": "code",
   "execution_count": 18,
   "metadata": {},
   "outputs": [
    {
     "name": "stdout",
     "output_type": "stream",
     "text": [
      "<class 'pandas.core.frame.DataFrame'>\n",
      "RangeIndex: 919203 entries, 0 to 919202\n",
      "Data columns (total 20 columns):\n",
      " #   Column                     Non-Null Count   Dtype  \n",
      "---  ------                     --------------   -----  \n",
      " 0   STATION                    919203 non-null  int64  \n",
      " 1   ELEVATION                  919203 non-null  float64\n",
      " 2   HourlyAltimeterSetting     441470 non-null  float64\n",
      " 3   HourlyDewPointTemperature  919189 non-null  float64\n",
      " 4   HourlyDryBulbTemperature   919189 non-null  float64\n",
      " 5   HourlyPresentWeatherType   398149 non-null  object \n",
      " 6   HourlyPressureTendency     861468 non-null  float64\n",
      " 7   HourlyRelativeHumidity     919189 non-null  float64\n",
      " 8   HourlySkyConditions        498095 non-null  object \n",
      " 9   HourlySeaLevelPressure     911638 non-null  float64\n",
      " 10  HourlyStationPressure      798621 non-null  float64\n",
      " 11  HourlyWetBulbTemperature   794412 non-null  float64\n",
      " 12  HourlyWindDirection        919202 non-null  float64\n",
      " 13  HourlyWindSpeed            919202 non-null  float64\n",
      " 14  YEAR                       919203 non-null  int64  \n",
      " 15  MONTH                      919203 non-null  int64  \n",
      " 16  DAY                        919203 non-null  int64  \n",
      " 17  HOUR                       919203 non-null  int64  \n",
      " 18  MINUTES                    919203 non-null  int64  \n",
      " 19  TARGETS                    919203 non-null  float64\n",
      "dtypes: float64(12), int64(6), object(2)\n",
      "memory usage: 140.3+ MB\n"
     ]
    }
   ],
   "source": [
    "df.info()"
   ]
  },
  {
   "cell_type": "code",
   "execution_count": 19,
   "metadata": {},
   "outputs": [],
   "source": [
    "interpolated_corr = df.corr().TARGETS"
   ]
  },
  {
   "cell_type": "code",
   "execution_count": 20,
   "metadata": {},
   "outputs": [
    {
     "data": {
      "text/plain": [
       "STATION                      0.105594\n",
       "ELEVATION                    0.043640\n",
       "HourlyAltimeterSetting      -0.388837\n",
       "HourlyDewPointTemperature   -0.009501\n",
       "HourlyDryBulbTemperature     0.202677\n",
       "HourlyPressureTendency      -0.335032\n",
       "HourlyRelativeHumidity      -0.219021\n",
       "HourlySeaLevelPressure      -0.053139\n",
       "HourlyStationPressure       -0.120677\n",
       "HourlyWetBulbTemperature    -0.070987\n",
       "HourlyWindDirection          0.145736\n",
       "HourlyWindSpeed              0.065096\n",
       "YEAR                        -0.447448\n",
       "MONTH                       -0.023259\n",
       "DAY                          0.000570\n",
       "HOUR                         0.040755\n",
       "MINUTES                      0.048551\n",
       "TARGETS                      1.000000\n",
       "Name: TARGETS, dtype: float64"
      ]
     },
     "execution_count": 20,
     "metadata": {},
     "output_type": "execute_result"
    }
   ],
   "source": [
    "interpolated_corr"
   ]
  },
  {
   "cell_type": "markdown",
   "metadata": {},
   "source": [
    "### Initaial try for interpolation and ml"
   ]
  },
  {
   "cell_type": "markdown",
   "metadata": {},
   "source": [
    "def fill_interpolate_temporal(date_sorted_data):\n",
    "    i = 0\n",
    "    t = 0\n",
    "    while (i < len(date_sorted_data)):\n",
    "        prev_val = date_sorted_data[i]\n",
    "        j = i+1\n",
    "        while np.isnan(date_sorted_data[j]):\n",
    "            j = j+1\n",
    "        next_val = date_sorted_data[j]\n",
    "        if np.isnan(prev_val):\n",
    "            for k in range(i, j):\n",
    "                date_sorted_data[k] = next_val\n",
    "        else:\n",
    "            delta = (next_val - prev_val) / (j - i)\n",
    "            for k in range(i, j):\n",
    "                date_sorted_data[k] = prev_val + (k - i)*delta\n",
    "        i = j\n",
    "        t = t+1\n",
    "        if (t%10000==0):\n",
    "            print(t)\n",
    "    return date_sorted_data"
   ]
  },
  {
   "cell_type": "markdown",
   "metadata": {},
   "source": [
    "df.HourlyDryBulbTemperature[0:60000].isnull().sum()"
   ]
  },
  {
   "cell_type": "markdown",
   "metadata": {},
   "source": [
    "fill_interpolate_temporal(df.HourlyDryBulbTemperature).isnull().sum()"
   ]
  },
  {
   "cell_type": "code",
   "execution_count": 21,
   "metadata": {},
   "outputs": [
    {
     "name": "stdout",
     "output_type": "stream",
     "text": [
      "<class 'pandas.core.frame.DataFrame'>\n",
      "RangeIndex: 919203 entries, 0 to 919202\n",
      "Data columns (total 20 columns):\n",
      " #   Column                     Non-Null Count   Dtype  \n",
      "---  ------                     --------------   -----  \n",
      " 0   STATION                    919203 non-null  int64  \n",
      " 1   ELEVATION                  919203 non-null  float64\n",
      " 2   HourlyAltimeterSetting     441470 non-null  float64\n",
      " 3   HourlyDewPointTemperature  919189 non-null  float64\n",
      " 4   HourlyDryBulbTemperature   919189 non-null  float64\n",
      " 5   HourlyPresentWeatherType   398149 non-null  object \n",
      " 6   HourlyPressureTendency     861468 non-null  float64\n",
      " 7   HourlyRelativeHumidity     919189 non-null  float64\n",
      " 8   HourlySkyConditions        498095 non-null  object \n",
      " 9   HourlySeaLevelPressure     911638 non-null  float64\n",
      " 10  HourlyStationPressure      798621 non-null  float64\n",
      " 11  HourlyWetBulbTemperature   794412 non-null  float64\n",
      " 12  HourlyWindDirection        919202 non-null  float64\n",
      " 13  HourlyWindSpeed            919202 non-null  float64\n",
      " 14  YEAR                       919203 non-null  int64  \n",
      " 15  MONTH                      919203 non-null  int64  \n",
      " 16  DAY                        919203 non-null  int64  \n",
      " 17  HOUR                       919203 non-null  int64  \n",
      " 18  MINUTES                    919203 non-null  int64  \n",
      " 19  TARGETS                    919203 non-null  float64\n",
      "dtypes: float64(12), int64(6), object(2)\n",
      "memory usage: 140.3+ MB\n"
     ]
    }
   ],
   "source": [
    "df.info()"
   ]
  },
  {
   "cell_type": "code",
   "execution_count": 22,
   "metadata": {},
   "outputs": [],
   "source": [
    "from sklearn.impute import SimpleImputer"
   ]
  },
  {
   "cell_type": "markdown",
   "metadata": {},
   "source": [
    "### try ends"
   ]
  },
  {
   "cell_type": "code",
   "execution_count": 23,
   "metadata": {},
   "outputs": [
    {
     "data": {
      "image/png": "[encoded data removed]",
      "text/plain": [
       "<Figure size 576x360 with 1 Axes>"
      ]
     },
     "metadata": {
      "needs_background": "light"
     },
     "output_type": "display_data"
    }
   ],
   "source": [
    "trend = df[['YEAR', 'TARGETS']].groupby('YEAR').mean()\n",
    "plt.figure(figsize = (8, 5))\n",
    "plt.plot(trend.index, trend['TARGETS'], '-o', color = 'green')\n",
    "plt.show()"
   ]
  },
  {
   "cell_type": "code",
   "execution_count": 24,
   "metadata": {},
   "outputs": [
    {
     "data": {
      "image/png": "[encoded data removed]",
      "text/plain": [
       "<Figure size 576x360 with 1 Axes>"
      ]
     },
     "metadata": {
      "needs_background": "light"
     },
     "output_type": "display_data"
    }
   ],
   "source": [
    "trend = df[['YEAR', 'HourlyAltimeterSetting']].groupby('YEAR').mean()\n",
    "plt.figure(figsize = (8, 5))\n",
    "plt.plot(trend.index, trend['HourlyAltimeterSetting'], '-o', color = 'green')\n",
    "plt.show()"
   ]
  },
  {
   "cell_type": "code",
   "execution_count": 25,
   "metadata": {},
   "outputs": [
    {
     "data": {
      "text/plain": [
       "<Figure size 720x720 with 0 Axes>"
      ]
     },
     "metadata": {},
     "output_type": "display_data"
    },
    {
     "data": {
      "image/png": "[encoded data removed]",
      "text/plain": [
       "<Figure size 360x720 with 1 Axes>"
      ]
     },
     "metadata": {
      "needs_background": "light"
     },
     "output_type": "display_data"
    },
    {
     "data": {
      "image/png": "[encoded data removed]",
      "text/plain": [
       "<Figure size 360x720 with 1 Axes>"
      ]
     },
     "metadata": {
      "needs_background": "light"
     },
     "output_type": "display_data"
    },
    {
     "data": {
      "image/png": "[encoded data removed]",
      "text/plain": [
       "<Figure size 360x720 with 1 Axes>"
      ]
     },
     "metadata": {
      "needs_background": "light"
     },
     "output_type": "display_data"
    },
    {
     "data": {
      "image/png": "[encoded data removed]",
      "text/plain": [
       "<Figure size 360x720 with 1 Axes>"
      ]
     },
     "metadata": {
      "needs_background": "light"
     },
     "output_type": "display_data"
    },
    {
     "data": {
      "image/png": "[encoded data removed]",
      "text/plain": [
       "<Figure size 360x720 with 1 Axes>"
      ]
     },
     "metadata": {
      "needs_background": "light"
     },
     "output_type": "display_data"
    },
    {
     "data": {
      "image/png": "[encoded data removed]",
      "text/plain": [
       "<Figure size 360x720 with 1 Axes>"
      ]
     },
     "metadata": {
      "needs_background": "light"
     },
     "output_type": "display_data"
    },
    {
     "data": {
      "image/png": "[encoded data removed]",
      "text/plain": [
       "<Figure size 360x720 with 1 Axes>"
      ]
     },
     "metadata": {
      "needs_background": "light"
     },
     "output_type": "display_data"
    },
    {
     "data": {
      "image/png": "[encoded data removed]",
      "text/plain": [
       "<Figure size 360x720 with 1 Axes>"
      ]
     },
     "metadata": {
      "needs_background": "light"
     },
     "output_type": "display_data"
    },
    {
     "data": {
      "image/png": "[encoded data removed]",
      "text/plain": [
       "<Figure size 360x720 with 1 Axes>"
      ]
     },
     "metadata": {
      "needs_background": "light"
     },
     "output_type": "display_data"
    },
    {
     "data": {
      "image/png": "[encoded data removed]",
      "text/plain": [
       "<Figure size 360x720 with 1 Axes>"
      ]
     },
     "metadata": {
      "needs_background": "light"
     },
     "output_type": "display_data"
    }
   ],
   "source": [
    "# fig, axs = plt.subplots(10)\n",
    "i = 1\n",
    "plt.figure(figsize = (10, 10))\n",
    "for col in cols:\n",
    "    trend = df[['YEAR', col]].groupby('YEAR').mean()\n",
    "#     axs[i].plot(trend.index, trend[col], '-o')\n",
    "    plt.figure(figsize = (5, 10))\n",
    "    plt.subplot(10, 1, i)\n",
    "    plt.plot(trend.index, trend[col], '-o')\n",
    "    i += 1"
   ]
  },
  {
   "cell_type": "code",
   "execution_count": 26,
   "metadata": {},
   "outputs": [
    {
     "data": {
      "text/plain": [
       "STATION                      0.105594\n",
       "ELEVATION                    0.043640\n",
       "HourlyAltimeterSetting      -0.388837\n",
       "HourlyDewPointTemperature   -0.009501\n",
       "HourlyDryBulbTemperature     0.202677\n",
       "HourlyPressureTendency      -0.335032\n",
       "HourlyRelativeHumidity      -0.219021\n",
       "HourlySeaLevelPressure      -0.053139\n",
       "HourlyStationPressure       -0.120677\n",
       "HourlyWetBulbTemperature    -0.070987\n",
       "HourlyWindDirection          0.145736\n",
       "HourlyWindSpeed              0.065096\n",
       "YEAR                        -0.447448\n",
       "MONTH                       -0.023259\n",
       "DAY                          0.000570\n",
       "HOUR                         0.040755\n",
       "MINUTES                      0.048551\n",
       "TARGETS                      1.000000\n",
       "Name: TARGETS, dtype: float64"
      ]
     },
     "execution_count": 26,
     "metadata": {},
     "output_type": "execute_result"
    }
   ],
   "source": [
    "df.corr()['TARGETS']"
   ]
  },
  {
   "cell_type": "code",
   "execution_count": 27,
   "metadata": {},
   "outputs": [
    {
     "data": {
      "image/png": "[encoded data removed]",
      "text/plain": [
       "<Figure size 360x360 with 1 Axes>"
      ]
     },
     "metadata": {
      "needs_background": "light"
     },
     "output_type": "display_data"
    },
    {
     "data": {
      "image/png": "[encoded data removed]",
      "text/plain": [
       "<Figure size 360x360 with 1 Axes>"
      ]
     },
     "metadata": {
      "needs_background": "light"
     },
     "output_type": "display_data"
    },
    {
     "data": {
      "image/png": "[encoded data removed]",
      "text/plain": [
       "<Figure size 360x360 with 1 Axes>"
      ]
     },
     "metadata": {
      "needs_background": "light"
     },
     "output_type": "display_data"
    },
    {
     "data": {
      "image/png": "[encoded data removed]",
      "text/plain": [
       "<Figure size 360x360 with 1 Axes>"
      ]
     },
     "metadata": {
      "needs_background": "light"
     },
     "output_type": "display_data"
    },
    {
     "data": {
      "image/png": "[encoded data removed]",
      "text/plain": [
       "<Figure size 360x360 with 1 Axes>"
      ]
     },
     "metadata": {
      "needs_background": "light"
     },
     "output_type": "display_data"
    },
    {
     "data": {
      "image/png": "[encoded data removed]",
      "text/plain": [
       "<Figure size 360x360 with 1 Axes>"
      ]
     },
     "metadata": {
      "needs_background": "light"
     },
     "output_type": "display_data"
    },
    {
     "data": {
      "image/png": "[encoded data removed]",
      "text/plain": [
       "<Figure size 360x360 with 1 Axes>"
      ]
     },
     "metadata": {
      "needs_background": "light"
     },
     "output_type": "display_data"
    },
    {
     "data": {
      "image/png": "[encoded data removed]",
      "text/plain": [
       "<Figure size 360x360 with 1 Axes>"
      ]
     },
     "metadata": {
      "needs_background": "light"
     },
     "output_type": "display_data"
    },
    {
     "data": {
      "image/png": "[encoded data removed]",
      "text/plain": [
       "<Figure size 360x360 with 1 Axes>"
      ]
     },
     "metadata": {
      "needs_background": "light"
     },
     "output_type": "display_data"
    },
    {
     "data": {
      "image/png": "[encoded data removed]",
      "text/plain": [
       "<Figure size 360x360 with 1 Axes>"
      ]
     },
     "metadata": {
      "needs_background": "light"
     },
     "output_type": "display_data"
    }
   ],
   "source": [
    "i = 1\n",
    "\n",
    "    \n",
    "for col in cols:\n",
    "    try:\n",
    "        plt.figure(figsize = (5, 5))\n",
    "        plt.subplot(5, 2, i)\n",
    "        plt.title(col)\n",
    "    #     df[col].hist()\n",
    "        plt.plot(df[col].hist())\n",
    "        i += 1\n",
    "    except:\n",
    "        pass"
   ]
  },
  {
   "cell_type": "code",
   "execution_count": 28,
   "metadata": {},
   "outputs": [
    {
     "name": "stderr",
     "output_type": "stream",
     "text": [
      "100%|██████████| 919202/919202 [00:26<00:00, 34751.60it/s]\n"
     ]
    }
   ],
   "source": [
    "groups2 = []\n",
    "start = 0\n",
    "for idx in tqdm(range(1, len(df))):\n",
    "    if df.YEAR[idx-1] == df.YEAR[idx]:\n",
    "        continue\n",
    "    else:\n",
    "        end = idx-1\n",
    "        groups2.append((start, end))\n",
    "        start = idx\n",
    "        \n",
    "groups2.append((start, len(df)-1))"
   ]
  },
  {
   "cell_type": "code",
   "execution_count": 29,
   "metadata": {},
   "outputs": [
    {
     "data": {
      "text/plain": [
       "(0, 10)"
      ]
     },
     "execution_count": 29,
     "metadata": {},
     "output_type": "execute_result"
    }
   ],
   "source": [
    "df[start:end+1][cols].shape"
   ]
  },
  {
   "cell_type": "code",
   "execution_count": 30,
   "metadata": {},
   "outputs": [
    {
     "data": {
      "text/plain": [
       "10"
      ]
     },
     "execution_count": 30,
     "metadata": {},
     "output_type": "execute_result"
    }
   ],
   "source": [
    "len(cols)"
   ]
  },
  {
   "cell_type": "code",
   "execution_count": 31,
   "metadata": {},
   "outputs": [],
   "source": [
    "to_be_imputed = ['HourlyDryBulbTemperature', 'HourlyRelativeHumidity', 'HourlySeaLevelPressure', 'HourlyStationPressure', 'HourlyWetBulbTemperature', 'HourlyWindDirection', 'HourlyWindSpeed']"
   ]
  },
  {
   "cell_type": "code",
   "execution_count": 32,
   "metadata": {},
   "outputs": [
    {
     "name": "stderr",
     "output_type": "stream",
     "text": [
      "100%|██████████| 755/755 [00:23<00:00, 32.66it/s]\n"
     ]
    }
   ],
   "source": [
    "\n",
    "for start, end in tqdm(groups2):\n",
    "#     columns = [col for col in cols if np.isnan(df[start:end+1][col]).any()]\n",
    "    imp1 = SimpleImputer(missing_values=np.nan, strategy='median')\n",
    "    try:\n",
    "        df.loc[start:end+1, cols] = imp1.fit_transform(df[to_be_imputed].loc[start:end+1, cols])\n",
    "    except:\n",
    "        pass"
   ]
  },
  {
   "cell_type": "code",
   "execution_count": 33,
   "metadata": {},
   "outputs": [
    {
     "name": "stdout",
     "output_type": "stream",
     "text": [
      "<class 'pandas.core.frame.DataFrame'>\n",
      "RangeIndex: 919203 entries, 0 to 919202\n",
      "Data columns (total 20 columns):\n",
      " #   Column                     Non-Null Count   Dtype  \n",
      "---  ------                     --------------   -----  \n",
      " 0   STATION                    919203 non-null  int64  \n",
      " 1   ELEVATION                  919203 non-null  float64\n",
      " 2   HourlyAltimeterSetting     441470 non-null  float64\n",
      " 3   HourlyDewPointTemperature  919189 non-null  float64\n",
      " 4   HourlyDryBulbTemperature   919189 non-null  float64\n",
      " 5   HourlyPresentWeatherType   398149 non-null  object \n",
      " 6   HourlyPressureTendency     861468 non-null  float64\n",
      " 7   HourlyRelativeHumidity     919189 non-null  float64\n",
      " 8   HourlySkyConditions        498095 non-null  object \n",
      " 9   HourlySeaLevelPressure     911638 non-null  float64\n",
      " 10  HourlyStationPressure      798621 non-null  float64\n",
      " 11  HourlyWetBulbTemperature   794412 non-null  float64\n",
      " 12  HourlyWindDirection        919202 non-null  float64\n",
      " 13  HourlyWindSpeed            919202 non-null  float64\n",
      " 14  YEAR                       919203 non-null  int64  \n",
      " 15  MONTH                      919203 non-null  int64  \n",
      " 16  DAY                        919203 non-null  int64  \n",
      " 17  HOUR                       919203 non-null  int64  \n",
      " 18  MINUTES                    919203 non-null  int64  \n",
      " 19  TARGETS                    919203 non-null  float64\n",
      "dtypes: float64(12), int64(6), object(2)\n",
      "memory usage: 140.3+ MB\n"
     ]
    }
   ],
   "source": [
    "df.info()"
   ]
  },
  {
   "cell_type": "code",
   "execution_count": 34,
   "metadata": {},
   "outputs": [],
   "source": [
    "group_imputed_corr = df.corr()['TARGETS']"
   ]
  },
  {
   "cell_type": "code",
   "execution_count": 35,
   "metadata": {},
   "outputs": [
    {
     "data": {
      "text/plain": [
       "STATION                      0.105594\n",
       "ELEVATION                    0.043640\n",
       "HourlyAltimeterSetting      -0.388837\n",
       "HourlyDewPointTemperature   -0.009501\n",
       "HourlyDryBulbTemperature     0.202677\n",
       "HourlyPressureTendency      -0.335032\n",
       "HourlyRelativeHumidity      -0.219021\n",
       "HourlySeaLevelPressure      -0.053139\n",
       "HourlyStationPressure       -0.120677\n",
       "HourlyWetBulbTemperature    -0.070987\n",
       "HourlyWindDirection          0.145736\n",
       "HourlyWindSpeed              0.065096\n",
       "YEAR                        -0.447448\n",
       "MONTH                       -0.023259\n",
       "DAY                          0.000570\n",
       "HOUR                         0.040755\n",
       "MINUTES                      0.048551\n",
       "TARGETS                      1.000000\n",
       "Name: TARGETS, dtype: float64"
      ]
     },
     "execution_count": 35,
     "metadata": {},
     "output_type": "execute_result"
    }
   ],
   "source": [
    "interpolated_corr"
   ]
  },
  {
   "cell_type": "code",
   "execution_count": 36,
   "metadata": {},
   "outputs": [
    {
     "data": {
      "text/plain": [
       "STATION                      0.105594\n",
       "ELEVATION                    0.043640\n",
       "HourlyAltimeterSetting      -0.388837\n",
       "HourlyDewPointTemperature   -0.009501\n",
       "HourlyDryBulbTemperature     0.202677\n",
       "HourlyPressureTendency      -0.335032\n",
       "HourlyRelativeHumidity      -0.219021\n",
       "HourlySeaLevelPressure      -0.053139\n",
       "HourlyStationPressure       -0.120677\n",
       "HourlyWetBulbTemperature    -0.070987\n",
       "HourlyWindDirection          0.145736\n",
       "HourlyWindSpeed              0.065096\n",
       "YEAR                        -0.447448\n",
       "MONTH                       -0.023259\n",
       "DAY                          0.000570\n",
       "HOUR                         0.040755\n",
       "MINUTES                      0.048551\n",
       "TARGETS                      1.000000\n",
       "Name: TARGETS, dtype: float64"
      ]
     },
     "execution_count": 36,
     "metadata": {},
     "output_type": "execute_result"
    }
   ],
   "source": [
    "group_imputed_corr"
   ]
  },
  {
   "cell_type": "markdown",
   "metadata": {},
   "source": [
    "#### Earlier version version used imputation for all the remaining values (through the cells below), but it dropped the correlation significantly"
   ]
  },
  {
   "cell_type": "markdown",
   "metadata": {},
   "source": [
    "#### Now we will do it only for columns for which the reduction is negligible"
   ]
  },
  {
   "cell_type": "code",
   "execution_count": 37,
   "metadata": {},
   "outputs": [],
   "source": [
    "blind_imputation = ['HourlyWindDirection', 'HourlyWindSpeed', 'HourlySeaLevelPressure', 'HourlyRelativeHumidity', 'HourlyDewPointTemperature', 'HourlyDryBulbTemperature']"
   ]
  },
  {
   "cell_type": "markdown",
   "metadata": {},
   "source": [
    "apply simple imputation to: HourlyDryBulbTemperature, HourlyRelativeHumidity, HourlySeaLevelPressure, HourlyStationPressure, HourlyWetBulbTemperature, HourlyWindDirection, HourlyWindSpeed"
   ]
  },
  {
   "cell_type": "code",
   "execution_count": 38,
   "metadata": {},
   "outputs": [],
   "source": [
    "imp1 = SimpleImputer(missing_values=np.nan, strategy='median')\n",
    "# imp2 = SimpleImputer(missing_values=np.nan, strategy='most_frequent')\n",
    "# X = [[np.nan, 2], [6, np.nan], [7, 6]]\n",
    "# print(imp.transform(X))\n",
    "df[blind_imputation] = imp1.fit_transform(df[blind_imputation])\n",
    "# df[mode] = imp2.fit_transform(df[mode])"
   ]
  },
  {
   "cell_type": "code",
   "execution_count": 39,
   "metadata": {},
   "outputs": [
    {
     "name": "stdout",
     "output_type": "stream",
     "text": [
      "<class 'pandas.core.frame.DataFrame'>\n",
      "RangeIndex: 919203 entries, 0 to 919202\n",
      "Data columns (total 20 columns):\n",
      " #   Column                     Non-Null Count   Dtype  \n",
      "---  ------                     --------------   -----  \n",
      " 0   STATION                    919203 non-null  int64  \n",
      " 1   ELEVATION                  919203 non-null  float64\n",
      " 2   HourlyAltimeterSetting     441470 non-null  float64\n",
      " 3   HourlyDewPointTemperature  919203 non-null  float64\n",
      " 4   HourlyDryBulbTemperature   919203 non-null  float64\n",
      " 5   HourlyPresentWeatherType   398149 non-null  object \n",
      " 6   HourlyPressureTendency     861468 non-null  float64\n",
      " 7   HourlyRelativeHumidity     919203 non-null  float64\n",
      " 8   HourlySkyConditions        498095 non-null  object \n",
      " 9   HourlySeaLevelPressure     919203 non-null  float64\n",
      " 10  HourlyStationPressure      798621 non-null  float64\n",
      " 11  HourlyWetBulbTemperature   794412 non-null  float64\n",
      " 12  HourlyWindDirection        919203 non-null  float64\n",
      " 13  HourlyWindSpeed            919203 non-null  float64\n",
      " 14  YEAR                       919203 non-null  int64  \n",
      " 15  MONTH                      919203 non-null  int64  \n",
      " 16  DAY                        919203 non-null  int64  \n",
      " 17  HOUR                       919203 non-null  int64  \n",
      " 18  MINUTES                    919203 non-null  int64  \n",
      " 19  TARGETS                    919203 non-null  float64\n",
      "dtypes: float64(12), int64(6), object(2)\n",
      "memory usage: 140.3+ MB\n"
     ]
    }
   ],
   "source": [
    "df.info()"
   ]
  },
  {
   "cell_type": "code",
   "execution_count": 40,
   "metadata": {},
   "outputs": [
    {
     "data": {
      "text/plain": [
       "STATION                      0.105594\n",
       "ELEVATION                    0.043640\n",
       "HourlyAltimeterSetting      -0.388837\n",
       "HourlyDewPointTemperature   -0.009501\n",
       "HourlyDryBulbTemperature     0.202677\n",
       "HourlyPressureTendency      -0.335032\n",
       "HourlyRelativeHumidity      -0.219021\n",
       "HourlySeaLevelPressure      -0.053139\n",
       "HourlyStationPressure       -0.120677\n",
       "HourlyWetBulbTemperature    -0.070987\n",
       "HourlyWindDirection          0.145736\n",
       "HourlyWindSpeed              0.065096\n",
       "YEAR                        -0.447448\n",
       "MONTH                       -0.023259\n",
       "DAY                          0.000570\n",
       "HOUR                         0.040755\n",
       "MINUTES                      0.048551\n",
       "TARGETS                      1.000000\n",
       "Name: TARGETS, dtype: float64"
      ]
     },
     "execution_count": 40,
     "metadata": {},
     "output_type": "execute_result"
    }
   ],
   "source": [
    "group_imputed_corr"
   ]
  },
  {
   "cell_type": "code",
   "execution_count": 41,
   "metadata": {},
   "outputs": [
    {
     "data": {
      "text/plain": [
       "STATION                      0.105594\n",
       "ELEVATION                    0.043640\n",
       "HourlyAltimeterSetting      -0.388837\n",
       "HourlyDewPointTemperature   -0.009501\n",
       "HourlyDryBulbTemperature     0.202671\n",
       "HourlyPressureTendency      -0.335032\n",
       "HourlyRelativeHumidity      -0.219015\n",
       "HourlySeaLevelPressure      -0.052846\n",
       "HourlyStationPressure       -0.120677\n",
       "HourlyWetBulbTemperature    -0.070987\n",
       "HourlyWindDirection          0.145736\n",
       "HourlyWindSpeed              0.065096\n",
       "YEAR                        -0.447448\n",
       "MONTH                       -0.023259\n",
       "DAY                          0.000570\n",
       "HOUR                         0.040755\n",
       "MINUTES                      0.048551\n",
       "TARGETS                      1.000000\n",
       "Name: TARGETS, dtype: float64"
      ]
     },
     "execution_count": 41,
     "metadata": {},
     "output_type": "execute_result"
    }
   ],
   "source": [
    "df.corr()['TARGETS']"
   ]
  },
  {
   "cell_type": "code",
   "execution_count": 43,
   "metadata": {},
   "outputs": [
    {
     "data": {
      "text/html": [
       "<div>\n",
       "<style scoped>\n",
       "    .dataframe tbody tr th:only-of-type {\n",
       "        vertical-align: middle;\n",
       "    }\n",
       "\n",
       "    .dataframe tbody tr th {\n",
       "        vertical-align: top;\n",
       "    }\n",
       "\n",
       "    .dataframe thead th {\n",
       "        text-align: right;\n",
       "    }\n",
       "</style>\n",
       "<table border=\"1\" class=\"dataframe\">\n",
       "  <thead>\n",
       "    <tr style=\"text-align: right;\">\n",
       "      <th></th>\n",
       "      <th>STATION</th>\n",
       "      <th>ELEVATION</th>\n",
       "      <th>HourlyAltimeterSetting</th>\n",
       "      <th>HourlyDewPointTemperature</th>\n",
       "      <th>HourlyDryBulbTemperature</th>\n",
       "      <th>HourlyPresentWeatherType</th>\n",
       "      <th>HourlyPressureTendency</th>\n",
       "      <th>HourlyRelativeHumidity</th>\n",
       "      <th>HourlySkyConditions</th>\n",
       "      <th>HourlySeaLevelPressure</th>\n",
       "      <th>HourlyStationPressure</th>\n",
       "      <th>HourlyWetBulbTemperature</th>\n",
       "      <th>HourlyWindDirection</th>\n",
       "      <th>HourlyWindSpeed</th>\n",
       "      <th>YEAR</th>\n",
       "      <th>MONTH</th>\n",
       "      <th>DAY</th>\n",
       "      <th>HOUR</th>\n",
       "      <th>MINUTES</th>\n",
       "      <th>TARGETS</th>\n",
       "    </tr>\n",
       "  </thead>\n",
       "  <tbody>\n",
       "    <tr>\n",
       "      <th>0</th>\n",
       "      <td>42030099999</td>\n",
       "      <td>3066.0</td>\n",
       "      <td>NaN</td>\n",
       "      <td>61.00</td>\n",
       "      <td>81.0</td>\n",
       "      <td>NaN</td>\n",
       "      <td>NaN</td>\n",
       "      <td>66.0</td>\n",
       "      <td>0  0</td>\n",
       "      <td>29.78</td>\n",
       "      <td>NaN</td>\n",
       "      <td>NaN</td>\n",
       "      <td>0.0</td>\n",
       "      <td>0.0</td>\n",
       "      <td>1944</td>\n",
       "      <td>1</td>\n",
       "      <td>3</td>\n",
       "      <td>8</td>\n",
       "      <td>30</td>\n",
       "      <td>0.62</td>\n",
       "    </tr>\n",
       "    <tr>\n",
       "      <th>1</th>\n",
       "      <td>42030099999</td>\n",
       "      <td>3066.0</td>\n",
       "      <td>NaN</td>\n",
       "      <td>2.00</td>\n",
       "      <td>3.0</td>\n",
       "      <td>NaN</td>\n",
       "      <td>NaN</td>\n",
       "      <td>95.0</td>\n",
       "      <td>0  0</td>\n",
       "      <td>29.77</td>\n",
       "      <td>NaN</td>\n",
       "      <td>NaN</td>\n",
       "      <td>0.0</td>\n",
       "      <td>0.0</td>\n",
       "      <td>1944</td>\n",
       "      <td>1</td>\n",
       "      <td>7</td>\n",
       "      <td>8</td>\n",
       "      <td>30</td>\n",
       "      <td>0.62</td>\n",
       "    </tr>\n",
       "    <tr>\n",
       "      <th>2</th>\n",
       "      <td>42030099999</td>\n",
       "      <td>3066.0</td>\n",
       "      <td>NaN</td>\n",
       "      <td>3.75</td>\n",
       "      <td>14.0</td>\n",
       "      <td>NaN</td>\n",
       "      <td>NaN</td>\n",
       "      <td>95.0</td>\n",
       "      <td>0  0</td>\n",
       "      <td>29.74</td>\n",
       "      <td>NaN</td>\n",
       "      <td>NaN</td>\n",
       "      <td>0.0</td>\n",
       "      <td>0.0</td>\n",
       "      <td>1944</td>\n",
       "      <td>1</td>\n",
       "      <td>8</td>\n",
       "      <td>8</td>\n",
       "      <td>30</td>\n",
       "      <td>0.31</td>\n",
       "    </tr>\n",
       "    <tr>\n",
       "      <th>3</th>\n",
       "      <td>42030099999</td>\n",
       "      <td>3066.0</td>\n",
       "      <td>NaN</td>\n",
       "      <td>5.50</td>\n",
       "      <td>11.0</td>\n",
       "      <td>NaN</td>\n",
       "      <td>NaN</td>\n",
       "      <td>95.0</td>\n",
       "      <td>0  0</td>\n",
       "      <td>29.71</td>\n",
       "      <td>NaN</td>\n",
       "      <td>NaN</td>\n",
       "      <td>0.0</td>\n",
       "      <td>0.0</td>\n",
       "      <td>1944</td>\n",
       "      <td>1</td>\n",
       "      <td>22</td>\n",
       "      <td>8</td>\n",
       "      <td>30</td>\n",
       "      <td>0.62</td>\n",
       "    </tr>\n",
       "    <tr>\n",
       "      <th>4</th>\n",
       "      <td>42030099999</td>\n",
       "      <td>3066.0</td>\n",
       "      <td>NaN</td>\n",
       "      <td>7.25</td>\n",
       "      <td>7.0</td>\n",
       "      <td>NaN</td>\n",
       "      <td>NaN</td>\n",
       "      <td>95.0</td>\n",
       "      <td>0  0</td>\n",
       "      <td>29.49</td>\n",
       "      <td>NaN</td>\n",
       "      <td>NaN</td>\n",
       "      <td>0.0</td>\n",
       "      <td>0.0</td>\n",
       "      <td>1944</td>\n",
       "      <td>2</td>\n",
       "      <td>12</td>\n",
       "      <td>8</td>\n",
       "      <td>30</td>\n",
       "      <td>2.49</td>\n",
       "    </tr>\n",
       "  </tbody>\n",
       "</table>\n",
       "</div>"
      ],
      "text/plain": [
       "       STATION  ELEVATION  HourlyAltimeterSetting  HourlyDewPointTemperature  \\\n",
       "0  42030099999     3066.0                     NaN                      61.00   \n",
       "1  42030099999     3066.0                     NaN                       2.00   \n",
       "2  42030099999     3066.0                     NaN                       3.75   \n",
       "3  42030099999     3066.0                     NaN                       5.50   \n",
       "4  42030099999     3066.0                     NaN                       7.25   \n",
       "\n",
       "   HourlyDryBulbTemperature HourlyPresentWeatherType  HourlyPressureTendency  \\\n",
       "0                      81.0                      NaN                     NaN   \n",
       "1                       3.0                      NaN                     NaN   \n",
       "2                      14.0                      NaN                     NaN   \n",
       "3                      11.0                      NaN                     NaN   \n",
       "4                       7.0                      NaN                     NaN   \n",
       "\n",
       "   HourlyRelativeHumidity HourlySkyConditions  HourlySeaLevelPressure  \\\n",
       "0                    66.0                0  0                   29.78   \n",
       "1                    95.0                0  0                   29.77   \n",
       "2                    95.0                0  0                   29.74   \n",
       "3                    95.0                0  0                   29.71   \n",
       "4                    95.0                0  0                   29.49   \n",
       "\n",
       "   HourlyStationPressure  HourlyWetBulbTemperature  HourlyWindDirection  \\\n",
       "0                    NaN                       NaN                  0.0   \n",
       "1                    NaN                       NaN                  0.0   \n",
       "2                    NaN                       NaN                  0.0   \n",
       "3                    NaN                       NaN                  0.0   \n",
       "4                    NaN                       NaN                  0.0   \n",
       "\n",
       "   HourlyWindSpeed  YEAR  MONTH  DAY  HOUR  MINUTES  TARGETS  \n",
       "0              0.0  1944      1    3     8       30     0.62  \n",
       "1              0.0  1944      1    7     8       30     0.62  \n",
       "2              0.0  1944      1    8     8       30     0.31  \n",
       "3              0.0  1944      1   22     8       30     0.62  \n",
       "4              0.0  1944      2   12     8       30     2.49  "
      ]
     },
     "execution_count": 43,
     "metadata": {},
     "output_type": "execute_result"
    }
   ],
   "source": [
    "df.head()"
   ]
  },
  {
   "cell_type": "code",
   "execution_count": 42,
   "metadata": {},
   "outputs": [
    {
     "ename": "KeyError",
     "evalue": "\"['Unnamed: 0'] not found in axis\"",
     "output_type": "error",
     "traceback": [
      "\u001b[1;31m---------------------------------------------------------------------------\u001b[0m",
      "\u001b[1;31mKeyError\u001b[0m                                  Traceback (most recent call last)",
      "\u001b[1;32mC:\\Users\\JAYDEV~1\\AppData\\Local\\Temp/ipykernel_35772/2093488290.py\u001b[0m in \u001b[0;36m<module>\u001b[1;34m\u001b[0m\n\u001b[1;32m----> 1\u001b[1;33m \u001b[0mdf\u001b[0m\u001b[1;33m.\u001b[0m\u001b[0mdrop\u001b[0m\u001b[1;33m(\u001b[0m\u001b[1;34m'Unnamed: 0'\u001b[0m\u001b[1;33m,\u001b[0m \u001b[0maxis\u001b[0m \u001b[1;33m=\u001b[0m \u001b[1;36m1\u001b[0m\u001b[1;33m,\u001b[0m \u001b[0minplace\u001b[0m \u001b[1;33m=\u001b[0m \u001b[1;32mTrue\u001b[0m\u001b[1;33m)\u001b[0m\u001b[1;33m\u001b[0m\u001b[1;33m\u001b[0m\u001b[0m\n\u001b[0m",
      "\u001b[1;32m~\\miniconda3\\lib\\site-packages\\pandas\\util\\_decorators.py\u001b[0m in \u001b[0;36mwrapper\u001b[1;34m(*args, **kwargs)\u001b[0m\n\u001b[0;32m    309\u001b[0m                     \u001b[0mstacklevel\u001b[0m\u001b[1;33m=\u001b[0m\u001b[0mstacklevel\u001b[0m\u001b[1;33m,\u001b[0m\u001b[1;33m\u001b[0m\u001b[1;33m\u001b[0m\u001b[0m\n\u001b[0;32m    310\u001b[0m                 )\n\u001b[1;32m--> 311\u001b[1;33m             \u001b[1;32mreturn\u001b[0m \u001b[0mfunc\u001b[0m\u001b[1;33m(\u001b[0m\u001b[1;33m*\u001b[0m\u001b[0margs\u001b[0m\u001b[1;33m,\u001b[0m \u001b[1;33m**\u001b[0m\u001b[0mkwargs\u001b[0m\u001b[1;33m)\u001b[0m\u001b[1;33m\u001b[0m\u001b[1;33m\u001b[0m\u001b[0m\n\u001b[0m\u001b[0;32m    312\u001b[0m \u001b[1;33m\u001b[0m\u001b[0m\n\u001b[0;32m    313\u001b[0m         \u001b[1;32mreturn\u001b[0m \u001b[0mwrapper\u001b[0m\u001b[1;33m\u001b[0m\u001b[1;33m\u001b[0m\u001b[0m\n",
      "\u001b[1;32m~\\miniconda3\\lib\\site-packages\\pandas\\core\\frame.py\u001b[0m in \u001b[0;36mdrop\u001b[1;34m(self, labels, axis, index, columns, level, inplace, errors)\u001b[0m\n\u001b[0;32m   4946\u001b[0m                 \u001b[0mweight\u001b[0m  \u001b[1;36m1.0\u001b[0m     \u001b[1;36m0.8\u001b[0m\u001b[1;33m\u001b[0m\u001b[1;33m\u001b[0m\u001b[0m\n\u001b[0;32m   4947\u001b[0m         \"\"\"\n\u001b[1;32m-> 4948\u001b[1;33m         return super().drop(\n\u001b[0m\u001b[0;32m   4949\u001b[0m             \u001b[0mlabels\u001b[0m\u001b[1;33m=\u001b[0m\u001b[0mlabels\u001b[0m\u001b[1;33m,\u001b[0m\u001b[1;33m\u001b[0m\u001b[1;33m\u001b[0m\u001b[0m\n\u001b[0;32m   4950\u001b[0m             \u001b[0maxis\u001b[0m\u001b[1;33m=\u001b[0m\u001b[0maxis\u001b[0m\u001b[1;33m,\u001b[0m\u001b[1;33m\u001b[0m\u001b[1;33m\u001b[0m\u001b[0m\n",
      "\u001b[1;32m~\\miniconda3\\lib\\site-packages\\pandas\\core\\generic.py\u001b[0m in \u001b[0;36mdrop\u001b[1;34m(self, labels, axis, index, columns, level, inplace, errors)\u001b[0m\n\u001b[0;32m   4277\u001b[0m         \u001b[1;32mfor\u001b[0m \u001b[0maxis\u001b[0m\u001b[1;33m,\u001b[0m \u001b[0mlabels\u001b[0m \u001b[1;32min\u001b[0m \u001b[0maxes\u001b[0m\u001b[1;33m.\u001b[0m\u001b[0mitems\u001b[0m\u001b[1;33m(\u001b[0m\u001b[1;33m)\u001b[0m\u001b[1;33m:\u001b[0m\u001b[1;33m\u001b[0m\u001b[1;33m\u001b[0m\u001b[0m\n\u001b[0;32m   4278\u001b[0m             \u001b[1;32mif\u001b[0m \u001b[0mlabels\u001b[0m \u001b[1;32mis\u001b[0m \u001b[1;32mnot\u001b[0m \u001b[1;32mNone\u001b[0m\u001b[1;33m:\u001b[0m\u001b[1;33m\u001b[0m\u001b[1;33m\u001b[0m\u001b[0m\n\u001b[1;32m-> 4279\u001b[1;33m                 \u001b[0mobj\u001b[0m \u001b[1;33m=\u001b[0m \u001b[0mobj\u001b[0m\u001b[1;33m.\u001b[0m\u001b[0m_drop_axis\u001b[0m\u001b[1;33m(\u001b[0m\u001b[0mlabels\u001b[0m\u001b[1;33m,\u001b[0m \u001b[0maxis\u001b[0m\u001b[1;33m,\u001b[0m \u001b[0mlevel\u001b[0m\u001b[1;33m=\u001b[0m\u001b[0mlevel\u001b[0m\u001b[1;33m,\u001b[0m \u001b[0merrors\u001b[0m\u001b[1;33m=\u001b[0m\u001b[0merrors\u001b[0m\u001b[1;33m)\u001b[0m\u001b[1;33m\u001b[0m\u001b[1;33m\u001b[0m\u001b[0m\n\u001b[0m\u001b[0;32m   4280\u001b[0m \u001b[1;33m\u001b[0m\u001b[0m\n\u001b[0;32m   4281\u001b[0m         \u001b[1;32mif\u001b[0m \u001b[0minplace\u001b[0m\u001b[1;33m:\u001b[0m\u001b[1;33m\u001b[0m\u001b[1;33m\u001b[0m\u001b[0m\n",
      "\u001b[1;32m~\\miniconda3\\lib\\site-packages\\pandas\\core\\generic.py\u001b[0m in \u001b[0;36m_drop_axis\u001b[1;34m(self, labels, axis, level, errors, consolidate, only_slice)\u001b[0m\n\u001b[0;32m   4321\u001b[0m                 \u001b[0mnew_axis\u001b[0m \u001b[1;33m=\u001b[0m \u001b[0maxis\u001b[0m\u001b[1;33m.\u001b[0m\u001b[0mdrop\u001b[0m\u001b[1;33m(\u001b[0m\u001b[0mlabels\u001b[0m\u001b[1;33m,\u001b[0m \u001b[0mlevel\u001b[0m\u001b[1;33m=\u001b[0m\u001b[0mlevel\u001b[0m\u001b[1;33m,\u001b[0m \u001b[0merrors\u001b[0m\u001b[1;33m=\u001b[0m\u001b[0merrors\u001b[0m\u001b[1;33m)\u001b[0m\u001b[1;33m\u001b[0m\u001b[1;33m\u001b[0m\u001b[0m\n\u001b[0;32m   4322\u001b[0m             \u001b[1;32melse\u001b[0m\u001b[1;33m:\u001b[0m\u001b[1;33m\u001b[0m\u001b[1;33m\u001b[0m\u001b[0m\n\u001b[1;32m-> 4323\u001b[1;33m                 \u001b[0mnew_axis\u001b[0m \u001b[1;33m=\u001b[0m \u001b[0maxis\u001b[0m\u001b[1;33m.\u001b[0m\u001b[0mdrop\u001b[0m\u001b[1;33m(\u001b[0m\u001b[0mlabels\u001b[0m\u001b[1;33m,\u001b[0m \u001b[0merrors\u001b[0m\u001b[1;33m=\u001b[0m\u001b[0merrors\u001b[0m\u001b[1;33m)\u001b[0m\u001b[1;33m\u001b[0m\u001b[1;33m\u001b[0m\u001b[0m\n\u001b[0m\u001b[0;32m   4324\u001b[0m             \u001b[0mindexer\u001b[0m \u001b[1;33m=\u001b[0m \u001b[0maxis\u001b[0m\u001b[1;33m.\u001b[0m\u001b[0mget_indexer\u001b[0m\u001b[1;33m(\u001b[0m\u001b[0mnew_axis\u001b[0m\u001b[1;33m)\u001b[0m\u001b[1;33m\u001b[0m\u001b[1;33m\u001b[0m\u001b[0m\n\u001b[0;32m   4325\u001b[0m \u001b[1;33m\u001b[0m\u001b[0m\n",
      "\u001b[1;32m~\\miniconda3\\lib\\site-packages\\pandas\\core\\indexes\\base.py\u001b[0m in \u001b[0;36mdrop\u001b[1;34m(self, labels, errors)\u001b[0m\n\u001b[0;32m   6642\u001b[0m         \u001b[1;32mif\u001b[0m \u001b[0mmask\u001b[0m\u001b[1;33m.\u001b[0m\u001b[0many\u001b[0m\u001b[1;33m(\u001b[0m\u001b[1;33m)\u001b[0m\u001b[1;33m:\u001b[0m\u001b[1;33m\u001b[0m\u001b[1;33m\u001b[0m\u001b[0m\n\u001b[0;32m   6643\u001b[0m             \u001b[1;32mif\u001b[0m \u001b[0merrors\u001b[0m \u001b[1;33m!=\u001b[0m \u001b[1;34m\"ignore\"\u001b[0m\u001b[1;33m:\u001b[0m\u001b[1;33m\u001b[0m\u001b[1;33m\u001b[0m\u001b[0m\n\u001b[1;32m-> 6644\u001b[1;33m                 \u001b[1;32mraise\u001b[0m \u001b[0mKeyError\u001b[0m\u001b[1;33m(\u001b[0m\u001b[1;34mf\"{list(labels[mask])} not found in axis\"\u001b[0m\u001b[1;33m)\u001b[0m\u001b[1;33m\u001b[0m\u001b[1;33m\u001b[0m\u001b[0m\n\u001b[0m\u001b[0;32m   6645\u001b[0m             \u001b[0mindexer\u001b[0m \u001b[1;33m=\u001b[0m \u001b[0mindexer\u001b[0m\u001b[1;33m[\u001b[0m\u001b[1;33m~\u001b[0m\u001b[0mmask\u001b[0m\u001b[1;33m]\u001b[0m\u001b[1;33m\u001b[0m\u001b[1;33m\u001b[0m\u001b[0m\n\u001b[0;32m   6646\u001b[0m         \u001b[1;32mreturn\u001b[0m \u001b[0mself\u001b[0m\u001b[1;33m.\u001b[0m\u001b[0mdelete\u001b[0m\u001b[1;33m(\u001b[0m\u001b[0mindexer\u001b[0m\u001b[1;33m)\u001b[0m\u001b[1;33m\u001b[0m\u001b[1;33m\u001b[0m\u001b[0m\n",
      "\u001b[1;31mKeyError\u001b[0m: \"['Unnamed: 0'] not found in axis\""
     ]
    }
   ],
   "source": [
    "df.drop('Unnamed: 0', axis = 1, inplace = True)"
   ]
  },
  {
   "cell_type": "code",
   "execution_count": 44,
   "metadata": {},
   "outputs": [],
   "source": [
    "df.to_csv('../database/clean_train_data_v3.csv')"
   ]
  },
  {
   "cell_type": "code",
   "execution_count": null,
   "metadata": {},
   "outputs": [],
   "source": []
  }
 ],
 "metadata": {
  "kernelspec": {
   "display_name": "Python 3",
   "language": "python",
   "name": "python3"
  },
  "language_info": {
   "codemirror_mode": {
    "name": "ipython",
    "version": 3
   },
   "file_extension": ".py",
   "mimetype": "text/x-python",
   "name": "python",
   "nbconvert_exporter": "python",
   "pygments_lexer": "ipython3",
   "version": "3.9.5"
  }
 },
 "nbformat": 4,
 "nbformat_minor": 4
}
