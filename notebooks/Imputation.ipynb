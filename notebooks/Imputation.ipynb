{
 "cells": [
  {
   "cell_type": "code",
   "execution_count": 1,
   "metadata": {},
   "outputs": [],
   "source": [
    "import pandas as pd\n",
    "import numpy as np\n",
    "from tqdm import tqdm\n",
    "import matplotlib.pyplot as plt"
   ]
  },
  {
   "cell_type": "code",
   "execution_count": 2,
   "metadata": {},
   "outputs": [],
   "source": [
    "df = pd.read_csv('../database/clean_train_data_v2.csv', index_col = 0)"
   ]
  },
  {
   "cell_type": "code",
   "execution_count": 3,
   "metadata": {},
   "outputs": [
    {
     "data": {
      "text/html": [
       "<div>\n",
       "<style scoped>\n",
       "    .dataframe tbody tr th:only-of-type {\n",
       "        vertical-align: middle;\n",
       "    }\n",
       "\n",
       "    .dataframe tbody tr th {\n",
       "        vertical-align: top;\n",
       "    }\n",
       "\n",
       "    .dataframe thead th {\n",
       "        text-align: right;\n",
       "    }\n",
       "</style>\n",
       "<table border=\"1\" class=\"dataframe\">\n",
       "  <thead>\n",
       "    <tr style=\"text-align: right;\">\n",
       "      <th></th>\n",
       "      <th>LATITUDE</th>\n",
       "      <th>LONGITUDE</th>\n",
       "      <th>ELEVATION</th>\n",
       "      <th>HourlyAltimeterSetting</th>\n",
       "      <th>HourlyDewPointTemperature</th>\n",
       "      <th>HourlyDryBulbTemperature</th>\n",
       "      <th>HourlyPresentWeatherType</th>\n",
       "      <th>HourlyPressureTendency</th>\n",
       "      <th>HourlyRelativeHumidity</th>\n",
       "      <th>HourlySkyConditions</th>\n",
       "      <th>...</th>\n",
       "      <th>HourlyWetBulbTemperature</th>\n",
       "      <th>HourlyWindDirection</th>\n",
       "      <th>HourlyWindSpeed</th>\n",
       "      <th>YEAR</th>\n",
       "      <th>MONTH</th>\n",
       "      <th>DAY</th>\n",
       "      <th>HOUR</th>\n",
       "      <th>MINUTES</th>\n",
       "      <th>SECONDS</th>\n",
       "      <th>TARGETS</th>\n",
       "    </tr>\n",
       "  </thead>\n",
       "  <tbody>\n",
       "    <tr>\n",
       "      <th>0</th>\n",
       "      <td>26.760594</td>\n",
       "      <td>80.889339</td>\n",
       "      <td>124.96</td>\n",
       "      <td>NaN</td>\n",
       "      <td>61.0</td>\n",
       "      <td>100.0</td>\n",
       "      <td>||HZ</td>\n",
       "      <td>9.0</td>\n",
       "      <td>27.0</td>\n",
       "      <td>FEW:01 98</td>\n",
       "      <td>...</td>\n",
       "      <td>NaN</td>\n",
       "      <td>90.0</td>\n",
       "      <td>10.0</td>\n",
       "      <td>2013</td>\n",
       "      <td>5</td>\n",
       "      <td>5</td>\n",
       "      <td>11</td>\n",
       "      <td>30</td>\n",
       "      <td>0</td>\n",
       "      <td>2.49</td>\n",
       "    </tr>\n",
       "    <tr>\n",
       "      <th>1</th>\n",
       "      <td>26.760594</td>\n",
       "      <td>80.889339</td>\n",
       "      <td>124.96</td>\n",
       "      <td>30.06</td>\n",
       "      <td>55.0</td>\n",
       "      <td>61.0</td>\n",
       "      <td>NaN</td>\n",
       "      <td>NaN</td>\n",
       "      <td>83.0</td>\n",
       "      <td>SCT:04 20 SCT:04 100</td>\n",
       "      <td>...</td>\n",
       "      <td>NaN</td>\n",
       "      <td>NaN</td>\n",
       "      <td>2.0</td>\n",
       "      <td>2019</td>\n",
       "      <td>1</td>\n",
       "      <td>23</td>\n",
       "      <td>22</td>\n",
       "      <td>0</td>\n",
       "      <td>0</td>\n",
       "      <td>1.24</td>\n",
       "    </tr>\n",
       "    <tr>\n",
       "      <th>2</th>\n",
       "      <td>25.160219</td>\n",
       "      <td>75.845631</td>\n",
       "      <td>273.10</td>\n",
       "      <td>NaN</td>\n",
       "      <td>51.0</td>\n",
       "      <td>67.0</td>\n",
       "      <td>NaN</td>\n",
       "      <td>9.0</td>\n",
       "      <td>57.0</td>\n",
       "      <td>NaN</td>\n",
       "      <td>...</td>\n",
       "      <td>NaN</td>\n",
       "      <td>230.0</td>\n",
       "      <td>5.0</td>\n",
       "      <td>2005</td>\n",
       "      <td>2</td>\n",
       "      <td>17</td>\n",
       "      <td>8</td>\n",
       "      <td>30</td>\n",
       "      <td>0</td>\n",
       "      <td>2.49</td>\n",
       "    </tr>\n",
       "    <tr>\n",
       "      <th>3</th>\n",
       "      <td>26.760594</td>\n",
       "      <td>80.889339</td>\n",
       "      <td>124.96</td>\n",
       "      <td>NaN</td>\n",
       "      <td>41.0</td>\n",
       "      <td>94.0</td>\n",
       "      <td>||DU</td>\n",
       "      <td>9.0</td>\n",
       "      <td>16.0</td>\n",
       "      <td>NaN</td>\n",
       "      <td>...</td>\n",
       "      <td>NaN</td>\n",
       "      <td>0.0</td>\n",
       "      <td>0.0</td>\n",
       "      <td>1984</td>\n",
       "      <td>5</td>\n",
       "      <td>20</td>\n",
       "      <td>8</td>\n",
       "      <td>30</td>\n",
       "      <td>0</td>\n",
       "      <td>2.49</td>\n",
       "    </tr>\n",
       "    <tr>\n",
       "      <th>4</th>\n",
       "      <td>25.033333</td>\n",
       "      <td>88.133333</td>\n",
       "      <td>31.00</td>\n",
       "      <td>NaN</td>\n",
       "      <td>55.0</td>\n",
       "      <td>82.0</td>\n",
       "      <td>NaN</td>\n",
       "      <td>9.0</td>\n",
       "      <td>39.0</td>\n",
       "      <td>NaN</td>\n",
       "      <td>...</td>\n",
       "      <td>NaN</td>\n",
       "      <td>320.0</td>\n",
       "      <td>2.0</td>\n",
       "      <td>2016</td>\n",
       "      <td>11</td>\n",
       "      <td>16</td>\n",
       "      <td>11</td>\n",
       "      <td>30</td>\n",
       "      <td>0</td>\n",
       "      <td>2.49</td>\n",
       "    </tr>\n",
       "  </tbody>\n",
       "</table>\n",
       "<p>5 rows × 22 columns</p>\n",
       "</div>"
      ],
      "text/plain": [
       "    LATITUDE  LONGITUDE  ELEVATION  HourlyAltimeterSetting  \\\n",
       "0  26.760594  80.889339     124.96                     NaN   \n",
       "1  26.760594  80.889339     124.96                   30.06   \n",
       "2  25.160219  75.845631     273.10                     NaN   \n",
       "3  26.760594  80.889339     124.96                     NaN   \n",
       "4  25.033333  88.133333      31.00                     NaN   \n",
       "\n",
       "   HourlyDewPointTemperature  HourlyDryBulbTemperature  \\\n",
       "0                       61.0                     100.0   \n",
       "1                       55.0                      61.0   \n",
       "2                       51.0                      67.0   \n",
       "3                       41.0                      94.0   \n",
       "4                       55.0                      82.0   \n",
       "\n",
       "  HourlyPresentWeatherType  HourlyPressureTendency  HourlyRelativeHumidity  \\\n",
       "0                     ||HZ                     9.0                    27.0   \n",
       "1                      NaN                     NaN                    83.0   \n",
       "2                      NaN                     9.0                    57.0   \n",
       "3                     ||DU                     9.0                    16.0   \n",
       "4                      NaN                     9.0                    39.0   \n",
       "\n",
       "    HourlySkyConditions  ...  HourlyWetBulbTemperature  HourlyWindDirection  \\\n",
       "0             FEW:01 98  ...                       NaN                 90.0   \n",
       "1  SCT:04 20 SCT:04 100  ...                       NaN                  NaN   \n",
       "2                   NaN  ...                       NaN                230.0   \n",
       "3                   NaN  ...                       NaN                  0.0   \n",
       "4                   NaN  ...                       NaN                320.0   \n",
       "\n",
       "   HourlyWindSpeed  YEAR  MONTH  DAY  HOUR  MINUTES  SECONDS  TARGETS  \n",
       "0             10.0  2013      5    5    11       30        0     2.49  \n",
       "1              2.0  2019      1   23    22        0        0     1.24  \n",
       "2              5.0  2005      2   17     8       30        0     2.49  \n",
       "3              0.0  1984      5   20     8       30        0     2.49  \n",
       "4              2.0  2016     11   16    11       30        0     2.49  \n",
       "\n",
       "[5 rows x 22 columns]"
      ]
     },
     "execution_count": 3,
     "metadata": {},
     "output_type": "execute_result"
    }
   ],
   "source": [
    "df.head()"
   ]
  },
  {
   "cell_type": "code",
   "execution_count": 4,
   "metadata": {},
   "outputs": [
    {
     "name": "stdout",
     "output_type": "stream",
     "text": [
      "<class 'pandas.core.frame.DataFrame'>\n",
      "Int64Index: 934807 entries, 0 to 934806\n",
      "Data columns (total 22 columns):\n",
      " #   Column                     Non-Null Count   Dtype  \n",
      "---  ------                     --------------   -----  \n",
      " 0   LATITUDE                   934807 non-null  float64\n",
      " 1   LONGITUDE                  934807 non-null  float64\n",
      " 2   ELEVATION                  934807 non-null  float64\n",
      " 3   HourlyAltimeterSetting     217039 non-null  float64\n",
      " 4   HourlyDewPointTemperature  916829 non-null  float64\n",
      " 5   HourlyDryBulbTemperature   923010 non-null  float64\n",
      " 6   HourlyPresentWeatherType   398691 non-null  object \n",
      " 7   HourlyPressureTendency     586427 non-null  float64\n",
      " 8   HourlyRelativeHumidity     916208 non-null  float64\n",
      " 9   HourlySkyConditions        507788 non-null  object \n",
      " 10  HourlySeaLevelPressure     670809 non-null  float64\n",
      " 11  HourlyStationPressure      24403 non-null   float64\n",
      " 12  HourlyWetBulbTemperature   24222 non-null   float64\n",
      " 13  HourlyWindDirection        863718 non-null  float64\n",
      " 14  HourlyWindSpeed            924185 non-null  float64\n",
      " 15  YEAR                       934807 non-null  int64  \n",
      " 16  MONTH                      934807 non-null  int64  \n",
      " 17  DAY                        934807 non-null  int64  \n",
      " 18  HOUR                       934807 non-null  int64  \n",
      " 19  MINUTES                    934807 non-null  int64  \n",
      " 20  SECONDS                    934807 non-null  int64  \n",
      " 21  TARGETS                    934807 non-null  float64\n",
      "dtypes: float64(14), int64(6), object(2)\n",
      "memory usage: 164.0+ MB\n"
     ]
    }
   ],
   "source": [
    "df.info()"
   ]
  },
  {
   "cell_type": "code",
   "execution_count": 5,
   "metadata": {},
   "outputs": [
    {
     "data": {
      "text/plain": [
       "0    934807\n",
       "Name: SECONDS, dtype: int64"
      ]
     },
     "execution_count": 5,
     "metadata": {},
     "output_type": "execute_result"
    }
   ],
   "source": [
    "df.SECONDS.value_counts()"
   ]
  },
  {
   "cell_type": "code",
   "execution_count": 6,
   "metadata": {},
   "outputs": [],
   "source": [
    "df.drop(['SECONDS'], axis = 1, inplace = True)"
   ]
  },
  {
   "cell_type": "code",
   "execution_count": 7,
   "metadata": {},
   "outputs": [],
   "source": [
    "df.sort_values(['YEAR', 'MONTH', 'DAY', 'HOUR', 'MINUTES'], inplace = True)"
   ]
  },
  {
   "cell_type": "code",
   "execution_count": 8,
   "metadata": {},
   "outputs": [
    {
     "data": {
      "text/html": [
       "<div>\n",
       "<style scoped>\n",
       "    .dataframe tbody tr th:only-of-type {\n",
       "        vertical-align: middle;\n",
       "    }\n",
       "\n",
       "    .dataframe tbody tr th {\n",
       "        vertical-align: top;\n",
       "    }\n",
       "\n",
       "    .dataframe thead th {\n",
       "        text-align: right;\n",
       "    }\n",
       "</style>\n",
       "<table border=\"1\" class=\"dataframe\">\n",
       "  <thead>\n",
       "    <tr style=\"text-align: right;\">\n",
       "      <th></th>\n",
       "      <th>LATITUDE</th>\n",
       "      <th>LONGITUDE</th>\n",
       "      <th>ELEVATION</th>\n",
       "      <th>HourlyAltimeterSetting</th>\n",
       "      <th>HourlyDewPointTemperature</th>\n",
       "      <th>HourlyDryBulbTemperature</th>\n",
       "      <th>HourlyPresentWeatherType</th>\n",
       "      <th>HourlyPressureTendency</th>\n",
       "      <th>HourlyRelativeHumidity</th>\n",
       "      <th>HourlySkyConditions</th>\n",
       "      <th>...</th>\n",
       "      <th>HourlyStationPressure</th>\n",
       "      <th>HourlyWetBulbTemperature</th>\n",
       "      <th>HourlyWindDirection</th>\n",
       "      <th>HourlyWindSpeed</th>\n",
       "      <th>YEAR</th>\n",
       "      <th>MONTH</th>\n",
       "      <th>DAY</th>\n",
       "      <th>HOUR</th>\n",
       "      <th>MINUTES</th>\n",
       "      <th>TARGETS</th>\n",
       "    </tr>\n",
       "  </thead>\n",
       "  <tbody>\n",
       "    <tr>\n",
       "      <th>118582</th>\n",
       "      <td>27.155831</td>\n",
       "      <td>77.960892</td>\n",
       "      <td>167.94</td>\n",
       "      <td>NaN</td>\n",
       "      <td>NaN</td>\n",
       "      <td>NaN</td>\n",
       "      <td>NaN</td>\n",
       "      <td>NaN</td>\n",
       "      <td>NaN</td>\n",
       "      <td>FEW:02 15 FEW:01</td>\n",
       "      <td>...</td>\n",
       "      <td>NaN</td>\n",
       "      <td>NaN</td>\n",
       "      <td>113.0</td>\n",
       "      <td>3.0</td>\n",
       "      <td>1942</td>\n",
       "      <td>8</td>\n",
       "      <td>24</td>\n",
       "      <td>7</td>\n",
       "      <td>30</td>\n",
       "      <td>99.42</td>\n",
       "    </tr>\n",
       "    <tr>\n",
       "      <th>755013</th>\n",
       "      <td>27.155831</td>\n",
       "      <td>77.960892</td>\n",
       "      <td>167.94</td>\n",
       "      <td>NaN</td>\n",
       "      <td>NaN</td>\n",
       "      <td>NaN</td>\n",
       "      <td>NaN</td>\n",
       "      <td>NaN</td>\n",
       "      <td>NaN</td>\n",
       "      <td>FEW:02 15 FEW:01</td>\n",
       "      <td>...</td>\n",
       "      <td>NaN</td>\n",
       "      <td>NaN</td>\n",
       "      <td>113.0</td>\n",
       "      <td>8.0</td>\n",
       "      <td>1942</td>\n",
       "      <td>8</td>\n",
       "      <td>24</td>\n",
       "      <td>8</td>\n",
       "      <td>30</td>\n",
       "      <td>99.42</td>\n",
       "    </tr>\n",
       "    <tr>\n",
       "      <th>824694</th>\n",
       "      <td>27.155831</td>\n",
       "      <td>77.960892</td>\n",
       "      <td>167.94</td>\n",
       "      <td>NaN</td>\n",
       "      <td>NaN</td>\n",
       "      <td>NaN</td>\n",
       "      <td>NaN</td>\n",
       "      <td>NaN</td>\n",
       "      <td>NaN</td>\n",
       "      <td>FEW:02 15 FEW:01</td>\n",
       "      <td>...</td>\n",
       "      <td>NaN</td>\n",
       "      <td>NaN</td>\n",
       "      <td>135.0</td>\n",
       "      <td>8.0</td>\n",
       "      <td>1942</td>\n",
       "      <td>8</td>\n",
       "      <td>24</td>\n",
       "      <td>9</td>\n",
       "      <td>30</td>\n",
       "      <td>99.42</td>\n",
       "    </tr>\n",
       "    <tr>\n",
       "      <th>830375</th>\n",
       "      <td>27.155831</td>\n",
       "      <td>77.960892</td>\n",
       "      <td>167.94</td>\n",
       "      <td>NaN</td>\n",
       "      <td>NaN</td>\n",
       "      <td>NaN</td>\n",
       "      <td>NaN</td>\n",
       "      <td>NaN</td>\n",
       "      <td>NaN</td>\n",
       "      <td>SCT:04 15</td>\n",
       "      <td>...</td>\n",
       "      <td>NaN</td>\n",
       "      <td>NaN</td>\n",
       "      <td>135.0</td>\n",
       "      <td>9.0</td>\n",
       "      <td>1942</td>\n",
       "      <td>8</td>\n",
       "      <td>24</td>\n",
       "      <td>10</td>\n",
       "      <td>30</td>\n",
       "      <td>99.42</td>\n",
       "    </tr>\n",
       "    <tr>\n",
       "      <th>680093</th>\n",
       "      <td>27.155831</td>\n",
       "      <td>77.960892</td>\n",
       "      <td>167.94</td>\n",
       "      <td>NaN</td>\n",
       "      <td>NaN</td>\n",
       "      <td>NaN</td>\n",
       "      <td>NaN</td>\n",
       "      <td>NaN</td>\n",
       "      <td>NaN</td>\n",
       "      <td>BKN:06  FEW:01</td>\n",
       "      <td>...</td>\n",
       "      <td>NaN</td>\n",
       "      <td>NaN</td>\n",
       "      <td>135.0</td>\n",
       "      <td>8.0</td>\n",
       "      <td>1942</td>\n",
       "      <td>8</td>\n",
       "      <td>24</td>\n",
       "      <td>11</td>\n",
       "      <td>30</td>\n",
       "      <td>99.42</td>\n",
       "    </tr>\n",
       "  </tbody>\n",
       "</table>\n",
       "<p>5 rows × 21 columns</p>\n",
       "</div>"
      ],
      "text/plain": [
       "         LATITUDE  LONGITUDE  ELEVATION  HourlyAltimeterSetting  \\\n",
       "118582  27.155831  77.960892     167.94                     NaN   \n",
       "755013  27.155831  77.960892     167.94                     NaN   \n",
       "824694  27.155831  77.960892     167.94                     NaN   \n",
       "830375  27.155831  77.960892     167.94                     NaN   \n",
       "680093  27.155831  77.960892     167.94                     NaN   \n",
       "\n",
       "        HourlyDewPointTemperature  HourlyDryBulbTemperature  \\\n",
       "118582                        NaN                       NaN   \n",
       "755013                        NaN                       NaN   \n",
       "824694                        NaN                       NaN   \n",
       "830375                        NaN                       NaN   \n",
       "680093                        NaN                       NaN   \n",
       "\n",
       "       HourlyPresentWeatherType  HourlyPressureTendency  \\\n",
       "118582                      NaN                     NaN   \n",
       "755013                      NaN                     NaN   \n",
       "824694                      NaN                     NaN   \n",
       "830375                      NaN                     NaN   \n",
       "680093                      NaN                     NaN   \n",
       "\n",
       "        HourlyRelativeHumidity HourlySkyConditions  ...  \\\n",
       "118582                     NaN    FEW:02 15 FEW:01  ...   \n",
       "755013                     NaN    FEW:02 15 FEW:01  ...   \n",
       "824694                     NaN    FEW:02 15 FEW:01  ...   \n",
       "830375                     NaN           SCT:04 15  ...   \n",
       "680093                     NaN      BKN:06  FEW:01  ...   \n",
       "\n",
       "        HourlyStationPressure  HourlyWetBulbTemperature  HourlyWindDirection  \\\n",
       "118582                    NaN                       NaN                113.0   \n",
       "755013                    NaN                       NaN                113.0   \n",
       "824694                    NaN                       NaN                135.0   \n",
       "830375                    NaN                       NaN                135.0   \n",
       "680093                    NaN                       NaN                135.0   \n",
       "\n",
       "        HourlyWindSpeed  YEAR  MONTH  DAY  HOUR  MINUTES  TARGETS  \n",
       "118582              3.0  1942      8   24     7       30    99.42  \n",
       "755013              8.0  1942      8   24     8       30    99.42  \n",
       "824694              8.0  1942      8   24     9       30    99.42  \n",
       "830375              9.0  1942      8   24    10       30    99.42  \n",
       "680093              8.0  1942      8   24    11       30    99.42  \n",
       "\n",
       "[5 rows x 21 columns]"
      ]
     },
     "execution_count": 8,
     "metadata": {},
     "output_type": "execute_result"
    }
   ],
   "source": [
    "df.head()"
   ]
  },
  {
   "cell_type": "markdown",
   "metadata": {},
   "source": [
    "### Initaial try for interpolation and ml"
   ]
  },
  {
   "cell_type": "code",
   "execution_count": 102,
   "metadata": {},
   "outputs": [],
   "source": [
    "def fill_interpolate_temporal(date_sorted_data):\n",
    "    i = 0\n",
    "    t = 0\n",
    "    while (i < len(date_sorted_data)):\n",
    "        prev_val = date_sorted_data[i]\n",
    "        j = i+1\n",
    "        while np.isnan(date_sorted_data[j]):\n",
    "            j = j+1\n",
    "        next_val = date_sorted_data[j]\n",
    "        if np.isnan(prev_val):\n",
    "            for k in range(i, j):\n",
    "                date_sorted_data[k] = next_val\n",
    "        else:\n",
    "            delta = (next_val - prev_val) / (j - i)\n",
    "            for k in range(i, j):\n",
    "                date_sorted_data[k] = prev_val + (k - i)*delta\n",
    "        i = j\n",
    "        t = t+1\n",
    "        if (t%10000==0):\n",
    "            print(t)\n",
    "    return date_sorted_data"
   ]
  },
  {
   "cell_type": "code",
   "execution_count": 110,
   "metadata": {},
   "outputs": [
    {
     "data": {
      "text/plain": [
       "0"
      ]
     },
     "execution_count": 110,
     "metadata": {},
     "output_type": "execute_result"
    }
   ],
   "source": [
    "df.HourlyDryBulbTemperature[0:60000].isnull().sum()"
   ]
  },
  {
   "cell_type": "code",
   "execution_count": 104,
   "metadata": {},
   "outputs": [
    {
     "name": "stderr",
     "output_type": "stream",
     "text": [
      "c:\\users\\hp\\appdata\\local\\programs\\python\\python37\\lib\\site-packages\\ipykernel_launcher.py:16: SettingWithCopyWarning: \n",
      "A value is trying to be set on a copy of a slice from a DataFrame\n",
      "\n",
      "See the caveats in the documentation: https://pandas.pydata.org/pandas-docs/stable/user_guide/indexing.html#returning-a-view-versus-a-copy\n",
      "  app.launch_new_instance()\n"
     ]
    },
    {
     "name": "stdout",
     "output_type": "stream",
     "text": [
      "10000\n",
      "20000\n",
      "30000\n",
      "40000\n",
      "50000\n",
      "60000\n",
      "70000\n",
      "80000\n",
      "90000\n",
      "100000\n",
      "110000\n",
      "120000\n",
      "130000\n",
      "140000\n",
      "150000\n",
      "160000\n",
      "170000\n",
      "180000\n",
      "190000\n",
      "200000\n",
      "210000\n",
      "220000\n",
      "230000\n",
      "240000\n",
      "250000\n",
      "260000\n",
      "270000\n",
      "280000\n",
      "290000\n",
      "300000\n",
      "310000\n",
      "320000\n",
      "330000\n",
      "340000\n",
      "350000\n",
      "360000\n",
      "370000\n",
      "380000\n",
      "390000\n",
      "400000\n",
      "410000\n",
      "420000\n",
      "430000\n",
      "440000\n",
      "450000\n",
      "460000\n",
      "470000\n",
      "480000\n",
      "490000\n",
      "500000\n",
      "510000\n",
      "520000\n",
      "530000\n",
      "540000\n",
      "550000\n",
      "560000\n",
      "570000\n",
      "580000\n",
      "590000\n",
      "600000\n",
      "610000\n",
      "620000\n",
      "630000\n",
      "640000\n",
      "650000\n",
      "660000\n",
      "670000\n",
      "680000\n",
      "690000\n",
      "700000\n",
      "710000\n",
      "720000\n",
      "730000\n",
      "740000\n",
      "750000\n",
      "760000\n",
      "770000\n",
      "780000\n",
      "790000\n",
      "800000\n",
      "810000\n",
      "820000\n",
      "830000\n",
      "840000\n",
      "850000\n",
      "860000\n",
      "870000\n",
      "880000\n",
      "890000\n",
      "900000\n",
      "910000\n",
      "920000\n"
     ]
    },
    {
     "ename": "KeyError",
     "evalue": "934807",
     "output_type": "error",
     "traceback": [
      "\u001b[1;31m---------------------------------------------------------------------------\u001b[0m",
      "\u001b[1;31mKeyError\u001b[0m                                  Traceback (most recent call last)",
      "\u001b[1;32m<ipython-input-104-4556d25d8d92>\u001b[0m in \u001b[0;36m<module>\u001b[1;34m\u001b[0m\n\u001b[1;32m----> 1\u001b[1;33m \u001b[0mfill_interpolate_temporal\u001b[0m\u001b[1;33m(\u001b[0m\u001b[0mdf\u001b[0m\u001b[1;33m.\u001b[0m\u001b[0mHourlyDryBulbTemperature\u001b[0m\u001b[1;33m)\u001b[0m\u001b[1;33m.\u001b[0m\u001b[0misnull\u001b[0m\u001b[1;33m(\u001b[0m\u001b[1;33m)\u001b[0m\u001b[1;33m.\u001b[0m\u001b[0msum\u001b[0m\u001b[1;33m(\u001b[0m\u001b[1;33m)\u001b[0m\u001b[1;33m\u001b[0m\u001b[1;33m\u001b[0m\u001b[0m\n\u001b[0m",
      "\u001b[1;32m<ipython-input-102-55cfbfc58244>\u001b[0m in \u001b[0;36mfill_interpolate_temporal\u001b[1;34m(date_sorted_data)\u001b[0m\n\u001b[0;32m      5\u001b[0m         \u001b[0mprev_val\u001b[0m \u001b[1;33m=\u001b[0m \u001b[0mdate_sorted_data\u001b[0m\u001b[1;33m[\u001b[0m\u001b[0mi\u001b[0m\u001b[1;33m]\u001b[0m\u001b[1;33m\u001b[0m\u001b[1;33m\u001b[0m\u001b[0m\n\u001b[0;32m      6\u001b[0m         \u001b[0mj\u001b[0m \u001b[1;33m=\u001b[0m \u001b[0mi\u001b[0m\u001b[1;33m+\u001b[0m\u001b[1;36m1\u001b[0m\u001b[1;33m\u001b[0m\u001b[1;33m\u001b[0m\u001b[0m\n\u001b[1;32m----> 7\u001b[1;33m         \u001b[1;32mwhile\u001b[0m \u001b[0mnp\u001b[0m\u001b[1;33m.\u001b[0m\u001b[0misnan\u001b[0m\u001b[1;33m(\u001b[0m\u001b[0mdate_sorted_data\u001b[0m\u001b[1;33m[\u001b[0m\u001b[0mj\u001b[0m\u001b[1;33m]\u001b[0m\u001b[1;33m)\u001b[0m\u001b[1;33m:\u001b[0m\u001b[1;33m\u001b[0m\u001b[1;33m\u001b[0m\u001b[0m\n\u001b[0m\u001b[0;32m      8\u001b[0m             \u001b[0mj\u001b[0m \u001b[1;33m=\u001b[0m \u001b[0mj\u001b[0m\u001b[1;33m+\u001b[0m\u001b[1;36m1\u001b[0m\u001b[1;33m\u001b[0m\u001b[1;33m\u001b[0m\u001b[0m\n\u001b[0;32m      9\u001b[0m         \u001b[0mnext_val\u001b[0m \u001b[1;33m=\u001b[0m \u001b[0mdate_sorted_data\u001b[0m\u001b[1;33m[\u001b[0m\u001b[0mj\u001b[0m\u001b[1;33m]\u001b[0m\u001b[1;33m\u001b[0m\u001b[1;33m\u001b[0m\u001b[0m\n",
      "\u001b[1;32mc:\\users\\hp\\appdata\\local\\programs\\python\\python37\\lib\\site-packages\\pandas\\core\\series.py\u001b[0m in \u001b[0;36m__getitem__\u001b[1;34m(self, key)\u001b[0m\n\u001b[0;32m    869\u001b[0m         \u001b[0mkey\u001b[0m \u001b[1;33m=\u001b[0m \u001b[0mcom\u001b[0m\u001b[1;33m.\u001b[0m\u001b[0mapply_if_callable\u001b[0m\u001b[1;33m(\u001b[0m\u001b[0mkey\u001b[0m\u001b[1;33m,\u001b[0m \u001b[0mself\u001b[0m\u001b[1;33m)\u001b[0m\u001b[1;33m\u001b[0m\u001b[1;33m\u001b[0m\u001b[0m\n\u001b[0;32m    870\u001b[0m         \u001b[1;32mtry\u001b[0m\u001b[1;33m:\u001b[0m\u001b[1;33m\u001b[0m\u001b[1;33m\u001b[0m\u001b[0m\n\u001b[1;32m--> 871\u001b[1;33m             \u001b[0mresult\u001b[0m \u001b[1;33m=\u001b[0m \u001b[0mself\u001b[0m\u001b[1;33m.\u001b[0m\u001b[0mindex\u001b[0m\u001b[1;33m.\u001b[0m\u001b[0mget_value\u001b[0m\u001b[1;33m(\u001b[0m\u001b[0mself\u001b[0m\u001b[1;33m,\u001b[0m \u001b[0mkey\u001b[0m\u001b[1;33m)\u001b[0m\u001b[1;33m\u001b[0m\u001b[1;33m\u001b[0m\u001b[0m\n\u001b[0m\u001b[0;32m    872\u001b[0m \u001b[1;33m\u001b[0m\u001b[0m\n\u001b[0;32m    873\u001b[0m             \u001b[1;32mif\u001b[0m \u001b[1;32mnot\u001b[0m \u001b[0mis_scalar\u001b[0m\u001b[1;33m(\u001b[0m\u001b[0mresult\u001b[0m\u001b[1;33m)\u001b[0m\u001b[1;33m:\u001b[0m\u001b[1;33m\u001b[0m\u001b[1;33m\u001b[0m\u001b[0m\n",
      "\u001b[1;32mc:\\users\\hp\\appdata\\local\\programs\\python\\python37\\lib\\site-packages\\pandas\\core\\indexes\\base.py\u001b[0m in \u001b[0;36mget_value\u001b[1;34m(self, series, key)\u001b[0m\n\u001b[0;32m   4402\u001b[0m         \u001b[0mk\u001b[0m \u001b[1;33m=\u001b[0m \u001b[0mself\u001b[0m\u001b[1;33m.\u001b[0m\u001b[0m_convert_scalar_indexer\u001b[0m\u001b[1;33m(\u001b[0m\u001b[0mk\u001b[0m\u001b[1;33m,\u001b[0m \u001b[0mkind\u001b[0m\u001b[1;33m=\u001b[0m\u001b[1;34m\"getitem\"\u001b[0m\u001b[1;33m)\u001b[0m\u001b[1;33m\u001b[0m\u001b[1;33m\u001b[0m\u001b[0m\n\u001b[0;32m   4403\u001b[0m         \u001b[1;32mtry\u001b[0m\u001b[1;33m:\u001b[0m\u001b[1;33m\u001b[0m\u001b[1;33m\u001b[0m\u001b[0m\n\u001b[1;32m-> 4404\u001b[1;33m             \u001b[1;32mreturn\u001b[0m \u001b[0mself\u001b[0m\u001b[1;33m.\u001b[0m\u001b[0m_engine\u001b[0m\u001b[1;33m.\u001b[0m\u001b[0mget_value\u001b[0m\u001b[1;33m(\u001b[0m\u001b[0ms\u001b[0m\u001b[1;33m,\u001b[0m \u001b[0mk\u001b[0m\u001b[1;33m,\u001b[0m \u001b[0mtz\u001b[0m\u001b[1;33m=\u001b[0m\u001b[0mgetattr\u001b[0m\u001b[1;33m(\u001b[0m\u001b[0mseries\u001b[0m\u001b[1;33m.\u001b[0m\u001b[0mdtype\u001b[0m\u001b[1;33m,\u001b[0m \u001b[1;34m\"tz\"\u001b[0m\u001b[1;33m,\u001b[0m \u001b[1;32mNone\u001b[0m\u001b[1;33m)\u001b[0m\u001b[1;33m)\u001b[0m\u001b[1;33m\u001b[0m\u001b[1;33m\u001b[0m\u001b[0m\n\u001b[0m\u001b[0;32m   4405\u001b[0m         \u001b[1;32mexcept\u001b[0m \u001b[0mKeyError\u001b[0m \u001b[1;32mas\u001b[0m \u001b[0me1\u001b[0m\u001b[1;33m:\u001b[0m\u001b[1;33m\u001b[0m\u001b[1;33m\u001b[0m\u001b[0m\n\u001b[0;32m   4406\u001b[0m             \u001b[1;32mif\u001b[0m \u001b[0mlen\u001b[0m\u001b[1;33m(\u001b[0m\u001b[0mself\u001b[0m\u001b[1;33m)\u001b[0m \u001b[1;33m>\u001b[0m \u001b[1;36m0\u001b[0m \u001b[1;32mand\u001b[0m \u001b[1;33m(\u001b[0m\u001b[0mself\u001b[0m\u001b[1;33m.\u001b[0m\u001b[0mholds_integer\u001b[0m\u001b[1;33m(\u001b[0m\u001b[1;33m)\u001b[0m \u001b[1;32mor\u001b[0m \u001b[0mself\u001b[0m\u001b[1;33m.\u001b[0m\u001b[0mis_boolean\u001b[0m\u001b[1;33m(\u001b[0m\u001b[1;33m)\u001b[0m\u001b[1;33m)\u001b[0m\u001b[1;33m:\u001b[0m\u001b[1;33m\u001b[0m\u001b[1;33m\u001b[0m\u001b[0m\n",
      "\u001b[1;32mpandas\\_libs\\index.pyx\u001b[0m in \u001b[0;36mpandas._libs.index.IndexEngine.get_value\u001b[1;34m()\u001b[0m\n",
      "\u001b[1;32mpandas\\_libs\\index.pyx\u001b[0m in \u001b[0;36mpandas._libs.index.IndexEngine.get_value\u001b[1;34m()\u001b[0m\n",
      "\u001b[1;32mpandas\\_libs\\index.pyx\u001b[0m in \u001b[0;36mpandas._libs.index.IndexEngine.get_loc\u001b[1;34m()\u001b[0m\n",
      "\u001b[1;32mpandas\\_libs\\hashtable_class_helper.pxi\u001b[0m in \u001b[0;36mpandas._libs.hashtable.Int64HashTable.get_item\u001b[1;34m()\u001b[0m\n",
      "\u001b[1;32mpandas\\_libs\\hashtable_class_helper.pxi\u001b[0m in \u001b[0;36mpandas._libs.hashtable.Int64HashTable.get_item\u001b[1;34m()\u001b[0m\n",
      "\u001b[1;31mKeyError\u001b[0m: 934807"
     ]
    }
   ],
   "source": [
    "fill_interpolate_temporal(df.HourlyDryBulbTemperature).isnull().sum()"
   ]
  },
  {
   "cell_type": "code",
   "execution_count": 46,
   "metadata": {},
   "outputs": [
    {
     "name": "stdout",
     "output_type": "stream",
     "text": [
      "<class 'pandas.core.frame.DataFrame'>\n",
      "Int64Index: 934807 entries, 0 to 934806\n",
      "Data columns (total 22 columns):\n",
      " #   Column                     Non-Null Count   Dtype  \n",
      "---  ------                     --------------   -----  \n",
      " 0   LATITUDE                   934807 non-null  float64\n",
      " 1   LONGITUDE                  934807 non-null  float64\n",
      " 2   ELEVATION                  934807 non-null  float64\n",
      " 3   HourlyAltimeterSetting     217039 non-null  float64\n",
      " 4   HourlyDewPointTemperature  916829 non-null  float64\n",
      " 5   HourlyDryBulbTemperature   923010 non-null  float64\n",
      " 6   HourlyPresentWeatherType   398691 non-null  object \n",
      " 7   HourlyPressureTendency     586427 non-null  float64\n",
      " 8   HourlyRelativeHumidity     916208 non-null  float64\n",
      " 9   HourlySkyConditions        507788 non-null  object \n",
      " 10  HourlySeaLevelPressure     670809 non-null  float64\n",
      " 11  HourlyStationPressure      24403 non-null   float64\n",
      " 12  HourlyWetBulbTemperature   24222 non-null   float64\n",
      " 13  HourlyWindDirection        863718 non-null  float64\n",
      " 14  HourlyWindSpeed            924185 non-null  float64\n",
      " 15  YEAR                       934807 non-null  int64  \n",
      " 16  MONTH                      934807 non-null  int64  \n",
      " 17  DAY                        934807 non-null  int64  \n",
      " 18  HOUR                       934807 non-null  int64  \n",
      " 19  MINUTES                    934807 non-null  int64  \n",
      " 20  SECONDS                    934807 non-null  int64  \n",
      " 21  TARGETS                    934807 non-null  float64\n",
      "dtypes: float64(14), int64(6), object(2)\n",
      "memory usage: 204.0+ MB\n"
     ]
    }
   ],
   "source": [
    "df.info()"
   ]
  },
  {
   "cell_type": "code",
   "execution_count": 24,
   "metadata": {},
   "outputs": [],
   "source": [
    "from sklearn.linear_model import LinearRegression\n",
    "from sklearn.ensemble import RandomForestRegressor\n",
    "from sklearn.model_selection import train_test_split\n",
    "from sklearn.metrics import r2_score\n",
    "from sklearn.metrics import mean_squared_error\n",
    "from sklearn.impute import SimpleImputer"
   ]
  },
  {
   "cell_type": "code",
   "execution_count": 122,
   "metadata": {},
   "outputs": [
    {
     "data": {
      "text/plain": [
       "LinearRegression()"
      ]
     },
     "execution_count": 122,
     "metadata": {},
     "output_type": "execute_result"
    }
   ],
   "source": [
    "X = df[['LATITUDE', 'LONGITUDE', 'ELEVATION', 'YEAR', 'MONTH', 'DAY', 'HOUR', 'MINUTES']]\n",
    "y = df['TARGETS']\n",
    "X_train, X_test, y_train, y_test = train_test_split(X, y, shuffle = True)\n",
    "lr = LinearRegression()\n",
    "lr.fit(X_train, y_train)"
   ]
  },
  {
   "cell_type": "code",
   "execution_count": 123,
   "metadata": {},
   "outputs": [],
   "source": [
    "y_pred = lr.predict(X_test)"
   ]
  },
  {
   "cell_type": "code",
   "execution_count": 124,
   "metadata": {},
   "outputs": [
    {
     "data": {
      "text/plain": [
       "-4.963015335921075"
      ]
     },
     "execution_count": 124,
     "metadata": {},
     "output_type": "execute_result"
    }
   ],
   "source": [
    "r2_score(y_pred, y_test)"
   ]
  },
  {
   "cell_type": "code",
   "execution_count": 127,
   "metadata": {},
   "outputs": [
    {
     "data": {
      "text/plain": [
       "75.80544463149002"
      ]
     },
     "execution_count": 127,
     "metadata": {},
     "output_type": "execute_result"
    }
   ],
   "source": [
    "mean_squared_error(y_pred, y_test)"
   ]
  },
  {
   "cell_type": "code",
   "execution_count": 129,
   "metadata": {},
   "outputs": [
    {
     "data": {
      "text/plain": [
       "26.760594    315313\n",
       "23.287828    119271\n",
       "26.739708    101532\n",
       "25.160219    100011\n",
       "27.155831     86740\n",
       "28.000000     50678\n",
       "25.233333     36070\n",
       "27.566667     21667\n",
       "28.250000     16416\n",
       "27.050000     14668\n",
       "32.666667     13673\n",
       "25.033333     13428\n",
       "27.333333      6697\n",
       "27.616667      6063\n",
       "24.466667      5456\n",
       "27.883333      4201\n",
       "25.983333      3100\n",
       "26.516667      3079\n",
       "27.066667      3020\n",
       "25.166667      2979\n",
       "23.316667      2936\n",
       "24.266667      2781\n",
       "34.433333      1949\n",
       "25.666667      1547\n",
       "27.900000      1484\n",
       "30.400000        20\n",
       "25.750000        11\n",
       "29.850000        10\n",
       "28.416667         3\n",
       "31.333333         3\n",
       "28.633333         1\n",
       "Name: LATITUDE, dtype: int64"
      ]
     },
     "execution_count": 129,
     "metadata": {},
     "output_type": "execute_result"
    }
   ],
   "source": [
    "df.LATITUDE.value_counts()"
   ]
  },
  {
   "cell_type": "markdown",
   "metadata": {},
   "source": [
    "### try ends"
   ]
  },
  {
   "cell_type": "code",
   "execution_count": 34,
   "metadata": {},
   "outputs": [
    {
     "data": {
      "image/png": "[encoded data removed]",
      "text/plain": [
       "<Figure size 576x360 with 1 Axes>"
      ]
     },
     "metadata": {
      "needs_background": "light"
     },
     "output_type": "display_data"
    }
   ],
   "source": [
    "trend = df[['YEAR', 'TARGETS']].groupby('YEAR').mean()\n",
    "plt.figure(figsize = (8, 5))\n",
    "plt.plot(trend.index, trend['TARGETS'], '-o', color = 'green')\n",
    "plt.show()"
   ]
  },
  {
   "cell_type": "code",
   "execution_count": 24,
   "metadata": {},
   "outputs": [],
   "source": [
    "cols = ['HourlyAltimeterSetting', 'HourlyDewPointTemperature', 'HourlyDryBulbTemperature', 'HourlyPressureTendency', \n",
    "       'HourlyRelativeHumidity', 'HourlySeaLevelPressure', 'HourlyStationPressure', 'HourlyWetBulbTemperature', \n",
    "       'HourlyWindDirection', 'HourlyWindSpeed']"
   ]
  },
  {
   "cell_type": "code",
   "execution_count": 33,
   "metadata": {},
   "outputs": [
    {
     "data": {
      "image/png": "[encoded data removed]",
      "text/plain": [
       "<Figure size 576x360 with 1 Axes>"
      ]
     },
     "metadata": {
      "needs_background": "light"
     },
     "output_type": "display_data"
    }
   ],
   "source": [
    "trend = df[['YEAR', 'HourlyAltimeterSetting']].groupby('YEAR').mean()\n",
    "plt.figure(figsize = (8, 5))\n",
    "plt.plot(trend.index, trend['HourlyAltimeterSetting'], '-o', color = 'green')\n",
    "plt.show()"
   ]
  },
  {
   "cell_type": "code",
   "execution_count": 84,
   "metadata": {},
   "outputs": [
    {
     "data": {
      "text/plain": [
       "<Figure size 720x720 with 0 Axes>"
      ]
     },
     "metadata": {},
     "output_type": "display_data"
    },
    {
     "data": {
      "image/png": "[encoded data removed]",
      "text/plain": [
       "<Figure size 360x720 with 1 Axes>"
      ]
     },
     "metadata": {
      "needs_background": "light"
     },
     "output_type": "display_data"
    },
    {
     "data": {
      "image/png": "[encoded data removed]",
      "text/plain": [
       "<Figure size 360x720 with 1 Axes>"
      ]
     },
     "metadata": {
      "needs_background": "light"
     },
     "output_type": "display_data"
    },
    {
     "data": {
      "image/png": "[encoded data removed]",
      "text/plain": [
       "<Figure size 360x720 with 1 Axes>"
      ]
     },
     "metadata": {
      "needs_background": "light"
     },
     "output_type": "display_data"
    },
    {
     "data": {
      "image/png": "[encoded data removed]",
      "text/plain": [
       "<Figure size 360x720 with 1 Axes>"
      ]
     },
     "metadata": {
      "needs_background": "light"
     },
     "output_type": "display_data"
    },
    {
     "data": {
      "image/png": "[encoded data removed]",
      "text/plain": [
       "<Figure size 360x720 with 1 Axes>"
      ]
     },
     "metadata": {
      "needs_background": "light"
     },
     "output_type": "display_data"
    },
    {
     "data": {
      "image/png": "[encoded data removed]",
      "text/plain": [
       "<Figure size 360x720 with 1 Axes>"
      ]
     },
     "metadata": {
      "needs_background": "light"
     },
     "output_type": "display_data"
    },
    {
     "data": {
      "image/png": "[encoded data removed]",
      "text/plain": [
       "<Figure size 360x720 with 1 Axes>"
      ]
     },
     "metadata": {
      "needs_background": "light"
     },
     "output_type": "display_data"
    },
    {
     "data": {
      "image/png": "[encoded data removed]",
      "text/plain": [
       "<Figure size 360x720 with 1 Axes>"
      ]
     },
     "metadata": {
      "needs_background": "light"
     },
     "output_type": "display_data"
    },
    {
     "data": {
      "image/png": "[encoded data removed]",
      "text/plain": [
       "<Figure size 360x720 with 1 Axes>"
      ]
     },
     "metadata": {
      "needs_background": "light"
     },
     "output_type": "display_data"
    },
    {
     "data": {
      "image/png": "[encoded data removed]",
      "text/plain": [
       "<Figure size 360x720 with 1 Axes>"
      ]
     },
     "metadata": {
      "needs_background": "light"
     },
     "output_type": "display_data"
    }
   ],
   "source": [
    "# fig, axs = plt.subplots(10)\n",
    "i = 1\n",
    "plt.figure(figsize = (10, 10))\n",
    "for col in cols:\n",
    "    trend = df[['YEAR', col]].groupby('YEAR').mean()\n",
    "#     axs[i].plot(trend.index, trend[col], '-o')\n",
    "    plt.figure(figsize = (5, 10))\n",
    "    plt.subplot(10, 1, i)\n",
    "    plt.plot(trend.index, trend[col], '-o')\n",
    "    i += 1"
   ]
  },
  {
   "cell_type": "code",
   "execution_count": 27,
   "metadata": {},
   "outputs": [
    {
     "data": {
      "text/plain": [
       "list"
      ]
     },
     "execution_count": 27,
     "metadata": {},
     "output_type": "execute_result"
    }
   ],
   "source": [
    "type(cols)"
   ]
  },
  {
   "cell_type": "code",
   "execution_count": 28,
   "metadata": {},
   "outputs": [
    {
     "name": "stderr",
     "output_type": "stream",
     "text": [
      "100%|██████████████████████████████████████████████████████████████████████████████████| 10/10 [00:02<00:00,  3.50it/s]\n"
     ]
    }
   ],
   "source": [
    "# count = 0\n",
    "for col in tqdm(cols):\n",
    "    df[col] = df[col].interpolate()\n",
    "#     count += 1\n",
    "#     print(count)"
   ]
  },
  {
   "cell_type": "code",
   "execution_count": 29,
   "metadata": {},
   "outputs": [
    {
     "name": "stdout",
     "output_type": "stream",
     "text": [
      "<class 'pandas.core.frame.DataFrame'>\n",
      "Int64Index: 934807 entries, 118582 to 893344\n",
      "Data columns (total 21 columns):\n",
      " #   Column                     Non-Null Count   Dtype  \n",
      "---  ------                     --------------   -----  \n",
      " 0   LATITUDE                   934807 non-null  float64\n",
      " 1   LONGITUDE                  934807 non-null  float64\n",
      " 2   ELEVATION                  934807 non-null  float64\n",
      " 3   HourlyAltimeterSetting     819252 non-null  float64\n",
      " 4   HourlyDewPointTemperature  934801 non-null  float64\n",
      " 5   HourlyDryBulbTemperature   934801 non-null  float64\n",
      " 6   HourlyPresentWeatherType   398691 non-null  object \n",
      " 7   HourlyPressureTendency     934253 non-null  float64\n",
      " 8   HourlyRelativeHumidity     934801 non-null  float64\n",
      " 9   HourlySkyConditions        507788 non-null  object \n",
      " 10  HourlySeaLevelPressure     934801 non-null  float64\n",
      " 11  HourlyStationPressure      900745 non-null  float64\n",
      " 12  HourlyWetBulbTemperature   900745 non-null  float64\n",
      " 13  HourlyWindDirection        934807 non-null  float64\n",
      " 14  HourlyWindSpeed            934807 non-null  float64\n",
      " 15  YEAR                       934807 non-null  int64  \n",
      " 16  MONTH                      934807 non-null  int64  \n",
      " 17  DAY                        934807 non-null  int64  \n",
      " 18  HOUR                       934807 non-null  int64  \n",
      " 19  MINUTES                    934807 non-null  int64  \n",
      " 20  TARGETS                    934807 non-null  float64\n",
      "dtypes: float64(14), int64(5), object(2)\n",
      "memory usage: 156.9+ MB\n"
     ]
    }
   ],
   "source": [
    "df.info()"
   ]
  },
  {
   "cell_type": "code",
   "execution_count": 30,
   "metadata": {},
   "outputs": [
    {
     "data": {
      "text/html": [
       "<div>\n",
       "<style scoped>\n",
       "    .dataframe tbody tr th:only-of-type {\n",
       "        vertical-align: middle;\n",
       "    }\n",
       "\n",
       "    .dataframe tbody tr th {\n",
       "        vertical-align: top;\n",
       "    }\n",
       "\n",
       "    .dataframe thead th {\n",
       "        text-align: right;\n",
       "    }\n",
       "</style>\n",
       "<table border=\"1\" class=\"dataframe\">\n",
       "  <thead>\n",
       "    <tr style=\"text-align: right;\">\n",
       "      <th></th>\n",
       "      <th>LATITUDE</th>\n",
       "      <th>LONGITUDE</th>\n",
       "      <th>ELEVATION</th>\n",
       "      <th>HourlyAltimeterSetting</th>\n",
       "      <th>HourlyDewPointTemperature</th>\n",
       "      <th>HourlyDryBulbTemperature</th>\n",
       "      <th>HourlyPressureTendency</th>\n",
       "      <th>HourlyRelativeHumidity</th>\n",
       "      <th>HourlySeaLevelPressure</th>\n",
       "      <th>HourlyStationPressure</th>\n",
       "      <th>HourlyWetBulbTemperature</th>\n",
       "      <th>HourlyWindDirection</th>\n",
       "      <th>HourlyWindSpeed</th>\n",
       "      <th>YEAR</th>\n",
       "      <th>MONTH</th>\n",
       "      <th>DAY</th>\n",
       "      <th>HOUR</th>\n",
       "      <th>MINUTES</th>\n",
       "      <th>TARGETS</th>\n",
       "    </tr>\n",
       "  </thead>\n",
       "  <tbody>\n",
       "    <tr>\n",
       "      <th>LATITUDE</th>\n",
       "      <td>1.000000</td>\n",
       "      <td>0.364563</td>\n",
       "      <td>0.236674</td>\n",
       "      <td>0.015038</td>\n",
       "      <td>-0.061365</td>\n",
       "      <td>-0.122381</td>\n",
       "      <td>-0.024695</td>\n",
       "      <td>0.058821</td>\n",
       "      <td>-0.032052</td>\n",
       "      <td>-0.004166</td>\n",
       "      <td>0.002966</td>\n",
       "      <td>-0.082534</td>\n",
       "      <td>-0.039521</td>\n",
       "      <td>0.029662</td>\n",
       "      <td>-0.000979</td>\n",
       "      <td>-0.000037</td>\n",
       "      <td>-0.023438</td>\n",
       "      <td>-0.137939</td>\n",
       "      <td>0.031737</td>\n",
       "    </tr>\n",
       "    <tr>\n",
       "      <th>LONGITUDE</th>\n",
       "      <td>0.364563</td>\n",
       "      <td>1.000000</td>\n",
       "      <td>0.191262</td>\n",
       "      <td>0.035669</td>\n",
       "      <td>0.147097</td>\n",
       "      <td>-0.120719</td>\n",
       "      <td>-0.010368</td>\n",
       "      <td>0.272296</td>\n",
       "      <td>-0.017558</td>\n",
       "      <td>-0.069382</td>\n",
       "      <td>-0.024914</td>\n",
       "      <td>-0.154224</td>\n",
       "      <td>-0.057881</td>\n",
       "      <td>0.128697</td>\n",
       "      <td>0.002353</td>\n",
       "      <td>0.000984</td>\n",
       "      <td>-0.009041</td>\n",
       "      <td>-0.174836</td>\n",
       "      <td>-0.059613</td>\n",
       "    </tr>\n",
       "    <tr>\n",
       "      <th>ELEVATION</th>\n",
       "      <td>0.236674</td>\n",
       "      <td>0.191262</td>\n",
       "      <td>1.000000</td>\n",
       "      <td>0.017538</td>\n",
       "      <td>-0.181246</td>\n",
       "      <td>-0.247028</td>\n",
       "      <td>-0.205995</td>\n",
       "      <td>0.075660</td>\n",
       "      <td>0.012618</td>\n",
       "      <td>-0.110891</td>\n",
       "      <td>-0.049629</td>\n",
       "      <td>-0.062715</td>\n",
       "      <td>-0.023596</td>\n",
       "      <td>-0.140581</td>\n",
       "      <td>-0.006107</td>\n",
       "      <td>0.000351</td>\n",
       "      <td>-0.003820</td>\n",
       "      <td>0.107067</td>\n",
       "      <td>0.069197</td>\n",
       "    </tr>\n",
       "    <tr>\n",
       "      <th>HourlyAltimeterSetting</th>\n",
       "      <td>0.015038</td>\n",
       "      <td>0.035669</td>\n",
       "      <td>0.017538</td>\n",
       "      <td>1.000000</td>\n",
       "      <td>-0.536634</td>\n",
       "      <td>-0.581840</td>\n",
       "      <td>0.019622</td>\n",
       "      <td>0.006044</td>\n",
       "      <td>0.804045</td>\n",
       "      <td>0.058610</td>\n",
       "      <td>-0.530465</td>\n",
       "      <td>-0.111011</td>\n",
       "      <td>-0.065933</td>\n",
       "      <td>0.146234</td>\n",
       "      <td>-0.019387</td>\n",
       "      <td>0.001575</td>\n",
       "      <td>-0.042252</td>\n",
       "      <td>-0.022980</td>\n",
       "      <td>-0.185577</td>\n",
       "    </tr>\n",
       "    <tr>\n",
       "      <th>HourlyDewPointTemperature</th>\n",
       "      <td>-0.061365</td>\n",
       "      <td>0.147097</td>\n",
       "      <td>-0.181246</td>\n",
       "      <td>-0.536634</td>\n",
       "      <td>1.000000</td>\n",
       "      <td>0.465827</td>\n",
       "      <td>0.098995</td>\n",
       "      <td>0.509766</td>\n",
       "      <td>-0.639326</td>\n",
       "      <td>-0.102982</td>\n",
       "      <td>0.558902</td>\n",
       "      <td>-0.058642</td>\n",
       "      <td>0.029240</td>\n",
       "      <td>0.153399</td>\n",
       "      <td>0.250103</td>\n",
       "      <td>0.004482</td>\n",
       "      <td>-0.005130</td>\n",
       "      <td>-0.096848</td>\n",
       "      <td>-0.043892</td>\n",
       "    </tr>\n",
       "    <tr>\n",
       "      <th>HourlyDryBulbTemperature</th>\n",
       "      <td>-0.122381</td>\n",
       "      <td>-0.120719</td>\n",
       "      <td>-0.247028</td>\n",
       "      <td>-0.581840</td>\n",
       "      <td>0.465827</td>\n",
       "      <td>1.000000</td>\n",
       "      <td>0.076179</td>\n",
       "      <td>-0.480625</td>\n",
       "      <td>-0.688390</td>\n",
       "      <td>-0.077772</td>\n",
       "      <td>0.483666</td>\n",
       "      <td>0.254791</td>\n",
       "      <td>0.104000</td>\n",
       "      <td>0.055035</td>\n",
       "      <td>0.050260</td>\n",
       "      <td>-0.000304</td>\n",
       "      <td>0.203612</td>\n",
       "      <td>0.000404</td>\n",
       "      <td>0.036801</td>\n",
       "    </tr>\n",
       "    <tr>\n",
       "      <th>HourlyPressureTendency</th>\n",
       "      <td>-0.024695</td>\n",
       "      <td>-0.010368</td>\n",
       "      <td>-0.205995</td>\n",
       "      <td>0.019622</td>\n",
       "      <td>0.098995</td>\n",
       "      <td>0.076179</td>\n",
       "      <td>1.000000</td>\n",
       "      <td>0.017220</td>\n",
       "      <td>0.004615</td>\n",
       "      <td>0.052027</td>\n",
       "      <td>0.019465</td>\n",
       "      <td>-0.047441</td>\n",
       "      <td>-0.030249</td>\n",
       "      <td>0.737526</td>\n",
       "      <td>0.011217</td>\n",
       "      <td>-0.002045</td>\n",
       "      <td>-0.001807</td>\n",
       "      <td>-0.170272</td>\n",
       "      <td>-0.296730</td>\n",
       "    </tr>\n",
       "    <tr>\n",
       "      <th>HourlyRelativeHumidity</th>\n",
       "      <td>0.058821</td>\n",
       "      <td>0.272296</td>\n",
       "      <td>0.075660</td>\n",
       "      <td>0.006044</td>\n",
       "      <td>0.509766</td>\n",
       "      <td>-0.480625</td>\n",
       "      <td>0.017220</td>\n",
       "      <td>1.000000</td>\n",
       "      <td>-0.002692</td>\n",
       "      <td>-0.027868</td>\n",
       "      <td>0.101660</td>\n",
       "      <td>-0.302801</td>\n",
       "      <td>-0.069216</td>\n",
       "      <td>0.095041</td>\n",
       "      <td>0.194373</td>\n",
       "      <td>0.005568</td>\n",
       "      <td>-0.218188</td>\n",
       "      <td>-0.100496</td>\n",
       "      <td>-0.081081</td>\n",
       "    </tr>\n",
       "    <tr>\n",
       "      <th>HourlySeaLevelPressure</th>\n",
       "      <td>-0.032052</td>\n",
       "      <td>-0.017558</td>\n",
       "      <td>0.012618</td>\n",
       "      <td>0.804045</td>\n",
       "      <td>-0.639326</td>\n",
       "      <td>-0.688390</td>\n",
       "      <td>0.004615</td>\n",
       "      <td>-0.002692</td>\n",
       "      <td>1.000000</td>\n",
       "      <td>0.088789</td>\n",
       "      <td>-0.595810</td>\n",
       "      <td>-0.120919</td>\n",
       "      <td>-0.082563</td>\n",
       "      <td>0.006014</td>\n",
       "      <td>-0.032345</td>\n",
       "      <td>0.000816</td>\n",
       "      <td>-0.057855</td>\n",
       "      <td>0.016416</td>\n",
       "      <td>-0.023212</td>\n",
       "    </tr>\n",
       "    <tr>\n",
       "      <th>HourlyStationPressure</th>\n",
       "      <td>-0.004166</td>\n",
       "      <td>-0.069382</td>\n",
       "      <td>-0.110891</td>\n",
       "      <td>0.058610</td>\n",
       "      <td>-0.102982</td>\n",
       "      <td>-0.077772</td>\n",
       "      <td>0.052027</td>\n",
       "      <td>-0.027868</td>\n",
       "      <td>0.088789</td>\n",
       "      <td>1.000000</td>\n",
       "      <td>0.010691</td>\n",
       "      <td>-0.010584</td>\n",
       "      <td>-0.002411</td>\n",
       "      <td>-0.005581</td>\n",
       "      <td>-0.078900</td>\n",
       "      <td>-0.004363</td>\n",
       "      <td>-0.013954</td>\n",
       "      <td>-0.054835</td>\n",
       "      <td>0.023851</td>\n",
       "    </tr>\n",
       "    <tr>\n",
       "      <th>HourlyWetBulbTemperature</th>\n",
       "      <td>0.002966</td>\n",
       "      <td>-0.024914</td>\n",
       "      <td>-0.049629</td>\n",
       "      <td>-0.530465</td>\n",
       "      <td>0.558902</td>\n",
       "      <td>0.483666</td>\n",
       "      <td>0.019465</td>\n",
       "      <td>0.101660</td>\n",
       "      <td>-0.595810</td>\n",
       "      <td>0.010691</td>\n",
       "      <td>1.000000</td>\n",
       "      <td>0.054960</td>\n",
       "      <td>0.047894</td>\n",
       "      <td>-0.036358</td>\n",
       "      <td>0.192400</td>\n",
       "      <td>0.000322</td>\n",
       "      <td>0.025884</td>\n",
       "      <td>-0.027652</td>\n",
       "      <td>0.021740</td>\n",
       "    </tr>\n",
       "    <tr>\n",
       "      <th>HourlyWindDirection</th>\n",
       "      <td>-0.082534</td>\n",
       "      <td>-0.154224</td>\n",
       "      <td>-0.062715</td>\n",
       "      <td>-0.111011</td>\n",
       "      <td>-0.058642</td>\n",
       "      <td>0.254791</td>\n",
       "      <td>-0.047441</td>\n",
       "      <td>-0.302801</td>\n",
       "      <td>-0.120919</td>\n",
       "      <td>-0.010584</td>\n",
       "      <td>0.054960</td>\n",
       "      <td>1.000000</td>\n",
       "      <td>0.150751</td>\n",
       "      <td>-0.079833</td>\n",
       "      <td>-0.140780</td>\n",
       "      <td>0.002983</td>\n",
       "      <td>0.047566</td>\n",
       "      <td>0.009438</td>\n",
       "      <td>0.075259</td>\n",
       "    </tr>\n",
       "    <tr>\n",
       "      <th>HourlyWindSpeed</th>\n",
       "      <td>-0.039521</td>\n",
       "      <td>-0.057881</td>\n",
       "      <td>-0.023596</td>\n",
       "      <td>-0.065933</td>\n",
       "      <td>0.029240</td>\n",
       "      <td>0.104000</td>\n",
       "      <td>-0.030249</td>\n",
       "      <td>-0.069216</td>\n",
       "      <td>-0.082563</td>\n",
       "      <td>-0.002411</td>\n",
       "      <td>0.047894</td>\n",
       "      <td>0.150751</td>\n",
       "      <td>1.000000</td>\n",
       "      <td>-0.059154</td>\n",
       "      <td>-0.037841</td>\n",
       "      <td>0.001298</td>\n",
       "      <td>0.012843</td>\n",
       "      <td>-0.019870</td>\n",
       "      <td>0.037573</td>\n",
       "    </tr>\n",
       "    <tr>\n",
       "      <th>YEAR</th>\n",
       "      <td>0.029662</td>\n",
       "      <td>0.128697</td>\n",
       "      <td>-0.140581</td>\n",
       "      <td>0.146234</td>\n",
       "      <td>0.153399</td>\n",
       "      <td>0.055035</td>\n",
       "      <td>0.737526</td>\n",
       "      <td>0.095041</td>\n",
       "      <td>0.006014</td>\n",
       "      <td>-0.005581</td>\n",
       "      <td>-0.036358</td>\n",
       "      <td>-0.079833</td>\n",
       "      <td>-0.059154</td>\n",
       "      <td>1.000000</td>\n",
       "      <td>0.006863</td>\n",
       "      <td>-0.002412</td>\n",
       "      <td>-0.018785</td>\n",
       "      <td>-0.272269</td>\n",
       "      <td>-0.364273</td>\n",
       "    </tr>\n",
       "    <tr>\n",
       "      <th>MONTH</th>\n",
       "      <td>-0.000979</td>\n",
       "      <td>0.002353</td>\n",
       "      <td>-0.006107</td>\n",
       "      <td>-0.019387</td>\n",
       "      <td>0.250103</td>\n",
       "      <td>0.050260</td>\n",
       "      <td>0.011217</td>\n",
       "      <td>0.194373</td>\n",
       "      <td>-0.032345</td>\n",
       "      <td>-0.078900</td>\n",
       "      <td>0.192400</td>\n",
       "      <td>-0.140780</td>\n",
       "      <td>-0.037841</td>\n",
       "      <td>0.006863</td>\n",
       "      <td>1.000000</td>\n",
       "      <td>0.009963</td>\n",
       "      <td>-0.000463</td>\n",
       "      <td>-0.012509</td>\n",
       "      <td>0.023279</td>\n",
       "    </tr>\n",
       "    <tr>\n",
       "      <th>DAY</th>\n",
       "      <td>-0.000037</td>\n",
       "      <td>0.000984</td>\n",
       "      <td>0.000351</td>\n",
       "      <td>0.001575</td>\n",
       "      <td>0.004482</td>\n",
       "      <td>-0.000304</td>\n",
       "      <td>-0.002045</td>\n",
       "      <td>0.005568</td>\n",
       "      <td>0.000816</td>\n",
       "      <td>-0.004363</td>\n",
       "      <td>0.000322</td>\n",
       "      <td>0.002983</td>\n",
       "      <td>0.001298</td>\n",
       "      <td>-0.002412</td>\n",
       "      <td>0.009963</td>\n",
       "      <td>1.000000</td>\n",
       "      <td>-0.000355</td>\n",
       "      <td>0.000719</td>\n",
       "      <td>0.003448</td>\n",
       "    </tr>\n",
       "    <tr>\n",
       "      <th>HOUR</th>\n",
       "      <td>-0.023438</td>\n",
       "      <td>-0.009041</td>\n",
       "      <td>-0.003820</td>\n",
       "      <td>-0.042252</td>\n",
       "      <td>-0.005130</td>\n",
       "      <td>0.203612</td>\n",
       "      <td>-0.001807</td>\n",
       "      <td>-0.218188</td>\n",
       "      <td>-0.057855</td>\n",
       "      <td>-0.013954</td>\n",
       "      <td>0.025884</td>\n",
       "      <td>0.047566</td>\n",
       "      <td>0.012843</td>\n",
       "      <td>-0.018785</td>\n",
       "      <td>-0.000463</td>\n",
       "      <td>-0.000355</td>\n",
       "      <td>1.000000</td>\n",
       "      <td>0.056975</td>\n",
       "      <td>0.009998</td>\n",
       "    </tr>\n",
       "    <tr>\n",
       "      <th>MINUTES</th>\n",
       "      <td>-0.137939</td>\n",
       "      <td>-0.174836</td>\n",
       "      <td>0.107067</td>\n",
       "      <td>-0.022980</td>\n",
       "      <td>-0.096848</td>\n",
       "      <td>0.000404</td>\n",
       "      <td>-0.170272</td>\n",
       "      <td>-0.100496</td>\n",
       "      <td>0.016416</td>\n",
       "      <td>-0.054835</td>\n",
       "      <td>-0.027652</td>\n",
       "      <td>0.009438</td>\n",
       "      <td>-0.019870</td>\n",
       "      <td>-0.272269</td>\n",
       "      <td>-0.012509</td>\n",
       "      <td>0.000719</td>\n",
       "      <td>0.056975</td>\n",
       "      <td>1.000000</td>\n",
       "      <td>0.059391</td>\n",
       "    </tr>\n",
       "    <tr>\n",
       "      <th>TARGETS</th>\n",
       "      <td>0.031737</td>\n",
       "      <td>-0.059613</td>\n",
       "      <td>0.069197</td>\n",
       "      <td>-0.185577</td>\n",
       "      <td>-0.043892</td>\n",
       "      <td>0.036801</td>\n",
       "      <td>-0.296730</td>\n",
       "      <td>-0.081081</td>\n",
       "      <td>-0.023212</td>\n",
       "      <td>0.023851</td>\n",
       "      <td>0.021740</td>\n",
       "      <td>0.075259</td>\n",
       "      <td>0.037573</td>\n",
       "      <td>-0.364273</td>\n",
       "      <td>0.023279</td>\n",
       "      <td>0.003448</td>\n",
       "      <td>0.009998</td>\n",
       "      <td>0.059391</td>\n",
       "      <td>1.000000</td>\n",
       "    </tr>\n",
       "  </tbody>\n",
       "</table>\n",
       "</div>"
      ],
      "text/plain": [
       "                           LATITUDE  LONGITUDE  ELEVATION  \\\n",
       "LATITUDE                   1.000000   0.364563   0.236674   \n",
       "LONGITUDE                  0.364563   1.000000   0.191262   \n",
       "ELEVATION                  0.236674   0.191262   1.000000   \n",
       "HourlyAltimeterSetting     0.015038   0.035669   0.017538   \n",
       "HourlyDewPointTemperature -0.061365   0.147097  -0.181246   \n",
       "HourlyDryBulbTemperature  -0.122381  -0.120719  -0.247028   \n",
       "HourlyPressureTendency    -0.024695  -0.010368  -0.205995   \n",
       "HourlyRelativeHumidity     0.058821   0.272296   0.075660   \n",
       "HourlySeaLevelPressure    -0.032052  -0.017558   0.012618   \n",
       "HourlyStationPressure     -0.004166  -0.069382  -0.110891   \n",
       "HourlyWetBulbTemperature   0.002966  -0.024914  -0.049629   \n",
       "HourlyWindDirection       -0.082534  -0.154224  -0.062715   \n",
       "HourlyWindSpeed           -0.039521  -0.057881  -0.023596   \n",
       "YEAR                       0.029662   0.128697  -0.140581   \n",
       "MONTH                     -0.000979   0.002353  -0.006107   \n",
       "DAY                       -0.000037   0.000984   0.000351   \n",
       "HOUR                      -0.023438  -0.009041  -0.003820   \n",
       "MINUTES                   -0.137939  -0.174836   0.107067   \n",
       "TARGETS                    0.031737  -0.059613   0.069197   \n",
       "\n",
       "                           HourlyAltimeterSetting  HourlyDewPointTemperature  \\\n",
       "LATITUDE                                 0.015038                  -0.061365   \n",
       "LONGITUDE                                0.035669                   0.147097   \n",
       "ELEVATION                                0.017538                  -0.181246   \n",
       "HourlyAltimeterSetting                   1.000000                  -0.536634   \n",
       "HourlyDewPointTemperature               -0.536634                   1.000000   \n",
       "HourlyDryBulbTemperature                -0.581840                   0.465827   \n",
       "HourlyPressureTendency                   0.019622                   0.098995   \n",
       "HourlyRelativeHumidity                   0.006044                   0.509766   \n",
       "HourlySeaLevelPressure                   0.804045                  -0.639326   \n",
       "HourlyStationPressure                    0.058610                  -0.102982   \n",
       "HourlyWetBulbTemperature                -0.530465                   0.558902   \n",
       "HourlyWindDirection                     -0.111011                  -0.058642   \n",
       "HourlyWindSpeed                         -0.065933                   0.029240   \n",
       "YEAR                                     0.146234                   0.153399   \n",
       "MONTH                                   -0.019387                   0.250103   \n",
       "DAY                                      0.001575                   0.004482   \n",
       "HOUR                                    -0.042252                  -0.005130   \n",
       "MINUTES                                 -0.022980                  -0.096848   \n",
       "TARGETS                                 -0.185577                  -0.043892   \n",
       "\n",
       "                           HourlyDryBulbTemperature  HourlyPressureTendency  \\\n",
       "LATITUDE                                  -0.122381               -0.024695   \n",
       "LONGITUDE                                 -0.120719               -0.010368   \n",
       "ELEVATION                                 -0.247028               -0.205995   \n",
       "HourlyAltimeterSetting                    -0.581840                0.019622   \n",
       "HourlyDewPointTemperature                  0.465827                0.098995   \n",
       "HourlyDryBulbTemperature                   1.000000                0.076179   \n",
       "HourlyPressureTendency                     0.076179                1.000000   \n",
       "HourlyRelativeHumidity                    -0.480625                0.017220   \n",
       "HourlySeaLevelPressure                    -0.688390                0.004615   \n",
       "HourlyStationPressure                     -0.077772                0.052027   \n",
       "HourlyWetBulbTemperature                   0.483666                0.019465   \n",
       "HourlyWindDirection                        0.254791               -0.047441   \n",
       "HourlyWindSpeed                            0.104000               -0.030249   \n",
       "YEAR                                       0.055035                0.737526   \n",
       "MONTH                                      0.050260                0.011217   \n",
       "DAY                                       -0.000304               -0.002045   \n",
       "HOUR                                       0.203612               -0.001807   \n",
       "MINUTES                                    0.000404               -0.170272   \n",
       "TARGETS                                    0.036801               -0.296730   \n",
       "\n",
       "                           HourlyRelativeHumidity  HourlySeaLevelPressure  \\\n",
       "LATITUDE                                 0.058821               -0.032052   \n",
       "LONGITUDE                                0.272296               -0.017558   \n",
       "ELEVATION                                0.075660                0.012618   \n",
       "HourlyAltimeterSetting                   0.006044                0.804045   \n",
       "HourlyDewPointTemperature                0.509766               -0.639326   \n",
       "HourlyDryBulbTemperature                -0.480625               -0.688390   \n",
       "HourlyPressureTendency                   0.017220                0.004615   \n",
       "HourlyRelativeHumidity                   1.000000               -0.002692   \n",
       "HourlySeaLevelPressure                  -0.002692                1.000000   \n",
       "HourlyStationPressure                   -0.027868                0.088789   \n",
       "HourlyWetBulbTemperature                 0.101660               -0.595810   \n",
       "HourlyWindDirection                     -0.302801               -0.120919   \n",
       "HourlyWindSpeed                         -0.069216               -0.082563   \n",
       "YEAR                                     0.095041                0.006014   \n",
       "MONTH                                    0.194373               -0.032345   \n",
       "DAY                                      0.005568                0.000816   \n",
       "HOUR                                    -0.218188               -0.057855   \n",
       "MINUTES                                 -0.100496                0.016416   \n",
       "TARGETS                                 -0.081081               -0.023212   \n",
       "\n",
       "                           HourlyStationPressure  HourlyWetBulbTemperature  \\\n",
       "LATITUDE                               -0.004166                  0.002966   \n",
       "LONGITUDE                              -0.069382                 -0.024914   \n",
       "ELEVATION                              -0.110891                 -0.049629   \n",
       "HourlyAltimeterSetting                  0.058610                 -0.530465   \n",
       "HourlyDewPointTemperature              -0.102982                  0.558902   \n",
       "HourlyDryBulbTemperature               -0.077772                  0.483666   \n",
       "HourlyPressureTendency                  0.052027                  0.019465   \n",
       "HourlyRelativeHumidity                 -0.027868                  0.101660   \n",
       "HourlySeaLevelPressure                  0.088789                 -0.595810   \n",
       "HourlyStationPressure                   1.000000                  0.010691   \n",
       "HourlyWetBulbTemperature                0.010691                  1.000000   \n",
       "HourlyWindDirection                    -0.010584                  0.054960   \n",
       "HourlyWindSpeed                        -0.002411                  0.047894   \n",
       "YEAR                                   -0.005581                 -0.036358   \n",
       "MONTH                                  -0.078900                  0.192400   \n",
       "DAY                                    -0.004363                  0.000322   \n",
       "HOUR                                   -0.013954                  0.025884   \n",
       "MINUTES                                -0.054835                 -0.027652   \n",
       "TARGETS                                 0.023851                  0.021740   \n",
       "\n",
       "                           HourlyWindDirection  HourlyWindSpeed      YEAR  \\\n",
       "LATITUDE                             -0.082534        -0.039521  0.029662   \n",
       "LONGITUDE                            -0.154224        -0.057881  0.128697   \n",
       "ELEVATION                            -0.062715        -0.023596 -0.140581   \n",
       "HourlyAltimeterSetting               -0.111011        -0.065933  0.146234   \n",
       "HourlyDewPointTemperature            -0.058642         0.029240  0.153399   \n",
       "HourlyDryBulbTemperature              0.254791         0.104000  0.055035   \n",
       "HourlyPressureTendency               -0.047441        -0.030249  0.737526   \n",
       "HourlyRelativeHumidity               -0.302801        -0.069216  0.095041   \n",
       "HourlySeaLevelPressure               -0.120919        -0.082563  0.006014   \n",
       "HourlyStationPressure                -0.010584        -0.002411 -0.005581   \n",
       "HourlyWetBulbTemperature              0.054960         0.047894 -0.036358   \n",
       "HourlyWindDirection                   1.000000         0.150751 -0.079833   \n",
       "HourlyWindSpeed                       0.150751         1.000000 -0.059154   \n",
       "YEAR                                 -0.079833        -0.059154  1.000000   \n",
       "MONTH                                -0.140780        -0.037841  0.006863   \n",
       "DAY                                   0.002983         0.001298 -0.002412   \n",
       "HOUR                                  0.047566         0.012843 -0.018785   \n",
       "MINUTES                               0.009438        -0.019870 -0.272269   \n",
       "TARGETS                               0.075259         0.037573 -0.364273   \n",
       "\n",
       "                              MONTH       DAY      HOUR   MINUTES   TARGETS  \n",
       "LATITUDE                  -0.000979 -0.000037 -0.023438 -0.137939  0.031737  \n",
       "LONGITUDE                  0.002353  0.000984 -0.009041 -0.174836 -0.059613  \n",
       "ELEVATION                 -0.006107  0.000351 -0.003820  0.107067  0.069197  \n",
       "HourlyAltimeterSetting    -0.019387  0.001575 -0.042252 -0.022980 -0.185577  \n",
       "HourlyDewPointTemperature  0.250103  0.004482 -0.005130 -0.096848 -0.043892  \n",
       "HourlyDryBulbTemperature   0.050260 -0.000304  0.203612  0.000404  0.036801  \n",
       "HourlyPressureTendency     0.011217 -0.002045 -0.001807 -0.170272 -0.296730  \n",
       "HourlyRelativeHumidity     0.194373  0.005568 -0.218188 -0.100496 -0.081081  \n",
       "HourlySeaLevelPressure    -0.032345  0.000816 -0.057855  0.016416 -0.023212  \n",
       "HourlyStationPressure     -0.078900 -0.004363 -0.013954 -0.054835  0.023851  \n",
       "HourlyWetBulbTemperature   0.192400  0.000322  0.025884 -0.027652  0.021740  \n",
       "HourlyWindDirection       -0.140780  0.002983  0.047566  0.009438  0.075259  \n",
       "HourlyWindSpeed           -0.037841  0.001298  0.012843 -0.019870  0.037573  \n",
       "YEAR                       0.006863 -0.002412 -0.018785 -0.272269 -0.364273  \n",
       "MONTH                      1.000000  0.009963 -0.000463 -0.012509  0.023279  \n",
       "DAY                        0.009963  1.000000 -0.000355  0.000719  0.003448  \n",
       "HOUR                      -0.000463 -0.000355  1.000000  0.056975  0.009998  \n",
       "MINUTES                   -0.012509  0.000719  0.056975  1.000000  0.059391  \n",
       "TARGETS                    0.023279  0.003448  0.009998  0.059391  1.000000  "
      ]
     },
     "execution_count": 30,
     "metadata": {},
     "output_type": "execute_result"
    }
   ],
   "source": [
    "df.corr()"
   ]
  },
  {
   "cell_type": "code",
   "execution_count": 31,
   "metadata": {},
   "outputs": [
    {
     "data": {
      "text/plain": [
       "array([[1. , 2. ],\n",
       "       [3.5, 3. ],\n",
       "       [6. , 2.5]])"
      ]
     },
     "execution_count": 31,
     "metadata": {},
     "output_type": "execute_result"
    }
   ],
   "source": [
    "imp = SimpleImputer(missing_values=np.nan, strategy='mean')\n",
    "\n",
    "\n",
    "# X = [[np.nan, 2], [6, np.nan], [7, 6]]\n",
    "# print(imp.transform(X))\n",
    "imp.fit_transform([[1, 2], [np.nan, 3], [6, np.nan]])"
   ]
  },
  {
   "cell_type": "code",
   "execution_count": 36,
   "metadata": {},
   "outputs": [
    {
     "data": {
      "image/png": "[encoded data removed]",
      "text/plain": [
       "<Figure size 360x360 with 1 Axes>"
      ]
     },
     "metadata": {
      "needs_background": "light"
     },
     "output_type": "display_data"
    },
    {
     "data": {
      "image/png": "[encoded data removed]",
      "text/plain": [
       "<Figure size 360x360 with 1 Axes>"
      ]
     },
     "metadata": {
      "needs_background": "light"
     },
     "output_type": "display_data"
    },
    {
     "data": {
      "image/png": "[encoded data removed]",
      "text/plain": [
       "<Figure size 360x360 with 1 Axes>"
      ]
     },
     "metadata": {
      "needs_background": "light"
     },
     "output_type": "display_data"
    },
    {
     "data": {
      "image/png": "[encoded data removed]",
      "text/plain": [
       "<Figure size 360x360 with 1 Axes>"
      ]
     },
     "metadata": {
      "needs_background": "light"
     },
     "output_type": "display_data"
    },
    {
     "data": {
      "image/png": "[encoded data removed]",
      "text/plain": [
       "<Figure size 360x360 with 1 Axes>"
      ]
     },
     "metadata": {
      "needs_background": "light"
     },
     "output_type": "display_data"
    },
    {
     "data": {
      "image/png": "[encoded data removed]",
      "text/plain": [
       "<Figure size 360x360 with 1 Axes>"
      ]
     },
     "metadata": {
      "needs_background": "light"
     },
     "output_type": "display_data"
    },
    {
     "data": {
      "image/png": "[encoded data removed]",
      "text/plain": [
       "<Figure size 360x360 with 1 Axes>"
      ]
     },
     "metadata": {
      "needs_background": "light"
     },
     "output_type": "display_data"
    },
    {
     "data": {
      "image/png": "[encoded data removed]",
      "text/plain": [
       "<Figure size 360x360 with 1 Axes>"
      ]
     },
     "metadata": {
      "needs_background": "light"
     },
     "output_type": "display_data"
    },
    {
     "data": {
      "image/png": "[encoded data removed]",
      "text/plain": [
       "<Figure size 360x360 with 1 Axes>"
      ]
     },
     "metadata": {
      "needs_background": "light"
     },
     "output_type": "display_data"
    },
    {
     "data": {
      "image/png": "[encoded data removed]",
      "text/plain": [
       "<Figure size 360x360 with 1 Axes>"
      ]
     },
     "metadata": {
      "needs_background": "light"
     },
     "output_type": "display_data"
    }
   ],
   "source": [
    "i = 1\n",
    "\n",
    "    \n",
    "for col in cols:\n",
    "    try:\n",
    "        plt.figure(figsize = (5, 5))\n",
    "        plt.subplot(5, 2, i)\n",
    "        plt.title(col)\n",
    "    #     df[col].hist()\n",
    "        plt.plot(df[col].hist())\n",
    "        i += 1\n",
    "    except:\n",
    "        pass"
   ]
  },
  {
   "cell_type": "code",
   "execution_count": 38,
   "metadata": {},
   "outputs": [],
   "source": [
    "mode = ['HourlyPressureTendency', 'HourlyWindSpeed']\n",
    "median = ['HourlyAltimeterSetting', 'HourlyDewPointTemperature', 'HourlyDryBulbTemperature', 'HourlyRelativeHumidity', 'HourlySeaLevelPressure', 'HourlyStationPressure', 'HourlyWetBulbTemperature', \n",
    "       'HourlyWindDirection']"
   ]
  },
  {
   "cell_type": "code",
   "execution_count": 42,
   "metadata": {},
   "outputs": [],
   "source": [
    "imp1 = SimpleImputer(missing_values=np.nan, strategy='median')\n",
    "imp2 = SimpleImputer(missing_values=np.nan, strategy='most_frequent')\n",
    "# X = [[np.nan, 2], [6, np.nan], [7, 6]]\n",
    "# print(imp.transform(X))\n",
    "df[median] = imp1.fit_transform(df[median])\n",
    "df[mode] = imp2.fit_transform(df[mode])"
   ]
  },
  {
   "cell_type": "code",
   "execution_count": 43,
   "metadata": {},
   "outputs": [
    {
     "name": "stdout",
     "output_type": "stream",
     "text": [
      "<class 'pandas.core.frame.DataFrame'>\n",
      "Int64Index: 934807 entries, 118582 to 893344\n",
      "Data columns (total 21 columns):\n",
      " #   Column                     Non-Null Count   Dtype  \n",
      "---  ------                     --------------   -----  \n",
      " 0   LATITUDE                   934807 non-null  float64\n",
      " 1   LONGITUDE                  934807 non-null  float64\n",
      " 2   ELEVATION                  934807 non-null  float64\n",
      " 3   HourlyAltimeterSetting     934807 non-null  float64\n",
      " 4   HourlyDewPointTemperature  934807 non-null  float64\n",
      " 5   HourlyDryBulbTemperature   934807 non-null  float64\n",
      " 6   HourlyPresentWeatherType   398691 non-null  object \n",
      " 7   HourlyPressureTendency     934807 non-null  float64\n",
      " 8   HourlyRelativeHumidity     934807 non-null  float64\n",
      " 9   HourlySkyConditions        507788 non-null  object \n",
      " 10  HourlySeaLevelPressure     934807 non-null  float64\n",
      " 11  HourlyStationPressure      934807 non-null  float64\n",
      " 12  HourlyWetBulbTemperature   934807 non-null  float64\n",
      " 13  HourlyWindDirection        934807 non-null  float64\n",
      " 14  HourlyWindSpeed            934807 non-null  float64\n",
      " 15  YEAR                       934807 non-null  int64  \n",
      " 16  MONTH                      934807 non-null  int64  \n",
      " 17  DAY                        934807 non-null  int64  \n",
      " 18  HOUR                       934807 non-null  int64  \n",
      " 19  MINUTES                    934807 non-null  int64  \n",
      " 20  TARGETS                    934807 non-null  float64\n",
      "dtypes: float64(14), int64(5), object(2)\n",
      "memory usage: 156.9+ MB\n"
     ]
    }
   ],
   "source": [
    "df.info()"
   ]
  },
  {
   "cell_type": "code",
   "execution_count": 44,
   "metadata": {},
   "outputs": [],
   "source": [
    "df.to_csv('../database/clean_train_data_v3.csv')"
   ]
  },
  {
   "cell_type": "code",
   "execution_count": null,
   "metadata": {},
   "outputs": [],
   "source": []
  }
 ],
 "metadata": {
  "kernelspec": {
   "display_name": "Python 3",
   "language": "python",
   "name": "python3"
  },
  "language_info": {
   "codemirror_mode": {
    "name": "ipython",
    "version": 3
   },
   "file_extension": ".py",
   "mimetype": "text/x-python",
   "name": "python",
   "nbconvert_exporter": "python",
   "pygments_lexer": "ipython3",
   "version": "3.7.7"
  }
 },
 "nbformat": 4,
 "nbformat_minor": 4
}
