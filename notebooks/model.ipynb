{
 "cells": [
  {
   "cell_type": "code",
   "execution_count": 1,
   "metadata": {},
   "outputs": [],
   "source": [
    "import pandas as pd\n",
    "import numpy as np\n",
    "import matplotlib.pyplot as plt"
   ]
  },
  {
   "cell_type": "code",
   "execution_count": 2,
   "metadata": {},
   "outputs": [],
   "source": [
    "df = pd.read_csv('../database/clean_train_data_v4.csv', index_col = 0)"
   ]
  },
  {
   "cell_type": "code",
   "execution_count": 29,
   "metadata": {},
   "outputs": [
    {
     "data": {
      "text/html": [
       "<div>\n",
       "<style scoped>\n",
       "    .dataframe tbody tr th:only-of-type {\n",
       "        vertical-align: middle;\n",
       "    }\n",
       "\n",
       "    .dataframe tbody tr th {\n",
       "        vertical-align: top;\n",
       "    }\n",
       "\n",
       "    .dataframe thead th {\n",
       "        text-align: right;\n",
       "    }\n",
       "</style>\n",
       "<table border=\"1\" class=\"dataframe\">\n",
       "  <thead>\n",
       "    <tr style=\"text-align: right;\">\n",
       "      <th></th>\n",
       "      <th>index</th>\n",
       "      <th>STATION</th>\n",
       "      <th>ELEVATION</th>\n",
       "      <th>HourlyAltimeterSetting</th>\n",
       "      <th>HourlyDewPointTemperature</th>\n",
       "      <th>HourlyDryBulbTemperature</th>\n",
       "      <th>HourlyPresentWeatherType</th>\n",
       "      <th>HourlyPressureTendency</th>\n",
       "      <th>HourlyRelativeHumidity</th>\n",
       "      <th>HourlySeaLevelPressure</th>\n",
       "      <th>HourlyStationPressure</th>\n",
       "      <th>HourlyWetBulbTemperature</th>\n",
       "      <th>HourlyWindDirection</th>\n",
       "      <th>HourlyWindSpeed</th>\n",
       "      <th>YEAR</th>\n",
       "      <th>MONTH</th>\n",
       "      <th>DAY</th>\n",
       "      <th>HOUR</th>\n",
       "      <th>MINUTES</th>\n",
       "      <th>TARGETS</th>\n",
       "    </tr>\n",
       "  </thead>\n",
       "  <tbody>\n",
       "    <tr>\n",
       "      <th>count</th>\n",
       "      <td>934807.000000</td>\n",
       "      <td>9.348070e+05</td>\n",
       "      <td>934807.000000</td>\n",
       "      <td>934807.000000</td>\n",
       "      <td>934807.00000</td>\n",
       "      <td>934807.000000</td>\n",
       "      <td>934807.000000</td>\n",
       "      <td>934807.000000</td>\n",
       "      <td>934807.000000</td>\n",
       "      <td>934807.000000</td>\n",
       "      <td>934807.000000</td>\n",
       "      <td>934807.000000</td>\n",
       "      <td>934807.000000</td>\n",
       "      <td>934807.000000</td>\n",
       "      <td>934807.000000</td>\n",
       "      <td>934807.000000</td>\n",
       "      <td>934807.000000</td>\n",
       "      <td>934807.000000</td>\n",
       "      <td>934807.000000</td>\n",
       "      <td>934807.000000</td>\n",
       "    </tr>\n",
       "    <tr>\n",
       "      <th>mean</th>\n",
       "      <td>467403.000000</td>\n",
       "      <td>4.238809e+10</td>\n",
       "      <td>202.016849</td>\n",
       "      <td>29.852842</td>\n",
       "      <td>61.27554</td>\n",
       "      <td>77.832343</td>\n",
       "      <td>4.932852</td>\n",
       "      <td>8.649413</td>\n",
       "      <td>62.896648</td>\n",
       "      <td>29.783154</td>\n",
       "      <td>28.429913</td>\n",
       "      <td>68.506581</td>\n",
       "      <td>140.177717</td>\n",
       "      <td>3.686077</td>\n",
       "      <td>1998.302415</td>\n",
       "      <td>6.548522</td>\n",
       "      <td>15.709282</td>\n",
       "      <td>12.398873</td>\n",
       "      <td>24.664056</td>\n",
       "      <td>3.599834</td>\n",
       "    </tr>\n",
       "    <tr>\n",
       "      <th>std</th>\n",
       "      <td>269855.680883</td>\n",
       "      <td>1.313338e+08</td>\n",
       "      <td>325.431435</td>\n",
       "      <td>0.162720</td>\n",
       "      <td>14.13618</td>\n",
       "      <td>14.328578</td>\n",
       "      <td>3.693069</td>\n",
       "      <td>1.480527</td>\n",
       "      <td>24.121272</td>\n",
       "      <td>0.321782</td>\n",
       "      <td>2.587239</td>\n",
       "      <td>10.359068</td>\n",
       "      <td>126.314951</td>\n",
       "      <td>12.849299</td>\n",
       "      <td>20.717157</td>\n",
       "      <td>3.457547</td>\n",
       "      <td>8.786463</td>\n",
       "      <td>6.440843</td>\n",
       "      <td>11.475579</td>\n",
       "      <td>9.529686</td>\n",
       "    </tr>\n",
       "    <tr>\n",
       "      <th>min</th>\n",
       "      <td>0.000000</td>\n",
       "      <td>4.203010e+10</td>\n",
       "      <td>31.000000</td>\n",
       "      <td>29.180000</td>\n",
       "      <td>-53.00000</td>\n",
       "      <td>-36.000000</td>\n",
       "      <td>0.000000</td>\n",
       "      <td>0.000000</td>\n",
       "      <td>1.000000</td>\n",
       "      <td>26.710000</td>\n",
       "      <td>13.680000</td>\n",
       "      <td>28.000000</td>\n",
       "      <td>0.000000</td>\n",
       "      <td>0.000000</td>\n",
       "      <td>1942.000000</td>\n",
       "      <td>1.000000</td>\n",
       "      <td>1.000000</td>\n",
       "      <td>0.000000</td>\n",
       "      <td>0.000000</td>\n",
       "      <td>0.000000</td>\n",
       "    </tr>\n",
       "    <tr>\n",
       "      <th>25%</th>\n",
       "      <td>233701.500000</td>\n",
       "      <td>4.236910e+10</td>\n",
       "      <td>81.680000</td>\n",
       "      <td>29.740000</td>\n",
       "      <td>50.00000</td>\n",
       "      <td>68.000000</td>\n",
       "      <td>0.000000</td>\n",
       "      <td>9.000000</td>\n",
       "      <td>44.000000</td>\n",
       "      <td>29.580000</td>\n",
       "      <td>28.154651</td>\n",
       "      <td>62.982704</td>\n",
       "      <td>0.000000</td>\n",
       "      <td>0.000000</td>\n",
       "      <td>1986.000000</td>\n",
       "      <td>4.000000</td>\n",
       "      <td>8.000000</td>\n",
       "      <td>8.000000</td>\n",
       "      <td>30.000000</td>\n",
       "      <td>1.240000</td>\n",
       "    </tr>\n",
       "    <tr>\n",
       "      <th>50%</th>\n",
       "      <td>467403.000000</td>\n",
       "      <td>4.236910e+10</td>\n",
       "      <td>124.960000</td>\n",
       "      <td>29.880000</td>\n",
       "      <td>61.00000</td>\n",
       "      <td>81.000000</td>\n",
       "      <td>8.000000</td>\n",
       "      <td>9.000000</td>\n",
       "      <td>66.000000</td>\n",
       "      <td>29.770000</td>\n",
       "      <td>29.561582</td>\n",
       "      <td>71.046325</td>\n",
       "      <td>106.666667</td>\n",
       "      <td>2.000000</td>\n",
       "      <td>2005.000000</td>\n",
       "      <td>7.000000</td>\n",
       "      <td>16.000000</td>\n",
       "      <td>11.000000</td>\n",
       "      <td>30.000000</td>\n",
       "      <td>2.490000</td>\n",
       "    </tr>\n",
       "    <tr>\n",
       "      <th>75%</th>\n",
       "      <td>701104.500000</td>\n",
       "      <td>4.245210e+10</td>\n",
       "      <td>167.940000</td>\n",
       "      <td>29.983846</td>\n",
       "      <td>75.00000</td>\n",
       "      <td>88.000000</td>\n",
       "      <td>8.000000</td>\n",
       "      <td>9.000000</td>\n",
       "      <td>84.000000</td>\n",
       "      <td>29.950000</td>\n",
       "      <td>29.796630</td>\n",
       "      <td>77.000000</td>\n",
       "      <td>270.000000</td>\n",
       "      <td>6.000000</td>\n",
       "      <td>2016.000000</td>\n",
       "      <td>10.000000</td>\n",
       "      <td>23.000000</td>\n",
       "      <td>17.000000</td>\n",
       "      <td>30.000000</td>\n",
       "      <td>2.490000</td>\n",
       "    </tr>\n",
       "    <tr>\n",
       "      <th>max</th>\n",
       "      <td>934806.000000</td>\n",
       "      <td>4.267210e+10</td>\n",
       "      <td>3066.000000</td>\n",
       "      <td>30.300000</td>\n",
       "      <td>97.00000</td>\n",
       "      <td>137.000000</td>\n",
       "      <td>8.000000</td>\n",
       "      <td>9.000000</td>\n",
       "      <td>100.000000</td>\n",
       "      <td>32.180000</td>\n",
       "      <td>31.650000</td>\n",
       "      <td>91.000000</td>\n",
       "      <td>360.000000</td>\n",
       "      <td>2237.000000</td>\n",
       "      <td>2021.000000</td>\n",
       "      <td>12.000000</td>\n",
       "      <td>31.000000</td>\n",
       "      <td>23.000000</td>\n",
       "      <td>55.000000</td>\n",
       "      <td>99.420000</td>\n",
       "    </tr>\n",
       "  </tbody>\n",
       "</table>\n",
       "</div>"
      ],
      "text/plain": [
       "               index       STATION      ELEVATION  HourlyAltimeterSetting  \\\n",
       "count  934807.000000  9.348070e+05  934807.000000           934807.000000   \n",
       "mean   467403.000000  4.238809e+10     202.016849               29.852842   \n",
       "std    269855.680883  1.313338e+08     325.431435                0.162720   \n",
       "min         0.000000  4.203010e+10      31.000000               29.180000   \n",
       "25%    233701.500000  4.236910e+10      81.680000               29.740000   \n",
       "50%    467403.000000  4.236910e+10     124.960000               29.880000   \n",
       "75%    701104.500000  4.245210e+10     167.940000               29.983846   \n",
       "max    934806.000000  4.267210e+10    3066.000000               30.300000   \n",
       "\n",
       "       HourlyDewPointTemperature  HourlyDryBulbTemperature  \\\n",
       "count               934807.00000             934807.000000   \n",
       "mean                    61.27554                 77.832343   \n",
       "std                     14.13618                 14.328578   \n",
       "min                    -53.00000                -36.000000   \n",
       "25%                     50.00000                 68.000000   \n",
       "50%                     61.00000                 81.000000   \n",
       "75%                     75.00000                 88.000000   \n",
       "max                     97.00000                137.000000   \n",
       "\n",
       "       HourlyPresentWeatherType  HourlyPressureTendency  \\\n",
       "count             934807.000000           934807.000000   \n",
       "mean                   4.932852                8.649413   \n",
       "std                    3.693069                1.480527   \n",
       "min                    0.000000                0.000000   \n",
       "25%                    0.000000                9.000000   \n",
       "50%                    8.000000                9.000000   \n",
       "75%                    8.000000                9.000000   \n",
       "max                    8.000000                9.000000   \n",
       "\n",
       "       HourlyRelativeHumidity  HourlySeaLevelPressure  HourlyStationPressure  \\\n",
       "count           934807.000000           934807.000000          934807.000000   \n",
       "mean                62.896648               29.783154              28.429913   \n",
       "std                 24.121272                0.321782               2.587239   \n",
       "min                  1.000000               26.710000              13.680000   \n",
       "25%                 44.000000               29.580000              28.154651   \n",
       "50%                 66.000000               29.770000              29.561582   \n",
       "75%                 84.000000               29.950000              29.796630   \n",
       "max                100.000000               32.180000              31.650000   \n",
       "\n",
       "       HourlyWetBulbTemperature  HourlyWindDirection  HourlyWindSpeed  \\\n",
       "count             934807.000000        934807.000000    934807.000000   \n",
       "mean                  68.506581           140.177717         3.686077   \n",
       "std                   10.359068           126.314951        12.849299   \n",
       "min                   28.000000             0.000000         0.000000   \n",
       "25%                   62.982704             0.000000         0.000000   \n",
       "50%                   71.046325           106.666667         2.000000   \n",
       "75%                   77.000000           270.000000         6.000000   \n",
       "max                   91.000000           360.000000      2237.000000   \n",
       "\n",
       "                YEAR          MONTH            DAY           HOUR  \\\n",
       "count  934807.000000  934807.000000  934807.000000  934807.000000   \n",
       "mean     1998.302415       6.548522      15.709282      12.398873   \n",
       "std        20.717157       3.457547       8.786463       6.440843   \n",
       "min      1942.000000       1.000000       1.000000       0.000000   \n",
       "25%      1986.000000       4.000000       8.000000       8.000000   \n",
       "50%      2005.000000       7.000000      16.000000      11.000000   \n",
       "75%      2016.000000      10.000000      23.000000      17.000000   \n",
       "max      2021.000000      12.000000      31.000000      23.000000   \n",
       "\n",
       "             MINUTES        TARGETS  \n",
       "count  934807.000000  934807.000000  \n",
       "mean       24.664056       3.599834  \n",
       "std        11.475579       9.529686  \n",
       "min         0.000000       0.000000  \n",
       "25%        30.000000       1.240000  \n",
       "50%        30.000000       2.490000  \n",
       "75%        30.000000       2.490000  \n",
       "max        55.000000      99.420000  "
      ]
     },
     "execution_count": 29,
     "metadata": {},
     "output_type": "execute_result"
    }
   ],
   "source": [
    "df.describe()"
   ]
  },
  {
   "cell_type": "code",
   "execution_count": 30,
   "metadata": {},
   "outputs": [],
   "source": [
    "df = df[df['TARGETS'] < 15]"
   ]
  },
  {
   "cell_type": "code",
   "execution_count": 31,
   "metadata": {},
   "outputs": [
    {
     "data": {
      "text/html": [
       "<div>\n",
       "<style scoped>\n",
       "    .dataframe tbody tr th:only-of-type {\n",
       "        vertical-align: middle;\n",
       "    }\n",
       "\n",
       "    .dataframe tbody tr th {\n",
       "        vertical-align: top;\n",
       "    }\n",
       "\n",
       "    .dataframe thead th {\n",
       "        text-align: right;\n",
       "    }\n",
       "</style>\n",
       "<table border=\"1\" class=\"dataframe\">\n",
       "  <thead>\n",
       "    <tr style=\"text-align: right;\">\n",
       "      <th></th>\n",
       "      <th>index</th>\n",
       "      <th>STATION</th>\n",
       "      <th>ELEVATION</th>\n",
       "      <th>HourlyAltimeterSetting</th>\n",
       "      <th>HourlyDewPointTemperature</th>\n",
       "      <th>HourlyDryBulbTemperature</th>\n",
       "      <th>HourlyPresentWeatherType</th>\n",
       "      <th>HourlyPressureTendency</th>\n",
       "      <th>HourlyRelativeHumidity</th>\n",
       "      <th>HourlySeaLevelPressure</th>\n",
       "      <th>HourlyStationPressure</th>\n",
       "      <th>HourlyWetBulbTemperature</th>\n",
       "      <th>HourlyWindDirection</th>\n",
       "      <th>HourlyWindSpeed</th>\n",
       "      <th>YEAR</th>\n",
       "      <th>MONTH</th>\n",
       "      <th>DAY</th>\n",
       "      <th>HOUR</th>\n",
       "      <th>MINUTES</th>\n",
       "      <th>TARGETS</th>\n",
       "    </tr>\n",
       "  </thead>\n",
       "  <tbody>\n",
       "    <tr>\n",
       "      <th>1</th>\n",
       "      <td>691852</td>\n",
       "      <td>42030099999</td>\n",
       "      <td>3066.0</td>\n",
       "      <td>29.88</td>\n",
       "      <td>61.0</td>\n",
       "      <td>-10.5</td>\n",
       "      <td>8</td>\n",
       "      <td>9.0</td>\n",
       "      <td>66.00</td>\n",
       "      <td>29.78</td>\n",
       "      <td>29.561582</td>\n",
       "      <td>71.046325</td>\n",
       "      <td>0.0</td>\n",
       "      <td>0.0</td>\n",
       "      <td>1944</td>\n",
       "      <td>1</td>\n",
       "      <td>3</td>\n",
       "      <td>8</td>\n",
       "      <td>30</td>\n",
       "      <td>0.62</td>\n",
       "    </tr>\n",
       "    <tr>\n",
       "      <th>2</th>\n",
       "      <td>310980</td>\n",
       "      <td>42030099999</td>\n",
       "      <td>3066.0</td>\n",
       "      <td>29.88</td>\n",
       "      <td>2.0</td>\n",
       "      <td>3.0</td>\n",
       "      <td>8</td>\n",
       "      <td>9.0</td>\n",
       "      <td>95.00</td>\n",
       "      <td>29.77</td>\n",
       "      <td>29.561582</td>\n",
       "      <td>71.046325</td>\n",
       "      <td>0.0</td>\n",
       "      <td>0.0</td>\n",
       "      <td>1944</td>\n",
       "      <td>1</td>\n",
       "      <td>7</td>\n",
       "      <td>8</td>\n",
       "      <td>30</td>\n",
       "      <td>0.62</td>\n",
       "    </tr>\n",
       "    <tr>\n",
       "      <th>3</th>\n",
       "      <td>774817</td>\n",
       "      <td>42030099999</td>\n",
       "      <td>3066.0</td>\n",
       "      <td>29.88</td>\n",
       "      <td>-5.0</td>\n",
       "      <td>14.0</td>\n",
       "      <td>8</td>\n",
       "      <td>9.0</td>\n",
       "      <td>95.50</td>\n",
       "      <td>29.74</td>\n",
       "      <td>29.561582</td>\n",
       "      <td>71.046325</td>\n",
       "      <td>0.0</td>\n",
       "      <td>0.0</td>\n",
       "      <td>1944</td>\n",
       "      <td>1</td>\n",
       "      <td>8</td>\n",
       "      <td>8</td>\n",
       "      <td>30</td>\n",
       "      <td>0.31</td>\n",
       "    </tr>\n",
       "    <tr>\n",
       "      <th>10</th>\n",
       "      <td>329145</td>\n",
       "      <td>42030099999</td>\n",
       "      <td>3066.0</td>\n",
       "      <td>29.88</td>\n",
       "      <td>-22.5</td>\n",
       "      <td>11.0</td>\n",
       "      <td>8</td>\n",
       "      <td>9.0</td>\n",
       "      <td>81.75</td>\n",
       "      <td>29.71</td>\n",
       "      <td>29.561582</td>\n",
       "      <td>71.046325</td>\n",
       "      <td>0.0</td>\n",
       "      <td>0.0</td>\n",
       "      <td>1944</td>\n",
       "      <td>1</td>\n",
       "      <td>22</td>\n",
       "      <td>8</td>\n",
       "      <td>30</td>\n",
       "      <td>0.62</td>\n",
       "    </tr>\n",
       "    <tr>\n",
       "      <th>26</th>\n",
       "      <td>703172</td>\n",
       "      <td>42030099999</td>\n",
       "      <td>3066.0</td>\n",
       "      <td>29.88</td>\n",
       "      <td>-25.6</td>\n",
       "      <td>7.0</td>\n",
       "      <td>8</td>\n",
       "      <td>9.0</td>\n",
       "      <td>70.20</td>\n",
       "      <td>29.49</td>\n",
       "      <td>29.561582</td>\n",
       "      <td>71.046325</td>\n",
       "      <td>0.0</td>\n",
       "      <td>0.0</td>\n",
       "      <td>1944</td>\n",
       "      <td>2</td>\n",
       "      <td>12</td>\n",
       "      <td>8</td>\n",
       "      <td>30</td>\n",
       "      <td>2.49</td>\n",
       "    </tr>\n",
       "  </tbody>\n",
       "</table>\n",
       "</div>"
      ],
      "text/plain": [
       "     index      STATION  ELEVATION  HourlyAltimeterSetting  \\\n",
       "1   691852  42030099999     3066.0                   29.88   \n",
       "2   310980  42030099999     3066.0                   29.88   \n",
       "3   774817  42030099999     3066.0                   29.88   \n",
       "10  329145  42030099999     3066.0                   29.88   \n",
       "26  703172  42030099999     3066.0                   29.88   \n",
       "\n",
       "    HourlyDewPointTemperature  HourlyDryBulbTemperature  \\\n",
       "1                        61.0                     -10.5   \n",
       "2                         2.0                       3.0   \n",
       "3                        -5.0                      14.0   \n",
       "10                      -22.5                      11.0   \n",
       "26                      -25.6                       7.0   \n",
       "\n",
       "    HourlyPresentWeatherType  HourlyPressureTendency  HourlyRelativeHumidity  \\\n",
       "1                          8                     9.0                   66.00   \n",
       "2                          8                     9.0                   95.00   \n",
       "3                          8                     9.0                   95.50   \n",
       "10                         8                     9.0                   81.75   \n",
       "26                         8                     9.0                   70.20   \n",
       "\n",
       "    HourlySeaLevelPressure  HourlyStationPressure  HourlyWetBulbTemperature  \\\n",
       "1                    29.78              29.561582                 71.046325   \n",
       "2                    29.77              29.561582                 71.046325   \n",
       "3                    29.74              29.561582                 71.046325   \n",
       "10                   29.71              29.561582                 71.046325   \n",
       "26                   29.49              29.561582                 71.046325   \n",
       "\n",
       "    HourlyWindDirection  HourlyWindSpeed  YEAR  MONTH  DAY  HOUR  MINUTES  \\\n",
       "1                   0.0              0.0  1944      1    3     8       30   \n",
       "2                   0.0              0.0  1944      1    7     8       30   \n",
       "3                   0.0              0.0  1944      1    8     8       30   \n",
       "10                  0.0              0.0  1944      1   22     8       30   \n",
       "26                  0.0              0.0  1944      2   12     8       30   \n",
       "\n",
       "    TARGETS  \n",
       "1      0.62  \n",
       "2      0.62  \n",
       "3      0.31  \n",
       "10     0.62  \n",
       "26     2.49  "
      ]
     },
     "execution_count": 31,
     "metadata": {},
     "output_type": "execute_result"
    }
   ],
   "source": [
    "df.head()"
   ]
  },
  {
   "cell_type": "code",
   "execution_count": 32,
   "metadata": {},
   "outputs": [
    {
     "name": "stdout",
     "output_type": "stream",
     "text": [
      "<class 'pandas.core.frame.DataFrame'>\n",
      "Int64Index: 919203 entries, 1 to 934806\n",
      "Data columns (total 20 columns):\n",
      " #   Column                     Non-Null Count   Dtype  \n",
      "---  ------                     --------------   -----  \n",
      " 0   index                      919203 non-null  int64  \n",
      " 1   STATION                    919203 non-null  int64  \n",
      " 2   ELEVATION                  919203 non-null  float64\n",
      " 3   HourlyAltimeterSetting     919203 non-null  float64\n",
      " 4   HourlyDewPointTemperature  919203 non-null  float64\n",
      " 5   HourlyDryBulbTemperature   919203 non-null  float64\n",
      " 6   HourlyPresentWeatherType   919203 non-null  int64  \n",
      " 7   HourlyPressureTendency     919203 non-null  float64\n",
      " 8   HourlyRelativeHumidity     919203 non-null  float64\n",
      " 9   HourlySeaLevelPressure     919203 non-null  float64\n",
      " 10  HourlyStationPressure      919203 non-null  float64\n",
      " 11  HourlyWetBulbTemperature   919203 non-null  float64\n",
      " 12  HourlyWindDirection        919203 non-null  float64\n",
      " 13  HourlyWindSpeed            919203 non-null  float64\n",
      " 14  YEAR                       919203 non-null  int64  \n",
      " 15  MONTH                      919203 non-null  int64  \n",
      " 16  DAY                        919203 non-null  int64  \n",
      " 17  HOUR                       919203 non-null  int64  \n",
      " 18  MINUTES                    919203 non-null  int64  \n",
      " 19  TARGETS                    919203 non-null  float64\n",
      "dtypes: float64(12), int64(8)\n",
      "memory usage: 147.3 MB\n"
     ]
    }
   ],
   "source": [
    "df.info()"
   ]
  },
  {
   "cell_type": "code",
   "execution_count": 33,
   "metadata": {},
   "outputs": [
    {
     "ename": "KeyError",
     "evalue": "\"['HourlySkyConditions'] not found in axis\"",
     "output_type": "error",
     "traceback": [
      "\u001b[1;31m---------------------------------------------------------------------------\u001b[0m",
      "\u001b[1;31mKeyError\u001b[0m                                  Traceback (most recent call last)",
      "\u001b[1;32m<ipython-input-33-814dc07bf6a7>\u001b[0m in \u001b[0;36m<module>\u001b[1;34m\u001b[0m\n\u001b[1;32m----> 1\u001b[1;33m \u001b[0mdf\u001b[0m\u001b[1;33m.\u001b[0m\u001b[0mdrop\u001b[0m\u001b[1;33m(\u001b[0m\u001b[1;33m[\u001b[0m\u001b[1;34m'HourlySkyConditions'\u001b[0m\u001b[1;33m]\u001b[0m\u001b[1;33m,\u001b[0m \u001b[0maxis\u001b[0m \u001b[1;33m=\u001b[0m \u001b[1;36m1\u001b[0m\u001b[1;33m,\u001b[0m \u001b[0minplace\u001b[0m \u001b[1;33m=\u001b[0m \u001b[1;32mTrue\u001b[0m\u001b[1;33m)\u001b[0m\u001b[1;33m\u001b[0m\u001b[1;33m\u001b[0m\u001b[0m\n\u001b[0m",
      "\u001b[1;32mc:\\users\\hp\\appdata\\local\\programs\\python\\python37\\lib\\site-packages\\pandas\\core\\frame.py\u001b[0m in \u001b[0;36mdrop\u001b[1;34m(self, labels, axis, index, columns, level, inplace, errors)\u001b[0m\n\u001b[0;32m   3995\u001b[0m             \u001b[0mlevel\u001b[0m\u001b[1;33m=\u001b[0m\u001b[0mlevel\u001b[0m\u001b[1;33m,\u001b[0m\u001b[1;33m\u001b[0m\u001b[1;33m\u001b[0m\u001b[0m\n\u001b[0;32m   3996\u001b[0m             \u001b[0minplace\u001b[0m\u001b[1;33m=\u001b[0m\u001b[0minplace\u001b[0m\u001b[1;33m,\u001b[0m\u001b[1;33m\u001b[0m\u001b[1;33m\u001b[0m\u001b[0m\n\u001b[1;32m-> 3997\u001b[1;33m             \u001b[0merrors\u001b[0m\u001b[1;33m=\u001b[0m\u001b[0merrors\u001b[0m\u001b[1;33m,\u001b[0m\u001b[1;33m\u001b[0m\u001b[1;33m\u001b[0m\u001b[0m\n\u001b[0m\u001b[0;32m   3998\u001b[0m         )\n\u001b[0;32m   3999\u001b[0m \u001b[1;33m\u001b[0m\u001b[0m\n",
      "\u001b[1;32mc:\\users\\hp\\appdata\\local\\programs\\python\\python37\\lib\\site-packages\\pandas\\core\\generic.py\u001b[0m in \u001b[0;36mdrop\u001b[1;34m(self, labels, axis, index, columns, level, inplace, errors)\u001b[0m\n\u001b[0;32m   3934\u001b[0m         \u001b[1;32mfor\u001b[0m \u001b[0maxis\u001b[0m\u001b[1;33m,\u001b[0m \u001b[0mlabels\u001b[0m \u001b[1;32min\u001b[0m \u001b[0maxes\u001b[0m\u001b[1;33m.\u001b[0m\u001b[0mitems\u001b[0m\u001b[1;33m(\u001b[0m\u001b[1;33m)\u001b[0m\u001b[1;33m:\u001b[0m\u001b[1;33m\u001b[0m\u001b[1;33m\u001b[0m\u001b[0m\n\u001b[0;32m   3935\u001b[0m             \u001b[1;32mif\u001b[0m \u001b[0mlabels\u001b[0m \u001b[1;32mis\u001b[0m \u001b[1;32mnot\u001b[0m \u001b[1;32mNone\u001b[0m\u001b[1;33m:\u001b[0m\u001b[1;33m\u001b[0m\u001b[1;33m\u001b[0m\u001b[0m\n\u001b[1;32m-> 3936\u001b[1;33m                 \u001b[0mobj\u001b[0m \u001b[1;33m=\u001b[0m \u001b[0mobj\u001b[0m\u001b[1;33m.\u001b[0m\u001b[0m_drop_axis\u001b[0m\u001b[1;33m(\u001b[0m\u001b[0mlabels\u001b[0m\u001b[1;33m,\u001b[0m \u001b[0maxis\u001b[0m\u001b[1;33m,\u001b[0m \u001b[0mlevel\u001b[0m\u001b[1;33m=\u001b[0m\u001b[0mlevel\u001b[0m\u001b[1;33m,\u001b[0m \u001b[0merrors\u001b[0m\u001b[1;33m=\u001b[0m\u001b[0merrors\u001b[0m\u001b[1;33m)\u001b[0m\u001b[1;33m\u001b[0m\u001b[1;33m\u001b[0m\u001b[0m\n\u001b[0m\u001b[0;32m   3937\u001b[0m \u001b[1;33m\u001b[0m\u001b[0m\n\u001b[0;32m   3938\u001b[0m         \u001b[1;32mif\u001b[0m \u001b[0minplace\u001b[0m\u001b[1;33m:\u001b[0m\u001b[1;33m\u001b[0m\u001b[1;33m\u001b[0m\u001b[0m\n",
      "\u001b[1;32mc:\\users\\hp\\appdata\\local\\programs\\python\\python37\\lib\\site-packages\\pandas\\core\\generic.py\u001b[0m in \u001b[0;36m_drop_axis\u001b[1;34m(self, labels, axis, level, errors)\u001b[0m\n\u001b[0;32m   3968\u001b[0m                 \u001b[0mnew_axis\u001b[0m \u001b[1;33m=\u001b[0m \u001b[0maxis\u001b[0m\u001b[1;33m.\u001b[0m\u001b[0mdrop\u001b[0m\u001b[1;33m(\u001b[0m\u001b[0mlabels\u001b[0m\u001b[1;33m,\u001b[0m \u001b[0mlevel\u001b[0m\u001b[1;33m=\u001b[0m\u001b[0mlevel\u001b[0m\u001b[1;33m,\u001b[0m \u001b[0merrors\u001b[0m\u001b[1;33m=\u001b[0m\u001b[0merrors\u001b[0m\u001b[1;33m)\u001b[0m\u001b[1;33m\u001b[0m\u001b[1;33m\u001b[0m\u001b[0m\n\u001b[0;32m   3969\u001b[0m             \u001b[1;32melse\u001b[0m\u001b[1;33m:\u001b[0m\u001b[1;33m\u001b[0m\u001b[1;33m\u001b[0m\u001b[0m\n\u001b[1;32m-> 3970\u001b[1;33m                 \u001b[0mnew_axis\u001b[0m \u001b[1;33m=\u001b[0m \u001b[0maxis\u001b[0m\u001b[1;33m.\u001b[0m\u001b[0mdrop\u001b[0m\u001b[1;33m(\u001b[0m\u001b[0mlabels\u001b[0m\u001b[1;33m,\u001b[0m \u001b[0merrors\u001b[0m\u001b[1;33m=\u001b[0m\u001b[0merrors\u001b[0m\u001b[1;33m)\u001b[0m\u001b[1;33m\u001b[0m\u001b[1;33m\u001b[0m\u001b[0m\n\u001b[0m\u001b[0;32m   3971\u001b[0m             \u001b[0mresult\u001b[0m \u001b[1;33m=\u001b[0m \u001b[0mself\u001b[0m\u001b[1;33m.\u001b[0m\u001b[0mreindex\u001b[0m\u001b[1;33m(\u001b[0m\u001b[1;33m**\u001b[0m\u001b[1;33m{\u001b[0m\u001b[0maxis_name\u001b[0m\u001b[1;33m:\u001b[0m \u001b[0mnew_axis\u001b[0m\u001b[1;33m}\u001b[0m\u001b[1;33m)\u001b[0m\u001b[1;33m\u001b[0m\u001b[1;33m\u001b[0m\u001b[0m\n\u001b[0;32m   3972\u001b[0m \u001b[1;33m\u001b[0m\u001b[0m\n",
      "\u001b[1;32mc:\\users\\hp\\appdata\\local\\programs\\python\\python37\\lib\\site-packages\\pandas\\core\\indexes\\base.py\u001b[0m in \u001b[0;36mdrop\u001b[1;34m(self, labels, errors)\u001b[0m\n\u001b[0;32m   5015\u001b[0m         \u001b[1;32mif\u001b[0m \u001b[0mmask\u001b[0m\u001b[1;33m.\u001b[0m\u001b[0many\u001b[0m\u001b[1;33m(\u001b[0m\u001b[1;33m)\u001b[0m\u001b[1;33m:\u001b[0m\u001b[1;33m\u001b[0m\u001b[1;33m\u001b[0m\u001b[0m\n\u001b[0;32m   5016\u001b[0m             \u001b[1;32mif\u001b[0m \u001b[0merrors\u001b[0m \u001b[1;33m!=\u001b[0m \u001b[1;34m\"ignore\"\u001b[0m\u001b[1;33m:\u001b[0m\u001b[1;33m\u001b[0m\u001b[1;33m\u001b[0m\u001b[0m\n\u001b[1;32m-> 5017\u001b[1;33m                 \u001b[1;32mraise\u001b[0m \u001b[0mKeyError\u001b[0m\u001b[1;33m(\u001b[0m\u001b[1;34mf\"{labels[mask]} not found in axis\"\u001b[0m\u001b[1;33m)\u001b[0m\u001b[1;33m\u001b[0m\u001b[1;33m\u001b[0m\u001b[0m\n\u001b[0m\u001b[0;32m   5018\u001b[0m             \u001b[0mindexer\u001b[0m \u001b[1;33m=\u001b[0m \u001b[0mindexer\u001b[0m\u001b[1;33m[\u001b[0m\u001b[1;33m~\u001b[0m\u001b[0mmask\u001b[0m\u001b[1;33m]\u001b[0m\u001b[1;33m\u001b[0m\u001b[1;33m\u001b[0m\u001b[0m\n\u001b[0;32m   5019\u001b[0m         \u001b[1;32mreturn\u001b[0m \u001b[0mself\u001b[0m\u001b[1;33m.\u001b[0m\u001b[0mdelete\u001b[0m\u001b[1;33m(\u001b[0m\u001b[0mindexer\u001b[0m\u001b[1;33m)\u001b[0m\u001b[1;33m\u001b[0m\u001b[1;33m\u001b[0m\u001b[0m\n",
      "\u001b[1;31mKeyError\u001b[0m: \"['HourlySkyConditions'] not found in axis\""
     ]
    }
   ],
   "source": [
    "df.drop(['HourlySkyConditions'], axis = 1, inplace = True)"
   ]
  },
  {
   "cell_type": "code",
   "execution_count": 34,
   "metadata": {},
   "outputs": [],
   "source": [
    "from sklearn.linear_model import LinearRegression\n",
    "from sklearn.ensemble import RandomForestRegressor\n",
    "from sklearn.model_selection import train_test_split\n",
    "from sklearn.metrics import r2_score\n",
    "from sklearn.metrics import mean_squared_error\n",
    "from sklearn.impute import SimpleImputer"
   ]
  },
  {
   "cell_type": "code",
   "execution_count": 35,
   "metadata": {},
   "outputs": [
    {
     "name": "stdout",
     "output_type": "stream",
     "text": [
      "index\n",
      "STATION\n",
      "ELEVATION\n",
      "HourlyAltimeterSetting\n",
      "HourlyDewPointTemperature\n",
      "HourlyDryBulbTemperature\n",
      "HourlyPresentWeatherType\n",
      "HourlyPressureTendency\n",
      "HourlyRelativeHumidity\n",
      "HourlySeaLevelPressure\n",
      "HourlyStationPressure\n",
      "HourlyWetBulbTemperature\n",
      "HourlyWindDirection\n",
      "HourlyWindSpeed\n",
      "YEAR\n",
      "MONTH\n",
      "DAY\n",
      "HOUR\n",
      "MINUTES\n",
      "TARGETS\n"
     ]
    }
   ],
   "source": [
    "cols = []\n",
    "for i in df.columns:\n",
    "    print(i)\n",
    "    if df[i].dtype != 'O':\n",
    "        cols.append(i)"
   ]
  },
  {
   "cell_type": "code",
   "execution_count": 36,
   "metadata": {},
   "outputs": [
    {
     "data": {
      "text/plain": [
       "'TARGETS'"
      ]
     },
     "execution_count": 36,
     "metadata": {},
     "output_type": "execute_result"
    }
   ],
   "source": [
    "cols.pop()"
   ]
  },
  {
   "cell_type": "code",
   "execution_count": 37,
   "metadata": {},
   "outputs": [
    {
     "data": {
      "text/plain": [
       "['index',\n",
       " 'STATION',\n",
       " 'ELEVATION',\n",
       " 'HourlyAltimeterSetting',\n",
       " 'HourlyDewPointTemperature',\n",
       " 'HourlyDryBulbTemperature',\n",
       " 'HourlyPresentWeatherType',\n",
       " 'HourlyPressureTendency',\n",
       " 'HourlyRelativeHumidity',\n",
       " 'HourlySeaLevelPressure',\n",
       " 'HourlyStationPressure',\n",
       " 'HourlyWetBulbTemperature',\n",
       " 'HourlyWindDirection',\n",
       " 'HourlyWindSpeed',\n",
       " 'YEAR',\n",
       " 'MONTH',\n",
       " 'DAY',\n",
       " 'HOUR',\n",
       " 'MINUTES']"
      ]
     },
     "execution_count": 37,
     "metadata": {},
     "output_type": "execute_result"
    }
   ],
   "source": [
    "cols"
   ]
  },
  {
   "cell_type": "code",
   "execution_count": 38,
   "metadata": {},
   "outputs": [],
   "source": [
    "def adjusted_r2(r2, n, p):\n",
    "    return 1 - (1 - r2)*(n - 1)/(n - p - 1)"
   ]
  },
  {
   "cell_type": "code",
   "execution_count": 39,
   "metadata": {},
   "outputs": [],
   "source": [
    "X = df[cols] \n",
    "y = df['TARGETS']\n",
    "X_train, X_test, y_train, y_test = train_test_split(X, y)"
   ]
  },
  {
   "cell_type": "markdown",
   "metadata": {},
   "source": [
    "## Linear Regression "
   ]
  },
  {
   "cell_type": "code",
   "execution_count": 40,
   "metadata": {},
   "outputs": [
    {
     "data": {
      "text/plain": [
       "LinearRegression()"
      ]
     },
     "execution_count": 40,
     "metadata": {},
     "output_type": "execute_result"
    }
   ],
   "source": [
    "lr = LinearRegression()\n",
    "lr.fit(X_train, y_train)"
   ]
  },
  {
   "cell_type": "code",
   "execution_count": 41,
   "metadata": {},
   "outputs": [],
   "source": [
    "y_pred = lr.predict(X_test)"
   ]
  },
  {
   "cell_type": "code",
   "execution_count": 42,
   "metadata": {},
   "outputs": [
    {
     "data": {
      "text/plain": [
       "-0.9793419744178671"
      ]
     },
     "execution_count": 42,
     "metadata": {},
     "output_type": "execute_result"
    }
   ],
   "source": [
    "r2_score(y_pred, y_test)"
   ]
  },
  {
   "cell_type": "code",
   "execution_count": 43,
   "metadata": {},
   "outputs": [
    {
     "data": {
      "text/plain": [
       "(229801, 19)"
      ]
     },
     "execution_count": 43,
     "metadata": {},
     "output_type": "execute_result"
    }
   ],
   "source": [
    "X_test.shape"
   ]
  },
  {
   "cell_type": "code",
   "execution_count": 45,
   "metadata": {},
   "outputs": [
    {
     "data": {
      "text/plain": [
       "-0.9795056411157834"
      ]
     },
     "execution_count": 45,
     "metadata": {},
     "output_type": "execute_result"
    }
   ],
   "source": [
    "adj_r2 = adjusted_r2(-0.9793419744178671, y_test.shape[0], X_test.shape[1]) \n",
    "adj_r2"
   ]
  },
  {
   "cell_type": "code",
   "execution_count": 46,
   "metadata": {},
   "outputs": [
    {
     "data": {
      "text/plain": [
       "2.0363560136044154"
      ]
     },
     "execution_count": 46,
     "metadata": {},
     "output_type": "execute_result"
    }
   ],
   "source": [
    "mean_squared_error(y_pred, y_test)"
   ]
  },
  {
   "cell_type": "markdown",
   "metadata": {},
   "source": [
    "## Random Forest"
   ]
  },
  {
   "cell_type": "code",
   "execution_count": 47,
   "metadata": {},
   "outputs": [],
   "source": [
    "import time"
   ]
  },
  {
   "cell_type": "code",
   "execution_count": 50,
   "metadata": {},
   "outputs": [
    {
     "name": "stdout",
     "output_type": "stream",
     "text": [
      "Time taken: 1949.1138908863068\n"
     ]
    }
   ],
   "source": [
    "t = time.time()\n",
    "rf = RandomForestRegressor(n_estimators = 100)\n",
    "rf.fit(X_train, y_train)\n",
    "print(f\"Time taken: {time.time()-t}\")"
   ]
  },
  {
   "cell_type": "code",
   "execution_count": 51,
   "metadata": {},
   "outputs": [],
   "source": [
    "y_pred = rf.predict(X_test)"
   ]
  },
  {
   "cell_type": "code",
   "execution_count": 52,
   "metadata": {},
   "outputs": [
    {
     "data": {
      "text/plain": [
       "0.7074759858979455"
      ]
     },
     "execution_count": 52,
     "metadata": {},
     "output_type": "execute_result"
    }
   ],
   "source": [
    "r2_score(y_pred, y_test)"
   ]
  },
  {
   "cell_type": "code",
   "execution_count": 54,
   "metadata": {},
   "outputs": [
    {
     "data": {
      "text/plain": [
       "0.7074517978394552"
      ]
     },
     "execution_count": 54,
     "metadata": {},
     "output_type": "execute_result"
    }
   ],
   "source": [
    "adj_r2 = adjusted_r2(0.7074759858979455, y_test.shape[0], X_test.shape[1]) \n",
    "adj_r2"
   ]
  },
  {
   "cell_type": "code",
   "execution_count": 55,
   "metadata": {},
   "outputs": [
    {
     "data": {
      "text/plain": [
       "0.6969150494261123"
      ]
     },
     "execution_count": 55,
     "metadata": {},
     "output_type": "execute_result"
    }
   ],
   "source": [
    "mean_squared_error(y_pred, y_test)"
   ]
  },
  {
   "cell_type": "markdown",
   "metadata": {},
   "source": []
  },
  {
   "cell_type": "code",
   "execution_count": null,
   "metadata": {},
   "outputs": [],
   "source": [
    "model_results = pd.DataFrame({'comment': 'linear regression with simple interpolation and no parameter tuning', \n",
    "                             'mae': 71.97515291657187})"
   ]
  },
  {
   "cell_type": "code",
   "execution_count": 25,
   "metadata": {},
   "outputs": [
    {
     "data": {
      "text/plain": [
       "count    701105.000000\n",
       "mean          3.603664\n",
       "std           9.545335\n",
       "min           0.000000\n",
       "25%           1.240000\n",
       "50%           2.490000\n",
       "75%           2.490000\n",
       "max          99.420000\n",
       "Name: TARGETS, dtype: float64"
      ]
     },
     "execution_count": 25,
     "metadata": {},
     "output_type": "execute_result"
    }
   ],
   "source": [
    "y_train.describe()"
   ]
  },
  {
   "cell_type": "code",
   "execution_count": null,
   "metadata": {},
   "outputs": [],
   "source": []
  }
 ],
 "metadata": {
  "kernelspec": {
   "display_name": "Python 3",
   "language": "python",
   "name": "python3"
  },
  "language_info": {
   "codemirror_mode": {
    "name": "ipython",
    "version": 3
   },
   "file_extension": ".py",
   "mimetype": "text/x-python",
   "name": "python",
   "nbconvert_exporter": "python",
   "pygments_lexer": "ipython3",
   "version": "3.7.7"
  }
 },
 "nbformat": 4,
 "nbformat_minor": 4
}
