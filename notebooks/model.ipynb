{
 "cells": [
  {
   "cell_type": "code",
   "execution_count": 35,
   "metadata": {},
   "outputs": [],
   "source": [
    "import pandas as pd\n",
    "import numpy as np\n",
    "import matplotlib.pyplot as plt"
   ]
  },
  {
   "cell_type": "code",
   "execution_count": 95,
   "metadata": {},
   "outputs": [],
   "source": [
    "df = pd.read_csv('../database/clean_train_data_v4.csv', index_col = 0)"
   ]
  },
  {
   "cell_type": "code",
   "execution_count": 96,
   "metadata": {},
   "outputs": [
    {
     "data": {
      "text/html": [
       "<div>\n",
       "<style scoped>\n",
       "    .dataframe tbody tr th:only-of-type {\n",
       "        vertical-align: middle;\n",
       "    }\n",
       "\n",
       "    .dataframe tbody tr th {\n",
       "        vertical-align: top;\n",
       "    }\n",
       "\n",
       "    .dataframe thead th {\n",
       "        text-align: right;\n",
       "    }\n",
       "</style>\n",
       "<table border=\"1\" class=\"dataframe\">\n",
       "  <thead>\n",
       "    <tr style=\"text-align: right;\">\n",
       "      <th></th>\n",
       "      <th>STATION</th>\n",
       "      <th>ELEVATION</th>\n",
       "      <th>HourlyAltimeterSetting</th>\n",
       "      <th>HourlyDewPointTemperature</th>\n",
       "      <th>HourlyDryBulbTemperature</th>\n",
       "      <th>HourlyPresentWeatherType</th>\n",
       "      <th>HourlyPressureTendency</th>\n",
       "      <th>HourlyRelativeHumidity</th>\n",
       "      <th>HourlySeaLevelPressure</th>\n",
       "      <th>HourlyStationPressure</th>\n",
       "      <th>HourlyWetBulbTemperature</th>\n",
       "      <th>HourlyWindDirection</th>\n",
       "      <th>HourlyWindSpeed</th>\n",
       "      <th>YEAR</th>\n",
       "      <th>MONTH</th>\n",
       "      <th>DAY</th>\n",
       "      <th>HOUR</th>\n",
       "      <th>MINUTES</th>\n",
       "      <th>TARGETS</th>\n",
       "    </tr>\n",
       "  </thead>\n",
       "  <tbody>\n",
       "    <tr>\n",
       "      <th>count</th>\n",
       "      <td>9.192030e+05</td>\n",
       "      <td>919203.000000</td>\n",
       "      <td>441470.000000</td>\n",
       "      <td>919203.000000</td>\n",
       "      <td>919203.000000</td>\n",
       "      <td>919203.000000</td>\n",
       "      <td>861468.000000</td>\n",
       "      <td>919203.000000</td>\n",
       "      <td>919203.000000</td>\n",
       "      <td>798621.000000</td>\n",
       "      <td>794412.000000</td>\n",
       "      <td>919203.000000</td>\n",
       "      <td>919203.000000</td>\n",
       "      <td>919203.000000</td>\n",
       "      <td>919203.000000</td>\n",
       "      <td>919203.000000</td>\n",
       "      <td>919203.000000</td>\n",
       "      <td>919203.000000</td>\n",
       "      <td>919203.000000</td>\n",
       "    </tr>\n",
       "    <tr>\n",
       "      <th>mean</th>\n",
       "      <td>4.238918e+10</td>\n",
       "      <td>194.448363</td>\n",
       "      <td>29.752843</td>\n",
       "      <td>61.423622</td>\n",
       "      <td>77.901776</td>\n",
       "      <td>4.884348</td>\n",
       "      <td>8.651508</td>\n",
       "      <td>63.027406</td>\n",
       "      <td>29.762542</td>\n",
       "      <td>28.711330</td>\n",
       "      <td>69.633160</td>\n",
       "      <td>139.606996</td>\n",
       "      <td>3.646170</td>\n",
       "      <td>1999.155896</td>\n",
       "      <td>6.539268</td>\n",
       "      <td>15.706262</td>\n",
       "      <td>12.397482</td>\n",
       "      <td>24.582809</td>\n",
       "      <td>2.524561</td>\n",
       "    </tr>\n",
       "    <tr>\n",
       "      <th>std</th>\n",
       "      <td>1.304919e+08</td>\n",
       "      <td>298.783630</td>\n",
       "      <td>0.178794</td>\n",
       "      <td>13.998585</td>\n",
       "      <td>14.200455</td>\n",
       "      <td>3.702105</td>\n",
       "      <td>1.536231</td>\n",
       "      <td>24.069335</td>\n",
       "      <td>0.248068</td>\n",
       "      <td>2.167833</td>\n",
       "      <td>8.926286</td>\n",
       "      <td>126.304796</td>\n",
       "      <td>12.935033</td>\n",
       "      <td>19.765169</td>\n",
       "      <td>3.456301</td>\n",
       "      <td>8.787020</td>\n",
       "      <td>6.457664</td>\n",
       "      <td>11.543572</td>\n",
       "      <td>1.748580</td>\n",
       "    </tr>\n",
       "    <tr>\n",
       "      <th>min</th>\n",
       "      <td>4.203010e+10</td>\n",
       "      <td>31.000000</td>\n",
       "      <td>29.180000</td>\n",
       "      <td>-53.000000</td>\n",
       "      <td>-36.000000</td>\n",
       "      <td>0.000000</td>\n",
       "      <td>0.000000</td>\n",
       "      <td>1.000000</td>\n",
       "      <td>26.710000</td>\n",
       "      <td>13.680000</td>\n",
       "      <td>28.000000</td>\n",
       "      <td>0.000000</td>\n",
       "      <td>0.000000</td>\n",
       "      <td>1942.000000</td>\n",
       "      <td>1.000000</td>\n",
       "      <td>1.000000</td>\n",
       "      <td>0.000000</td>\n",
       "      <td>0.000000</td>\n",
       "      <td>0.000000</td>\n",
       "    </tr>\n",
       "    <tr>\n",
       "      <th>25%</th>\n",
       "      <td>4.236910e+10</td>\n",
       "      <td>81.680000</td>\n",
       "      <td>29.629938</td>\n",
       "      <td>51.000000</td>\n",
       "      <td>68.000000</td>\n",
       "      <td>0.000000</td>\n",
       "      <td>9.000000</td>\n",
       "      <td>44.000000</td>\n",
       "      <td>29.580000</td>\n",
       "      <td>28.370000</td>\n",
       "      <td>64.000000</td>\n",
       "      <td>0.000000</td>\n",
       "      <td>0.000000</td>\n",
       "      <td>1987.000000</td>\n",
       "      <td>4.000000</td>\n",
       "      <td>8.000000</td>\n",
       "      <td>8.000000</td>\n",
       "      <td>30.000000</td>\n",
       "      <td>1.240000</td>\n",
       "    </tr>\n",
       "    <tr>\n",
       "      <th>50%</th>\n",
       "      <td>4.236910e+10</td>\n",
       "      <td>124.960000</td>\n",
       "      <td>29.725000</td>\n",
       "      <td>61.000000</td>\n",
       "      <td>81.000000</td>\n",
       "      <td>8.000000</td>\n",
       "      <td>9.000000</td>\n",
       "      <td>66.000000</td>\n",
       "      <td>29.760000</td>\n",
       "      <td>29.584638</td>\n",
       "      <td>71.325685</td>\n",
       "      <td>100.000000</td>\n",
       "      <td>2.000000</td>\n",
       "      <td>2005.000000</td>\n",
       "      <td>7.000000</td>\n",
       "      <td>16.000000</td>\n",
       "      <td>11.000000</td>\n",
       "      <td>30.000000</td>\n",
       "      <td>2.490000</td>\n",
       "    </tr>\n",
       "    <tr>\n",
       "      <th>75%</th>\n",
       "      <td>4.245210e+10</td>\n",
       "      <td>167.940000</td>\n",
       "      <td>29.880000</td>\n",
       "      <td>75.000000</td>\n",
       "      <td>88.000000</td>\n",
       "      <td>8.000000</td>\n",
       "      <td>9.000000</td>\n",
       "      <td>84.000000</td>\n",
       "      <td>29.940000</td>\n",
       "      <td>29.787901</td>\n",
       "      <td>77.060741</td>\n",
       "      <td>270.000000</td>\n",
       "      <td>6.000000</td>\n",
       "      <td>2016.000000</td>\n",
       "      <td>10.000000</td>\n",
       "      <td>23.000000</td>\n",
       "      <td>17.000000</td>\n",
       "      <td>30.000000</td>\n",
       "      <td>2.490000</td>\n",
       "    </tr>\n",
       "    <tr>\n",
       "      <th>max</th>\n",
       "      <td>4.267210e+10</td>\n",
       "      <td>3066.000000</td>\n",
       "      <td>30.300000</td>\n",
       "      <td>97.000000</td>\n",
       "      <td>137.000000</td>\n",
       "      <td>8.000000</td>\n",
       "      <td>9.000000</td>\n",
       "      <td>100.000000</td>\n",
       "      <td>32.180000</td>\n",
       "      <td>31.650000</td>\n",
       "      <td>91.000000</td>\n",
       "      <td>360.000000</td>\n",
       "      <td>2237.000000</td>\n",
       "      <td>2021.000000</td>\n",
       "      <td>12.000000</td>\n",
       "      <td>31.000000</td>\n",
       "      <td>23.000000</td>\n",
       "      <td>55.000000</td>\n",
       "      <td>14.910000</td>\n",
       "    </tr>\n",
       "  </tbody>\n",
       "</table>\n",
       "</div>"
      ],
      "text/plain": [
       "            STATION      ELEVATION  HourlyAltimeterSetting  \\\n",
       "count  9.192030e+05  919203.000000           441470.000000   \n",
       "mean   4.238918e+10     194.448363               29.752843   \n",
       "std    1.304919e+08     298.783630                0.178794   \n",
       "min    4.203010e+10      31.000000               29.180000   \n",
       "25%    4.236910e+10      81.680000               29.629938   \n",
       "50%    4.236910e+10     124.960000               29.725000   \n",
       "75%    4.245210e+10     167.940000               29.880000   \n",
       "max    4.267210e+10    3066.000000               30.300000   \n",
       "\n",
       "       HourlyDewPointTemperature  HourlyDryBulbTemperature  \\\n",
       "count              919203.000000             919203.000000   \n",
       "mean                   61.423622                 77.901776   \n",
       "std                    13.998585                 14.200455   \n",
       "min                   -53.000000                -36.000000   \n",
       "25%                    51.000000                 68.000000   \n",
       "50%                    61.000000                 81.000000   \n",
       "75%                    75.000000                 88.000000   \n",
       "max                    97.000000                137.000000   \n",
       "\n",
       "       HourlyPresentWeatherType  HourlyPressureTendency  \\\n",
       "count             919203.000000           861468.000000   \n",
       "mean                   4.884348                8.651508   \n",
       "std                    3.702105                1.536231   \n",
       "min                    0.000000                0.000000   \n",
       "25%                    0.000000                9.000000   \n",
       "50%                    8.000000                9.000000   \n",
       "75%                    8.000000                9.000000   \n",
       "max                    8.000000                9.000000   \n",
       "\n",
       "       HourlyRelativeHumidity  HourlySeaLevelPressure  HourlyStationPressure  \\\n",
       "count           919203.000000           919203.000000          798621.000000   \n",
       "mean                63.027406               29.762542              28.711330   \n",
       "std                 24.069335                0.248068               2.167833   \n",
       "min                  1.000000               26.710000              13.680000   \n",
       "25%                 44.000000               29.580000              28.370000   \n",
       "50%                 66.000000               29.760000              29.584638   \n",
       "75%                 84.000000               29.940000              29.787901   \n",
       "max                100.000000               32.180000              31.650000   \n",
       "\n",
       "       HourlyWetBulbTemperature  HourlyWindDirection  HourlyWindSpeed  \\\n",
       "count             794412.000000        919203.000000    919203.000000   \n",
       "mean                  69.633160           139.606996         3.646170   \n",
       "std                    8.926286           126.304796        12.935033   \n",
       "min                   28.000000             0.000000         0.000000   \n",
       "25%                   64.000000             0.000000         0.000000   \n",
       "50%                   71.325685           100.000000         2.000000   \n",
       "75%                   77.060741           270.000000         6.000000   \n",
       "max                   91.000000           360.000000      2237.000000   \n",
       "\n",
       "                YEAR          MONTH            DAY           HOUR  \\\n",
       "count  919203.000000  919203.000000  919203.000000  919203.000000   \n",
       "mean     1999.155896       6.539268      15.706262      12.397482   \n",
       "std        19.765169       3.456301       8.787020       6.457664   \n",
       "min      1942.000000       1.000000       1.000000       0.000000   \n",
       "25%      1987.000000       4.000000       8.000000       8.000000   \n",
       "50%      2005.000000       7.000000      16.000000      11.000000   \n",
       "75%      2016.000000      10.000000      23.000000      17.000000   \n",
       "max      2021.000000      12.000000      31.000000      23.000000   \n",
       "\n",
       "             MINUTES        TARGETS  \n",
       "count  919203.000000  919203.000000  \n",
       "mean       24.582809       2.524561  \n",
       "std        11.543572       1.748580  \n",
       "min         0.000000       0.000000  \n",
       "25%        30.000000       1.240000  \n",
       "50%        30.000000       2.490000  \n",
       "75%        30.000000       2.490000  \n",
       "max        55.000000      14.910000  "
      ]
     },
     "execution_count": 96,
     "metadata": {},
     "output_type": "execute_result"
    }
   ],
   "source": [
    "df.describe()"
   ]
  },
  {
   "cell_type": "code",
   "execution_count": 97,
   "metadata": {},
   "outputs": [
    {
     "data": {
      "text/html": [
       "<div>\n",
       "<style scoped>\n",
       "    .dataframe tbody tr th:only-of-type {\n",
       "        vertical-align: middle;\n",
       "    }\n",
       "\n",
       "    .dataframe tbody tr th {\n",
       "        vertical-align: top;\n",
       "    }\n",
       "\n",
       "    .dataframe thead th {\n",
       "        text-align: right;\n",
       "    }\n",
       "</style>\n",
       "<table border=\"1\" class=\"dataframe\">\n",
       "  <thead>\n",
       "    <tr style=\"text-align: right;\">\n",
       "      <th></th>\n",
       "      <th>STATION</th>\n",
       "      <th>ELEVATION</th>\n",
       "      <th>HourlyAltimeterSetting</th>\n",
       "      <th>HourlyDewPointTemperature</th>\n",
       "      <th>HourlyDryBulbTemperature</th>\n",
       "      <th>HourlyPresentWeatherType</th>\n",
       "      <th>HourlyPressureTendency</th>\n",
       "      <th>HourlyRelativeHumidity</th>\n",
       "      <th>HourlySkyConditions</th>\n",
       "      <th>HourlySeaLevelPressure</th>\n",
       "      <th>HourlyStationPressure</th>\n",
       "      <th>HourlyWetBulbTemperature</th>\n",
       "      <th>HourlyWindDirection</th>\n",
       "      <th>HourlyWindSpeed</th>\n",
       "      <th>YEAR</th>\n",
       "      <th>MONTH</th>\n",
       "      <th>DAY</th>\n",
       "      <th>HOUR</th>\n",
       "      <th>MINUTES</th>\n",
       "      <th>TARGETS</th>\n",
       "    </tr>\n",
       "  </thead>\n",
       "  <tbody>\n",
       "    <tr>\n",
       "      <th>0</th>\n",
       "      <td>42030099999</td>\n",
       "      <td>3066.0</td>\n",
       "      <td>NaN</td>\n",
       "      <td>61.00</td>\n",
       "      <td>81.0</td>\n",
       "      <td>8</td>\n",
       "      <td>NaN</td>\n",
       "      <td>66.0</td>\n",
       "      <td>0  0</td>\n",
       "      <td>29.78</td>\n",
       "      <td>NaN</td>\n",
       "      <td>NaN</td>\n",
       "      <td>0.0</td>\n",
       "      <td>0.0</td>\n",
       "      <td>1944</td>\n",
       "      <td>1</td>\n",
       "      <td>3</td>\n",
       "      <td>8</td>\n",
       "      <td>30</td>\n",
       "      <td>0.62</td>\n",
       "    </tr>\n",
       "    <tr>\n",
       "      <th>1</th>\n",
       "      <td>42030099999</td>\n",
       "      <td>3066.0</td>\n",
       "      <td>NaN</td>\n",
       "      <td>2.00</td>\n",
       "      <td>3.0</td>\n",
       "      <td>8</td>\n",
       "      <td>NaN</td>\n",
       "      <td>95.0</td>\n",
       "      <td>0  0</td>\n",
       "      <td>29.77</td>\n",
       "      <td>NaN</td>\n",
       "      <td>NaN</td>\n",
       "      <td>0.0</td>\n",
       "      <td>0.0</td>\n",
       "      <td>1944</td>\n",
       "      <td>1</td>\n",
       "      <td>7</td>\n",
       "      <td>8</td>\n",
       "      <td>30</td>\n",
       "      <td>0.62</td>\n",
       "    </tr>\n",
       "    <tr>\n",
       "      <th>2</th>\n",
       "      <td>42030099999</td>\n",
       "      <td>3066.0</td>\n",
       "      <td>NaN</td>\n",
       "      <td>3.75</td>\n",
       "      <td>14.0</td>\n",
       "      <td>8</td>\n",
       "      <td>NaN</td>\n",
       "      <td>95.0</td>\n",
       "      <td>0  0</td>\n",
       "      <td>29.74</td>\n",
       "      <td>NaN</td>\n",
       "      <td>NaN</td>\n",
       "      <td>0.0</td>\n",
       "      <td>0.0</td>\n",
       "      <td>1944</td>\n",
       "      <td>1</td>\n",
       "      <td>8</td>\n",
       "      <td>8</td>\n",
       "      <td>30</td>\n",
       "      <td>0.31</td>\n",
       "    </tr>\n",
       "    <tr>\n",
       "      <th>3</th>\n",
       "      <td>42030099999</td>\n",
       "      <td>3066.0</td>\n",
       "      <td>NaN</td>\n",
       "      <td>5.50</td>\n",
       "      <td>11.0</td>\n",
       "      <td>8</td>\n",
       "      <td>NaN</td>\n",
       "      <td>95.0</td>\n",
       "      <td>0  0</td>\n",
       "      <td>29.71</td>\n",
       "      <td>NaN</td>\n",
       "      <td>NaN</td>\n",
       "      <td>0.0</td>\n",
       "      <td>0.0</td>\n",
       "      <td>1944</td>\n",
       "      <td>1</td>\n",
       "      <td>22</td>\n",
       "      <td>8</td>\n",
       "      <td>30</td>\n",
       "      <td>0.62</td>\n",
       "    </tr>\n",
       "    <tr>\n",
       "      <th>4</th>\n",
       "      <td>42030099999</td>\n",
       "      <td>3066.0</td>\n",
       "      <td>NaN</td>\n",
       "      <td>7.25</td>\n",
       "      <td>7.0</td>\n",
       "      <td>8</td>\n",
       "      <td>NaN</td>\n",
       "      <td>95.0</td>\n",
       "      <td>0  0</td>\n",
       "      <td>29.49</td>\n",
       "      <td>NaN</td>\n",
       "      <td>NaN</td>\n",
       "      <td>0.0</td>\n",
       "      <td>0.0</td>\n",
       "      <td>1944</td>\n",
       "      <td>2</td>\n",
       "      <td>12</td>\n",
       "      <td>8</td>\n",
       "      <td>30</td>\n",
       "      <td>2.49</td>\n",
       "    </tr>\n",
       "  </tbody>\n",
       "</table>\n",
       "</div>"
      ],
      "text/plain": [
       "       STATION  ELEVATION  HourlyAltimeterSetting  HourlyDewPointTemperature  \\\n",
       "0  42030099999     3066.0                     NaN                      61.00   \n",
       "1  42030099999     3066.0                     NaN                       2.00   \n",
       "2  42030099999     3066.0                     NaN                       3.75   \n",
       "3  42030099999     3066.0                     NaN                       5.50   \n",
       "4  42030099999     3066.0                     NaN                       7.25   \n",
       "\n",
       "   HourlyDryBulbTemperature  HourlyPresentWeatherType  HourlyPressureTendency  \\\n",
       "0                      81.0                         8                     NaN   \n",
       "1                       3.0                         8                     NaN   \n",
       "2                      14.0                         8                     NaN   \n",
       "3                      11.0                         8                     NaN   \n",
       "4                       7.0                         8                     NaN   \n",
       "\n",
       "   HourlyRelativeHumidity HourlySkyConditions  HourlySeaLevelPressure  \\\n",
       "0                    66.0                0  0                   29.78   \n",
       "1                    95.0                0  0                   29.77   \n",
       "2                    95.0                0  0                   29.74   \n",
       "3                    95.0                0  0                   29.71   \n",
       "4                    95.0                0  0                   29.49   \n",
       "\n",
       "   HourlyStationPressure  HourlyWetBulbTemperature  HourlyWindDirection  \\\n",
       "0                    NaN                       NaN                  0.0   \n",
       "1                    NaN                       NaN                  0.0   \n",
       "2                    NaN                       NaN                  0.0   \n",
       "3                    NaN                       NaN                  0.0   \n",
       "4                    NaN                       NaN                  0.0   \n",
       "\n",
       "   HourlyWindSpeed  YEAR  MONTH  DAY  HOUR  MINUTES  TARGETS  \n",
       "0              0.0  1944      1    3     8       30     0.62  \n",
       "1              0.0  1944      1    7     8       30     0.62  \n",
       "2              0.0  1944      1    8     8       30     0.31  \n",
       "3              0.0  1944      1   22     8       30     0.62  \n",
       "4              0.0  1944      2   12     8       30     2.49  "
      ]
     },
     "execution_count": 97,
     "metadata": {},
     "output_type": "execute_result"
    }
   ],
   "source": [
    "df.head()"
   ]
  },
  {
   "cell_type": "code",
   "execution_count": 98,
   "metadata": {},
   "outputs": [
    {
     "name": "stdout",
     "output_type": "stream",
     "text": [
      "<class 'pandas.core.frame.DataFrame'>\n",
      "Int64Index: 919203 entries, 0 to 919202\n",
      "Data columns (total 20 columns):\n",
      " #   Column                     Non-Null Count   Dtype  \n",
      "---  ------                     --------------   -----  \n",
      " 0   STATION                    919203 non-null  int64  \n",
      " 1   ELEVATION                  919203 non-null  float64\n",
      " 2   HourlyAltimeterSetting     441470 non-null  float64\n",
      " 3   HourlyDewPointTemperature  919203 non-null  float64\n",
      " 4   HourlyDryBulbTemperature   919203 non-null  float64\n",
      " 5   HourlyPresentWeatherType   919203 non-null  int64  \n",
      " 6   HourlyPressureTendency     861468 non-null  float64\n",
      " 7   HourlyRelativeHumidity     919203 non-null  float64\n",
      " 8   HourlySkyConditions        498095 non-null  object \n",
      " 9   HourlySeaLevelPressure     919203 non-null  float64\n",
      " 10  HourlyStationPressure      798621 non-null  float64\n",
      " 11  HourlyWetBulbTemperature   794412 non-null  float64\n",
      " 12  HourlyWindDirection        919203 non-null  float64\n",
      " 13  HourlyWindSpeed            919203 non-null  float64\n",
      " 14  YEAR                       919203 non-null  int64  \n",
      " 15  MONTH                      919203 non-null  int64  \n",
      " 16  DAY                        919203 non-null  int64  \n",
      " 17  HOUR                       919203 non-null  int64  \n",
      " 18  MINUTES                    919203 non-null  int64  \n",
      " 19  TARGETS                    919203 non-null  float64\n",
      "dtypes: float64(12), int64(7), object(1)\n",
      "memory usage: 147.3+ MB\n"
     ]
    }
   ],
   "source": [
    "df.info()"
   ]
  },
  {
   "cell_type": "code",
   "execution_count": 99,
   "metadata": {},
   "outputs": [],
   "source": [
    "df.drop(['HourlySkyConditions'], axis = 1, inplace = True)"
   ]
  },
  {
   "cell_type": "code",
   "execution_count": 100,
   "metadata": {},
   "outputs": [
    {
     "name": "stdout",
     "output_type": "stream",
     "text": [
      "<class 'pandas.core.frame.DataFrame'>\n",
      "Int64Index: 919203 entries, 0 to 919202\n",
      "Data columns (total 19 columns):\n",
      " #   Column                     Non-Null Count   Dtype  \n",
      "---  ------                     --------------   -----  \n",
      " 0   STATION                    919203 non-null  int64  \n",
      " 1   ELEVATION                  919203 non-null  float64\n",
      " 2   HourlyAltimeterSetting     441470 non-null  float64\n",
      " 3   HourlyDewPointTemperature  919203 non-null  float64\n",
      " 4   HourlyDryBulbTemperature   919203 non-null  float64\n",
      " 5   HourlyPresentWeatherType   919203 non-null  int64  \n",
      " 6   HourlyPressureTendency     861468 non-null  float64\n",
      " 7   HourlyRelativeHumidity     919203 non-null  float64\n",
      " 8   HourlySeaLevelPressure     919203 non-null  float64\n",
      " 9   HourlyStationPressure      798621 non-null  float64\n",
      " 10  HourlyWetBulbTemperature   794412 non-null  float64\n",
      " 11  HourlyWindDirection        919203 non-null  float64\n",
      " 12  HourlyWindSpeed            919203 non-null  float64\n",
      " 13  YEAR                       919203 non-null  int64  \n",
      " 14  MONTH                      919203 non-null  int64  \n",
      " 15  DAY                        919203 non-null  int64  \n",
      " 16  HOUR                       919203 non-null  int64  \n",
      " 17  MINUTES                    919203 non-null  int64  \n",
      " 18  TARGETS                    919203 non-null  float64\n",
      "dtypes: float64(12), int64(7)\n",
      "memory usage: 140.3 MB\n"
     ]
    }
   ],
   "source": [
    "df.info()"
   ]
  },
  {
   "cell_type": "markdown",
   "metadata": {},
   "source": [
    "# There are a lot of missing values altimeter, we try training the model with and without it and record both the results."
   ]
  },
  {
   "cell_type": "code",
   "execution_count": 101,
   "metadata": {},
   "outputs": [
    {
     "name": "stdout",
     "output_type": "stream",
     "text": [
      "<class 'pandas.core.frame.DataFrame'>\n",
      "Int64Index: 919203 entries, 0 to 919202\n",
      "Data columns (total 19 columns):\n",
      " #   Column                     Non-Null Count   Dtype  \n",
      "---  ------                     --------------   -----  \n",
      " 0   STATION                    919203 non-null  int64  \n",
      " 1   ELEVATION                  919203 non-null  float64\n",
      " 2   HourlyAltimeterSetting     441470 non-null  float64\n",
      " 3   HourlyDewPointTemperature  919203 non-null  float64\n",
      " 4   HourlyDryBulbTemperature   919203 non-null  float64\n",
      " 5   HourlyPresentWeatherType   919203 non-null  int64  \n",
      " 6   HourlyPressureTendency     861468 non-null  float64\n",
      " 7   HourlyRelativeHumidity     919203 non-null  float64\n",
      " 8   HourlySeaLevelPressure     919203 non-null  float64\n",
      " 9   HourlyStationPressure      798621 non-null  float64\n",
      " 10  HourlyWetBulbTemperature   794412 non-null  float64\n",
      " 11  HourlyWindDirection        919203 non-null  float64\n",
      " 12  HourlyWindSpeed            919203 non-null  float64\n",
      " 13  YEAR                       919203 non-null  int64  \n",
      " 14  MONTH                      919203 non-null  int64  \n",
      " 15  DAY                        919203 non-null  int64  \n",
      " 16  HOUR                       919203 non-null  int64  \n",
      " 17  MINUTES                    919203 non-null  int64  \n",
      " 18  TARGETS                    919203 non-null  float64\n",
      "dtypes: float64(12), int64(7)\n",
      "memory usage: 140.3 MB\n"
     ]
    }
   ],
   "source": [
    "df.info()"
   ]
  },
  {
   "cell_type": "markdown",
   "metadata": {},
   "source": [
    "#### Now dropping the rows with null values"
   ]
  },
  {
   "cell_type": "code",
   "execution_count": 102,
   "metadata": {},
   "outputs": [],
   "source": [
    "df.dropna(axis = 0, inplace = True)"
   ]
  },
  {
   "cell_type": "code",
   "execution_count": 103,
   "metadata": {},
   "outputs": [
    {
     "name": "stdout",
     "output_type": "stream",
     "text": [
      "<class 'pandas.core.frame.DataFrame'>\n",
      "Int64Index: 441470 entries, 1196 to 916266\n",
      "Data columns (total 19 columns):\n",
      " #   Column                     Non-Null Count   Dtype  \n",
      "---  ------                     --------------   -----  \n",
      " 0   STATION                    441470 non-null  int64  \n",
      " 1   ELEVATION                  441470 non-null  float64\n",
      " 2   HourlyAltimeterSetting     441470 non-null  float64\n",
      " 3   HourlyDewPointTemperature  441470 non-null  float64\n",
      " 4   HourlyDryBulbTemperature   441470 non-null  float64\n",
      " 5   HourlyPresentWeatherType   441470 non-null  int64  \n",
      " 6   HourlyPressureTendency     441470 non-null  float64\n",
      " 7   HourlyRelativeHumidity     441470 non-null  float64\n",
      " 8   HourlySeaLevelPressure     441470 non-null  float64\n",
      " 9   HourlyStationPressure      441470 non-null  float64\n",
      " 10  HourlyWetBulbTemperature   441470 non-null  float64\n",
      " 11  HourlyWindDirection        441470 non-null  float64\n",
      " 12  HourlyWindSpeed            441470 non-null  float64\n",
      " 13  YEAR                       441470 non-null  int64  \n",
      " 14  MONTH                      441470 non-null  int64  \n",
      " 15  DAY                        441470 non-null  int64  \n",
      " 16  HOUR                       441470 non-null  int64  \n",
      " 17  MINUTES                    441470 non-null  int64  \n",
      " 18  TARGETS                    441470 non-null  float64\n",
      "dtypes: float64(12), int64(7)\n",
      "memory usage: 67.4 MB\n"
     ]
    }
   ],
   "source": [
    "df.info()"
   ]
  },
  {
   "cell_type": "code",
   "execution_count": 104,
   "metadata": {},
   "outputs": [],
   "source": [
    "from sklearn.linear_model import LinearRegression\n",
    "from sklearn.ensemble import RandomForestRegressor\n",
    "from sklearn.model_selection import train_test_split\n",
    "from sklearn.metrics import r2_score\n",
    "from sklearn.metrics import mean_squared_error\n",
    "from sklearn.impute import SimpleImputer"
   ]
  },
  {
   "cell_type": "code",
   "execution_count": 105,
   "metadata": {},
   "outputs": [
    {
     "name": "stdout",
     "output_type": "stream",
     "text": [
      "STATION\n",
      "ELEVATION\n",
      "HourlyAltimeterSetting\n",
      "HourlyDewPointTemperature\n",
      "HourlyDryBulbTemperature\n",
      "HourlyPresentWeatherType\n",
      "HourlyPressureTendency\n",
      "HourlyRelativeHumidity\n",
      "HourlySeaLevelPressure\n",
      "HourlyStationPressure\n",
      "HourlyWetBulbTemperature\n",
      "HourlyWindDirection\n",
      "HourlyWindSpeed\n",
      "YEAR\n",
      "MONTH\n",
      "DAY\n",
      "HOUR\n",
      "MINUTES\n",
      "TARGETS\n"
     ]
    }
   ],
   "source": [
    "cols = []\n",
    "for i in df.columns:\n",
    "    print(i)\n",
    "    if df[i].dtype != 'O':\n",
    "        cols.append(i)"
   ]
  },
  {
   "cell_type": "code",
   "execution_count": 106,
   "metadata": {},
   "outputs": [
    {
     "data": {
      "text/plain": [
       "'TARGETS'"
      ]
     },
     "execution_count": 106,
     "metadata": {},
     "output_type": "execute_result"
    }
   ],
   "source": [
    "cols.pop()"
   ]
  },
  {
   "cell_type": "code",
   "execution_count": 107,
   "metadata": {},
   "outputs": [
    {
     "data": {
      "text/plain": [
       "['STATION',\n",
       " 'ELEVATION',\n",
       " 'HourlyAltimeterSetting',\n",
       " 'HourlyDewPointTemperature',\n",
       " 'HourlyDryBulbTemperature',\n",
       " 'HourlyPresentWeatherType',\n",
       " 'HourlyPressureTendency',\n",
       " 'HourlyRelativeHumidity',\n",
       " 'HourlySeaLevelPressure',\n",
       " 'HourlyStationPressure',\n",
       " 'HourlyWetBulbTemperature',\n",
       " 'HourlyWindDirection',\n",
       " 'HourlyWindSpeed',\n",
       " 'YEAR',\n",
       " 'MONTH',\n",
       " 'DAY',\n",
       " 'HOUR',\n",
       " 'MINUTES']"
      ]
     },
     "execution_count": 107,
     "metadata": {},
     "output_type": "execute_result"
    }
   ],
   "source": [
    "cols"
   ]
  },
  {
   "cell_type": "code",
   "execution_count": 108,
   "metadata": {},
   "outputs": [],
   "source": [
    "def adjusted_r2(r2, n, p):\n",
    "    return 1 - (1 - r2)*(n - 1)/(n - p - 1)"
   ]
  },
  {
   "cell_type": "code",
   "execution_count": 109,
   "metadata": {},
   "outputs": [],
   "source": [
    "X = df[cols] \n",
    "y = df['TARGETS']\n",
    "X_train, X_test, y_train, y_test = train_test_split(X, y)"
   ]
  },
  {
   "cell_type": "markdown",
   "metadata": {},
   "source": [
    "## Linear Regression "
   ]
  },
  {
   "cell_type": "code",
   "execution_count": 110,
   "metadata": {},
   "outputs": [
    {
     "data": {
      "text/plain": [
       "LinearRegression()"
      ]
     },
     "execution_count": 110,
     "metadata": {},
     "output_type": "execute_result"
    }
   ],
   "source": [
    "lr = LinearRegression()\n",
    "lr.fit(X_train, y_train)"
   ]
  },
  {
   "cell_type": "code",
   "execution_count": 111,
   "metadata": {},
   "outputs": [],
   "source": [
    "y_pred = lr.predict(X_test)"
   ]
  },
  {
   "cell_type": "code",
   "execution_count": 119,
   "metadata": {},
   "outputs": [
    {
     "data": {
      "text/plain": [
       "-0.17709735443789199"
      ]
     },
     "execution_count": 119,
     "metadata": {},
     "output_type": "execute_result"
    }
   ],
   "source": [
    "r2 = r2_score(y_pred, y_test)\n",
    "r2"
   ]
  },
  {
   "cell_type": "code",
   "execution_count": 120,
   "metadata": {},
   "outputs": [
    {
     "data": {
      "text/plain": [
       "(110368, 18)"
      ]
     },
     "execution_count": 120,
     "metadata": {},
     "output_type": "execute_result"
    }
   ],
   "source": [
    "X_test.shape"
   ]
  },
  {
   "cell_type": "code",
   "execution_count": 121,
   "metadata": {},
   "outputs": [
    {
     "data": {
      "text/plain": [
       "-0.17728936118357952"
      ]
     },
     "execution_count": 121,
     "metadata": {},
     "output_type": "execute_result"
    }
   ],
   "source": [
    "adj_r2 = adjusted_r2(r2, y_test.shape[0], X_test.shape[1]) \n",
    "adj_r2"
   ]
  },
  {
   "cell_type": "code",
   "execution_count": 122,
   "metadata": {},
   "outputs": [
    {
     "data": {
      "text/plain": [
       "0.4595035062887389"
      ]
     },
     "execution_count": 122,
     "metadata": {},
     "output_type": "execute_result"
    }
   ],
   "source": [
    "mae = mean_squared_error(y_pred, y_test)\n",
    "mae"
   ]
  },
  {
   "cell_type": "code",
   "execution_count": null,
   "metadata": {},
   "outputs": [],
   "source": [
    "model_results = pd.read_csv('model_results.csv', index_col = 0)"
   ]
  },
  {
   "cell_type": "code",
   "execution_count": 123,
   "metadata": {},
   "outputs": [],
   "source": [
    "model_results.loc[len(model_results)] = ['lr with altimeter, no tuning', \n",
    "                                        mae, adj_r2]"
   ]
  },
  {
   "cell_type": "code",
   "execution_count": 126,
   "metadata": {},
   "outputs": [
    {
     "data": {
      "text/html": [
       "<div>\n",
       "<style scoped>\n",
       "    .dataframe tbody tr th:only-of-type {\n",
       "        vertical-align: middle;\n",
       "    }\n",
       "\n",
       "    .dataframe tbody tr th {\n",
       "        vertical-align: top;\n",
       "    }\n",
       "\n",
       "    .dataframe thead th {\n",
       "        text-align: right;\n",
       "    }\n",
       "</style>\n",
       "<table border=\"1\" class=\"dataframe\">\n",
       "  <thead>\n",
       "    <tr style=\"text-align: right;\">\n",
       "      <th></th>\n",
       "      <th>comment</th>\n",
       "      <th>mse</th>\n",
       "      <th>adj_r2</th>\n",
       "    </tr>\n",
       "  </thead>\n",
       "  <tbody>\n",
       "    <tr>\n",
       "      <th>0</th>\n",
       "      <td>linear regression without altimeter, no tuning</td>\n",
       "      <td>0.823926</td>\n",
       "      <td>-1.097547</td>\n",
       "    </tr>\n",
       "    <tr>\n",
       "      <th>1</th>\n",
       "      <td>random forest without altimeter, no tuning</td>\n",
       "      <td>0.324474</td>\n",
       "      <td>0.643707</td>\n",
       "    </tr>\n",
       "    <tr>\n",
       "      <th>2</th>\n",
       "      <td>lr with altimeter, no tuning</td>\n",
       "      <td>0.459504</td>\n",
       "      <td>-0.177289</td>\n",
       "    </tr>\n",
       "  </tbody>\n",
       "</table>\n",
       "</div>"
      ],
      "text/plain": [
       "                                          comment       mse    adj_r2\n",
       "0  linear regression without altimeter, no tuning  0.823926 -1.097547\n",
       "1      random forest without altimeter, no tuning  0.324474  0.643707\n",
       "2                    lr with altimeter, no tuning  0.459504 -0.177289"
      ]
     },
     "execution_count": 126,
     "metadata": {},
     "output_type": "execute_result"
    }
   ],
   "source": [
    "model_results"
   ]
  },
  {
   "cell_type": "code",
   "execution_count": 127,
   "metadata": {},
   "outputs": [],
   "source": [
    "model_results.to_csv('model_results.csv')"
   ]
  },
  {
   "cell_type": "markdown",
   "metadata": {},
   "source": [
    "## Random Forest"
   ]
  },
  {
   "cell_type": "code",
   "execution_count": 128,
   "metadata": {},
   "outputs": [],
   "source": [
    "import time"
   ]
  },
  {
   "cell_type": "code",
   "execution_count": 129,
   "metadata": {},
   "outputs": [
    {
     "name": "stderr",
     "output_type": "stream",
     "text": [
      "[Parallel(n_jobs=1)]: Using backend SequentialBackend with 1 concurrent workers.\n"
     ]
    },
    {
     "name": "stdout",
     "output_type": "stream",
     "text": [
      "building tree 1 of 100\n"
     ]
    },
    {
     "name": "stderr",
     "output_type": "stream",
     "text": [
      "[Parallel(n_jobs=1)]: Done   1 out of   1 | elapsed:    4.5s remaining:    0.0s\n"
     ]
    },
    {
     "name": "stdout",
     "output_type": "stream",
     "text": [
      "building tree 2 of 100\n"
     ]
    },
    {
     "name": "stderr",
     "output_type": "stream",
     "text": [
      "[Parallel(n_jobs=1)]: Done   2 out of   2 | elapsed:    9.2s remaining:    0.0s\n"
     ]
    },
    {
     "name": "stdout",
     "output_type": "stream",
     "text": [
      "building tree 3 of 100\n"
     ]
    },
    {
     "name": "stderr",
     "output_type": "stream",
     "text": [
      "[Parallel(n_jobs=1)]: Done   3 out of   3 | elapsed:   13.6s remaining:    0.0s\n"
     ]
    },
    {
     "name": "stdout",
     "output_type": "stream",
     "text": [
      "building tree 4 of 100\n"
     ]
    },
    {
     "name": "stderr",
     "output_type": "stream",
     "text": [
      "[Parallel(n_jobs=1)]: Done   4 out of   4 | elapsed:   18.4s remaining:    0.0s\n"
     ]
    },
    {
     "name": "stdout",
     "output_type": "stream",
     "text": [
      "building tree 5 of 100\n",
      "building tree 6 of 100\n",
      "building tree 7 of 100\n",
      "building tree 8 of 100\n",
      "building tree 9 of 100\n",
      "building tree 10 of 100\n",
      "building tree 11 of 100\n",
      "building tree 12 of 100\n",
      "building tree 13 of 100\n",
      "building tree 14 of 100\n",
      "building tree 15 of 100\n",
      "building tree 16 of 100\n",
      "building tree 17 of 100\n",
      "building tree 18 of 100\n",
      "building tree 19 of 100\n",
      "building tree 20 of 100\n",
      "building tree 21 of 100\n",
      "building tree 22 of 100\n",
      "building tree 23 of 100\n",
      "building tree 24 of 100\n",
      "building tree 25 of 100\n",
      "building tree 26 of 100\n",
      "building tree 27 of 100\n",
      "building tree 28 of 100\n",
      "building tree 29 of 100\n",
      "building tree 30 of 100\n",
      "building tree 31 of 100\n",
      "building tree 32 of 100\n",
      "building tree 33 of 100\n",
      "building tree 34 of 100\n",
      "building tree 35 of 100\n",
      "building tree 36 of 100\n",
      "building tree 37 of 100\n",
      "building tree 38 of 100\n",
      "building tree 39 of 100\n",
      "building tree 40 of 100\n",
      "building tree 41 of 100\n",
      "building tree 42 of 100\n",
      "building tree 43 of 100\n",
      "building tree 44 of 100\n",
      "building tree 45 of 100\n",
      "building tree 46 of 100\n",
      "building tree 47 of 100\n",
      "building tree 48 of 100\n",
      "building tree 49 of 100\n",
      "building tree 50 of 100\n",
      "building tree 51 of 100\n",
      "building tree 52 of 100\n",
      "building tree 53 of 100\n",
      "building tree 54 of 100\n",
      "building tree 55 of 100\n",
      "building tree 56 of 100\n",
      "building tree 57 of 100\n",
      "building tree 58 of 100\n",
      "building tree 59 of 100\n",
      "building tree 60 of 100\n",
      "building tree 61 of 100\n",
      "building tree 62 of 100\n",
      "building tree 63 of 100\n",
      "building tree 64 of 100\n",
      "building tree 65 of 100\n",
      "building tree 66 of 100\n",
      "building tree 67 of 100\n",
      "building tree 68 of 100\n",
      "building tree 69 of 100\n",
      "building tree 70 of 100\n",
      "building tree 71 of 100\n",
      "building tree 72 of 100\n",
      "building tree 73 of 100\n",
      "building tree 74 of 100\n",
      "building tree 75 of 100\n",
      "building tree 76 of 100\n",
      "building tree 77 of 100\n",
      "building tree 78 of 100\n",
      "building tree 79 of 100\n",
      "building tree 80 of 100\n",
      "building tree 81 of 100\n",
      "building tree 82 of 100\n",
      "building tree 83 of 100\n",
      "building tree 84 of 100\n",
      "building tree 85 of 100\n",
      "building tree 86 of 100\n",
      "building tree 87 of 100\n",
      "building tree 88 of 100\n",
      "building tree 89 of 100\n",
      "building tree 90 of 100\n",
      "building tree 91 of 100\n",
      "building tree 92 of 100\n",
      "building tree 93 of 100\n",
      "building tree 94 of 100\n",
      "building tree 95 of 100\n",
      "building tree 96 of 100\n",
      "building tree 97 of 100\n",
      "building tree 98 of 100\n",
      "building tree 99 of 100\n",
      "building tree 100 of 100\n",
      "Time taken: 380.2644109725952\n"
     ]
    },
    {
     "name": "stderr",
     "output_type": "stream",
     "text": [
      "[Parallel(n_jobs=1)]: Done 100 out of 100 | elapsed:  6.3min finished\n"
     ]
    }
   ],
   "source": [
    "t = time.time()\n",
    "rf = RandomForestRegressor(n_estimators = 100, verbose = 5)\n",
    "rf.fit(X_train, y_train)\n",
    "print(f\"Time taken: {time.time()-t}\")"
   ]
  },
  {
   "cell_type": "code",
   "execution_count": 130,
   "metadata": {},
   "outputs": [
    {
     "name": "stderr",
     "output_type": "stream",
     "text": [
      "[Parallel(n_jobs=1)]: Using backend SequentialBackend with 1 concurrent workers.\n",
      "[Parallel(n_jobs=1)]: Done   1 out of   1 | elapsed:    0.0s remaining:    0.0s\n",
      "[Parallel(n_jobs=1)]: Done   2 out of   2 | elapsed:    0.0s remaining:    0.0s\n",
      "[Parallel(n_jobs=1)]: Done   3 out of   3 | elapsed:    0.1s remaining:    0.0s\n",
      "[Parallel(n_jobs=1)]: Done   4 out of   4 | elapsed:    0.1s remaining:    0.0s\n",
      "[Parallel(n_jobs=1)]: Done 100 out of 100 | elapsed:    4.0s finished\n"
     ]
    }
   ],
   "source": [
    "y_pred = rf.predict(X_test)"
   ]
  },
  {
   "cell_type": "code",
   "execution_count": 132,
   "metadata": {},
   "outputs": [
    {
     "data": {
      "text/plain": [
       "0.7367705911855371"
      ]
     },
     "execution_count": 132,
     "metadata": {},
     "output_type": "execute_result"
    }
   ],
   "source": [
    "r2 = r2_score(y_pred, y_test)\n",
    "r2"
   ]
  },
  {
   "cell_type": "code",
   "execution_count": 133,
   "metadata": {},
   "outputs": [
    {
     "data": {
      "text/plain": [
       "0.736727653511805"
      ]
     },
     "execution_count": 133,
     "metadata": {},
     "output_type": "execute_result"
    }
   ],
   "source": [
    "adj_r2 = adjusted_r2(r2, y_test.shape[0], X_test.shape[1]) \n",
    "adj_r2"
   ]
  },
  {
   "cell_type": "code",
   "execution_count": 135,
   "metadata": {},
   "outputs": [
    {
     "data": {
      "text/plain": [
       "0.1770139612623558"
      ]
     },
     "execution_count": 135,
     "metadata": {},
     "output_type": "execute_result"
    }
   ],
   "source": [
    "mae = mean_squared_error(y_pred, y_test)\n",
    "mae"
   ]
  },
  {
   "cell_type": "code",
   "execution_count": 136,
   "metadata": {},
   "outputs": [],
   "source": [
    "model_results = pd.read_csv('model_results.csv', index_col = 0)"
   ]
  },
  {
   "cell_type": "code",
   "execution_count": 137,
   "metadata": {},
   "outputs": [],
   "source": [
    "model_results.loc[len(model_results)] = ['random forest wiht altimeter, no tuning', \n",
    "                                        mae, r2]"
   ]
  },
  {
   "cell_type": "code",
   "execution_count": 139,
   "metadata": {},
   "outputs": [
    {
     "data": {
      "text/html": [
       "<div>\n",
       "<style scoped>\n",
       "    .dataframe tbody tr th:only-of-type {\n",
       "        vertical-align: middle;\n",
       "    }\n",
       "\n",
       "    .dataframe tbody tr th {\n",
       "        vertical-align: top;\n",
       "    }\n",
       "\n",
       "    .dataframe thead th {\n",
       "        text-align: right;\n",
       "    }\n",
       "</style>\n",
       "<table border=\"1\" class=\"dataframe\">\n",
       "  <thead>\n",
       "    <tr style=\"text-align: right;\">\n",
       "      <th></th>\n",
       "      <th>comment</th>\n",
       "      <th>mse</th>\n",
       "      <th>adj_r2</th>\n",
       "    </tr>\n",
       "  </thead>\n",
       "  <tbody>\n",
       "    <tr>\n",
       "      <th>0</th>\n",
       "      <td>linear regression without altimeter, no tuning</td>\n",
       "      <td>0.823926</td>\n",
       "      <td>-1.097547</td>\n",
       "    </tr>\n",
       "    <tr>\n",
       "      <th>1</th>\n",
       "      <td>random forest without altimeter, no tuning</td>\n",
       "      <td>0.324474</td>\n",
       "      <td>0.643707</td>\n",
       "    </tr>\n",
       "    <tr>\n",
       "      <th>2</th>\n",
       "      <td>lr with altimeter, no tuning</td>\n",
       "      <td>0.459504</td>\n",
       "      <td>-0.177289</td>\n",
       "    </tr>\n",
       "    <tr>\n",
       "      <th>3</th>\n",
       "      <td>random forest wiht altimeter, no tuning</td>\n",
       "      <td>0.177014</td>\n",
       "      <td>0.736771</td>\n",
       "    </tr>\n",
       "  </tbody>\n",
       "</table>\n",
       "</div>"
      ],
      "text/plain": [
       "                                          comment       mse    adj_r2\n",
       "0  linear regression without altimeter, no tuning  0.823926 -1.097547\n",
       "1      random forest without altimeter, no tuning  0.324474  0.643707\n",
       "2                    lr with altimeter, no tuning  0.459504 -0.177289\n",
       "3         random forest wiht altimeter, no tuning  0.177014  0.736771"
      ]
     },
     "execution_count": 139,
     "metadata": {},
     "output_type": "execute_result"
    }
   ],
   "source": [
    "model_results"
   ]
  },
  {
   "cell_type": "code",
   "execution_count": 138,
   "metadata": {},
   "outputs": [],
   "source": [
    "model_results.to_csv('model_results.csv')"
   ]
  },
  {
   "cell_type": "code",
   "execution_count": null,
   "metadata": {},
   "outputs": [],
   "source": []
  }
 ],
 "metadata": {
  "kernelspec": {
   "display_name": "Python 3",
   "language": "python",
   "name": "python3"
  },
  "language_info": {
   "codemirror_mode": {
    "name": "ipython",
    "version": 3
   },
   "file_extension": ".py",
   "mimetype": "text/x-python",
   "name": "python",
   "nbconvert_exporter": "python",
   "pygments_lexer": "ipython3",
   "version": "3.7.7"
  }
 },
 "nbformat": 4,
 "nbformat_minor": 4
}
