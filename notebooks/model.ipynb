{
 "cells": [
  {
   "cell_type": "code",
   "execution_count": 7,
   "metadata": {},
   "outputs": [],
   "source": [
    "import pandas as pd\n",
    "import numpy as np\n",
    "import matplotlib.pyplot as plt"
   ]
  },
  {
   "cell_type": "code",
   "execution_count": 8,
   "metadata": {},
   "outputs": [],
   "source": [
    "df = pd.read_csv('../database/clean_train_data_v4.csv', index_col = 0)"
   ]
  },
  {
   "cell_type": "code",
   "execution_count": 9,
   "metadata": {},
   "outputs": [
    {
     "data": {
      "text/html": [
       "<div>\n",
       "<style scoped>\n",
       "    .dataframe tbody tr th:only-of-type {\n",
       "        vertical-align: middle;\n",
       "    }\n",
       "\n",
       "    .dataframe tbody tr th {\n",
       "        vertical-align: top;\n",
       "    }\n",
       "\n",
       "    .dataframe thead th {\n",
       "        text-align: right;\n",
       "    }\n",
       "</style>\n",
       "<table border=\"1\" class=\"dataframe\">\n",
       "  <thead>\n",
       "    <tr style=\"text-align: right;\">\n",
       "      <th></th>\n",
       "      <th>LATITUDE</th>\n",
       "      <th>LONGITUDE</th>\n",
       "      <th>ELEVATION</th>\n",
       "      <th>HourlyAltimeterSetting</th>\n",
       "      <th>HourlyDewPointTemperature</th>\n",
       "      <th>HourlyDryBulbTemperature</th>\n",
       "      <th>HourlyPresentWeatherType</th>\n",
       "      <th>HourlyPressureTendency</th>\n",
       "      <th>HourlyRelativeHumidity</th>\n",
       "      <th>HourlySkyConditions</th>\n",
       "      <th>...</th>\n",
       "      <th>HourlyStationPressure</th>\n",
       "      <th>HourlyWetBulbTemperature</th>\n",
       "      <th>HourlyWindDirection</th>\n",
       "      <th>HourlyWindSpeed</th>\n",
       "      <th>YEAR</th>\n",
       "      <th>MONTH</th>\n",
       "      <th>DAY</th>\n",
       "      <th>HOUR</th>\n",
       "      <th>MINUTES</th>\n",
       "      <th>TARGETS</th>\n",
       "    </tr>\n",
       "  </thead>\n",
       "  <tbody>\n",
       "    <tr>\n",
       "      <th>118582</th>\n",
       "      <td>27.155831</td>\n",
       "      <td>77.960892</td>\n",
       "      <td>167.94</td>\n",
       "      <td>29.700939</td>\n",
       "      <td>61.0</td>\n",
       "      <td>81.0</td>\n",
       "      <td>8</td>\n",
       "      <td>9.0</td>\n",
       "      <td>66.0</td>\n",
       "      <td>FEW:02 15 FEW:01</td>\n",
       "      <td>...</td>\n",
       "      <td>28.23201</td>\n",
       "      <td>62.803244</td>\n",
       "      <td>113.0</td>\n",
       "      <td>3.0</td>\n",
       "      <td>1942</td>\n",
       "      <td>8</td>\n",
       "      <td>24</td>\n",
       "      <td>7</td>\n",
       "      <td>30</td>\n",
       "      <td>99.42</td>\n",
       "    </tr>\n",
       "    <tr>\n",
       "      <th>755013</th>\n",
       "      <td>27.155831</td>\n",
       "      <td>77.960892</td>\n",
       "      <td>167.94</td>\n",
       "      <td>29.700939</td>\n",
       "      <td>61.0</td>\n",
       "      <td>81.0</td>\n",
       "      <td>8</td>\n",
       "      <td>9.0</td>\n",
       "      <td>66.0</td>\n",
       "      <td>FEW:02 15 FEW:01</td>\n",
       "      <td>...</td>\n",
       "      <td>28.23201</td>\n",
       "      <td>62.803244</td>\n",
       "      <td>113.0</td>\n",
       "      <td>8.0</td>\n",
       "      <td>1942</td>\n",
       "      <td>8</td>\n",
       "      <td>24</td>\n",
       "      <td>8</td>\n",
       "      <td>30</td>\n",
       "      <td>99.42</td>\n",
       "    </tr>\n",
       "    <tr>\n",
       "      <th>824694</th>\n",
       "      <td>27.155831</td>\n",
       "      <td>77.960892</td>\n",
       "      <td>167.94</td>\n",
       "      <td>29.700939</td>\n",
       "      <td>61.0</td>\n",
       "      <td>81.0</td>\n",
       "      <td>8</td>\n",
       "      <td>9.0</td>\n",
       "      <td>66.0</td>\n",
       "      <td>FEW:02 15 FEW:01</td>\n",
       "      <td>...</td>\n",
       "      <td>28.23201</td>\n",
       "      <td>62.803244</td>\n",
       "      <td>135.0</td>\n",
       "      <td>8.0</td>\n",
       "      <td>1942</td>\n",
       "      <td>8</td>\n",
       "      <td>24</td>\n",
       "      <td>9</td>\n",
       "      <td>30</td>\n",
       "      <td>99.42</td>\n",
       "    </tr>\n",
       "    <tr>\n",
       "      <th>830375</th>\n",
       "      <td>27.155831</td>\n",
       "      <td>77.960892</td>\n",
       "      <td>167.94</td>\n",
       "      <td>29.700939</td>\n",
       "      <td>61.0</td>\n",
       "      <td>81.0</td>\n",
       "      <td>2</td>\n",
       "      <td>9.0</td>\n",
       "      <td>66.0</td>\n",
       "      <td>SCT:04 15</td>\n",
       "      <td>...</td>\n",
       "      <td>28.23201</td>\n",
       "      <td>62.803244</td>\n",
       "      <td>135.0</td>\n",
       "      <td>9.0</td>\n",
       "      <td>1942</td>\n",
       "      <td>8</td>\n",
       "      <td>24</td>\n",
       "      <td>10</td>\n",
       "      <td>30</td>\n",
       "      <td>99.42</td>\n",
       "    </tr>\n",
       "    <tr>\n",
       "      <th>680093</th>\n",
       "      <td>27.155831</td>\n",
       "      <td>77.960892</td>\n",
       "      <td>167.94</td>\n",
       "      <td>29.700939</td>\n",
       "      <td>61.0</td>\n",
       "      <td>81.0</td>\n",
       "      <td>8</td>\n",
       "      <td>9.0</td>\n",
       "      <td>66.0</td>\n",
       "      <td>BKN:06  FEW:01</td>\n",
       "      <td>...</td>\n",
       "      <td>28.23201</td>\n",
       "      <td>62.803244</td>\n",
       "      <td>135.0</td>\n",
       "      <td>8.0</td>\n",
       "      <td>1942</td>\n",
       "      <td>8</td>\n",
       "      <td>24</td>\n",
       "      <td>11</td>\n",
       "      <td>30</td>\n",
       "      <td>99.42</td>\n",
       "    </tr>\n",
       "  </tbody>\n",
       "</table>\n",
       "<p>5 rows × 21 columns</p>\n",
       "</div>"
      ],
      "text/plain": [
       "         LATITUDE  LONGITUDE  ELEVATION  HourlyAltimeterSetting  \\\n",
       "118582  27.155831  77.960892     167.94               29.700939   \n",
       "755013  27.155831  77.960892     167.94               29.700939   \n",
       "824694  27.155831  77.960892     167.94               29.700939   \n",
       "830375  27.155831  77.960892     167.94               29.700939   \n",
       "680093  27.155831  77.960892     167.94               29.700939   \n",
       "\n",
       "        HourlyDewPointTemperature  HourlyDryBulbTemperature  \\\n",
       "118582                       61.0                      81.0   \n",
       "755013                       61.0                      81.0   \n",
       "824694                       61.0                      81.0   \n",
       "830375                       61.0                      81.0   \n",
       "680093                       61.0                      81.0   \n",
       "\n",
       "        HourlyPresentWeatherType  HourlyPressureTendency  \\\n",
       "118582                         8                     9.0   \n",
       "755013                         8                     9.0   \n",
       "824694                         8                     9.0   \n",
       "830375                         2                     9.0   \n",
       "680093                         8                     9.0   \n",
       "\n",
       "        HourlyRelativeHumidity HourlySkyConditions  ...  \\\n",
       "118582                    66.0    FEW:02 15 FEW:01  ...   \n",
       "755013                    66.0    FEW:02 15 FEW:01  ...   \n",
       "824694                    66.0    FEW:02 15 FEW:01  ...   \n",
       "830375                    66.0           SCT:04 15  ...   \n",
       "680093                    66.0      BKN:06  FEW:01  ...   \n",
       "\n",
       "        HourlyStationPressure  HourlyWetBulbTemperature  HourlyWindDirection  \\\n",
       "118582               28.23201                 62.803244                113.0   \n",
       "755013               28.23201                 62.803244                113.0   \n",
       "824694               28.23201                 62.803244                135.0   \n",
       "830375               28.23201                 62.803244                135.0   \n",
       "680093               28.23201                 62.803244                135.0   \n",
       "\n",
       "        HourlyWindSpeed  YEAR  MONTH  DAY  HOUR  MINUTES  TARGETS  \n",
       "118582              3.0  1942      8   24     7       30    99.42  \n",
       "755013              8.0  1942      8   24     8       30    99.42  \n",
       "824694              8.0  1942      8   24     9       30    99.42  \n",
       "830375              9.0  1942      8   24    10       30    99.42  \n",
       "680093              8.0  1942      8   24    11       30    99.42  \n",
       "\n",
       "[5 rows x 21 columns]"
      ]
     },
     "execution_count": 9,
     "metadata": {},
     "output_type": "execute_result"
    }
   ],
   "source": [
    "df.head()"
   ]
  },
  {
   "cell_type": "code",
   "execution_count": 10,
   "metadata": {},
   "outputs": [
    {
     "name": "stdout",
     "output_type": "stream",
     "text": [
      "<class 'pandas.core.frame.DataFrame'>\n",
      "Int64Index: 934807 entries, 118582 to 893344\n",
      "Data columns (total 21 columns):\n",
      " #   Column                     Non-Null Count   Dtype  \n",
      "---  ------                     --------------   -----  \n",
      " 0   LATITUDE                   934807 non-null  float64\n",
      " 1   LONGITUDE                  934807 non-null  float64\n",
      " 2   ELEVATION                  934807 non-null  float64\n",
      " 3   HourlyAltimeterSetting     934807 non-null  float64\n",
      " 4   HourlyDewPointTemperature  934807 non-null  float64\n",
      " 5   HourlyDryBulbTemperature   934807 non-null  float64\n",
      " 6   HourlyPresentWeatherType   934807 non-null  int64  \n",
      " 7   HourlyPressureTendency     934807 non-null  float64\n",
      " 8   HourlyRelativeHumidity     934807 non-null  float64\n",
      " 9   HourlySkyConditions        507788 non-null  object \n",
      " 10  HourlySeaLevelPressure     934807 non-null  float64\n",
      " 11  HourlyStationPressure      934807 non-null  float64\n",
      " 12  HourlyWetBulbTemperature   934807 non-null  float64\n",
      " 13  HourlyWindDirection        934807 non-null  float64\n",
      " 14  HourlyWindSpeed            934807 non-null  float64\n",
      " 15  YEAR                       934807 non-null  int64  \n",
      " 16  MONTH                      934807 non-null  int64  \n",
      " 17  DAY                        934807 non-null  int64  \n",
      " 18  HOUR                       934807 non-null  int64  \n",
      " 19  MINUTES                    934807 non-null  int64  \n",
      " 20  TARGETS                    934807 non-null  float64\n",
      "dtypes: float64(14), int64(6), object(1)\n",
      "memory usage: 156.9+ MB\n"
     ]
    }
   ],
   "source": [
    "df.info()"
   ]
  },
  {
   "cell_type": "code",
   "execution_count": 14,
   "metadata": {},
   "outputs": [],
   "source": [
    "df.drop(['HourlySkyConditions'], axis = 1, inplace = True)"
   ]
  },
  {
   "cell_type": "code",
   "execution_count": 15,
   "metadata": {},
   "outputs": [],
   "source": [
    "from sklearn.linear_model import LinearRegression\n",
    "from sklearn.ensemble import RandomForestRegressor\n",
    "from sklearn.model_selection import train_test_split\n",
    "from sklearn.metrics import r2_score\n",
    "from sklearn.metrics import mean_squared_error\n",
    "from sklearn.impute import SimpleImputer"
   ]
  },
  {
   "cell_type": "code",
   "execution_count": 16,
   "metadata": {},
   "outputs": [
    {
     "name": "stdout",
     "output_type": "stream",
     "text": [
      "LATITUDE\n",
      "LONGITUDE\n",
      "ELEVATION\n",
      "HourlyAltimeterSetting\n",
      "HourlyDewPointTemperature\n",
      "HourlyDryBulbTemperature\n",
      "HourlyPresentWeatherType\n",
      "HourlyPressureTendency\n",
      "HourlyRelativeHumidity\n",
      "HourlySeaLevelPressure\n",
      "HourlyStationPressure\n",
      "HourlyWetBulbTemperature\n",
      "HourlyWindDirection\n",
      "HourlyWindSpeed\n",
      "YEAR\n",
      "MONTH\n",
      "DAY\n",
      "HOUR\n",
      "MINUTES\n",
      "TARGETS\n"
     ]
    }
   ],
   "source": [
    "cols = []\n",
    "for i in df.columns:\n",
    "    print(i)\n",
    "    if df[i].dtype != 'O':\n",
    "        cols.append(i)"
   ]
  },
  {
   "cell_type": "code",
   "execution_count": 17,
   "metadata": {},
   "outputs": [
    {
     "data": {
      "text/plain": [
       "'TARGETS'"
      ]
     },
     "execution_count": 17,
     "metadata": {},
     "output_type": "execute_result"
    }
   ],
   "source": [
    "cols.pop()"
   ]
  },
  {
   "cell_type": "code",
   "execution_count": 18,
   "metadata": {},
   "outputs": [
    {
     "data": {
      "text/plain": [
       "['LATITUDE',\n",
       " 'LONGITUDE',\n",
       " 'ELEVATION',\n",
       " 'HourlyAltimeterSetting',\n",
       " 'HourlyDewPointTemperature',\n",
       " 'HourlyDryBulbTemperature',\n",
       " 'HourlyPresentWeatherType',\n",
       " 'HourlyPressureTendency',\n",
       " 'HourlyRelativeHumidity',\n",
       " 'HourlySeaLevelPressure',\n",
       " 'HourlyStationPressure',\n",
       " 'HourlyWetBulbTemperature',\n",
       " 'HourlyWindDirection',\n",
       " 'HourlyWindSpeed',\n",
       " 'YEAR',\n",
       " 'MONTH',\n",
       " 'DAY',\n",
       " 'HOUR',\n",
       " 'MINUTES']"
      ]
     },
     "execution_count": 18,
     "metadata": {},
     "output_type": "execute_result"
    }
   ],
   "source": [
    "cols"
   ]
  },
  {
   "cell_type": "code",
   "execution_count": 19,
   "metadata": {},
   "outputs": [
    {
     "data": {
      "text/plain": [
       "LinearRegression()"
      ]
     },
     "execution_count": 19,
     "metadata": {},
     "output_type": "execute_result"
    }
   ],
   "source": [
    "X = df[cols] \n",
    "y = df['TARGETS']\n",
    "X_train, X_test, y_train, y_test = train_test_split(X, y)\n",
    "lr = LinearRegression()\n",
    "lr.fit(X_train, y_train)"
   ]
  },
  {
   "cell_type": "code",
   "execution_count": 20,
   "metadata": {},
   "outputs": [],
   "source": [
    "y_pred = lr.predict(X_test)"
   ]
  },
  {
   "cell_type": "code",
   "execution_count": 21,
   "metadata": {},
   "outputs": [
    {
     "data": {
      "text/plain": [
       "-4.708229898464115"
      ]
     },
     "execution_count": 21,
     "metadata": {},
     "output_type": "execute_result"
    }
   ],
   "source": [
    "r2_score(y_pred, y_test)"
   ]
  },
  {
   "cell_type": "code",
   "execution_count": 22,
   "metadata": {},
   "outputs": [
    {
     "data": {
      "text/plain": [
       "77.40861353673299"
      ]
     },
     "execution_count": 22,
     "metadata": {},
     "output_type": "execute_result"
    }
   ],
   "source": [
    "mean_squared_error(y_pred, y_test)"
   ]
  },
  {
   "cell_type": "markdown",
   "metadata": {},
   "source": [
    "## Random Forest"
   ]
  },
  {
   "cell_type": "code",
   "execution_count": 31,
   "metadata": {},
   "outputs": [
    {
     "data": {
      "text/plain": [
       "RandomForestRegressor(n_estimators=30)"
      ]
     },
     "execution_count": 31,
     "metadata": {},
     "output_type": "execute_result"
    }
   ],
   "source": [
    "rf = RandomForestRegressor(n_estimators = 30)\n",
    "rf.fit(X_train, y_train)"
   ]
  },
  {
   "cell_type": "code",
   "execution_count": 36,
   "metadata": {},
   "outputs": [
    {
     "ename": "AttributeError",
     "evalue": "'RandomForestRegressor' object has no attribute 'get_supports'",
     "output_type": "error",
     "traceback": [
      "\u001b[1;31m---------------------------------------------------------------------------\u001b[0m",
      "\u001b[1;31mAttributeError\u001b[0m                            Traceback (most recent call last)",
      "\u001b[1;32m<ipython-input-36-58c754cf3cba>\u001b[0m in \u001b[0;36m<module>\u001b[1;34m\u001b[0m\n\u001b[1;32m----> 1\u001b[1;33m \u001b[0mrf\u001b[0m\u001b[1;33m.\u001b[0m\u001b[0mget_supports\u001b[0m\u001b[1;33m(\u001b[0m\u001b[1;33m)\u001b[0m\u001b[1;33m\u001b[0m\u001b[1;33m\u001b[0m\u001b[0m\n\u001b[0m",
      "\u001b[1;31mAttributeError\u001b[0m: 'RandomForestRegressor' object has no attribute 'get_supports'"
     ]
    }
   ],
   "source": [
    "rf.get_supports()"
   ]
  },
  {
   "cell_type": "code",
   "execution_count": 37,
   "metadata": {},
   "outputs": [],
   "source": [
    "y_pred = rf.predict(X_test)"
   ]
  },
  {
   "cell_type": "code",
   "execution_count": 38,
   "metadata": {},
   "outputs": [
    {
     "data": {
      "text/plain": [
       "0.661070039882764"
      ]
     },
     "execution_count": 38,
     "metadata": {},
     "output_type": "execute_result"
    }
   ],
   "source": [
    "r2_score(y_pred, y_test)"
   ]
  },
  {
   "cell_type": "code",
   "execution_count": 39,
   "metadata": {},
   "outputs": [
    {
     "data": {
      "text/plain": [
       "22.288962629195392"
      ]
     },
     "execution_count": 39,
     "metadata": {},
     "output_type": "execute_result"
    }
   ],
   "source": [
    "mean_squared_error(y_pred, y_test)"
   ]
  },
  {
   "cell_type": "code",
   "execution_count": null,
   "metadata": {},
   "outputs": [],
   "source": []
  }
 ],
 "metadata": {
  "kernelspec": {
   "display_name": "Python 3",
   "language": "python",
   "name": "python3"
  },
  "language_info": {
   "codemirror_mode": {
    "name": "ipython",
    "version": 3
   },
   "file_extension": ".py",
   "mimetype": "text/x-python",
   "name": "python",
   "nbconvert_exporter": "python",
   "pygments_lexer": "ipython3",
   "version": "3.7.7"
  }
 },
 "nbformat": 4,
 "nbformat_minor": 4
}
