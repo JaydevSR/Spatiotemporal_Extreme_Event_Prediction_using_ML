{
 "cells": [
  {
   "cell_type": "code",
   "execution_count": 1,
   "metadata": {},
   "outputs": [],
   "source": [
    "import pandas as pd\n",
    "import numpy as np\n",
    "import matplotlib.pyplot as plt"
   ]
  },
  {
   "cell_type": "code",
   "execution_count": 2,
   "metadata": {},
   "outputs": [],
   "source": [
    "df = pd.read_csv('../database/clean_train_data_v4.csv', index_col = 0)"
   ]
  },
  {
   "cell_type": "code",
   "execution_count": 3,
   "metadata": {},
   "outputs": [
    {
     "data": {
      "text/html": [
       "<div>\n",
       "<style scoped>\n",
       "    .dataframe tbody tr th:only-of-type {\n",
       "        vertical-align: middle;\n",
       "    }\n",
       "\n",
       "    .dataframe tbody tr th {\n",
       "        vertical-align: top;\n",
       "    }\n",
       "\n",
       "    .dataframe thead th {\n",
       "        text-align: right;\n",
       "    }\n",
       "</style>\n",
       "<table border=\"1\" class=\"dataframe\">\n",
       "  <thead>\n",
       "    <tr style=\"text-align: right;\">\n",
       "      <th></th>\n",
       "      <th>index</th>\n",
       "      <th>STATION</th>\n",
       "      <th>ELEVATION</th>\n",
       "      <th>HourlyAltimeterSetting</th>\n",
       "      <th>HourlyDewPointTemperature</th>\n",
       "      <th>HourlyDryBulbTemperature</th>\n",
       "      <th>HourlyPresentWeatherType</th>\n",
       "      <th>HourlyPressureTendency</th>\n",
       "      <th>HourlyRelativeHumidity</th>\n",
       "      <th>HourlySkyConditions</th>\n",
       "      <th>...</th>\n",
       "      <th>HourlyStationPressure</th>\n",
       "      <th>HourlyWetBulbTemperature</th>\n",
       "      <th>HourlyWindDirection</th>\n",
       "      <th>HourlyWindSpeed</th>\n",
       "      <th>YEAR</th>\n",
       "      <th>MONTH</th>\n",
       "      <th>DAY</th>\n",
       "      <th>HOUR</th>\n",
       "      <th>MINUTES</th>\n",
       "      <th>TARGETS</th>\n",
       "    </tr>\n",
       "  </thead>\n",
       "  <tbody>\n",
       "    <tr>\n",
       "      <th>0</th>\n",
       "      <td>99397</td>\n",
       "      <td>42030099999</td>\n",
       "      <td>3066.0</td>\n",
       "      <td>29.88</td>\n",
       "      <td>61.0</td>\n",
       "      <td>-24.0</td>\n",
       "      <td>8</td>\n",
       "      <td>9.0</td>\n",
       "      <td>66.0</td>\n",
       "      <td>0  0</td>\n",
       "      <td>...</td>\n",
       "      <td>29.561582</td>\n",
       "      <td>71.046325</td>\n",
       "      <td>0.0</td>\n",
       "      <td>0.0</td>\n",
       "      <td>1944</td>\n",
       "      <td>1</td>\n",
       "      <td>1</td>\n",
       "      <td>8</td>\n",
       "      <td>30</td>\n",
       "      <td>31.07</td>\n",
       "    </tr>\n",
       "    <tr>\n",
       "      <th>1</th>\n",
       "      <td>691852</td>\n",
       "      <td>42030099999</td>\n",
       "      <td>3066.0</td>\n",
       "      <td>29.88</td>\n",
       "      <td>61.0</td>\n",
       "      <td>-10.5</td>\n",
       "      <td>8</td>\n",
       "      <td>9.0</td>\n",
       "      <td>66.0</td>\n",
       "      <td>0  0</td>\n",
       "      <td>...</td>\n",
       "      <td>29.561582</td>\n",
       "      <td>71.046325</td>\n",
       "      <td>0.0</td>\n",
       "      <td>0.0</td>\n",
       "      <td>1944</td>\n",
       "      <td>1</td>\n",
       "      <td>3</td>\n",
       "      <td>8</td>\n",
       "      <td>30</td>\n",
       "      <td>0.62</td>\n",
       "    </tr>\n",
       "    <tr>\n",
       "      <th>2</th>\n",
       "      <td>310980</td>\n",
       "      <td>42030099999</td>\n",
       "      <td>3066.0</td>\n",
       "      <td>29.88</td>\n",
       "      <td>2.0</td>\n",
       "      <td>3.0</td>\n",
       "      <td>8</td>\n",
       "      <td>9.0</td>\n",
       "      <td>95.0</td>\n",
       "      <td>0  0</td>\n",
       "      <td>...</td>\n",
       "      <td>29.561582</td>\n",
       "      <td>71.046325</td>\n",
       "      <td>0.0</td>\n",
       "      <td>0.0</td>\n",
       "      <td>1944</td>\n",
       "      <td>1</td>\n",
       "      <td>7</td>\n",
       "      <td>8</td>\n",
       "      <td>30</td>\n",
       "      <td>0.62</td>\n",
       "    </tr>\n",
       "    <tr>\n",
       "      <th>3</th>\n",
       "      <td>774817</td>\n",
       "      <td>42030099999</td>\n",
       "      <td>3066.0</td>\n",
       "      <td>29.88</td>\n",
       "      <td>-5.0</td>\n",
       "      <td>14.0</td>\n",
       "      <td>8</td>\n",
       "      <td>9.0</td>\n",
       "      <td>95.5</td>\n",
       "      <td>0  0</td>\n",
       "      <td>...</td>\n",
       "      <td>29.561582</td>\n",
       "      <td>71.046325</td>\n",
       "      <td>0.0</td>\n",
       "      <td>0.0</td>\n",
       "      <td>1944</td>\n",
       "      <td>1</td>\n",
       "      <td>8</td>\n",
       "      <td>8</td>\n",
       "      <td>30</td>\n",
       "      <td>0.31</td>\n",
       "    </tr>\n",
       "    <tr>\n",
       "      <th>4</th>\n",
       "      <td>287687</td>\n",
       "      <td>42030099999</td>\n",
       "      <td>3066.0</td>\n",
       "      <td>29.88</td>\n",
       "      <td>-12.0</td>\n",
       "      <td>-11.0</td>\n",
       "      <td>8</td>\n",
       "      <td>9.0</td>\n",
       "      <td>96.0</td>\n",
       "      <td>0  0</td>\n",
       "      <td>...</td>\n",
       "      <td>29.561582</td>\n",
       "      <td>71.046325</td>\n",
       "      <td>0.0</td>\n",
       "      <td>0.0</td>\n",
       "      <td>1944</td>\n",
       "      <td>1</td>\n",
       "      <td>11</td>\n",
       "      <td>8</td>\n",
       "      <td>30</td>\n",
       "      <td>31.07</td>\n",
       "    </tr>\n",
       "  </tbody>\n",
       "</table>\n",
       "<p>5 rows × 21 columns</p>\n",
       "</div>"
      ],
      "text/plain": [
       "    index      STATION  ELEVATION  HourlyAltimeterSetting  \\\n",
       "0   99397  42030099999     3066.0                   29.88   \n",
       "1  691852  42030099999     3066.0                   29.88   \n",
       "2  310980  42030099999     3066.0                   29.88   \n",
       "3  774817  42030099999     3066.0                   29.88   \n",
       "4  287687  42030099999     3066.0                   29.88   \n",
       "\n",
       "   HourlyDewPointTemperature  HourlyDryBulbTemperature  \\\n",
       "0                       61.0                     -24.0   \n",
       "1                       61.0                     -10.5   \n",
       "2                        2.0                       3.0   \n",
       "3                       -5.0                      14.0   \n",
       "4                      -12.0                     -11.0   \n",
       "\n",
       "   HourlyPresentWeatherType  HourlyPressureTendency  HourlyRelativeHumidity  \\\n",
       "0                         8                     9.0                    66.0   \n",
       "1                         8                     9.0                    66.0   \n",
       "2                         8                     9.0                    95.0   \n",
       "3                         8                     9.0                    95.5   \n",
       "4                         8                     9.0                    96.0   \n",
       "\n",
       "  HourlySkyConditions  ...  HourlyStationPressure  HourlyWetBulbTemperature  \\\n",
       "0                0  0  ...              29.561582                 71.046325   \n",
       "1                0  0  ...              29.561582                 71.046325   \n",
       "2                0  0  ...              29.561582                 71.046325   \n",
       "3                0  0  ...              29.561582                 71.046325   \n",
       "4                0  0  ...              29.561582                 71.046325   \n",
       "\n",
       "   HourlyWindDirection  HourlyWindSpeed  YEAR  MONTH  DAY  HOUR  MINUTES  \\\n",
       "0                  0.0              0.0  1944      1    1     8       30   \n",
       "1                  0.0              0.0  1944      1    3     8       30   \n",
       "2                  0.0              0.0  1944      1    7     8       30   \n",
       "3                  0.0              0.0  1944      1    8     8       30   \n",
       "4                  0.0              0.0  1944      1   11     8       30   \n",
       "\n",
       "   TARGETS  \n",
       "0    31.07  \n",
       "1     0.62  \n",
       "2     0.62  \n",
       "3     0.31  \n",
       "4    31.07  \n",
       "\n",
       "[5 rows x 21 columns]"
      ]
     },
     "execution_count": 3,
     "metadata": {},
     "output_type": "execute_result"
    }
   ],
   "source": [
    "df.head()"
   ]
  },
  {
   "cell_type": "code",
   "execution_count": 4,
   "metadata": {},
   "outputs": [
    {
     "name": "stdout",
     "output_type": "stream",
     "text": [
      "<class 'pandas.core.frame.DataFrame'>\n",
      "Int64Index: 934807 entries, 0 to 934806\n",
      "Data columns (total 21 columns):\n",
      " #   Column                     Non-Null Count   Dtype  \n",
      "---  ------                     --------------   -----  \n",
      " 0   index                      934807 non-null  int64  \n",
      " 1   STATION                    934807 non-null  int64  \n",
      " 2   ELEVATION                  934807 non-null  float64\n",
      " 3   HourlyAltimeterSetting     934807 non-null  float64\n",
      " 4   HourlyDewPointTemperature  934807 non-null  float64\n",
      " 5   HourlyDryBulbTemperature   934807 non-null  float64\n",
      " 6   HourlyPresentWeatherType   934807 non-null  int64  \n",
      " 7   HourlyPressureTendency     934807 non-null  float64\n",
      " 8   HourlyRelativeHumidity     934807 non-null  float64\n",
      " 9   HourlySkyConditions        507788 non-null  object \n",
      " 10  HourlySeaLevelPressure     934807 non-null  float64\n",
      " 11  HourlyStationPressure      934807 non-null  float64\n",
      " 12  HourlyWetBulbTemperature   934807 non-null  float64\n",
      " 13  HourlyWindDirection        934807 non-null  float64\n",
      " 14  HourlyWindSpeed            934807 non-null  float64\n",
      " 15  YEAR                       934807 non-null  int64  \n",
      " 16  MONTH                      934807 non-null  int64  \n",
      " 17  DAY                        934807 non-null  int64  \n",
      " 18  HOUR                       934807 non-null  int64  \n",
      " 19  MINUTES                    934807 non-null  int64  \n",
      " 20  TARGETS                    934807 non-null  float64\n",
      "dtypes: float64(12), int64(8), object(1)\n",
      "memory usage: 156.9+ MB\n"
     ]
    }
   ],
   "source": [
    "df.info()"
   ]
  },
  {
   "cell_type": "code",
   "execution_count": 5,
   "metadata": {},
   "outputs": [],
   "source": [
    "df.drop(['HourlySkyConditions'], axis = 1, inplace = True)"
   ]
  },
  {
   "cell_type": "code",
   "execution_count": 6,
   "metadata": {},
   "outputs": [],
   "source": [
    "from sklearn.linear_model import LinearRegression\n",
    "from sklearn.ensemble import RandomForestRegressor\n",
    "from sklearn.model_selection import train_test_split\n",
    "from sklearn.metrics import r2_score\n",
    "from sklearn.metrics import mean_squared_error\n",
    "from sklearn.impute import SimpleImputer"
   ]
  },
  {
   "cell_type": "code",
   "execution_count": 10,
   "metadata": {},
   "outputs": [
    {
     "name": "stdout",
     "output_type": "stream",
     "text": [
      "index\n",
      "STATION\n",
      "ELEVATION\n",
      "HourlyAltimeterSetting\n",
      "HourlyDewPointTemperature\n",
      "HourlyDryBulbTemperature\n",
      "HourlyPresentWeatherType\n",
      "HourlyPressureTendency\n",
      "HourlyRelativeHumidity\n",
      "HourlySeaLevelPressure\n",
      "HourlyStationPressure\n",
      "HourlyWetBulbTemperature\n",
      "HourlyWindDirection\n",
      "HourlyWindSpeed\n",
      "YEAR\n",
      "MONTH\n",
      "DAY\n",
      "HOUR\n",
      "MINUTES\n",
      "TARGETS\n"
     ]
    }
   ],
   "source": [
    "cols = []\n",
    "for i in df.columns:\n",
    "    print(i)\n",
    "    if df[i].dtype != 'O':\n",
    "        cols.append(i)"
   ]
  },
  {
   "cell_type": "code",
   "execution_count": 11,
   "metadata": {},
   "outputs": [
    {
     "data": {
      "text/plain": [
       "'TARGETS'"
      ]
     },
     "execution_count": 11,
     "metadata": {},
     "output_type": "execute_result"
    }
   ],
   "source": [
    "cols.pop()"
   ]
  },
  {
   "cell_type": "code",
   "execution_count": 12,
   "metadata": {},
   "outputs": [
    {
     "data": {
      "text/plain": [
       "['index',\n",
       " 'STATION',\n",
       " 'ELEVATION',\n",
       " 'HourlyAltimeterSetting',\n",
       " 'HourlyDewPointTemperature',\n",
       " 'HourlyDryBulbTemperature',\n",
       " 'HourlyPresentWeatherType',\n",
       " 'HourlyPressureTendency',\n",
       " 'HourlyRelativeHumidity',\n",
       " 'HourlySeaLevelPressure',\n",
       " 'HourlyStationPressure',\n",
       " 'HourlyWetBulbTemperature',\n",
       " 'HourlyWindDirection',\n",
       " 'HourlyWindSpeed',\n",
       " 'YEAR',\n",
       " 'MONTH',\n",
       " 'DAY',\n",
       " 'HOUR',\n",
       " 'MINUTES']"
      ]
     },
     "execution_count": 12,
     "metadata": {},
     "output_type": "execute_result"
    }
   ],
   "source": [
    "cols"
   ]
  },
  {
   "cell_type": "code",
   "execution_count": 13,
   "metadata": {},
   "outputs": [
    {
     "data": {
      "text/plain": [
       "LinearRegression()"
      ]
     },
     "execution_count": 13,
     "metadata": {},
     "output_type": "execute_result"
    }
   ],
   "source": [
    "X = df[cols] \n",
    "y = df['TARGETS']\n",
    "X_train, X_test, y_train, y_test = train_test_split(X, y)\n",
    "lr = LinearRegression()\n",
    "lr.fit(X_train, y_train)"
   ]
  },
  {
   "cell_type": "code",
   "execution_count": 14,
   "metadata": {},
   "outputs": [],
   "source": [
    "y_pred = lr.predict(X_test)"
   ]
  },
  {
   "cell_type": "code",
   "execution_count": 15,
   "metadata": {},
   "outputs": [
    {
     "data": {
      "text/plain": [
       "-2.7399545105687744"
      ]
     },
     "execution_count": 15,
     "metadata": {},
     "output_type": "execute_result"
    }
   ],
   "source": [
    "r2_score(y_pred, y_test)"
   ]
  },
  {
   "cell_type": "code",
   "execution_count": 16,
   "metadata": {},
   "outputs": [
    {
     "data": {
      "text/plain": [
       "71.97515291657187"
      ]
     },
     "execution_count": 16,
     "metadata": {},
     "output_type": "execute_result"
    }
   ],
   "source": [
    "mean_squared_error(y_pred, y_test)"
   ]
  },
  {
   "cell_type": "markdown",
   "metadata": {},
   "source": [
    "## Random Forest"
   ]
  },
  {
   "cell_type": "code",
   "execution_count": 31,
   "metadata": {},
   "outputs": [],
   "source": [
    "import time"
   ]
  },
  {
   "cell_type": "code",
   "execution_count": 35,
   "metadata": {},
   "outputs": [
    {
     "name": "stdout",
     "output_type": "stream",
     "text": [
      "Time taken: 1588.7878727912903\n"
     ]
    }
   ],
   "source": [
    "t = time.time()\n",
    "rf = RandomForestRegressor(n_estimators = 100)\n",
    "rf.fit(X_train, y_train)\n",
    "print(f\"Time taken: {time.time()-t}\")"
   ]
  },
  {
   "cell_type": "code",
   "execution_count": null,
   "metadata": {},
   "outputs": [],
   "source": [
    "y_pred = rf.predict(X_test)"
   ]
  },
  {
   "cell_type": "code",
   "execution_count": null,
   "metadata": {},
   "outputs": [],
   "source": [
    "r2_score(y_pred, y_test)"
   ]
  },
  {
   "cell_type": "code",
   "execution_count": null,
   "metadata": {},
   "outputs": [],
   "source": [
    "mean_squared_error(y_pred, y_test)"
   ]
  },
  {
   "cell_type": "code",
   "execution_count": null,
   "metadata": {},
   "outputs": [],
   "source": []
  }
 ],
 "metadata": {
  "kernelspec": {
   "display_name": "Python 3",
   "language": "python",
   "name": "python3"
  },
  "language_info": {
   "codemirror_mode": {
    "name": "ipython",
    "version": 3
   },
   "file_extension": ".py",
   "mimetype": "text/x-python",
   "name": "python",
   "nbconvert_exporter": "python",
   "pygments_lexer": "ipython3",
   "version": "3.7.7"
  }
 },
 "nbformat": 4,
 "nbformat_minor": 4
}
